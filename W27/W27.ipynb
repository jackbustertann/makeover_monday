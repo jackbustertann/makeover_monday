{
 "cells": [
  {
   "cell_type": "code",
   "execution_count": 41,
   "metadata": {},
   "outputs": [],
   "source": [
    "import pandas as pd\n",
    "df = pd.read_excel('https://query.data.world/s/2y7axw5f42jdvxdl2fyds7ar76vdxq')"
   ]
  },
  {
   "cell_type": "code",
   "execution_count": 42,
   "metadata": {},
   "outputs": [],
   "source": [
    "df = pd.melt(df, id_vars = ['Gender'], value_vars = df.columns[1:])\n",
    "df['age_cat'] = df.variable.map(lambda x: 1 if x == '16-24' else(2 if x == '25-34' else (3 if x == '35-44' else (4 if x == '45-54' else (5 if x == '55-64' else (6 if x == '65-74' else (7 if x == '75+' else 0)))))))"
   ]
  },
  {
   "cell_type": "code",
   "execution_count": 43,
   "metadata": {},
   "outputs": [],
   "source": [
    "import matplotlib.pyplot as plt\n",
    "import seaborn as sns\n",
    "import plotly.graph_objects as go\n",
    "from jupyter_dash import JupyterDash\n",
    "import dash_core_components as dcc\n",
    "import dash_html_components as html"
   ]
  },
  {
   "cell_type": "markdown",
   "metadata": {},
   "source": [
    "# Plotly"
   ]
  },
  {
   "cell_type": "code",
   "execution_count": 44,
   "metadata": {},
   "outputs": [],
   "source": [
    "df_male = df.loc[(df.Gender == 'Men') & (df.variable != 'All  ')]\n",
    "df_female = df.loc[(df.Gender == 'Women') & (df.variable != 'All  ')]"
   ]
  },
  {
   "cell_type": "code",
   "execution_count": 52,
   "metadata": {},
   "outputs": [
    {
     "output_type": "display_data",
     "data": {
      "application/vnd.plotly.v1+json": {
       "config": {
        "plotlyServerURL": "https://plot.ly"
       },
       "data": [
        {
         "marker": {
          "color": "rgb(88,197,171)",
          "size": 15
         },
         "mode": "markers",
         "name": "Men",
         "type": "scatter",
         "x": [
          9.1,
          15.3,
          15.1,
          13.2,
          14.9,
          7.3,
          5.3
         ],
         "y": [
          "16-24",
          "25-34",
          "35-44",
          "45-54",
          "55-64",
          "65-74",
          "75+"
         ]
        },
        {
         "marker": {
          "color": "rgb(139,82,249)",
          "size": 15
         },
         "mode": "markers",
         "name": "Women",
         "type": "scatter",
         "x": [
          26,
          19.1,
          20.6,
          22.7,
          19.1,
          12.9,
          10
         ],
         "y": [
          "16-24",
          "25-34",
          "35-44",
          "45-54",
          "55-64",
          "65-74",
          "75+"
         ]
        },
        {
         "line": {
          "color": "grey"
         },
         "mode": "lines",
         "showlegend": false,
         "type": "scatter",
         "x": [
          9.4,
          25.7
         ],
         "y": [
          "16-24",
          "16-24"
         ]
        },
        {
         "line": {
          "color": "grey"
         },
         "mode": "lines",
         "showlegend": false,
         "type": "scatter",
         "x": [
          15.600000000000001,
          18.8
         ],
         "y": [
          "25-34",
          "25-34"
         ]
        },
        {
         "line": {
          "color": "grey"
         },
         "mode": "lines",
         "showlegend": false,
         "type": "scatter",
         "x": [
          15.4,
          20.3
         ],
         "y": [
          "35-44",
          "35-44"
         ]
        },
        {
         "line": {
          "color": "grey"
         },
         "mode": "lines",
         "showlegend": false,
         "type": "scatter",
         "x": [
          13.5,
          22.4
         ],
         "y": [
          "45-54",
          "45-54"
         ]
        },
        {
         "line": {
          "color": "grey"
         },
         "mode": "lines",
         "showlegend": false,
         "type": "scatter",
         "x": [
          15.200000000000001,
          18.8
         ],
         "y": [
          "55-64",
          "55-64"
         ]
        },
        {
         "line": {
          "color": "grey"
         },
         "mode": "lines",
         "showlegend": false,
         "type": "scatter",
         "x": [
          7.6,
          12.6
         ],
         "y": [
          "65-74",
          "65-74"
         ]
        },
        {
         "line": {
          "color": "grey"
         },
         "mode": "lines",
         "showlegend": false,
         "type": "scatter",
         "x": [
          5.6,
          9.7
         ],
         "y": [
          "75+",
          "75+"
         ]
        },
        {
         "line": {
          "color": "black",
          "dash": "dash",
          "width": 3
         },
         "mode": "lines",
         "showlegend": false,
         "type": "scatter",
         "x": [
          15.7,
          15.7
         ],
         "y": [
          "16-24",
          "75+"
         ]
        }
       ],
       "layout": {
        "annotations": [
         {
          "ax": 0,
          "ay": 40,
          "font": {
           "color": "black",
           "size": 10
          },
          "showarrow": false,
          "text": "Overall Average",
          "x": 18.2,
          "xref": "x",
          "y": "75+",
          "yref": "y"
         }
        ],
        "paper_bgcolor": "rgba(0,0,0,0)",
        "plot_bgcolor": "rgba(0,0,0,0)",
        "template": {
         "data": {
          "bar": [
           {
            "error_x": {
             "color": "#2a3f5f"
            },
            "error_y": {
             "color": "#2a3f5f"
            },
            "marker": {
             "line": {
              "color": "#E5ECF6",
              "width": 0.5
             }
            },
            "type": "bar"
           }
          ],
          "barpolar": [
           {
            "marker": {
             "line": {
              "color": "#E5ECF6",
              "width": 0.5
             }
            },
            "type": "barpolar"
           }
          ],
          "carpet": [
           {
            "aaxis": {
             "endlinecolor": "#2a3f5f",
             "gridcolor": "white",
             "linecolor": "white",
             "minorgridcolor": "white",
             "startlinecolor": "#2a3f5f"
            },
            "baxis": {
             "endlinecolor": "#2a3f5f",
             "gridcolor": "white",
             "linecolor": "white",
             "minorgridcolor": "white",
             "startlinecolor": "#2a3f5f"
            },
            "type": "carpet"
           }
          ],
          "choropleth": [
           {
            "colorbar": {
             "outlinewidth": 0,
             "ticks": ""
            },
            "type": "choropleth"
           }
          ],
          "contour": [
           {
            "colorbar": {
             "outlinewidth": 0,
             "ticks": ""
            },
            "colorscale": [
             [
              0,
              "#0d0887"
             ],
             [
              0.1111111111111111,
              "#46039f"
             ],
             [
              0.2222222222222222,
              "#7201a8"
             ],
             [
              0.3333333333333333,
              "#9c179e"
             ],
             [
              0.4444444444444444,
              "#bd3786"
             ],
             [
              0.5555555555555556,
              "#d8576b"
             ],
             [
              0.6666666666666666,
              "#ed7953"
             ],
             [
              0.7777777777777778,
              "#fb9f3a"
             ],
             [
              0.8888888888888888,
              "#fdca26"
             ],
             [
              1,
              "#f0f921"
             ]
            ],
            "type": "contour"
           }
          ],
          "contourcarpet": [
           {
            "colorbar": {
             "outlinewidth": 0,
             "ticks": ""
            },
            "type": "contourcarpet"
           }
          ],
          "heatmap": [
           {
            "colorbar": {
             "outlinewidth": 0,
             "ticks": ""
            },
            "colorscale": [
             [
              0,
              "#0d0887"
             ],
             [
              0.1111111111111111,
              "#46039f"
             ],
             [
              0.2222222222222222,
              "#7201a8"
             ],
             [
              0.3333333333333333,
              "#9c179e"
             ],
             [
              0.4444444444444444,
              "#bd3786"
             ],
             [
              0.5555555555555556,
              "#d8576b"
             ],
             [
              0.6666666666666666,
              "#ed7953"
             ],
             [
              0.7777777777777778,
              "#fb9f3a"
             ],
             [
              0.8888888888888888,
              "#fdca26"
             ],
             [
              1,
              "#f0f921"
             ]
            ],
            "type": "heatmap"
           }
          ],
          "heatmapgl": [
           {
            "colorbar": {
             "outlinewidth": 0,
             "ticks": ""
            },
            "colorscale": [
             [
              0,
              "#0d0887"
             ],
             [
              0.1111111111111111,
              "#46039f"
             ],
             [
              0.2222222222222222,
              "#7201a8"
             ],
             [
              0.3333333333333333,
              "#9c179e"
             ],
             [
              0.4444444444444444,
              "#bd3786"
             ],
             [
              0.5555555555555556,
              "#d8576b"
             ],
             [
              0.6666666666666666,
              "#ed7953"
             ],
             [
              0.7777777777777778,
              "#fb9f3a"
             ],
             [
              0.8888888888888888,
              "#fdca26"
             ],
             [
              1,
              "#f0f921"
             ]
            ],
            "type": "heatmapgl"
           }
          ],
          "histogram": [
           {
            "marker": {
             "colorbar": {
              "outlinewidth": 0,
              "ticks": ""
             }
            },
            "type": "histogram"
           }
          ],
          "histogram2d": [
           {
            "colorbar": {
             "outlinewidth": 0,
             "ticks": ""
            },
            "colorscale": [
             [
              0,
              "#0d0887"
             ],
             [
              0.1111111111111111,
              "#46039f"
             ],
             [
              0.2222222222222222,
              "#7201a8"
             ],
             [
              0.3333333333333333,
              "#9c179e"
             ],
             [
              0.4444444444444444,
              "#bd3786"
             ],
             [
              0.5555555555555556,
              "#d8576b"
             ],
             [
              0.6666666666666666,
              "#ed7953"
             ],
             [
              0.7777777777777778,
              "#fb9f3a"
             ],
             [
              0.8888888888888888,
              "#fdca26"
             ],
             [
              1,
              "#f0f921"
             ]
            ],
            "type": "histogram2d"
           }
          ],
          "histogram2dcontour": [
           {
            "colorbar": {
             "outlinewidth": 0,
             "ticks": ""
            },
            "colorscale": [
             [
              0,
              "#0d0887"
             ],
             [
              0.1111111111111111,
              "#46039f"
             ],
             [
              0.2222222222222222,
              "#7201a8"
             ],
             [
              0.3333333333333333,
              "#9c179e"
             ],
             [
              0.4444444444444444,
              "#bd3786"
             ],
             [
              0.5555555555555556,
              "#d8576b"
             ],
             [
              0.6666666666666666,
              "#ed7953"
             ],
             [
              0.7777777777777778,
              "#fb9f3a"
             ],
             [
              0.8888888888888888,
              "#fdca26"
             ],
             [
              1,
              "#f0f921"
             ]
            ],
            "type": "histogram2dcontour"
           }
          ],
          "mesh3d": [
           {
            "colorbar": {
             "outlinewidth": 0,
             "ticks": ""
            },
            "type": "mesh3d"
           }
          ],
          "parcoords": [
           {
            "line": {
             "colorbar": {
              "outlinewidth": 0,
              "ticks": ""
             }
            },
            "type": "parcoords"
           }
          ],
          "pie": [
           {
            "automargin": true,
            "type": "pie"
           }
          ],
          "scatter": [
           {
            "marker": {
             "colorbar": {
              "outlinewidth": 0,
              "ticks": ""
             }
            },
            "type": "scatter"
           }
          ],
          "scatter3d": [
           {
            "line": {
             "colorbar": {
              "outlinewidth": 0,
              "ticks": ""
             }
            },
            "marker": {
             "colorbar": {
              "outlinewidth": 0,
              "ticks": ""
             }
            },
            "type": "scatter3d"
           }
          ],
          "scattercarpet": [
           {
            "marker": {
             "colorbar": {
              "outlinewidth": 0,
              "ticks": ""
             }
            },
            "type": "scattercarpet"
           }
          ],
          "scattergeo": [
           {
            "marker": {
             "colorbar": {
              "outlinewidth": 0,
              "ticks": ""
             }
            },
            "type": "scattergeo"
           }
          ],
          "scattergl": [
           {
            "marker": {
             "colorbar": {
              "outlinewidth": 0,
              "ticks": ""
             }
            },
            "type": "scattergl"
           }
          ],
          "scattermapbox": [
           {
            "marker": {
             "colorbar": {
              "outlinewidth": 0,
              "ticks": ""
             }
            },
            "type": "scattermapbox"
           }
          ],
          "scatterpolar": [
           {
            "marker": {
             "colorbar": {
              "outlinewidth": 0,
              "ticks": ""
             }
            },
            "type": "scatterpolar"
           }
          ],
          "scatterpolargl": [
           {
            "marker": {
             "colorbar": {
              "outlinewidth": 0,
              "ticks": ""
             }
            },
            "type": "scatterpolargl"
           }
          ],
          "scatterternary": [
           {
            "marker": {
             "colorbar": {
              "outlinewidth": 0,
              "ticks": ""
             }
            },
            "type": "scatterternary"
           }
          ],
          "surface": [
           {
            "colorbar": {
             "outlinewidth": 0,
             "ticks": ""
            },
            "colorscale": [
             [
              0,
              "#0d0887"
             ],
             [
              0.1111111111111111,
              "#46039f"
             ],
             [
              0.2222222222222222,
              "#7201a8"
             ],
             [
              0.3333333333333333,
              "#9c179e"
             ],
             [
              0.4444444444444444,
              "#bd3786"
             ],
             [
              0.5555555555555556,
              "#d8576b"
             ],
             [
              0.6666666666666666,
              "#ed7953"
             ],
             [
              0.7777777777777778,
              "#fb9f3a"
             ],
             [
              0.8888888888888888,
              "#fdca26"
             ],
             [
              1,
              "#f0f921"
             ]
            ],
            "type": "surface"
           }
          ],
          "table": [
           {
            "cells": {
             "fill": {
              "color": "#EBF0F8"
             },
             "line": {
              "color": "white"
             }
            },
            "header": {
             "fill": {
              "color": "#C8D4E3"
             },
             "line": {
              "color": "white"
             }
            },
            "type": "table"
           }
          ]
         },
         "layout": {
          "annotationdefaults": {
           "arrowcolor": "#2a3f5f",
           "arrowhead": 0,
           "arrowwidth": 1
          },
          "coloraxis": {
           "colorbar": {
            "outlinewidth": 0,
            "ticks": ""
           }
          },
          "colorscale": {
           "diverging": [
            [
             0,
             "#8e0152"
            ],
            [
             0.1,
             "#c51b7d"
            ],
            [
             0.2,
             "#de77ae"
            ],
            [
             0.3,
             "#f1b6da"
            ],
            [
             0.4,
             "#fde0ef"
            ],
            [
             0.5,
             "#f7f7f7"
            ],
            [
             0.6,
             "#e6f5d0"
            ],
            [
             0.7,
             "#b8e186"
            ],
            [
             0.8,
             "#7fbc41"
            ],
            [
             0.9,
             "#4d9221"
            ],
            [
             1,
             "#276419"
            ]
           ],
           "sequential": [
            [
             0,
             "#0d0887"
            ],
            [
             0.1111111111111111,
             "#46039f"
            ],
            [
             0.2222222222222222,
             "#7201a8"
            ],
            [
             0.3333333333333333,
             "#9c179e"
            ],
            [
             0.4444444444444444,
             "#bd3786"
            ],
            [
             0.5555555555555556,
             "#d8576b"
            ],
            [
             0.6666666666666666,
             "#ed7953"
            ],
            [
             0.7777777777777778,
             "#fb9f3a"
            ],
            [
             0.8888888888888888,
             "#fdca26"
            ],
            [
             1,
             "#f0f921"
            ]
           ],
           "sequentialminus": [
            [
             0,
             "#0d0887"
            ],
            [
             0.1111111111111111,
             "#46039f"
            ],
            [
             0.2222222222222222,
             "#7201a8"
            ],
            [
             0.3333333333333333,
             "#9c179e"
            ],
            [
             0.4444444444444444,
             "#bd3786"
            ],
            [
             0.5555555555555556,
             "#d8576b"
            ],
            [
             0.6666666666666666,
             "#ed7953"
            ],
            [
             0.7777777777777778,
             "#fb9f3a"
            ],
            [
             0.8888888888888888,
             "#fdca26"
            ],
            [
             1,
             "#f0f921"
            ]
           ]
          },
          "colorway": [
           "#636efa",
           "#EF553B",
           "#00cc96",
           "#ab63fa",
           "#FFA15A",
           "#19d3f3",
           "#FF6692",
           "#B6E880",
           "#FF97FF",
           "#FECB52"
          ],
          "font": {
           "color": "#2a3f5f"
          },
          "geo": {
           "bgcolor": "white",
           "lakecolor": "white",
           "landcolor": "#E5ECF6",
           "showlakes": true,
           "showland": true,
           "subunitcolor": "white"
          },
          "hoverlabel": {
           "align": "left"
          },
          "hovermode": "closest",
          "mapbox": {
           "style": "light"
          },
          "paper_bgcolor": "white",
          "plot_bgcolor": "#E5ECF6",
          "polar": {
           "angularaxis": {
            "gridcolor": "white",
            "linecolor": "white",
            "ticks": ""
           },
           "bgcolor": "#E5ECF6",
           "radialaxis": {
            "gridcolor": "white",
            "linecolor": "white",
            "ticks": ""
           }
          },
          "scene": {
           "xaxis": {
            "backgroundcolor": "#E5ECF6",
            "gridcolor": "white",
            "gridwidth": 2,
            "linecolor": "white",
            "showbackground": true,
            "ticks": "",
            "zerolinecolor": "white"
           },
           "yaxis": {
            "backgroundcolor": "#E5ECF6",
            "gridcolor": "white",
            "gridwidth": 2,
            "linecolor": "white",
            "showbackground": true,
            "ticks": "",
            "zerolinecolor": "white"
           },
           "zaxis": {
            "backgroundcolor": "#E5ECF6",
            "gridcolor": "white",
            "gridwidth": 2,
            "linecolor": "white",
            "showbackground": true,
            "ticks": "",
            "zerolinecolor": "white"
           }
          },
          "shapedefaults": {
           "line": {
            "color": "#2a3f5f"
           }
          },
          "ternary": {
           "aaxis": {
            "gridcolor": "white",
            "linecolor": "white",
            "ticks": ""
           },
           "baxis": {
            "gridcolor": "white",
            "linecolor": "white",
            "ticks": ""
           },
           "bgcolor": "#E5ECF6",
           "caxis": {
            "gridcolor": "white",
            "linecolor": "white",
            "ticks": ""
           }
          },
          "title": {
           "x": 0.05
          },
          "xaxis": {
           "automargin": true,
           "gridcolor": "white",
           "linecolor": "white",
           "ticks": "",
           "title": {
            "standoff": 15
           },
           "zerolinecolor": "white",
           "zerolinewidth": 2
          },
          "yaxis": {
           "automargin": true,
           "gridcolor": "white",
           "linecolor": "white",
           "ticks": "",
           "title": {
            "standoff": 15
           },
           "zerolinecolor": "white",
           "zerolinewidth": 2
          }
         }
        },
        "title": {
         "text": "Gender Gap? <br><sub>The proportion of <i>Women</i> with mental health disorders outweights <i>Men</i> for all age categories.</sub></br>"
        },
        "xaxis": {
         "range": [
          0,
          30
         ],
         "showgrid": false
        },
        "yaxis": {
         "showgrid": false
        }
       }
      }
     },
     "metadata": {}
    }
   ],
   "source": [
    "fig = go.Figure()\n",
    "fig.add_trace(go.Scatter(x = df_male.value, y = df_male.variable, mode = 'markers', marker = {'size': 15, 'color': 'rgb(88,197,171)'}, name = 'Men'))\n",
    "fig.add_trace(go.Scatter(x = df_female.value, y = df_female.variable, mode = 'markers', marker = {'size': 15, 'color': 'rgb(139,82,249)'}, name = 'Women'))\n",
    "for i in range(7):\n",
    "    fig.add_trace(go.Scatter(x = [df_male.iloc[i,2]+0.3, df_female.iloc[i,2]-0.3], y = [df_male.iloc[i,1], df_female.iloc[i,1]], mode = 'lines', line = {'color': 'grey'}, showlegend = False))\n",
    "fig.add_trace(go.Scatter(x = [15.7,15.7], y = ['16-24', '75+'], mode = 'lines', line = {'width': 3, 'color': 'black', 'dash': 'dash'}, showlegend = False))\n",
    "\n",
    "fig.add_annotation({'x': 18.2, 'y': '75+', 'xref': 'x', 'yref': 'y', 'text': 'Overall Average', 'showarrow': False, 'ax': 0, 'ay': 40, 'font': {'size': 10, 'color': 'black'}} )\n",
    "\n",
    "fig.update_layout(xaxis = {'range': (0,30), 'showgrid': False})\n",
    "fig.update_layout(yaxis = {'showgrid': False})\n",
    "fig.update_layout(title = 'Gender Gap? <br><sub>The proportion of <i>Women</i> with mental health disorders outweights <i>Men</i> for all age categories.</sub></br>', paper_bgcolor='rgba(0,0,0,0)', plot_bgcolor='rgba(0,0,0,0)')\n",
    "fig.show()"
   ]
  },
  {
   "cell_type": "code",
   "execution_count": 50,
   "metadata": {},
   "outputs": [
    {
     "output_type": "display_data",
     "data": {
      "application/vnd.plotly.v1+json": {
       "config": {
        "plotlyServerURL": "https://plot.ly"
       },
       "data": [
        {
         "line": {
          "color": "rgb(88,197,171)",
          "shape": "spline",
          "width": 10
         },
         "mode": "lines",
         "name": "Men",
         "type": "scatter",
         "x": [
          9.1,
          15.3,
          15.1,
          13.2,
          14.9,
          7.3,
          5.3
         ],
         "y": [
          "16-24",
          "25-34",
          "35-44",
          "45-54",
          "55-64",
          "65-74",
          "75+"
         ]
        },
        {
         "fill": "tonexty",
         "line": {
          "color": "rgb(139,82,249)",
          "shape": "spline",
          "width": 10
         },
         "mode": "lines",
         "name": "Women",
         "type": "scatter",
         "x": [
          26,
          19.1,
          20.6,
          22.7,
          19.1,
          12.9,
          10
         ],
         "y": [
          "16-24",
          "25-34",
          "35-44",
          "45-54",
          "55-64",
          "65-74",
          "75+"
         ]
        },
        {
         "line": {
          "color": "black",
          "dash": "dash",
          "width": 3
         },
         "mode": "lines",
         "showlegend": false,
         "type": "scatter",
         "x": [
          15.7,
          15.7
         ],
         "y": [
          "16-24",
          "75+"
         ]
        },
        {
         "line": {
          "color": "rgb(88,197,171)",
          "width": 3
         },
         "mode": "lines",
         "showlegend": false,
         "type": "scatter",
         "x": [
          0,
          9.299999999999999
         ],
         "y": [
          "16-24",
          "16-24"
         ]
        },
        {
         "line": {
          "color": "rgb(88,197,171)",
          "width": 3
         },
         "mode": "lines",
         "showlegend": false,
         "type": "scatter",
         "x": [
          0,
          15.5
         ],
         "y": [
          "25-34",
          "25-34"
         ]
        },
        {
         "line": {
          "color": "rgb(88,197,171)",
          "width": 3
         },
         "mode": "lines",
         "showlegend": false,
         "type": "scatter",
         "x": [
          0,
          15.299999999999999
         ],
         "y": [
          "35-44",
          "35-44"
         ]
        },
        {
         "line": {
          "color": "rgb(88,197,171)",
          "width": 3
         },
         "mode": "lines",
         "showlegend": false,
         "type": "scatter",
         "x": [
          0,
          13.399999999999999
         ],
         "y": [
          "45-54",
          "45-54"
         ]
        },
        {
         "line": {
          "color": "rgb(88,197,171)",
          "width": 3
         },
         "mode": "lines",
         "showlegend": false,
         "type": "scatter",
         "x": [
          0,
          15.1
         ],
         "y": [
          "55-64",
          "55-64"
         ]
        },
        {
         "line": {
          "color": "rgb(88,197,171)",
          "width": 3
         },
         "mode": "lines",
         "showlegend": false,
         "type": "scatter",
         "x": [
          0,
          7.5
         ],
         "y": [
          "65-74",
          "65-74"
         ]
        },
        {
         "line": {
          "color": "rgb(88,197,171)",
          "width": 3
         },
         "mode": "lines",
         "showlegend": false,
         "type": "scatter",
         "x": [
          0,
          5.5
         ],
         "y": [
          "75+",
          "75+"
         ]
        }
       ],
       "layout": {
        "annotations": [
         {
          "ax": 0,
          "ay": 40,
          "font": {
           "color": "black",
           "size": 10
          },
          "showarrow": false,
          "text": "Overall Average",
          "x": 18.2,
          "xref": "x",
          "y": "75+",
          "yref": "y"
         }
        ],
        "paper_bgcolor": "rgba(0,0,0,0)",
        "plot_bgcolor": "rgba(0,0,0,0)",
        "template": {
         "data": {
          "bar": [
           {
            "error_x": {
             "color": "#2a3f5f"
            },
            "error_y": {
             "color": "#2a3f5f"
            },
            "marker": {
             "line": {
              "color": "#E5ECF6",
              "width": 0.5
             }
            },
            "type": "bar"
           }
          ],
          "barpolar": [
           {
            "marker": {
             "line": {
              "color": "#E5ECF6",
              "width": 0.5
             }
            },
            "type": "barpolar"
           }
          ],
          "carpet": [
           {
            "aaxis": {
             "endlinecolor": "#2a3f5f",
             "gridcolor": "white",
             "linecolor": "white",
             "minorgridcolor": "white",
             "startlinecolor": "#2a3f5f"
            },
            "baxis": {
             "endlinecolor": "#2a3f5f",
             "gridcolor": "white",
             "linecolor": "white",
             "minorgridcolor": "white",
             "startlinecolor": "#2a3f5f"
            },
            "type": "carpet"
           }
          ],
          "choropleth": [
           {
            "colorbar": {
             "outlinewidth": 0,
             "ticks": ""
            },
            "type": "choropleth"
           }
          ],
          "contour": [
           {
            "colorbar": {
             "outlinewidth": 0,
             "ticks": ""
            },
            "colorscale": [
             [
              0,
              "#0d0887"
             ],
             [
              0.1111111111111111,
              "#46039f"
             ],
             [
              0.2222222222222222,
              "#7201a8"
             ],
             [
              0.3333333333333333,
              "#9c179e"
             ],
             [
              0.4444444444444444,
              "#bd3786"
             ],
             [
              0.5555555555555556,
              "#d8576b"
             ],
             [
              0.6666666666666666,
              "#ed7953"
             ],
             [
              0.7777777777777778,
              "#fb9f3a"
             ],
             [
              0.8888888888888888,
              "#fdca26"
             ],
             [
              1,
              "#f0f921"
             ]
            ],
            "type": "contour"
           }
          ],
          "contourcarpet": [
           {
            "colorbar": {
             "outlinewidth": 0,
             "ticks": ""
            },
            "type": "contourcarpet"
           }
          ],
          "heatmap": [
           {
            "colorbar": {
             "outlinewidth": 0,
             "ticks": ""
            },
            "colorscale": [
             [
              0,
              "#0d0887"
             ],
             [
              0.1111111111111111,
              "#46039f"
             ],
             [
              0.2222222222222222,
              "#7201a8"
             ],
             [
              0.3333333333333333,
              "#9c179e"
             ],
             [
              0.4444444444444444,
              "#bd3786"
             ],
             [
              0.5555555555555556,
              "#d8576b"
             ],
             [
              0.6666666666666666,
              "#ed7953"
             ],
             [
              0.7777777777777778,
              "#fb9f3a"
             ],
             [
              0.8888888888888888,
              "#fdca26"
             ],
             [
              1,
              "#f0f921"
             ]
            ],
            "type": "heatmap"
           }
          ],
          "heatmapgl": [
           {
            "colorbar": {
             "outlinewidth": 0,
             "ticks": ""
            },
            "colorscale": [
             [
              0,
              "#0d0887"
             ],
             [
              0.1111111111111111,
              "#46039f"
             ],
             [
              0.2222222222222222,
              "#7201a8"
             ],
             [
              0.3333333333333333,
              "#9c179e"
             ],
             [
              0.4444444444444444,
              "#bd3786"
             ],
             [
              0.5555555555555556,
              "#d8576b"
             ],
             [
              0.6666666666666666,
              "#ed7953"
             ],
             [
              0.7777777777777778,
              "#fb9f3a"
             ],
             [
              0.8888888888888888,
              "#fdca26"
             ],
             [
              1,
              "#f0f921"
             ]
            ],
            "type": "heatmapgl"
           }
          ],
          "histogram": [
           {
            "marker": {
             "colorbar": {
              "outlinewidth": 0,
              "ticks": ""
             }
            },
            "type": "histogram"
           }
          ],
          "histogram2d": [
           {
            "colorbar": {
             "outlinewidth": 0,
             "ticks": ""
            },
            "colorscale": [
             [
              0,
              "#0d0887"
             ],
             [
              0.1111111111111111,
              "#46039f"
             ],
             [
              0.2222222222222222,
              "#7201a8"
             ],
             [
              0.3333333333333333,
              "#9c179e"
             ],
             [
              0.4444444444444444,
              "#bd3786"
             ],
             [
              0.5555555555555556,
              "#d8576b"
             ],
             [
              0.6666666666666666,
              "#ed7953"
             ],
             [
              0.7777777777777778,
              "#fb9f3a"
             ],
             [
              0.8888888888888888,
              "#fdca26"
             ],
             [
              1,
              "#f0f921"
             ]
            ],
            "type": "histogram2d"
           }
          ],
          "histogram2dcontour": [
           {
            "colorbar": {
             "outlinewidth": 0,
             "ticks": ""
            },
            "colorscale": [
             [
              0,
              "#0d0887"
             ],
             [
              0.1111111111111111,
              "#46039f"
             ],
             [
              0.2222222222222222,
              "#7201a8"
             ],
             [
              0.3333333333333333,
              "#9c179e"
             ],
             [
              0.4444444444444444,
              "#bd3786"
             ],
             [
              0.5555555555555556,
              "#d8576b"
             ],
             [
              0.6666666666666666,
              "#ed7953"
             ],
             [
              0.7777777777777778,
              "#fb9f3a"
             ],
             [
              0.8888888888888888,
              "#fdca26"
             ],
             [
              1,
              "#f0f921"
             ]
            ],
            "type": "histogram2dcontour"
           }
          ],
          "mesh3d": [
           {
            "colorbar": {
             "outlinewidth": 0,
             "ticks": ""
            },
            "type": "mesh3d"
           }
          ],
          "parcoords": [
           {
            "line": {
             "colorbar": {
              "outlinewidth": 0,
              "ticks": ""
             }
            },
            "type": "parcoords"
           }
          ],
          "pie": [
           {
            "automargin": true,
            "type": "pie"
           }
          ],
          "scatter": [
           {
            "marker": {
             "colorbar": {
              "outlinewidth": 0,
              "ticks": ""
             }
            },
            "type": "scatter"
           }
          ],
          "scatter3d": [
           {
            "line": {
             "colorbar": {
              "outlinewidth": 0,
              "ticks": ""
             }
            },
            "marker": {
             "colorbar": {
              "outlinewidth": 0,
              "ticks": ""
             }
            },
            "type": "scatter3d"
           }
          ],
          "scattercarpet": [
           {
            "marker": {
             "colorbar": {
              "outlinewidth": 0,
              "ticks": ""
             }
            },
            "type": "scattercarpet"
           }
          ],
          "scattergeo": [
           {
            "marker": {
             "colorbar": {
              "outlinewidth": 0,
              "ticks": ""
             }
            },
            "type": "scattergeo"
           }
          ],
          "scattergl": [
           {
            "marker": {
             "colorbar": {
              "outlinewidth": 0,
              "ticks": ""
             }
            },
            "type": "scattergl"
           }
          ],
          "scattermapbox": [
           {
            "marker": {
             "colorbar": {
              "outlinewidth": 0,
              "ticks": ""
             }
            },
            "type": "scattermapbox"
           }
          ],
          "scatterpolar": [
           {
            "marker": {
             "colorbar": {
              "outlinewidth": 0,
              "ticks": ""
             }
            },
            "type": "scatterpolar"
           }
          ],
          "scatterpolargl": [
           {
            "marker": {
             "colorbar": {
              "outlinewidth": 0,
              "ticks": ""
             }
            },
            "type": "scatterpolargl"
           }
          ],
          "scatterternary": [
           {
            "marker": {
             "colorbar": {
              "outlinewidth": 0,
              "ticks": ""
             }
            },
            "type": "scatterternary"
           }
          ],
          "surface": [
           {
            "colorbar": {
             "outlinewidth": 0,
             "ticks": ""
            },
            "colorscale": [
             [
              0,
              "#0d0887"
             ],
             [
              0.1111111111111111,
              "#46039f"
             ],
             [
              0.2222222222222222,
              "#7201a8"
             ],
             [
              0.3333333333333333,
              "#9c179e"
             ],
             [
              0.4444444444444444,
              "#bd3786"
             ],
             [
              0.5555555555555556,
              "#d8576b"
             ],
             [
              0.6666666666666666,
              "#ed7953"
             ],
             [
              0.7777777777777778,
              "#fb9f3a"
             ],
             [
              0.8888888888888888,
              "#fdca26"
             ],
             [
              1,
              "#f0f921"
             ]
            ],
            "type": "surface"
           }
          ],
          "table": [
           {
            "cells": {
             "fill": {
              "color": "#EBF0F8"
             },
             "line": {
              "color": "white"
             }
            },
            "header": {
             "fill": {
              "color": "#C8D4E3"
             },
             "line": {
              "color": "white"
             }
            },
            "type": "table"
           }
          ]
         },
         "layout": {
          "annotationdefaults": {
           "arrowcolor": "#2a3f5f",
           "arrowhead": 0,
           "arrowwidth": 1
          },
          "coloraxis": {
           "colorbar": {
            "outlinewidth": 0,
            "ticks": ""
           }
          },
          "colorscale": {
           "diverging": [
            [
             0,
             "#8e0152"
            ],
            [
             0.1,
             "#c51b7d"
            ],
            [
             0.2,
             "#de77ae"
            ],
            [
             0.3,
             "#f1b6da"
            ],
            [
             0.4,
             "#fde0ef"
            ],
            [
             0.5,
             "#f7f7f7"
            ],
            [
             0.6,
             "#e6f5d0"
            ],
            [
             0.7,
             "#b8e186"
            ],
            [
             0.8,
             "#7fbc41"
            ],
            [
             0.9,
             "#4d9221"
            ],
            [
             1,
             "#276419"
            ]
           ],
           "sequential": [
            [
             0,
             "#0d0887"
            ],
            [
             0.1111111111111111,
             "#46039f"
            ],
            [
             0.2222222222222222,
             "#7201a8"
            ],
            [
             0.3333333333333333,
             "#9c179e"
            ],
            [
             0.4444444444444444,
             "#bd3786"
            ],
            [
             0.5555555555555556,
             "#d8576b"
            ],
            [
             0.6666666666666666,
             "#ed7953"
            ],
            [
             0.7777777777777778,
             "#fb9f3a"
            ],
            [
             0.8888888888888888,
             "#fdca26"
            ],
            [
             1,
             "#f0f921"
            ]
           ],
           "sequentialminus": [
            [
             0,
             "#0d0887"
            ],
            [
             0.1111111111111111,
             "#46039f"
            ],
            [
             0.2222222222222222,
             "#7201a8"
            ],
            [
             0.3333333333333333,
             "#9c179e"
            ],
            [
             0.4444444444444444,
             "#bd3786"
            ],
            [
             0.5555555555555556,
             "#d8576b"
            ],
            [
             0.6666666666666666,
             "#ed7953"
            ],
            [
             0.7777777777777778,
             "#fb9f3a"
            ],
            [
             0.8888888888888888,
             "#fdca26"
            ],
            [
             1,
             "#f0f921"
            ]
           ]
          },
          "colorway": [
           "#636efa",
           "#EF553B",
           "#00cc96",
           "#ab63fa",
           "#FFA15A",
           "#19d3f3",
           "#FF6692",
           "#B6E880",
           "#FF97FF",
           "#FECB52"
          ],
          "font": {
           "color": "#2a3f5f"
          },
          "geo": {
           "bgcolor": "white",
           "lakecolor": "white",
           "landcolor": "#E5ECF6",
           "showlakes": true,
           "showland": true,
           "subunitcolor": "white"
          },
          "hoverlabel": {
           "align": "left"
          },
          "hovermode": "closest",
          "mapbox": {
           "style": "light"
          },
          "paper_bgcolor": "white",
          "plot_bgcolor": "#E5ECF6",
          "polar": {
           "angularaxis": {
            "gridcolor": "white",
            "linecolor": "white",
            "ticks": ""
           },
           "bgcolor": "#E5ECF6",
           "radialaxis": {
            "gridcolor": "white",
            "linecolor": "white",
            "ticks": ""
           }
          },
          "scene": {
           "xaxis": {
            "backgroundcolor": "#E5ECF6",
            "gridcolor": "white",
            "gridwidth": 2,
            "linecolor": "white",
            "showbackground": true,
            "ticks": "",
            "zerolinecolor": "white"
           },
           "yaxis": {
            "backgroundcolor": "#E5ECF6",
            "gridcolor": "white",
            "gridwidth": 2,
            "linecolor": "white",
            "showbackground": true,
            "ticks": "",
            "zerolinecolor": "white"
           },
           "zaxis": {
            "backgroundcolor": "#E5ECF6",
            "gridcolor": "white",
            "gridwidth": 2,
            "linecolor": "white",
            "showbackground": true,
            "ticks": "",
            "zerolinecolor": "white"
           }
          },
          "shapedefaults": {
           "line": {
            "color": "#2a3f5f"
           }
          },
          "ternary": {
           "aaxis": {
            "gridcolor": "white",
            "linecolor": "white",
            "ticks": ""
           },
           "baxis": {
            "gridcolor": "white",
            "linecolor": "white",
            "ticks": ""
           },
           "bgcolor": "#E5ECF6",
           "caxis": {
            "gridcolor": "white",
            "linecolor": "white",
            "ticks": ""
           }
          },
          "title": {
           "x": 0.05
          },
          "xaxis": {
           "automargin": true,
           "gridcolor": "white",
           "linecolor": "white",
           "ticks": "",
           "title": {
            "standoff": 15
           },
           "zerolinecolor": "white",
           "zerolinewidth": 2
          },
          "yaxis": {
           "automargin": true,
           "gridcolor": "white",
           "linecolor": "white",
           "ticks": "",
           "title": {
            "standoff": 15
           },
           "zerolinecolor": "white",
           "zerolinewidth": 2
          }
         }
        },
        "title": {
         "text": "Gender Gap? <br><sub>The proportion of <i>Women</i> with mental health disorders outweights <i>Men</i> for all age categories.</sub></br>"
        },
        "xaxis": {
         "range": [
          0,
          30
         ],
         "showgrid": false,
         "showticklabels": false
        },
        "yaxis": {
         "showgrid": false,
         "tickfont": {
          "color": "black"
         }
        }
       }
      }
     },
     "metadata": {}
    }
   ],
   "source": [
    "fig = go.Figure()\n",
    "\n",
    "fig.add_trace(go.Scatter(x = df_male.value, y = df_male.variable, mode = 'lines', line = {'width': 10, 'color': 'rgb(88,197,171)', 'shape': 'spline'}, name = 'Men'))\n",
    "fig.add_trace(go.Scatter(x = df_female.value, y = df_female.variable, mode = 'lines', line = {'width': 10, 'color': 'rgb(139,82,249)', 'shape': 'spline'} , fill = 'tonexty', name = 'Women'))\n",
    "fig.add_trace(go.Scatter(x = [15.7,15.7], y = ['16-24', '75+'], mode = 'lines', line = {'width': 3, 'color': 'black', 'dash': 'dash'}, showlegend = False))\n",
    "for i in range(7):\n",
    "    fig.add_trace(go.Scatter(x = [0, df_male.iloc[i,2] + 0.2], y = [df_male.iloc[i,1], df_female.iloc[i,1]], mode = 'lines', line = {'color': 'rgb(88,197,171)', 'width': 3}, showlegend = False))\n",
    "\n",
    "fig.add_annotation({'x': 18.2, 'y': '75+', 'xref': 'x', 'yref': 'y', 'text': 'Overall Average', 'showarrow': False, 'ax': 0, 'ay': 40, 'font': {'size': 10, 'color': 'black'}} )\n",
    "\n",
    "fig.update_layout(xaxis = {'range': (0,30), 'showgrid': False, 'showticklabels': False})\n",
    "fig.update_layout(yaxis = {'showgrid': False, 'tickfont': {'color': 'black'}})\n",
    "fig.update_layout(title = 'Gender Gap? <br><sub>The proportion of <i>Women</i> with mental health disorders outweights <i>Men</i> for all age categories.</sub></br>', paper_bgcolor='rgba(0,0,0,0)', plot_bgcolor='rgba(0,0,0,0)')\n",
    "\n",
    "fig.show()"
   ]
  },
  {
   "cell_type": "markdown",
   "metadata": {},
   "source": [
    "# Dash"
   ]
  },
  {
   "cell_type": "code",
   "execution_count": 266,
   "metadata": {},
   "outputs": [],
   "source": [
    "dots = [\n",
    "    go.Scatter(\n",
    "        x = df_male.value, \n",
    "        y = df_male.age_cat, \n",
    "        mode = 'markers', \n",
    "        marker = {'size': 20, 'color': 'rgb(88,197,171)'}, \n",
    "        name = 'Men'),\n",
    "    go.Scatter(\n",
    "        x = df_female.value, \n",
    "        y = df_female.age_cat, \n",
    "        mode = 'markers', \n",
    "        marker = {'size': 20, 'color': 'rgb(139,82,249)'}, \n",
    "        name = 'Women')]\n",
    "connectors = [\n",
    "    go.Scatter(\n",
    "        x = [df_male.iloc[i,2]+0.3, df_female.iloc[i,2]-0.3], \n",
    "        y = [df_male.iloc[i,3], df_female.iloc[i,3]], \n",
    "        mode = 'lines', \n",
    "        line = {'color': 'grey'}, \n",
    "        showlegend = False) for i in range(7)]\n",
    "\n",
    "line = [\n",
    "    go.Scatter(\n",
    "        x = [15.7,15.7], \n",
    "        y = [0.5, 7.5], \n",
    "        mode = 'lines', \n",
    "        line = {'width': 3, 'color': 'black', 'dash': 'dash'}, \n",
    "        showlegend = False)]\n",
    "\n",
    "data_1 = dots + connectors + line"
   ]
  },
  {
   "cell_type": "code",
   "execution_count": 267,
   "metadata": {},
   "outputs": [],
   "source": [
    "layout_1 = go.Layout(\n",
    "    xaxis = {'range': (0,30), 'showgrid': False, 'showline': False, 'zeroline': False, 'showticklabels': False},\n",
    "    yaxis = {'range': (0, 8), 'tickvals': [i for i in range(1,8)], 'ticktext': list(df_female.variable), 'showgrid': False, 'showline': False, 'zeroline': False, 'tickfont': {'color': 'black'}}, \n",
    "    showlegend = False,\n",
    "    annotations = [\n",
    "        {'x': 15.7, \n",
    "        'y': 7.7, \n",
    "        'xref': 'x', \n",
    "        'yref': 'y', \n",
    "        'text': 'Overall Average', \n",
    "        'showarrow': False, \n",
    "        'ax': 0, 'ay': 0, \n",
    "        'font': {'size': 10, 'color': 'black'}},\n",
    "        {'x': 15.7, \n",
    "        'y': 0.3, \n",
    "        'xref': 'x', \n",
    "        'yref': 'y', \n",
    "        'text': '15.7%', \n",
    "        'showarrow': False, \n",
    "        'ax': 0, 'ay': 0, \n",
    "        'font': {'size': 10, 'color': 'black'}},\n",
    "        {'x': df_female.iloc[0,2],\n",
    "        'y': df_female.iloc[0,3], \n",
    "        'xref': 'x', \n",
    "        'yref': 'y', \n",
    "        'text': '{}%'.format(int(df_female.iloc[0,2])), \n",
    "        'showarrow': True, \n",
    "        'arrowhead': 1, \n",
    "        'arrowcolor': 'black',\n",
    "        'ax': 30, \n",
    "        'ay': -30, \n",
    "        'font': {'size': 10, 'color': 'black'}},\n",
    "        {'x': df_male.iloc[6,2],\n",
    "        'y': df_male.iloc[6,3], \n",
    "        'xref': 'x', \n",
    "        'yref': 'y', \n",
    "        'text': '{}%'.format(int(df_male.iloc[6,2])), \n",
    "        'showarrow': True, \n",
    "        'arrowhead': 1, \n",
    "        'arrowcolor': 'black',\n",
    "        'ax': -30, \n",
    "        'ay': 30, \n",
    "        'font': {'size': 10, 'color': 'black'}}],\n",
    "    margin={'l': 60, 'b': 10, 't': 10, 'r': 10})"
   ]
  },
  {
   "cell_type": "code",
   "execution_count": 268,
   "metadata": {},
   "outputs": [],
   "source": [
    "lines = [\n",
    "    go.Scatter(\n",
    "        x = df_male.value, \n",
    "        y = df_male.age_cat, \n",
    "        mode = 'lines', \n",
    "        line = {'width': 10, 'color': 'rgb(88,197,171)', 'shape': 'spline'}, \n",
    "        name = 'Men'),\n",
    "    go.Scatter(\n",
    "        x = df_female.value, \n",
    "        y = df_female.age_cat, \n",
    "        mode = 'lines', \n",
    "        line = {'width': 10, 'color': 'rgb(139,82,249)', 'shape': 'spline'}, \n",
    "        fill = 'tonexty',\n",
    "        name = 'Women')]\n",
    "data_2 = lines + line"
   ]
  },
  {
   "cell_type": "code",
   "execution_count": 288,
   "metadata": {},
   "outputs": [],
   "source": [
    "layout_2 = go.Layout(\n",
    "    xaxis = {'range': (0,30), 'showgrid': False, 'showline': False, 'zeroline': False, 'showticklabels': False},\n",
    "    yaxis = {'range': (0, 8), 'tickvals': [i for i in range(1,8)], 'ticktext': list(df_female.variable), 'showgrid': False, 'showline': False, 'zeroline': False, 'tickfont': {'color': 'black'}}, \n",
    "    showlegend = False,\n",
    "    annotations = [\n",
    "        {'x': 15.7, \n",
    "        'y': 7.7, \n",
    "        'xref': 'x', \n",
    "        'yref': 'y', \n",
    "        'text': 'Overall Average', \n",
    "        'showarrow': False, \n",
    "        'ax': 0, 'ay': 0, \n",
    "        'font': {'size': 10, 'color': 'black'}},\n",
    "        {'x': 15.7, \n",
    "        'y': 0.3, \n",
    "        'xref': 'x', \n",
    "        'yref': 'y', \n",
    "        'text': '15.7%', \n",
    "        'showarrow': False, \n",
    "        'ax': 0, 'ay': 0, \n",
    "        'font': {'size': 10, 'color': 'black'}},\n",
    "        {'x': df_female.iloc[0,2],\n",
    "        'y': df_female.iloc[0,3], \n",
    "        'xref': 'x', \n",
    "        'yref': 'y', \n",
    "        'text': '{}%'.format(int(df_female.iloc[0,2])), \n",
    "        'showarrow': True, \n",
    "        'arrowhead': 1, \n",
    "        'arrowcolor': 'black',\n",
    "        'ax': 30, \n",
    "        'ay': -30, \n",
    "        'font': {'size': 10, 'color': 'black'}},\n",
    "        {'x': df_male.iloc[6,2],\n",
    "        'y': df_male.iloc[6,3], \n",
    "        'xref': 'x', \n",
    "        'yref': 'y', \n",
    "        'text': '{}%'.format(int(df_male.iloc[6,2])), \n",
    "        'showarrow': True, \n",
    "        'arrowhead': 1, \n",
    "        'arrowcolor': 'black',\n",
    "        'ax': -30, \n",
    "        'ay': 30, \n",
    "        'font': {'size': 10, 'color': 'black'}},\n",
    "        {'x': (df_male.iloc[3,2] + df_female.iloc[3,2]) / 2, \n",
    "        'y': df_female.iloc[3,3] + 0.15, \n",
    "        'xref': 'x', \n",
    "        'yref': 'y', \n",
    "        'text': '+{}%'.format(round(df_female.iloc[6,2] - df_male.iloc[6,2], 1)), \n",
    "        'showarrow': False, \n",
    "        'ax': 0, 'ay': 0, \n",
    "        'font': {'size': 10, 'color': 'black'}},\n",
    "        {'x': df_female.iloc[3,2],\n",
    "        'y': df_female.iloc[3,3], \n",
    "        'xref': 'x', \n",
    "        'yref': 'y', \n",
    "        'showarrow': True, \n",
    "        'arrowhead': 1, \n",
    "        'arrowcolor': 'black',\n",
    "        'ax': -250, \n",
    "        'ay': 0, \n",
    "        'font': {'size': 10, 'color': 'black'}}],\n",
    "    margin={'l': 60, 'b': 10, 't': 10, 'r': 10})"
   ]
  },
  {
   "cell_type": "code",
   "execution_count": 289,
   "metadata": {},
   "outputs": [],
   "source": [
    "app = JupyterDash(__name__)\n",
    "app.layout = html.Div(children=[\n",
    "    html.H1('Gender Gap?'),\n",
    "    html.Div([\n",
    "        'The proportion of ',\n",
    "        html.Span('Women', style={'color': 'rgb(88,197,171)', 'font-style': 'italic'}),\n",
    "        ' reporting symptoms of poor mental health consistently outweighs ',\n",
    "        html.Span('Men', style = {'color': 'rgb(139,82,249)', 'font-style': 'italic'}),\n",
    "        ' across all age categories.']),\n",
    "    dcc.Graph(\n",
    "        id='graph-1',\n",
    "        figure={\n",
    "            'data': data_1,\n",
    "            'layout': layout_1}),\n",
    "    html.Div(html.Span('Data Source: NHS Digital | Created by: Jack Tann (@jacktann3)', style={'color': 'grey', 'font-size': 11}), style = {'textAlign': 'right'}),\n",
    "    html.H1('Gender Gap?'),\n",
    "    html.Div([\n",
    "        'The proportion of ',\n",
    "        html.Span('Women', style={'color': 'rgb(88,197,171)', 'font-style': 'italic'}),\n",
    "        ' reporting symptoms of poor mental health consistently outweighs ',\n",
    "        html.Span('Men', style = {'color': 'rgb(139,82,249)', 'font-style': 'italic'}),\n",
    "        ' across all age categories.']),\n",
    "    dcc.Graph(\n",
    "        id='graph-2',\n",
    "        figure={\n",
    "            'data': data_2,\n",
    "            'layout': layout_2}),\n",
    "    html.Div(html.Span('Data Source: NHS Digital | Created by: Jack Tann (@jacktann3)', style={'color': 'grey', 'font-size': 11}), style = {'textAlign': 'right'})], style = {'width': '60%', 'margin': 'auto'})"
   ]
  },
  {
   "cell_type": "code",
   "execution_count": 290,
   "metadata": {
    "tags": []
   },
   "outputs": [
    {
     "output_type": "stream",
     "name": "stdout",
     "text": "Dash is running on http://127.0.0.1:8050/\n\nDash is running on http://127.0.0.1:8050/\n\nDash is running on http://127.0.0.1:8050/\n\nDash is running on http://127.0.0.1:8050/\n\nDash is running on http://127.0.0.1:8050/\n\nDash is running on http://127.0.0.1:8050/\n\nDash is running on http://127.0.0.1:8050/\n\nDash is running on http://127.0.0.1:8050/\n\nDash is running on http://127.0.0.1:8050/\n\nDash is running on http://127.0.0.1:8050/\n\nDash is running on http://127.0.0.1:8050/\n\nDash is running on http://127.0.0.1:8050/\n\nDash is running on http://127.0.0.1:8050/\n\nDash is running on http://127.0.0.1:8050/\n\nDash is running on http://127.0.0.1:8050/\n\nDash is running on http://127.0.0.1:8050/\n\nDash is running on http://127.0.0.1:8050/\n\nDash is running on http://127.0.0.1:8050/\n\nDash is running on http://127.0.0.1:8050/\n\nDash is running on http://127.0.0.1:8050/\n\nDash is running on http://127.0.0.1:8050/\n\nDash is running on http://127.0.0.1:8050/\n\nDash is running on http://127.0.0.1:8050/\n\nDash is running on http://127.0.0.1:8050/\n\nDash is running on http://127.0.0.1:8050/\n\nDash is running on http://127.0.0.1:8050/\n\nDash is running on http://127.0.0.1:8050/\n\nDash is running on http://127.0.0.1:8050/\n\nDash is running on http://127.0.0.1:8050/\n\nDash is running on http://127.0.0.1:8050/\n\nDash is running on http://127.0.0.1:8050/\n\nDash is running on http://127.0.0.1:8050/\n\nDash is running on http://127.0.0.1:8050/\n\nDash is running on http://127.0.0.1:8050/\n\nDash is running on http://127.0.0.1:8050/\n\nDash is running on http://127.0.0.1:8050/\n\nDash is running on http://127.0.0.1:8050/\n\nDash is running on http://127.0.0.1:8050/\n\nDash is running on http://127.0.0.1:8050/\n\nDash is running on http://127.0.0.1:8050/\n\nDash is running on http://127.0.0.1:8050/\n\nDash is running on http://127.0.0.1:8050/\n\nDash is running on http://127.0.0.1:8050/\n\nDash is running on http://127.0.0.1:8050/\n\nDash is running on http://127.0.0.1:8050/\n\nDash is running on http://127.0.0.1:8050/\n\nDash is running on http://127.0.0.1:8050/\n\nDash is running on http://127.0.0.1:8050/\n\nDash is running on http://127.0.0.1:8050/\n\nDash is running on http://127.0.0.1:8050/\n\nDash is running on http://127.0.0.1:8050/\n\nDash is running on http://127.0.0.1:8050/\n\nDash is running on http://127.0.0.1:8050/\n\nDash is running on http://127.0.0.1:8050/\n\nDash is running on http://127.0.0.1:8050/\n\nDash is running on http://127.0.0.1:8050/\n\nDash is running on http://127.0.0.1:8050/\n\nDash is running on http://127.0.0.1:8050/\n\nDash is running on http://127.0.0.1:8050/\n\nDash is running on http://127.0.0.1:8050/\n\nDash is running on http://127.0.0.1:8050/\n\nDash is running on http://127.0.0.1:8050/\n\nDash is running on http://127.0.0.1:8050/\n\nDash is running on http://127.0.0.1:8050/\n\nDash is running on http://127.0.0.1:8050/\n\nDash is running on http://127.0.0.1:8050/\n\nDash is running on http://127.0.0.1:8050/\n\nDash is running on http://127.0.0.1:8050/\n\nDash is running on http://127.0.0.1:8050/\n\n Warning: This is a development server. Do not use app.run_server\n Warning: This is a development server. Do not use app.run_server\n Warning: This is a development server. Do not use app.run_server\n Warning: This is a development server. Do not use app.run_server\n Warning: This is a development server. Do not use app.run_server\n Warning: This is a development server. Do not use app.run_server\n Warning: This is a development server. Do not use app.run_server\n Warning: This is a development server. Do not use app.run_server\n Warning: This is a development server. Do not use app.run_server\n Warning: This is a development server. Do not use app.run_server\n Warning: This is a development server. Do not use app.run_server\n Warning: This is a development server. Do not use app.run_server\n Warning: This is a development server. Do not use app.run_server\n Warning: This is a development server. Do not use app.run_server\n Warning: This is a development server. Do not use app.run_server\n Warning: This is a development server. Do not use app.run_server\n Warning: This is a development server. Do not use app.run_server\n Warning: This is a development server. Do not use app.run_server\n Warning: This is a development server. Do not use app.run_server\n Warning: This is a development server. Do not use app.run_server\n Warning: This is a development server. Do not use app.run_server\n Warning: This is a development server. Do not use app.run_server\n Warning: This is a development server. Do not use app.run_server\n Warning: This is a development server. Do not use app.run_server\n Warning: This is a development server. Do not use app.run_server\n Warning: This is a development server. Do not use app.run_server\n Warning: This is a development server. Do not use app.run_server\n Warning: This is a development server. Do not use app.run_server\n Warning: This is a development server. Do not use app.run_server\n Warning: This is a development server. Do not use app.run_server\n Warning: This is a development server. Do not use app.run_server\n Warning: This is a development server. Do not use app.run_server\n Warning: This is a development server. Do not use app.run_server\n Warning: This is a development server. Do not use app.run_server\n Warning: This is a development server. Do not use app.run_server\n Warning: This is a development server. Do not use app.run_server\n Warning: This is a development server. Do not use app.run_server\n Warning: This is a development server. Do not use app.run_server\n Warning: This is a development server. Do not use app.run_server\n Warning: This is a development server. Do not use app.run_server\n Warning: This is a development server. Do not use app.run_server\n Warning: This is a development server. Do not use app.run_server\n Warning: This is a development server. Do not use app.run_server\n Warning: This is a development server. Do not use app.run_server\n Warning: This is a development server. Do not use app.run_server\n Warning: This is a development server. Do not use app.run_server\n Warning: This is a development server. Do not use app.run_server\n Warning: This is a development server. Do not use app.run_server\n Warning: This is a development server. Do not use app.run_server\n Warning: This is a development server. Do not use app.run_server\n Warning: This is a development server. Do not use app.run_server\n Warning: This is a development server. Do not use app.run_server\n Warning: This is a development server. Do not use app.run_server\n Warning: This is a development server. Do not use app.run_server\n Warning: This is a development server. Do not use app.run_server\n Warning: This is a development server. Do not use app.run_server\n Warning: This is a development server. Do not use app.run_server\n Warning: This is a development server. Do not use app.run_server\n Warning: This is a development server. Do not use app.run_server\n Warning: This is a development server. Do not use app.run_server\n Warning: This is a development server. Do not use app.run_server\n Warning: This is a development server. Do not use app.run_server\n Warning: This is a development server. Do not use app.run_server\n Warning: This is a development server. Do not use app.run_server\n Warning: This is a development server. Do not use app.run_server\n Warning: This is a development server. Do not use app.run_server\n Warning: This is a development server. Do not use app.run_server\n Warning: This is a development server. Do not use app.run_server\n Warning: This is a development server. Do not use app.run_server\n in production, use a production WSGI server like gunicorn instead.\n\n in production, use a production WSGI server like gunicorn instead.\n\n in production, use a production WSGI server like gunicorn instead.\n\n in production, use a production WSGI server like gunicorn instead.\n\n in production, use a production WSGI server like gunicorn instead.\n\n in production, use a production WSGI server like gunicorn instead.\n\n in production, use a production WSGI server like gunicorn instead.\n\n in production, use a production WSGI server like gunicorn instead.\n\n in production, use a production WSGI server like gunicorn instead.\n\n in production, use a production WSGI server like gunicorn instead.\n\n in production, use a production WSGI server like gunicorn instead.\n\n in production, use a production WSGI server like gunicorn instead.\n\n in production, use a production WSGI server like gunicorn instead.\n\n in production, use a production WSGI server like gunicorn instead.\n\n in production, use a production WSGI server like gunicorn instead.\n\n in production, use a production WSGI server like gunicorn instead.\n\n in production, use a production WSGI server like gunicorn instead.\n\n in production, use a production WSGI server like gunicorn instead.\n\n in production, use a production WSGI server like gunicorn instead.\n\n in production, use a production WSGI server like gunicorn instead.\n\n in production, use a production WSGI server like gunicorn instead.\n\n in production, use a production WSGI server like gunicorn instead.\n\n in production, use a production WSGI server like gunicorn instead.\n\n in production, use a production WSGI server like gunicorn instead.\n\n in production, use a production WSGI server like gunicorn instead.\n\n in production, use a production WSGI server like gunicorn instead.\n\n in production, use a production WSGI server like gunicorn instead.\n\n in production, use a production WSGI server like gunicorn instead.\n\n in production, use a production WSGI server like gunicorn instead.\n\n in production, use a production WSGI server like gunicorn instead.\n\n in production, use a production WSGI server like gunicorn instead.\n\n in production, use a production WSGI server like gunicorn instead.\n\n in production, use a production WSGI server like gunicorn instead.\n\n in production, use a production WSGI server like gunicorn instead.\n\n in production, use a production WSGI server like gunicorn instead.\n\n in production, use a production WSGI server like gunicorn instead.\n\n in production, use a production WSGI server like gunicorn instead.\n\n in production, use a production WSGI server like gunicorn instead.\n\n in production, use a production WSGI server like gunicorn instead.\n\n in production, use a production WSGI server like gunicorn instead.\n\n in production, use a production WSGI server like gunicorn instead.\n\n in production, use a production WSGI server like gunicorn instead.\n\n in production, use a production WSGI server like gunicorn instead.\n\n in production, use a production WSGI server like gunicorn instead.\n\n in production, use a production WSGI server like gunicorn instead.\n\n in production, use a production WSGI server like gunicorn instead.\n\n in production, use a production WSGI server like gunicorn instead.\n\n in production, use a production WSGI server like gunicorn instead.\n\n in production, use a production WSGI server like gunicorn instead.\n\n in production, use a production WSGI server like gunicorn instead.\n\n in production, use a production WSGI server like gunicorn instead.\n\n in production, use a production WSGI server like gunicorn instead.\n\n in production, use a production WSGI server like gunicorn instead.\n\n in production, use a production WSGI server like gunicorn instead.\n\n in production, use a production WSGI server like gunicorn instead.\n\n in production, use a production WSGI server like gunicorn instead.\n\n in production, use a production WSGI server like gunicorn instead.\n\n in production, use a production WSGI server like gunicorn instead.\n\n in production, use a production WSGI server like gunicorn instead.\n\n in production, use a production WSGI server like gunicorn instead.\n\n in production, use a production WSGI server like gunicorn instead.\n\n in production, use a production WSGI server like gunicorn instead.\n\n in production, use a production WSGI server like gunicorn instead.\n\n in production, use a production WSGI server like gunicorn instead.\n\n in production, use a production WSGI server like gunicorn instead.\n\n in production, use a production WSGI server like gunicorn instead.\n\n in production, use a production WSGI server like gunicorn instead.\n\n in production, use a production WSGI server like gunicorn instead.\n\n in production, use a production WSGI server like gunicorn instead.\n\nDash app running on http://127.0.0.1:8050/\n"
    }
   ],
   "source": [
    "app.run_server(mode='external')"
   ]
  }
 ],
 "metadata": {
  "language_info": {
   "codemirror_mode": {
    "name": "ipython",
    "version": 3
   },
   "file_extension": ".py",
   "mimetype": "text/x-python",
   "name": "python",
   "nbconvert_exporter": "python",
   "pygments_lexer": "ipython3",
   "version": "3.7.3-final"
  },
  "orig_nbformat": 2,
  "kernelspec": {
   "name": "python37364bitanaconda3virtualenv8b0ef4735f6b49fd9e8c02207932decd",
   "display_name": "Python 3.7.3 64-bit ('anaconda3': virtualenv)"
  }
 },
 "nbformat": 4,
 "nbformat_minor": 2
}