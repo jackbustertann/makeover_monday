{
 "metadata": {
  "language_info": {
   "codemirror_mode": {
    "name": "ipython",
    "version": 3
   },
   "file_extension": ".py",
   "mimetype": "text/x-python",
   "name": "python",
   "nbconvert_exporter": "python",
   "pygments_lexer": "ipython3",
   "version": "3.8.3-final"
  },
  "orig_nbformat": 2,
  "kernelspec": {
   "name": "python3",
   "display_name": "Python 3",
   "language": "python"
  }
 },
 "nbformat": 4,
 "nbformat_minor": 2,
 "cells": [
  {
   "cell_type": "code",
   "execution_count": 48,
   "metadata": {},
   "outputs": [],
   "source": [
    "import pandas as pd\n",
    "import numpy as np"
   ]
  },
  {
   "cell_type": "code",
   "execution_count": 49,
   "metadata": {},
   "outputs": [],
   "source": [
    "df = pd.read_excel('https://query.data.world/s/j23hkynelwuq3mp3aqenvwqreuv2zh')"
   ]
  },
  {
   "cell_type": "code",
   "execution_count": 50,
   "metadata": {},
   "outputs": [],
   "source": [
    "# def MinMaxScaler(x):\n",
    "#     x_scaled = (x - x.min()) / x.max()\n",
    "#     return x_scaled\n",
    "\n",
    "df['Theta'] = df['Timeframe'].map(lambda x: int(x.split(' ')[1]) / 50 * 2 * np.pi)\n",
    "\n",
    "# df['r'] = 1 + MinMaxScaler(df['Counts (31 counters)'])\n",
    "\n",
    "# df['x'] = df['r'] * df['Theta'].map(lambda x: np.sin(x))\n",
    "# df['y'] = df['r'] * df['Theta'].map(lambda x: np.cos(x))\n",
    "df['x'] = df['Counts (31 counters)'] * df['Theta'].map(lambda x: np.sin(x))\n",
    "df['y'] = df['Counts (31 counters)'] * df['Theta'].map(lambda x: np.cos(x))"
   ]
  },
  {
   "cell_type": "code",
   "execution_count": 51,
   "metadata": {},
   "outputs": [],
   "source": [
    "df.to_csv('W01.csv', index = False)"
   ]
  },
  {
   "cell_type": "code",
   "execution_count": null,
   "metadata": {},
   "outputs": [],
   "source": []
  }
 ]
}