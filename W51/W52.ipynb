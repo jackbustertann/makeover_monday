{
 "metadata": {
  "language_info": {
   "codemirror_mode": {
    "name": "ipython",
    "version": 3
   },
   "file_extension": ".py",
   "mimetype": "text/x-python",
   "name": "python",
   "nbconvert_exporter": "python",
   "pygments_lexer": "ipython3",
   "version": "3.8.3-final"
  },
  "orig_nbformat": 2,
  "kernelspec": {
   "name": "python3",
   "display_name": "Python 3",
   "language": "python"
  }
 },
 "nbformat": 4,
 "nbformat_minor": 2,
 "cells": [
  {
   "cell_type": "code",
   "execution_count": 1,
   "metadata": {},
   "outputs": [],
   "source": [
    "import pandas as pd\n",
    "import numpy as np"
   ]
  },
  {
   "cell_type": "code",
   "execution_count": 2,
   "metadata": {},
   "outputs": [],
   "source": [
    "df = pd.read_excel('https://query.data.world/s/vkubs7yhebofuhxizzgrssx7chmzbr')\n",
    "df.columns = [x.lower().replace(' ', '_') for x in df.columns]"
   ]
  },
  {
   "cell_type": "code",
   "execution_count": 3,
   "metadata": {},
   "outputs": [],
   "source": [
    "def offset_calculator(df, column):\n",
    "    value_counts = {}\n",
    "    uncentered_offsets = []\n",
    "    for index, value in enumerate(df[column]):\n",
    "        if value in value_counts.keys():\n",
    "            uncentered_offset = value_counts[value]\n",
    "            uncentered_offsets.append((index, value, uncentered_offset))\n",
    "            value_counts[value] += 1\n",
    "        else:\n",
    "            uncentered_offsets.append((index, value, 0))\n",
    "            value_counts[value] = 1\n",
    "    centered_offsets = []\n",
    "    for index, value, offset in uncentered_offsets:\n",
    "        value_count = value_counts[value]\n",
    "        mu = (value_count - 1) / 2\n",
    "        centered_offset = offset - mu\n",
    "        centered_offsets.append(centered_offset)\n",
    "    return pd.Series(centered_offsets)"
   ]
  },
  {
   "cell_type": "code",
   "execution_count": 4,
   "metadata": {},
   "outputs": [],
   "source": [
    "df['postion_offset'] = offset_calculator(df, 'position')\n",
    "\n",
    "df.to_csv('W52.csv', index = False)"
   ]
  },
  {
   "cell_type": "code",
   "execution_count": null,
   "metadata": {},
   "outputs": [],
   "source": []
  }
 ]
}