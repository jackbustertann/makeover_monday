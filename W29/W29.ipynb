{
 "metadata": {
  "language_info": {
   "codemirror_mode": {
    "name": "ipython",
    "version": 3
   },
   "file_extension": ".py",
   "mimetype": "text/x-python",
   "name": "python",
   "nbconvert_exporter": "python",
   "pygments_lexer": "ipython3",
   "version": "3.7.3-final"
  },
  "orig_nbformat": 2,
  "kernelspec": {
   "name": "python37364bitanaconda3virtualenv8b0ef4735f6b49fd9e8c02207932decd",
   "display_name": "Python 3.7.3 64-bit ('anaconda3': virtualenv)"
  }
 },
 "nbformat": 4,
 "nbformat_minor": 2,
 "cells": [
  {
   "cell_type": "code",
   "execution_count": 1,
   "metadata": {},
   "outputs": [],
   "source": [
    "import numpy as np\n",
    "import pandas as pd\n",
    "import matplotlib.pyplot as plt\n",
    "import seaborn as sns\n",
    "import plotly.graph_objects as go\n",
    "import plotly.express as px\n",
    "from jupyter_dash import JupyterDash\n",
    "import dash_core_components as dcc\n",
    "import dash_bootstrap_components as dbc\n",
    "import dash_html_components as html\n",
    "from dash.dependencies import Input, Output"
   ]
  },
  {
   "cell_type": "code",
   "execution_count": 2,
   "metadata": {},
   "outputs": [],
   "source": [
    "df = pd.read_excel('https://query.data.world/s/2azj44ivnm47bdzfsmoxmzwcsa54pi')"
   ]
  },
  {
   "cell_type": "code",
   "execution_count": 28,
   "metadata": {},
   "outputs": [
    {
     "output_type": "execute_result",
     "data": {
      "text/plain": "      Country  Religious  Acceptance\n41  Argentina          0        0.84\n16  Argentina          1        0.67\n34  Australia          0        0.85\n9   Australia          1        0.61\n46     Brazil          0        0.76\n21     Brazil          1        0.66\n47   Bulgaria          0        0.34\n22   Bulgaria          1        0.24\n28     Canada          0        0.93\n3      Canada          1        0.60",
      "text/html": "<div>\n<style scoped>\n    .dataframe tbody tr th:only-of-type {\n        vertical-align: middle;\n    }\n\n    .dataframe tbody tr th {\n        vertical-align: top;\n    }\n\n    .dataframe thead th {\n        text-align: right;\n    }\n</style>\n<table border=\"1\" class=\"dataframe\">\n  <thead>\n    <tr style=\"text-align: right;\">\n      <th></th>\n      <th>Country</th>\n      <th>Religious</th>\n      <th>Acceptance</th>\n    </tr>\n  </thead>\n  <tbody>\n    <tr>\n      <th>41</th>\n      <td>Argentina</td>\n      <td>0</td>\n      <td>0.84</td>\n    </tr>\n    <tr>\n      <th>16</th>\n      <td>Argentina</td>\n      <td>1</td>\n      <td>0.67</td>\n    </tr>\n    <tr>\n      <th>34</th>\n      <td>Australia</td>\n      <td>0</td>\n      <td>0.85</td>\n    </tr>\n    <tr>\n      <th>9</th>\n      <td>Australia</td>\n      <td>1</td>\n      <td>0.61</td>\n    </tr>\n    <tr>\n      <th>46</th>\n      <td>Brazil</td>\n      <td>0</td>\n      <td>0.76</td>\n    </tr>\n    <tr>\n      <th>21</th>\n      <td>Brazil</td>\n      <td>1</td>\n      <td>0.66</td>\n    </tr>\n    <tr>\n      <th>47</th>\n      <td>Bulgaria</td>\n      <td>0</td>\n      <td>0.34</td>\n    </tr>\n    <tr>\n      <th>22</th>\n      <td>Bulgaria</td>\n      <td>1</td>\n      <td>0.24</td>\n    </tr>\n    <tr>\n      <th>28</th>\n      <td>Canada</td>\n      <td>0</td>\n      <td>0.93</td>\n    </tr>\n    <tr>\n      <th>3</th>\n      <td>Canada</td>\n      <td>1</td>\n      <td>0.60</td>\n    </tr>\n  </tbody>\n</table>\n</div>"
     },
     "metadata": {},
     "execution_count": 28
    }
   ],
   "source": [
    "df_melted = pd.melt(df, [df.columns[0]], list(df.columns[1:]))\n",
    "df_melted.columns = ['Country', 'Religious', 'Acceptance']\n",
    "df_melted['Religious'] = df_melted['Religious'].map(lambda x: 1 if x == 'Religion is very important' else 0)\n",
    "\n",
    "df_melted.sort_values(by = ['Country', 'Religious']).head(10)"
   ]
  },
  {
   "cell_type": "code",
   "execution_count": 59,
   "metadata": {},
   "outputs": [
    {
     "output_type": "display_data",
     "data": {
      "application/vnd.plotly.v1+json": {
       "config": {
        "plotlyServerURL": "https://plot.ly"
       },
       "data": [
        {
         "line": {
          "color": "grey"
         },
         "mode": "lines",
         "showlegend": false,
         "type": "scatter",
         "x": [
          1,
          0
         ],
         "y": [
          0.67,
          0.84
         ]
        },
        {
         "line": {
          "color": "grey"
         },
         "mode": "lines",
         "showlegend": false,
         "type": "scatter",
         "x": [
          1,
          0
         ],
         "y": [
          0.61,
          0.85
         ]
        },
        {
         "line": {
          "color": "grey"
         },
         "mode": "lines",
         "showlegend": false,
         "type": "scatter",
         "x": [
          1,
          0
         ],
         "y": [
          0.66,
          0.76
         ]
        },
        {
         "line": {
          "color": "grey"
         },
         "mode": "lines",
         "showlegend": false,
         "type": "scatter",
         "x": [
          1,
          0
         ],
         "y": [
          0.24,
          0.34
         ]
        },
        {
         "line": {
          "color": "grey"
         },
         "mode": "lines",
         "showlegend": false,
         "type": "scatter",
         "x": [
          1,
          0
         ],
         "y": [
          0.6,
          0.93
         ]
        },
        {
         "line": {
          "color": "grey"
         },
         "mode": "lines",
         "showlegend": false,
         "type": "scatter",
         "x": [
          1,
          0
         ],
         "y": [
          0.27,
          0.65
         ]
        },
        {
         "line": {
          "color": "grey"
         },
         "mode": "lines",
         "showlegend": false,
         "type": "scatter",
         "x": [
          1,
          0
         ],
         "y": [
          0.65,
          0.89
         ]
        },
        {
         "line": {
          "color": "grey"
         },
         "mode": "lines",
         "showlegend": false,
         "type": "scatter",
         "x": [
          1,
          0
         ],
         "y": [
          0.73,
          0.91
         ]
        },
        {
         "line": {
          "color": "grey"
         },
         "mode": "lines",
         "showlegend": false,
         "type": "scatter",
         "x": [
          1,
          0
         ],
         "y": [
          0.34,
          0.62
         ]
        },
        {
         "line": {
          "color": "grey"
         },
         "mode": "lines",
         "showlegend": false,
         "type": "scatter",
         "x": [
          1,
          0
         ],
         "y": [
          0.34,
          0.53
         ]
        },
        {
         "line": {
          "color": "grey"
         },
         "mode": "lines",
         "showlegend": false,
         "type": "scatter",
         "x": [
          1,
          0
         ],
         "y": [
          0.22,
          0.62
         ]
        },
        {
         "line": {
          "color": "grey"
         },
         "mode": "lines",
         "showlegend": false,
         "type": "scatter",
         "x": [
          1,
          0
         ],
         "y": [
          0.62,
          0.8
         ]
        },
        {
         "line": {
          "color": "grey"
         },
         "mode": "lines",
         "showlegend": false,
         "type": "scatter",
         "x": [
          1,
          0
         ],
         "y": [
          0.1,
          0.19
         ]
        },
        {
         "line": {
          "color": "grey"
         },
         "mode": "lines",
         "showlegend": false,
         "type": "scatter",
         "x": [
          1,
          0
         ],
         "y": [
          0.18,
          0.31
         ]
        },
        {
         "line": {
          "color": "grey"
         },
         "mode": "lines",
         "showlegend": false,
         "type": "scatter",
         "x": [
          1,
          0
         ],
         "y": [
          0.65,
          0.73
         ]
        },
        {
         "line": {
          "color": "grey"
         },
         "mode": "lines",
         "showlegend": false,
         "type": "scatter",
         "x": [
          1,
          0
         ],
         "y": [
          0.79,
          0.95
         ]
        },
        {
         "line": {
          "color": "grey"
         },
         "mode": "lines",
         "showlegend": false,
         "type": "scatter",
         "x": [
          1,
          0
         ],
         "y": [
          0.29,
          0.53
         ]
        },
        {
         "line": {
          "color": "grey"
         },
         "mode": "lines",
         "showlegend": false,
         "type": "scatter",
         "x": [
          1,
          0
         ],
         "y": [
          0.22,
          0.51
         ]
        },
        {
         "line": {
          "color": "grey"
         },
         "mode": "lines",
         "showlegend": false,
         "type": "scatter",
         "x": [
          1,
          0
         ],
         "y": [
          0.52,
          0.63
         ]
        },
        {
         "line": {
          "color": "grey"
         },
         "mode": "lines",
         "showlegend": false,
         "type": "scatter",
         "x": [
          1,
          0
         ],
         "y": [
          0.13,
          0.51
         ]
        },
        {
         "line": {
          "color": "grey"
         },
         "mode": "lines",
         "showlegend": false,
         "type": "scatter",
         "x": [
          1,
          0
         ],
         "y": [
          0.77,
          0.93
         ]
        },
        {
         "line": {
          "color": "grey"
         },
         "mode": "lines",
         "showlegend": false,
         "type": "scatter",
         "x": [
          1,
          0
         ],
         "y": [
          0.73,
          0.95
         ]
        },
        {
         "line": {
          "color": "grey"
         },
         "mode": "lines",
         "showlegend": false,
         "type": "scatter",
         "x": [
          1,
          0
         ],
         "y": [
          0.19,
          0.45
         ]
        },
        {
         "line": {
          "color": "grey"
         },
         "mode": "lines",
         "showlegend": false,
         "type": "scatter",
         "x": [
          1,
          0
         ],
         "y": [
          0.57,
          0.86
         ]
        },
        {
         "line": {
          "color": "grey"
         },
         "mode": "lines",
         "showlegend": false,
         "type": "scatter",
         "x": [
          1,
          0
         ],
         "y": [
          0.67,
          0.9
         ]
        },
        {
         "line": {
          "color": "red",
          "width": 5
         },
         "mode": "lines",
         "showlegend": false,
         "type": "scatter",
         "x": [
          1,
          0
         ],
         "y": [
          0.13,
          0.51
         ]
        }
       ],
       "layout": {
        "paper_bgcolor": "rgba(0,0,0,0)",
        "plot_bgcolor": "rgba(0,0,0,0)",
        "template": {
         "data": {
          "bar": [
           {
            "error_x": {
             "color": "#2a3f5f"
            },
            "error_y": {
             "color": "#2a3f5f"
            },
            "marker": {
             "line": {
              "color": "#E5ECF6",
              "width": 0.5
             }
            },
            "type": "bar"
           }
          ],
          "barpolar": [
           {
            "marker": {
             "line": {
              "color": "#E5ECF6",
              "width": 0.5
             }
            },
            "type": "barpolar"
           }
          ],
          "carpet": [
           {
            "aaxis": {
             "endlinecolor": "#2a3f5f",
             "gridcolor": "white",
             "linecolor": "white",
             "minorgridcolor": "white",
             "startlinecolor": "#2a3f5f"
            },
            "baxis": {
             "endlinecolor": "#2a3f5f",
             "gridcolor": "white",
             "linecolor": "white",
             "minorgridcolor": "white",
             "startlinecolor": "#2a3f5f"
            },
            "type": "carpet"
           }
          ],
          "choropleth": [
           {
            "colorbar": {
             "outlinewidth": 0,
             "ticks": ""
            },
            "type": "choropleth"
           }
          ],
          "contour": [
           {
            "colorbar": {
             "outlinewidth": 0,
             "ticks": ""
            },
            "colorscale": [
             [
              0,
              "#0d0887"
             ],
             [
              0.1111111111111111,
              "#46039f"
             ],
             [
              0.2222222222222222,
              "#7201a8"
             ],
             [
              0.3333333333333333,
              "#9c179e"
             ],
             [
              0.4444444444444444,
              "#bd3786"
             ],
             [
              0.5555555555555556,
              "#d8576b"
             ],
             [
              0.6666666666666666,
              "#ed7953"
             ],
             [
              0.7777777777777778,
              "#fb9f3a"
             ],
             [
              0.8888888888888888,
              "#fdca26"
             ],
             [
              1,
              "#f0f921"
             ]
            ],
            "type": "contour"
           }
          ],
          "contourcarpet": [
           {
            "colorbar": {
             "outlinewidth": 0,
             "ticks": ""
            },
            "type": "contourcarpet"
           }
          ],
          "heatmap": [
           {
            "colorbar": {
             "outlinewidth": 0,
             "ticks": ""
            },
            "colorscale": [
             [
              0,
              "#0d0887"
             ],
             [
              0.1111111111111111,
              "#46039f"
             ],
             [
              0.2222222222222222,
              "#7201a8"
             ],
             [
              0.3333333333333333,
              "#9c179e"
             ],
             [
              0.4444444444444444,
              "#bd3786"
             ],
             [
              0.5555555555555556,
              "#d8576b"
             ],
             [
              0.6666666666666666,
              "#ed7953"
             ],
             [
              0.7777777777777778,
              "#fb9f3a"
             ],
             [
              0.8888888888888888,
              "#fdca26"
             ],
             [
              1,
              "#f0f921"
             ]
            ],
            "type": "heatmap"
           }
          ],
          "heatmapgl": [
           {
            "colorbar": {
             "outlinewidth": 0,
             "ticks": ""
            },
            "colorscale": [
             [
              0,
              "#0d0887"
             ],
             [
              0.1111111111111111,
              "#46039f"
             ],
             [
              0.2222222222222222,
              "#7201a8"
             ],
             [
              0.3333333333333333,
              "#9c179e"
             ],
             [
              0.4444444444444444,
              "#bd3786"
             ],
             [
              0.5555555555555556,
              "#d8576b"
             ],
             [
              0.6666666666666666,
              "#ed7953"
             ],
             [
              0.7777777777777778,
              "#fb9f3a"
             ],
             [
              0.8888888888888888,
              "#fdca26"
             ],
             [
              1,
              "#f0f921"
             ]
            ],
            "type": "heatmapgl"
           }
          ],
          "histogram": [
           {
            "marker": {
             "colorbar": {
              "outlinewidth": 0,
              "ticks": ""
             }
            },
            "type": "histogram"
           }
          ],
          "histogram2d": [
           {
            "colorbar": {
             "outlinewidth": 0,
             "ticks": ""
            },
            "colorscale": [
             [
              0,
              "#0d0887"
             ],
             [
              0.1111111111111111,
              "#46039f"
             ],
             [
              0.2222222222222222,
              "#7201a8"
             ],
             [
              0.3333333333333333,
              "#9c179e"
             ],
             [
              0.4444444444444444,
              "#bd3786"
             ],
             [
              0.5555555555555556,
              "#d8576b"
             ],
             [
              0.6666666666666666,
              "#ed7953"
             ],
             [
              0.7777777777777778,
              "#fb9f3a"
             ],
             [
              0.8888888888888888,
              "#fdca26"
             ],
             [
              1,
              "#f0f921"
             ]
            ],
            "type": "histogram2d"
           }
          ],
          "histogram2dcontour": [
           {
            "colorbar": {
             "outlinewidth": 0,
             "ticks": ""
            },
            "colorscale": [
             [
              0,
              "#0d0887"
             ],
             [
              0.1111111111111111,
              "#46039f"
             ],
             [
              0.2222222222222222,
              "#7201a8"
             ],
             [
              0.3333333333333333,
              "#9c179e"
             ],
             [
              0.4444444444444444,
              "#bd3786"
             ],
             [
              0.5555555555555556,
              "#d8576b"
             ],
             [
              0.6666666666666666,
              "#ed7953"
             ],
             [
              0.7777777777777778,
              "#fb9f3a"
             ],
             [
              0.8888888888888888,
              "#fdca26"
             ],
             [
              1,
              "#f0f921"
             ]
            ],
            "type": "histogram2dcontour"
           }
          ],
          "mesh3d": [
           {
            "colorbar": {
             "outlinewidth": 0,
             "ticks": ""
            },
            "type": "mesh3d"
           }
          ],
          "parcoords": [
           {
            "line": {
             "colorbar": {
              "outlinewidth": 0,
              "ticks": ""
             }
            },
            "type": "parcoords"
           }
          ],
          "pie": [
           {
            "automargin": true,
            "type": "pie"
           }
          ],
          "scatter": [
           {
            "marker": {
             "colorbar": {
              "outlinewidth": 0,
              "ticks": ""
             }
            },
            "type": "scatter"
           }
          ],
          "scatter3d": [
           {
            "line": {
             "colorbar": {
              "outlinewidth": 0,
              "ticks": ""
             }
            },
            "marker": {
             "colorbar": {
              "outlinewidth": 0,
              "ticks": ""
             }
            },
            "type": "scatter3d"
           }
          ],
          "scattercarpet": [
           {
            "marker": {
             "colorbar": {
              "outlinewidth": 0,
              "ticks": ""
             }
            },
            "type": "scattercarpet"
           }
          ],
          "scattergeo": [
           {
            "marker": {
             "colorbar": {
              "outlinewidth": 0,
              "ticks": ""
             }
            },
            "type": "scattergeo"
           }
          ],
          "scattergl": [
           {
            "marker": {
             "colorbar": {
              "outlinewidth": 0,
              "ticks": ""
             }
            },
            "type": "scattergl"
           }
          ],
          "scattermapbox": [
           {
            "marker": {
             "colorbar": {
              "outlinewidth": 0,
              "ticks": ""
             }
            },
            "type": "scattermapbox"
           }
          ],
          "scatterpolar": [
           {
            "marker": {
             "colorbar": {
              "outlinewidth": 0,
              "ticks": ""
             }
            },
            "type": "scatterpolar"
           }
          ],
          "scatterpolargl": [
           {
            "marker": {
             "colorbar": {
              "outlinewidth": 0,
              "ticks": ""
             }
            },
            "type": "scatterpolargl"
           }
          ],
          "scatterternary": [
           {
            "marker": {
             "colorbar": {
              "outlinewidth": 0,
              "ticks": ""
             }
            },
            "type": "scatterternary"
           }
          ],
          "surface": [
           {
            "colorbar": {
             "outlinewidth": 0,
             "ticks": ""
            },
            "colorscale": [
             [
              0,
              "#0d0887"
             ],
             [
              0.1111111111111111,
              "#46039f"
             ],
             [
              0.2222222222222222,
              "#7201a8"
             ],
             [
              0.3333333333333333,
              "#9c179e"
             ],
             [
              0.4444444444444444,
              "#bd3786"
             ],
             [
              0.5555555555555556,
              "#d8576b"
             ],
             [
              0.6666666666666666,
              "#ed7953"
             ],
             [
              0.7777777777777778,
              "#fb9f3a"
             ],
             [
              0.8888888888888888,
              "#fdca26"
             ],
             [
              1,
              "#f0f921"
             ]
            ],
            "type": "surface"
           }
          ],
          "table": [
           {
            "cells": {
             "fill": {
              "color": "#EBF0F8"
             },
             "line": {
              "color": "white"
             }
            },
            "header": {
             "fill": {
              "color": "#C8D4E3"
             },
             "line": {
              "color": "white"
             }
            },
            "type": "table"
           }
          ]
         },
         "layout": {
          "annotationdefaults": {
           "arrowcolor": "#2a3f5f",
           "arrowhead": 0,
           "arrowwidth": 1
          },
          "coloraxis": {
           "colorbar": {
            "outlinewidth": 0,
            "ticks": ""
           }
          },
          "colorscale": {
           "diverging": [
            [
             0,
             "#8e0152"
            ],
            [
             0.1,
             "#c51b7d"
            ],
            [
             0.2,
             "#de77ae"
            ],
            [
             0.3,
             "#f1b6da"
            ],
            [
             0.4,
             "#fde0ef"
            ],
            [
             0.5,
             "#f7f7f7"
            ],
            [
             0.6,
             "#e6f5d0"
            ],
            [
             0.7,
             "#b8e186"
            ],
            [
             0.8,
             "#7fbc41"
            ],
            [
             0.9,
             "#4d9221"
            ],
            [
             1,
             "#276419"
            ]
           ],
           "sequential": [
            [
             0,
             "#0d0887"
            ],
            [
             0.1111111111111111,
             "#46039f"
            ],
            [
             0.2222222222222222,
             "#7201a8"
            ],
            [
             0.3333333333333333,
             "#9c179e"
            ],
            [
             0.4444444444444444,
             "#bd3786"
            ],
            [
             0.5555555555555556,
             "#d8576b"
            ],
            [
             0.6666666666666666,
             "#ed7953"
            ],
            [
             0.7777777777777778,
             "#fb9f3a"
            ],
            [
             0.8888888888888888,
             "#fdca26"
            ],
            [
             1,
             "#f0f921"
            ]
           ],
           "sequentialminus": [
            [
             0,
             "#0d0887"
            ],
            [
             0.1111111111111111,
             "#46039f"
            ],
            [
             0.2222222222222222,
             "#7201a8"
            ],
            [
             0.3333333333333333,
             "#9c179e"
            ],
            [
             0.4444444444444444,
             "#bd3786"
            ],
            [
             0.5555555555555556,
             "#d8576b"
            ],
            [
             0.6666666666666666,
             "#ed7953"
            ],
            [
             0.7777777777777778,
             "#fb9f3a"
            ],
            [
             0.8888888888888888,
             "#fdca26"
            ],
            [
             1,
             "#f0f921"
            ]
           ]
          },
          "colorway": [
           "#636efa",
           "#EF553B",
           "#00cc96",
           "#ab63fa",
           "#FFA15A",
           "#19d3f3",
           "#FF6692",
           "#B6E880",
           "#FF97FF",
           "#FECB52"
          ],
          "font": {
           "color": "#2a3f5f"
          },
          "geo": {
           "bgcolor": "white",
           "lakecolor": "white",
           "landcolor": "#E5ECF6",
           "showlakes": true,
           "showland": true,
           "subunitcolor": "white"
          },
          "hoverlabel": {
           "align": "left"
          },
          "hovermode": "closest",
          "mapbox": {
           "style": "light"
          },
          "paper_bgcolor": "white",
          "plot_bgcolor": "#E5ECF6",
          "polar": {
           "angularaxis": {
            "gridcolor": "white",
            "linecolor": "white",
            "ticks": ""
           },
           "bgcolor": "#E5ECF6",
           "radialaxis": {
            "gridcolor": "white",
            "linecolor": "white",
            "ticks": ""
           }
          },
          "scene": {
           "xaxis": {
            "backgroundcolor": "#E5ECF6",
            "gridcolor": "white",
            "gridwidth": 2,
            "linecolor": "white",
            "showbackground": true,
            "ticks": "",
            "zerolinecolor": "white"
           },
           "yaxis": {
            "backgroundcolor": "#E5ECF6",
            "gridcolor": "white",
            "gridwidth": 2,
            "linecolor": "white",
            "showbackground": true,
            "ticks": "",
            "zerolinecolor": "white"
           },
           "zaxis": {
            "backgroundcolor": "#E5ECF6",
            "gridcolor": "white",
            "gridwidth": 2,
            "linecolor": "white",
            "showbackground": true,
            "ticks": "",
            "zerolinecolor": "white"
           }
          },
          "shapedefaults": {
           "line": {
            "color": "#2a3f5f"
           }
          },
          "ternary": {
           "aaxis": {
            "gridcolor": "white",
            "linecolor": "white",
            "ticks": ""
           },
           "baxis": {
            "gridcolor": "white",
            "linecolor": "white",
            "ticks": ""
           },
           "bgcolor": "#E5ECF6",
           "caxis": {
            "gridcolor": "white",
            "linecolor": "white",
            "ticks": ""
           }
          },
          "title": {
           "x": 0.05
          },
          "xaxis": {
           "automargin": true,
           "gridcolor": "white",
           "linecolor": "white",
           "ticks": "",
           "title": {
            "standoff": 15
           },
           "zerolinecolor": "white",
           "zerolinewidth": 2
          },
          "yaxis": {
           "automargin": true,
           "gridcolor": "white",
           "linecolor": "white",
           "ticks": "",
           "title": {
            "standoff": 15
           },
           "zerolinecolor": "white",
           "zerolinewidth": 2
          }
         }
        },
        "xaxis": {
         "gridcolor": "black",
         "range": [
          0,
          1.2
         ],
         "ticktext": [
          "Not Religious",
          "Religious"
         ],
         "tickvals": [
          0,
          1
         ]
        },
        "yaxis": {
         "linecolor": "black",
         "range": [
          0,
          1
         ],
         "showgrid": false,
         "tickvals": [
          0,
          1
         ]
        }
       }
      }
     },
     "metadata": {}
    }
   ],
   "source": [
    "fig = go.Figure()\n",
    "\n",
    "countries = list(np.unique(df_melted.Country))\n",
    "for country in countries:\n",
    "    df_country = df_melted.loc[df_melted.Country == country]\n",
    "    fig.add_trace(\n",
    "        go.Scatter(\n",
    "            x = df_country.Religious, \n",
    "            y = df_country.Acceptance,\n",
    "            mode = 'lines',\n",
    "            line = {'color': 'grey'},\n",
    "            showlegend = False)\n",
    "    )\n",
    "\n",
    "df_sk = df_melted.loc[df_melted.Country == 'South Korea']\n",
    "fig.add_trace(\n",
    "    go.Scatter(\n",
    "        x = df_sk.Religious, \n",
    "        y = df_sk.Acceptance,\n",
    "        mode = 'lines',\n",
    "        line = {'color': 'red', 'width': 5},\n",
    "        showlegend = False)\n",
    ")\n",
    "\n",
    "fig.update_layout(\n",
    "    xaxis = {'tickvals': [0,1], 'ticktext': ['Not Religious', 'Religious'], 'range': (0,1.2), 'gridcolor': 'black'},\n",
    "    yaxis = {'tickvals': [0,1], 'range': (0,1), 'showgrid': False, 'linecolor': 'black'},\n",
    "    paper_bgcolor='rgba(0,0,0,0)', \n",
    "    plot_bgcolor='rgba(0,0,0,0)')\n",
    "fig.show()"
   ]
  },
  {
   "cell_type": "code",
   "execution_count": 14,
   "metadata": {
    "tags": []
   },
   "outputs": [
    {
     "output_type": "display_data",
     "data": {
      "text/plain": "<Waffle size 576x576 with 1 Axes>",
      "image/svg+xml": "<?xml version=\"1.0\" encoding=\"utf-8\" standalone=\"no\"?>\n<!DOCTYPE svg PUBLIC \"-//W3C//DTD SVG 1.1//EN\"\n  \"http://www.w3.org/Graphics/SVG/1.1/DTD/svg11.dtd\">\n<!-- Created with matplotlib (https://matplotlib.org/) -->\n<svg height=\"567.144683pt\" version=\"1.1\" viewBox=\"0 0 490.217587 567.144683\" width=\"490.217587pt\" xmlns=\"http://www.w3.org/2000/svg\" xmlns:xlink=\"http://www.w3.org/1999/xlink\">\n <defs>\n  <style type=\"text/css\">\n*{stroke-linecap:butt;stroke-linejoin:round;}\n  </style>\n </defs>\n <g id=\"figure_1\">\n  <g id=\"patch_1\">\n   <path d=\"M 0 567.144683 \nL 490.217587 567.144683 \nL 490.217587 0 \nL 0 0 \nz\n\" style=\"fill:#eeeeee;\"/>\n  </g>\n  <g id=\"axes_1\">\n   <g id=\"patch_2\">\n    <path clip-path=\"url(#p557f1d3ff2)\" d=\"M 30.103125 537.96975 \nL 64.15174 537.96975 \nL 64.15174 503.921135 \nL 30.103125 503.921135 \nz\n\" style=\"fill:#2196f3;stroke:#2196f3;stroke-linejoin:miter;\"/>\n   </g>\n   <g id=\"patch_3\">\n    <path clip-path=\"url(#p557f1d3ff2)\" d=\"M 30.103125 497.111412 \nL 64.15174 497.111412 \nL 64.15174 463.062797 \nL 30.103125 463.062797 \nz\n\" style=\"fill:#2196f3;stroke:#2196f3;stroke-linejoin:miter;\"/>\n   </g>\n   <g id=\"patch_4\">\n    <path clip-path=\"url(#p557f1d3ff2)\" d=\"M 30.103125 456.253074 \nL 64.15174 456.253074 \nL 64.15174 422.204459 \nL 30.103125 422.204459 \nz\n\" style=\"fill:#2196f3;stroke:#2196f3;stroke-linejoin:miter;\"/>\n   </g>\n   <g id=\"patch_5\">\n    <path clip-path=\"url(#p557f1d3ff2)\" d=\"M 30.103125 415.394736 \nL 64.15174 415.394736 \nL 64.15174 381.346121 \nL 30.103125 381.346121 \nz\n\" style=\"fill:#2196f3;stroke:#2196f3;stroke-linejoin:miter;\"/>\n   </g>\n   <g id=\"patch_6\">\n    <path clip-path=\"url(#p557f1d3ff2)\" d=\"M 30.103125 374.536398 \nL 64.15174 374.536398 \nL 64.15174 340.487783 \nL 30.103125 340.487783 \nz\n\" style=\"fill:#2196f3;stroke:#2196f3;stroke-linejoin:miter;\"/>\n   </g>\n   <g id=\"patch_7\">\n    <path clip-path=\"url(#p557f1d3ff2)\" d=\"M 30.103125 333.67806 \nL 64.15174 333.67806 \nL 64.15174 299.629445 \nL 30.103125 299.629445 \nz\n\" style=\"fill:#2196f3;stroke:#2196f3;stroke-linejoin:miter;\"/>\n   </g>\n   <g id=\"patch_8\">\n    <path clip-path=\"url(#p557f1d3ff2)\" d=\"M 30.103125 292.819722 \nL 64.15174 292.819722 \nL 64.15174 258.771108 \nL 30.103125 258.771108 \nz\n\" style=\"fill:#2196f3;stroke:#2196f3;stroke-linejoin:miter;\"/>\n   </g>\n   <g id=\"patch_9\">\n    <path clip-path=\"url(#p557f1d3ff2)\" d=\"M 30.103125 251.961385 \nL 64.15174 251.961385 \nL 64.15174 217.91277 \nL 30.103125 217.91277 \nz\n\" style=\"fill:#2196f3;stroke:#2196f3;stroke-linejoin:miter;\"/>\n   </g>\n   <g id=\"patch_10\">\n    <path clip-path=\"url(#p557f1d3ff2)\" d=\"M 30.103125 211.103047 \nL 64.15174 211.103047 \nL 64.15174 177.054432 \nL 30.103125 177.054432 \nz\n\" style=\"fill:#2196f3;stroke:#2196f3;stroke-linejoin:miter;\"/>\n   </g>\n   <g id=\"patch_11\">\n    <path clip-path=\"url(#p557f1d3ff2)\" d=\"M 30.103125 170.244709 \nL 64.15174 170.244709 \nL 64.15174 136.196094 \nL 30.103125 136.196094 \nz\n\" style=\"fill:#2196f3;stroke:#2196f3;stroke-linejoin:miter;\"/>\n   </g>\n   <g id=\"patch_12\">\n    <path clip-path=\"url(#p557f1d3ff2)\" d=\"M 70.961463 537.96975 \nL 105.010078 537.96975 \nL 105.010078 503.921135 \nL 70.961463 503.921135 \nz\n\" style=\"fill:#2196f3;stroke:#2196f3;stroke-linejoin:miter;\"/>\n   </g>\n   <g id=\"patch_13\">\n    <path clip-path=\"url(#p557f1d3ff2)\" d=\"M 70.961463 497.111412 \nL 105.010078 497.111412 \nL 105.010078 463.062797 \nL 70.961463 463.062797 \nz\n\" style=\"fill:#2196f3;stroke:#2196f3;stroke-linejoin:miter;\"/>\n   </g>\n   <g id=\"patch_14\">\n    <path clip-path=\"url(#p557f1d3ff2)\" d=\"M 70.961463 456.253074 \nL 105.010078 456.253074 \nL 105.010078 422.204459 \nL 70.961463 422.204459 \nz\n\" style=\"fill:#2196f3;stroke:#2196f3;stroke-linejoin:miter;\"/>\n   </g>\n   <g id=\"patch_15\">\n    <path clip-path=\"url(#p557f1d3ff2)\" d=\"M 70.961463 415.394736 \nL 105.010078 415.394736 \nL 105.010078 381.346121 \nL 70.961463 381.346121 \nz\n\" style=\"fill:#2196f3;stroke:#2196f3;stroke-linejoin:miter;\"/>\n   </g>\n   <g id=\"patch_16\">\n    <path clip-path=\"url(#p557f1d3ff2)\" d=\"M 70.961463 374.536398 \nL 105.010078 374.536398 \nL 105.010078 340.487783 \nL 70.961463 340.487783 \nz\n\" style=\"fill:#2196f3;stroke:#2196f3;stroke-linejoin:miter;\"/>\n   </g>\n   <g id=\"patch_17\">\n    <path clip-path=\"url(#p557f1d3ff2)\" d=\"M 70.961463 333.67806 \nL 105.010078 333.67806 \nL 105.010078 299.629445 \nL 70.961463 299.629445 \nz\n\" style=\"fill:#2196f3;stroke:#2196f3;stroke-linejoin:miter;\"/>\n   </g>\n   <g id=\"patch_18\">\n    <path clip-path=\"url(#p557f1d3ff2)\" d=\"M 70.961463 292.819722 \nL 105.010078 292.819722 \nL 105.010078 258.771108 \nL 70.961463 258.771108 \nz\n\" style=\"fill:#2196f3;stroke:#2196f3;stroke-linejoin:miter;\"/>\n   </g>\n   <g id=\"patch_19\">\n    <path clip-path=\"url(#p557f1d3ff2)\" d=\"M 70.961463 251.961385 \nL 105.010078 251.961385 \nL 105.010078 217.91277 \nL 70.961463 217.91277 \nz\n\" style=\"fill:#2196f3;stroke:#2196f3;stroke-linejoin:miter;\"/>\n   </g>\n   <g id=\"patch_20\">\n    <path clip-path=\"url(#p557f1d3ff2)\" d=\"M 70.961463 211.103047 \nL 105.010078 211.103047 \nL 105.010078 177.054432 \nL 70.961463 177.054432 \nz\n\" style=\"fill:#2196f3;stroke:#2196f3;stroke-linejoin:miter;\"/>\n   </g>\n   <g id=\"patch_21\">\n    <path clip-path=\"url(#p557f1d3ff2)\" d=\"M 70.961463 170.244709 \nL 105.010078 170.244709 \nL 105.010078 136.196094 \nL 70.961463 136.196094 \nz\n\" style=\"fill:#2196f3;stroke:#2196f3;stroke-linejoin:miter;\"/>\n   </g>\n   <g id=\"patch_22\">\n    <path clip-path=\"url(#p557f1d3ff2)\" d=\"M 111.819801 537.96975 \nL 145.868416 537.96975 \nL 145.868416 503.921135 \nL 111.819801 503.921135 \nz\n\" style=\"fill:#2196f3;stroke:#2196f3;stroke-linejoin:miter;\"/>\n   </g>\n   <g id=\"patch_23\">\n    <path clip-path=\"url(#p557f1d3ff2)\" d=\"M 111.819801 497.111412 \nL 145.868416 497.111412 \nL 145.868416 463.062797 \nL 111.819801 463.062797 \nz\n\" style=\"fill:#2196f3;stroke:#2196f3;stroke-linejoin:miter;\"/>\n   </g>\n   <g id=\"patch_24\">\n    <path clip-path=\"url(#p557f1d3ff2)\" d=\"M 111.819801 456.253074 \nL 145.868416 456.253074 \nL 145.868416 422.204459 \nL 111.819801 422.204459 \nz\n\" style=\"fill:#ffffff;stroke:#ffffff;stroke-linejoin:miter;\"/>\n   </g>\n   <g id=\"patch_25\">\n    <path clip-path=\"url(#p557f1d3ff2)\" d=\"M 111.819801 415.394736 \nL 145.868416 415.394736 \nL 145.868416 381.346121 \nL 111.819801 381.346121 \nz\n\" style=\"fill:#ffffff;stroke:#ffffff;stroke-linejoin:miter;\"/>\n   </g>\n   <g id=\"patch_26\">\n    <path clip-path=\"url(#p557f1d3ff2)\" d=\"M 111.819801 374.536398 \nL 145.868416 374.536398 \nL 145.868416 340.487783 \nL 111.819801 340.487783 \nz\n\" style=\"fill:#ffffff;stroke:#ffffff;stroke-linejoin:miter;\"/>\n   </g>\n   <g id=\"patch_27\">\n    <path clip-path=\"url(#p557f1d3ff2)\" d=\"M 111.819801 333.67806 \nL 145.868416 333.67806 \nL 145.868416 299.629445 \nL 111.819801 299.629445 \nz\n\" style=\"fill:#ffffff;stroke:#ffffff;stroke-linejoin:miter;\"/>\n   </g>\n   <g id=\"patch_28\">\n    <path clip-path=\"url(#p557f1d3ff2)\" d=\"M 111.819801 292.819722 \nL 145.868416 292.819722 \nL 145.868416 258.771108 \nL 111.819801 258.771108 \nz\n\" style=\"fill:#ffffff;stroke:#ffffff;stroke-linejoin:miter;\"/>\n   </g>\n   <g id=\"patch_29\">\n    <path clip-path=\"url(#p557f1d3ff2)\" d=\"M 111.819801 251.961385 \nL 145.868416 251.961385 \nL 145.868416 217.91277 \nL 111.819801 217.91277 \nz\n\" style=\"fill:#ffffff;stroke:#ffffff;stroke-linejoin:miter;\"/>\n   </g>\n   <g id=\"patch_30\">\n    <path clip-path=\"url(#p557f1d3ff2)\" d=\"M 111.819801 211.103047 \nL 145.868416 211.103047 \nL 145.868416 177.054432 \nL 111.819801 177.054432 \nz\n\" style=\"fill:#ffffff;stroke:#ffffff;stroke-linejoin:miter;\"/>\n   </g>\n   <g id=\"patch_31\">\n    <path clip-path=\"url(#p557f1d3ff2)\" d=\"M 111.819801 170.244709 \nL 145.868416 170.244709 \nL 145.868416 136.196094 \nL 111.819801 136.196094 \nz\n\" style=\"fill:#ffffff;stroke:#ffffff;stroke-linejoin:miter;\"/>\n   </g>\n   <g id=\"patch_32\">\n    <path clip-path=\"url(#p557f1d3ff2)\" d=\"M 152.678139 537.96975 \nL 186.726754 537.96975 \nL 186.726754 503.921135 \nL 152.678139 503.921135 \nz\n\" style=\"fill:#ffffff;stroke:#ffffff;stroke-linejoin:miter;\"/>\n   </g>\n   <g id=\"patch_33\">\n    <path clip-path=\"url(#p557f1d3ff2)\" d=\"M 152.678139 497.111412 \nL 186.726754 497.111412 \nL 186.726754 463.062797 \nL 152.678139 463.062797 \nz\n\" style=\"fill:#ffffff;stroke:#ffffff;stroke-linejoin:miter;\"/>\n   </g>\n   <g id=\"patch_34\">\n    <path clip-path=\"url(#p557f1d3ff2)\" d=\"M 152.678139 456.253074 \nL 186.726754 456.253074 \nL 186.726754 422.204459 \nL 152.678139 422.204459 \nz\n\" style=\"fill:#ffffff;stroke:#ffffff;stroke-linejoin:miter;\"/>\n   </g>\n   <g id=\"patch_35\">\n    <path clip-path=\"url(#p557f1d3ff2)\" d=\"M 152.678139 415.394736 \nL 186.726754 415.394736 \nL 186.726754 381.346121 \nL 152.678139 381.346121 \nz\n\" style=\"fill:#ffffff;stroke:#ffffff;stroke-linejoin:miter;\"/>\n   </g>\n   <g id=\"patch_36\">\n    <path clip-path=\"url(#p557f1d3ff2)\" d=\"M 152.678139 374.536398 \nL 186.726754 374.536398 \nL 186.726754 340.487783 \nL 152.678139 340.487783 \nz\n\" style=\"fill:#ffffff;stroke:#ffffff;stroke-linejoin:miter;\"/>\n   </g>\n   <g id=\"patch_37\">\n    <path clip-path=\"url(#p557f1d3ff2)\" d=\"M 152.678139 333.67806 \nL 186.726754 333.67806 \nL 186.726754 299.629445 \nL 152.678139 299.629445 \nz\n\" style=\"fill:#ffffff;stroke:#ffffff;stroke-linejoin:miter;\"/>\n   </g>\n   <g id=\"patch_38\">\n    <path clip-path=\"url(#p557f1d3ff2)\" d=\"M 152.678139 292.819722 \nL 186.726754 292.819722 \nL 186.726754 258.771108 \nL 152.678139 258.771108 \nz\n\" style=\"fill:#ffffff;stroke:#ffffff;stroke-linejoin:miter;\"/>\n   </g>\n   <g id=\"patch_39\">\n    <path clip-path=\"url(#p557f1d3ff2)\" d=\"M 152.678139 251.961385 \nL 186.726754 251.961385 \nL 186.726754 217.91277 \nL 152.678139 217.91277 \nz\n\" style=\"fill:#ffffff;stroke:#ffffff;stroke-linejoin:miter;\"/>\n   </g>\n   <g id=\"patch_40\">\n    <path clip-path=\"url(#p557f1d3ff2)\" d=\"M 152.678139 211.103047 \nL 186.726754 211.103047 \nL 186.726754 177.054432 \nL 152.678139 177.054432 \nz\n\" style=\"fill:#ffffff;stroke:#ffffff;stroke-linejoin:miter;\"/>\n   </g>\n   <g id=\"patch_41\">\n    <path clip-path=\"url(#p557f1d3ff2)\" d=\"M 152.678139 170.244709 \nL 186.726754 170.244709 \nL 186.726754 136.196094 \nL 152.678139 136.196094 \nz\n\" style=\"fill:#ffffff;stroke:#ffffff;stroke-linejoin:miter;\"/>\n   </g>\n   <g id=\"patch_42\">\n    <path clip-path=\"url(#p557f1d3ff2)\" d=\"M 193.536477 537.96975 \nL 227.585092 537.96975 \nL 227.585092 503.921135 \nL 193.536477 503.921135 \nz\n\" style=\"fill:#ffffff;stroke:#ffffff;stroke-linejoin:miter;\"/>\n   </g>\n   <g id=\"patch_43\">\n    <path clip-path=\"url(#p557f1d3ff2)\" d=\"M 193.536477 497.111412 \nL 227.585092 497.111412 \nL 227.585092 463.062797 \nL 193.536477 463.062797 \nz\n\" style=\"fill:#ffffff;stroke:#ffffff;stroke-linejoin:miter;\"/>\n   </g>\n   <g id=\"patch_44\">\n    <path clip-path=\"url(#p557f1d3ff2)\" d=\"M 193.536477 456.253074 \nL 227.585092 456.253074 \nL 227.585092 422.204459 \nL 193.536477 422.204459 \nz\n\" style=\"fill:#ffffff;stroke:#ffffff;stroke-linejoin:miter;\"/>\n   </g>\n   <g id=\"patch_45\">\n    <path clip-path=\"url(#p557f1d3ff2)\" d=\"M 193.536477 415.394736 \nL 227.585092 415.394736 \nL 227.585092 381.346121 \nL 193.536477 381.346121 \nz\n\" style=\"fill:#ffffff;stroke:#ffffff;stroke-linejoin:miter;\"/>\n   </g>\n   <g id=\"patch_46\">\n    <path clip-path=\"url(#p557f1d3ff2)\" d=\"M 193.536477 374.536398 \nL 227.585092 374.536398 \nL 227.585092 340.487783 \nL 193.536477 340.487783 \nz\n\" style=\"fill:#ffffff;stroke:#ffffff;stroke-linejoin:miter;\"/>\n   </g>\n   <g id=\"patch_47\">\n    <path clip-path=\"url(#p557f1d3ff2)\" d=\"M 193.536477 333.67806 \nL 227.585092 333.67806 \nL 227.585092 299.629445 \nL 193.536477 299.629445 \nz\n\" style=\"fill:#ffffff;stroke:#ffffff;stroke-linejoin:miter;\"/>\n   </g>\n   <g id=\"patch_48\">\n    <path clip-path=\"url(#p557f1d3ff2)\" d=\"M 193.536477 292.819722 \nL 227.585092 292.819722 \nL 227.585092 258.771108 \nL 193.536477 258.771108 \nz\n\" style=\"fill:#ffffff;stroke:#ffffff;stroke-linejoin:miter;\"/>\n   </g>\n   <g id=\"patch_49\">\n    <path clip-path=\"url(#p557f1d3ff2)\" d=\"M 193.536477 251.961385 \nL 227.585092 251.961385 \nL 227.585092 217.91277 \nL 193.536477 217.91277 \nz\n\" style=\"fill:#ffffff;stroke:#ffffff;stroke-linejoin:miter;\"/>\n   </g>\n   <g id=\"patch_50\">\n    <path clip-path=\"url(#p557f1d3ff2)\" d=\"M 193.536477 211.103047 \nL 227.585092 211.103047 \nL 227.585092 177.054432 \nL 193.536477 177.054432 \nz\n\" style=\"fill:#ffffff;stroke:#ffffff;stroke-linejoin:miter;\"/>\n   </g>\n   <g id=\"patch_51\">\n    <path clip-path=\"url(#p557f1d3ff2)\" d=\"M 193.536477 170.244709 \nL 227.585092 170.244709 \nL 227.585092 136.196094 \nL 193.536477 136.196094 \nz\n\" style=\"fill:#ffffff;stroke:#ffffff;stroke-linejoin:miter;\"/>\n   </g>\n   <g id=\"patch_52\">\n    <path clip-path=\"url(#p557f1d3ff2)\" d=\"M 234.394815 537.96975 \nL 268.44343 537.96975 \nL 268.44343 503.921135 \nL 234.394815 503.921135 \nz\n\" style=\"fill:#ffffff;stroke:#ffffff;stroke-linejoin:miter;\"/>\n   </g>\n   <g id=\"patch_53\">\n    <path clip-path=\"url(#p557f1d3ff2)\" d=\"M 234.394815 497.111412 \nL 268.44343 497.111412 \nL 268.44343 463.062797 \nL 234.394815 463.062797 \nz\n\" style=\"fill:#ffffff;stroke:#ffffff;stroke-linejoin:miter;\"/>\n   </g>\n   <g id=\"patch_54\">\n    <path clip-path=\"url(#p557f1d3ff2)\" d=\"M 234.394815 456.253074 \nL 268.44343 456.253074 \nL 268.44343 422.204459 \nL 234.394815 422.204459 \nz\n\" style=\"fill:#ffffff;stroke:#ffffff;stroke-linejoin:miter;\"/>\n   </g>\n   <g id=\"patch_55\">\n    <path clip-path=\"url(#p557f1d3ff2)\" d=\"M 234.394815 415.394736 \nL 268.44343 415.394736 \nL 268.44343 381.346121 \nL 234.394815 381.346121 \nz\n\" style=\"fill:#ffffff;stroke:#ffffff;stroke-linejoin:miter;\"/>\n   </g>\n   <g id=\"patch_56\">\n    <path clip-path=\"url(#p557f1d3ff2)\" d=\"M 234.394815 374.536398 \nL 268.44343 374.536398 \nL 268.44343 340.487783 \nL 234.394815 340.487783 \nz\n\" style=\"fill:#ffffff;stroke:#ffffff;stroke-linejoin:miter;\"/>\n   </g>\n   <g id=\"patch_57\">\n    <path clip-path=\"url(#p557f1d3ff2)\" d=\"M 234.394815 333.67806 \nL 268.44343 333.67806 \nL 268.44343 299.629445 \nL 234.394815 299.629445 \nz\n\" style=\"fill:#ffffff;stroke:#ffffff;stroke-linejoin:miter;\"/>\n   </g>\n   <g id=\"patch_58\">\n    <path clip-path=\"url(#p557f1d3ff2)\" d=\"M 234.394815 292.819722 \nL 268.44343 292.819722 \nL 268.44343 258.771108 \nL 234.394815 258.771108 \nz\n\" style=\"fill:#ffffff;stroke:#ffffff;stroke-linejoin:miter;\"/>\n   </g>\n   <g id=\"patch_59\">\n    <path clip-path=\"url(#p557f1d3ff2)\" d=\"M 234.394815 251.961385 \nL 268.44343 251.961385 \nL 268.44343 217.91277 \nL 234.394815 217.91277 \nz\n\" style=\"fill:#ffffff;stroke:#ffffff;stroke-linejoin:miter;\"/>\n   </g>\n   <g id=\"patch_60\">\n    <path clip-path=\"url(#p557f1d3ff2)\" d=\"M 234.394815 211.103047 \nL 268.44343 211.103047 \nL 268.44343 177.054432 \nL 234.394815 177.054432 \nz\n\" style=\"fill:#ffffff;stroke:#ffffff;stroke-linejoin:miter;\"/>\n   </g>\n   <g id=\"patch_61\">\n    <path clip-path=\"url(#p557f1d3ff2)\" d=\"M 234.394815 170.244709 \nL 268.44343 170.244709 \nL 268.44343 136.196094 \nL 234.394815 136.196094 \nz\n\" style=\"fill:#ffffff;stroke:#ffffff;stroke-linejoin:miter;\"/>\n   </g>\n   <g id=\"patch_62\">\n    <path clip-path=\"url(#p557f1d3ff2)\" d=\"M 275.253153 537.96975 \nL 309.301767 537.96975 \nL 309.301767 503.921135 \nL 275.253153 503.921135 \nz\n\" style=\"fill:#ffffff;stroke:#ffffff;stroke-linejoin:miter;\"/>\n   </g>\n   <g id=\"patch_63\">\n    <path clip-path=\"url(#p557f1d3ff2)\" d=\"M 275.253153 497.111412 \nL 309.301767 497.111412 \nL 309.301767 463.062797 \nL 275.253153 463.062797 \nz\n\" style=\"fill:#ffffff;stroke:#ffffff;stroke-linejoin:miter;\"/>\n   </g>\n   <g id=\"patch_64\">\n    <path clip-path=\"url(#p557f1d3ff2)\" d=\"M 275.253153 456.253074 \nL 309.301767 456.253074 \nL 309.301767 422.204459 \nL 275.253153 422.204459 \nz\n\" style=\"fill:#eeeeee;stroke:#eeeeee;stroke-linejoin:miter;\"/>\n   </g>\n   <g id=\"patch_65\">\n    <path clip-path=\"url(#p557f1d3ff2)\" d=\"M 275.253153 415.394736 \nL 309.301767 415.394736 \nL 309.301767 381.346121 \nL 275.253153 381.346121 \nz\n\" style=\"fill:#eeeeee;stroke:#eeeeee;stroke-linejoin:miter;\"/>\n   </g>\n   <g id=\"patch_66\">\n    <path clip-path=\"url(#p557f1d3ff2)\" d=\"M 275.253153 374.536398 \nL 309.301767 374.536398 \nL 309.301767 340.487783 \nL 275.253153 340.487783 \nz\n\" style=\"fill:#eeeeee;stroke:#eeeeee;stroke-linejoin:miter;\"/>\n   </g>\n   <g id=\"patch_67\">\n    <path clip-path=\"url(#p557f1d3ff2)\" d=\"M 275.253153 333.67806 \nL 309.301767 333.67806 \nL 309.301767 299.629445 \nL 275.253153 299.629445 \nz\n\" style=\"fill:#eeeeee;stroke:#eeeeee;stroke-linejoin:miter;\"/>\n   </g>\n   <g id=\"patch_68\">\n    <path clip-path=\"url(#p557f1d3ff2)\" d=\"M 275.253153 292.819722 \nL 309.301767 292.819722 \nL 309.301767 258.771108 \nL 275.253153 258.771108 \nz\n\" style=\"fill:#eeeeee;stroke:#eeeeee;stroke-linejoin:miter;\"/>\n   </g>\n   <g id=\"patch_69\">\n    <path clip-path=\"url(#p557f1d3ff2)\" d=\"M 275.253153 251.961385 \nL 309.301767 251.961385 \nL 309.301767 217.91277 \nL 275.253153 217.91277 \nz\n\" style=\"fill:#eeeeee;stroke:#eeeeee;stroke-linejoin:miter;\"/>\n   </g>\n   <g id=\"patch_70\">\n    <path clip-path=\"url(#p557f1d3ff2)\" d=\"M 275.253153 211.103047 \nL 309.301767 211.103047 \nL 309.301767 177.054432 \nL 275.253153 177.054432 \nz\n\" style=\"fill:#eeeeee;stroke:#eeeeee;stroke-linejoin:miter;\"/>\n   </g>\n   <g id=\"patch_71\">\n    <path clip-path=\"url(#p557f1d3ff2)\" d=\"M 275.253153 170.244709 \nL 309.301767 170.244709 \nL 309.301767 136.196094 \nL 275.253153 136.196094 \nz\n\" style=\"fill:#eeeeee;stroke:#eeeeee;stroke-linejoin:miter;\"/>\n   </g>\n   <g id=\"patch_72\">\n    <path clip-path=\"url(#p557f1d3ff2)\" d=\"M 316.11149 537.96975 \nL 350.160105 537.96975 \nL 350.160105 503.921135 \nL 316.11149 503.921135 \nz\n\" style=\"fill:#eeeeee;stroke:#eeeeee;stroke-linejoin:miter;\"/>\n   </g>\n   <g id=\"patch_73\">\n    <path clip-path=\"url(#p557f1d3ff2)\" d=\"M 316.11149 497.111412 \nL 350.160105 497.111412 \nL 350.160105 463.062797 \nL 316.11149 463.062797 \nz\n\" style=\"fill:#eeeeee;stroke:#eeeeee;stroke-linejoin:miter;\"/>\n   </g>\n   <g id=\"patch_74\">\n    <path clip-path=\"url(#p557f1d3ff2)\" d=\"M 316.11149 456.253074 \nL 350.160105 456.253074 \nL 350.160105 422.204459 \nL 316.11149 422.204459 \nz\n\" style=\"fill:#eeeeee;stroke:#eeeeee;stroke-linejoin:miter;\"/>\n   </g>\n   <g id=\"patch_75\">\n    <path clip-path=\"url(#p557f1d3ff2)\" d=\"M 316.11149 415.394736 \nL 350.160105 415.394736 \nL 350.160105 381.346121 \nL 316.11149 381.346121 \nz\n\" style=\"fill:#eeeeee;stroke:#eeeeee;stroke-linejoin:miter;\"/>\n   </g>\n   <g id=\"patch_76\">\n    <path clip-path=\"url(#p557f1d3ff2)\" d=\"M 316.11149 374.536398 \nL 350.160105 374.536398 \nL 350.160105 340.487783 \nL 316.11149 340.487783 \nz\n\" style=\"fill:#eeeeee;stroke:#eeeeee;stroke-linejoin:miter;\"/>\n   </g>\n   <g id=\"patch_77\">\n    <path clip-path=\"url(#p557f1d3ff2)\" d=\"M 316.11149 333.67806 \nL 350.160105 333.67806 \nL 350.160105 299.629445 \nL 316.11149 299.629445 \nz\n\" style=\"fill:#eeeeee;stroke:#eeeeee;stroke-linejoin:miter;\"/>\n   </g>\n   <g id=\"patch_78\">\n    <path clip-path=\"url(#p557f1d3ff2)\" d=\"M 316.11149 292.819722 \nL 350.160105 292.819722 \nL 350.160105 258.771108 \nL 316.11149 258.771108 \nz\n\" style=\"fill:#eeeeee;stroke:#eeeeee;stroke-linejoin:miter;\"/>\n   </g>\n   <g id=\"patch_79\">\n    <path clip-path=\"url(#p557f1d3ff2)\" d=\"M 316.11149 251.961385 \nL 350.160105 251.961385 \nL 350.160105 217.91277 \nL 316.11149 217.91277 \nz\n\" style=\"fill:#eeeeee;stroke:#eeeeee;stroke-linejoin:miter;\"/>\n   </g>\n   <g id=\"patch_80\">\n    <path clip-path=\"url(#p557f1d3ff2)\" d=\"M 316.11149 211.103047 \nL 350.160105 211.103047 \nL 350.160105 177.054432 \nL 316.11149 177.054432 \nz\n\" style=\"fill:#eeeeee;stroke:#eeeeee;stroke-linejoin:miter;\"/>\n   </g>\n   <g id=\"patch_81\">\n    <path clip-path=\"url(#p557f1d3ff2)\" d=\"M 316.11149 170.244709 \nL 350.160105 170.244709 \nL 350.160105 136.196094 \nL 316.11149 136.196094 \nz\n\" style=\"fill:#eeeeee;stroke:#eeeeee;stroke-linejoin:miter;\"/>\n   </g>\n   <g id=\"patch_82\">\n    <path clip-path=\"url(#p557f1d3ff2)\" d=\"M 356.969828 537.96975 \nL 391.018443 537.96975 \nL 391.018443 503.921135 \nL 356.969828 503.921135 \nz\n\" style=\"fill:#eeeeee;stroke:#eeeeee;stroke-linejoin:miter;\"/>\n   </g>\n   <g id=\"patch_83\">\n    <path clip-path=\"url(#p557f1d3ff2)\" d=\"M 356.969828 497.111412 \nL 391.018443 497.111412 \nL 391.018443 463.062797 \nL 356.969828 463.062797 \nz\n\" style=\"fill:#eeeeee;stroke:#eeeeee;stroke-linejoin:miter;\"/>\n   </g>\n   <g id=\"patch_84\">\n    <path clip-path=\"url(#p557f1d3ff2)\" d=\"M 356.969828 456.253074 \nL 391.018443 456.253074 \nL 391.018443 422.204459 \nL 356.969828 422.204459 \nz\n\" style=\"fill:#eeeeee;stroke:#eeeeee;stroke-linejoin:miter;\"/>\n   </g>\n   <g id=\"patch_85\">\n    <path clip-path=\"url(#p557f1d3ff2)\" d=\"M 356.969828 415.394736 \nL 391.018443 415.394736 \nL 391.018443 381.346121 \nL 356.969828 381.346121 \nz\n\" style=\"fill:#eeeeee;stroke:#eeeeee;stroke-linejoin:miter;\"/>\n   </g>\n   <g id=\"patch_86\">\n    <path clip-path=\"url(#p557f1d3ff2)\" d=\"M 356.969828 374.536398 \nL 391.018443 374.536398 \nL 391.018443 340.487783 \nL 356.969828 340.487783 \nz\n\" style=\"fill:#eeeeee;stroke:#eeeeee;stroke-linejoin:miter;\"/>\n   </g>\n   <g id=\"patch_87\">\n    <path clip-path=\"url(#p557f1d3ff2)\" d=\"M 356.969828 333.67806 \nL 391.018443 333.67806 \nL 391.018443 299.629445 \nL 356.969828 299.629445 \nz\n\" style=\"fill:#eeeeee;stroke:#eeeeee;stroke-linejoin:miter;\"/>\n   </g>\n   <g id=\"patch_88\">\n    <path clip-path=\"url(#p557f1d3ff2)\" d=\"M 356.969828 292.819722 \nL 391.018443 292.819722 \nL 391.018443 258.771108 \nL 356.969828 258.771108 \nz\n\" style=\"fill:#eeeeee;stroke:#eeeeee;stroke-linejoin:miter;\"/>\n   </g>\n   <g id=\"patch_89\">\n    <path clip-path=\"url(#p557f1d3ff2)\" d=\"M 356.969828 251.961385 \nL 391.018443 251.961385 \nL 391.018443 217.91277 \nL 356.969828 217.91277 \nz\n\" style=\"fill:#eeeeee;stroke:#eeeeee;stroke-linejoin:miter;\"/>\n   </g>\n   <g id=\"patch_90\">\n    <path clip-path=\"url(#p557f1d3ff2)\" d=\"M 356.969828 211.103047 \nL 391.018443 211.103047 \nL 391.018443 177.054432 \nL 356.969828 177.054432 \nz\n\" style=\"fill:#eeeeee;stroke:#eeeeee;stroke-linejoin:miter;\"/>\n   </g>\n   <g id=\"patch_91\">\n    <path clip-path=\"url(#p557f1d3ff2)\" d=\"M 356.969828 170.244709 \nL 391.018443 170.244709 \nL 391.018443 136.196094 \nL 356.969828 136.196094 \nz\n\" style=\"fill:#eeeeee;stroke:#eeeeee;stroke-linejoin:miter;\"/>\n   </g>\n   <g id=\"patch_92\">\n    <path clip-path=\"url(#p557f1d3ff2)\" d=\"M 397.828166 537.96975 \nL 431.876781 537.96975 \nL 431.876781 503.921135 \nL 397.828166 503.921135 \nz\n\" style=\"fill:#eeeeee;stroke:#eeeeee;stroke-linejoin:miter;\"/>\n   </g>\n   <g id=\"patch_93\">\n    <path clip-path=\"url(#p557f1d3ff2)\" d=\"M 397.828166 497.111412 \nL 431.876781 497.111412 \nL 431.876781 463.062797 \nL 397.828166 463.062797 \nz\n\" style=\"fill:#eeeeee;stroke:#eeeeee;stroke-linejoin:miter;\"/>\n   </g>\n   <g id=\"patch_94\">\n    <path clip-path=\"url(#p557f1d3ff2)\" d=\"M 397.828166 456.253074 \nL 431.876781 456.253074 \nL 431.876781 422.204459 \nL 397.828166 422.204459 \nz\n\" style=\"fill:#eeeeee;stroke:#eeeeee;stroke-linejoin:miter;\"/>\n   </g>\n   <g id=\"patch_95\">\n    <path clip-path=\"url(#p557f1d3ff2)\" d=\"M 397.828166 415.394736 \nL 431.876781 415.394736 \nL 431.876781 381.346121 \nL 397.828166 381.346121 \nz\n\" style=\"fill:#eeeeee;stroke:#eeeeee;stroke-linejoin:miter;\"/>\n   </g>\n   <g id=\"patch_96\">\n    <path clip-path=\"url(#p557f1d3ff2)\" d=\"M 397.828166 374.536398 \nL 431.876781 374.536398 \nL 431.876781 340.487783 \nL 397.828166 340.487783 \nz\n\" style=\"fill:#eeeeee;stroke:#eeeeee;stroke-linejoin:miter;\"/>\n   </g>\n   <g id=\"patch_97\">\n    <path clip-path=\"url(#p557f1d3ff2)\" d=\"M 397.828166 333.67806 \nL 431.876781 333.67806 \nL 431.876781 299.629445 \nL 397.828166 299.629445 \nz\n\" style=\"fill:#eeeeee;stroke:#eeeeee;stroke-linejoin:miter;\"/>\n   </g>\n   <g id=\"patch_98\">\n    <path clip-path=\"url(#p557f1d3ff2)\" d=\"M 397.828166 292.819722 \nL 431.876781 292.819722 \nL 431.876781 258.771108 \nL 397.828166 258.771108 \nz\n\" style=\"fill:#eeeeee;stroke:#eeeeee;stroke-linejoin:miter;\"/>\n   </g>\n   <g id=\"patch_99\">\n    <path clip-path=\"url(#p557f1d3ff2)\" d=\"M 397.828166 251.961385 \nL 431.876781 251.961385 \nL 431.876781 217.91277 \nL 397.828166 217.91277 \nz\n\" style=\"fill:#eeeeee;stroke:#eeeeee;stroke-linejoin:miter;\"/>\n   </g>\n   <g id=\"patch_100\">\n    <path clip-path=\"url(#p557f1d3ff2)\" d=\"M 397.828166 211.103047 \nL 431.876781 211.103047 \nL 431.876781 177.054432 \nL 397.828166 177.054432 \nz\n\" style=\"fill:#eeeeee;stroke:#eeeeee;stroke-linejoin:miter;\"/>\n   </g>\n   <g id=\"patch_101\">\n    <path clip-path=\"url(#p557f1d3ff2)\" d=\"M 397.828166 170.244709 \nL 431.876781 170.244709 \nL 431.876781 136.196094 \nL 397.828166 136.196094 \nz\n\" style=\"fill:#eeeeee;stroke:#eeeeee;stroke-linejoin:miter;\"/>\n   </g>\n   <g id=\"text_1\">\n    <!-- % who say homosexuality should be accepted by society -->\n    <defs>\n     <path d=\"M 77.484375 30.078125 \nQ 74.03125 30.078125 72.125 27.078125 \nQ 70.21875 24.078125 70.21875 18.5 \nQ 70.21875 12.890625 72.09375 9.890625 \nQ 73.96875 6.890625 77.484375 6.890625 \nQ 81 6.890625 82.859375 9.890625 \nQ 84.71875 12.890625 84.71875 18.5 \nQ 84.71875 24.078125 82.828125 27.078125 \nQ 80.953125 30.078125 77.484375 30.078125 \nz\nM 77.484375 38.28125 \nQ 86.578125 38.28125 91.796875 33 \nQ 97.015625 27.734375 97.015625 18.5 \nQ 97.015625 9.28125 91.796875 3.921875 \nQ 86.578125 -1.421875 77.484375 -1.421875 \nQ 68.40625 -1.421875 63.15625 3.921875 \nQ 57.90625 9.28125 57.90625 18.5 \nQ 57.90625 27.6875 63.15625 32.984375 \nQ 68.40625 38.28125 77.484375 38.28125 \nz\nM 32.71875 -1.421875 \nL 21.921875 -1.421875 \nL 67.484375 74.21875 \nL 78.328125 74.21875 \nz\nM 22.703125 74.21875 \nQ 31.78125 74.21875 36.984375 68.921875 \nQ 42.1875 63.625 42.1875 54.390625 \nQ 42.1875 45.171875 36.984375 39.84375 \nQ 31.78125 34.515625 22.703125 34.515625 \nQ 13.625 34.515625 8.421875 39.84375 \nQ 3.21875 45.171875 3.21875 54.390625 \nQ 3.21875 63.625 8.421875 68.921875 \nQ 13.625 74.21875 22.703125 74.21875 \nz\nM 22.703125 66.015625 \nQ 19.1875 66.015625 17.28125 62.984375 \nQ 15.375 59.96875 15.375 54.390625 \nQ 15.375 48.78125 17.28125 45.71875 \nQ 19.1875 42.671875 22.703125 42.671875 \nQ 26.21875 42.671875 28.09375 45.71875 \nQ 29.984375 48.78125 29.984375 54.390625 \nQ 29.984375 59.96875 28.078125 62.984375 \nQ 26.171875 66.015625 22.703125 66.015625 \nz\n\" id=\"DejaVuSans-Bold-37\"/>\n     <path id=\"DejaVuSans-Bold-32\"/>\n     <path d=\"M 3.515625 54.6875 \nL 20.515625 54.6875 \nL 29.6875 17 \nL 38.921875 54.6875 \nL 53.515625 54.6875 \nL 62.703125 17.390625 \nL 71.921875 54.6875 \nL 88.921875 54.6875 \nL 74.515625 0 \nL 55.421875 0 \nL 46.1875 37.59375 \nL 37.015625 0 \nL 17.921875 0 \nz\n\" id=\"DejaVuSans-Bold-119\"/>\n     <path d=\"M 63.375 33.296875 \nL 63.375 0 \nL 45.796875 0 \nL 45.796875 5.421875 \nL 45.796875 25.390625 \nQ 45.796875 32.5625 45.484375 35.25 \nQ 45.171875 37.9375 44.390625 39.203125 \nQ 43.359375 40.921875 41.59375 41.875 \nQ 39.84375 42.828125 37.59375 42.828125 \nQ 32.125 42.828125 29 38.59375 \nQ 25.875 34.375 25.875 26.90625 \nL 25.875 0 \nL 8.40625 0 \nL 8.40625 75.984375 \nL 25.875 75.984375 \nL 25.875 46.6875 \nQ 29.828125 51.46875 34.265625 53.734375 \nQ 38.71875 56 44.09375 56 \nQ 53.5625 56 58.46875 50.1875 \nQ 63.375 44.390625 63.375 33.296875 \nz\n\" id=\"DejaVuSans-Bold-104\"/>\n     <path d=\"M 34.421875 43.5 \nQ 28.609375 43.5 25.5625 39.328125 \nQ 22.515625 35.15625 22.515625 27.296875 \nQ 22.515625 19.4375 25.5625 15.25 \nQ 28.609375 11.078125 34.421875 11.078125 \nQ 40.140625 11.078125 43.15625 15.25 \nQ 46.1875 19.4375 46.1875 27.296875 \nQ 46.1875 35.15625 43.15625 39.328125 \nQ 40.140625 43.5 34.421875 43.5 \nz\nM 34.421875 56 \nQ 48.53125 56 56.46875 48.375 \nQ 64.40625 40.765625 64.40625 27.296875 \nQ 64.40625 13.8125 56.46875 6.1875 \nQ 48.53125 -1.421875 34.421875 -1.421875 \nQ 20.265625 -1.421875 12.28125 6.1875 \nQ 4.296875 13.8125 4.296875 27.296875 \nQ 4.296875 40.765625 12.28125 48.375 \nQ 20.265625 56 34.421875 56 \nz\n\" id=\"DejaVuSans-Bold-111\"/>\n     <path d=\"M 51.125 52.984375 \nL 51.125 39.703125 \nQ 45.515625 42.046875 40.28125 43.21875 \nQ 35.0625 44.390625 30.421875 44.390625 \nQ 25.4375 44.390625 23.015625 43.140625 \nQ 20.609375 41.890625 20.609375 39.3125 \nQ 20.609375 37.203125 22.4375 36.078125 \nQ 24.265625 34.96875 29 34.421875 \nL 32.078125 33.984375 \nQ 45.515625 32.28125 50.140625 28.375 \nQ 54.78125 24.46875 54.78125 16.109375 \nQ 54.78125 7.375 48.328125 2.96875 \nQ 41.890625 -1.421875 29.109375 -1.421875 \nQ 23.6875 -1.421875 17.890625 -0.5625 \nQ 12.109375 0.296875 6 2 \nL 6 15.28125 \nQ 11.234375 12.75 16.71875 11.46875 \nQ 22.21875 10.203125 27.875 10.203125 \nQ 33.015625 10.203125 35.59375 11.609375 \nQ 38.1875 13.03125 38.1875 15.828125 \nQ 38.1875 18.171875 36.40625 19.3125 \nQ 34.625 20.453125 29.296875 21.09375 \nL 26.21875 21.484375 \nQ 14.546875 22.953125 9.859375 26.90625 \nQ 5.171875 30.859375 5.171875 38.921875 \nQ 5.171875 47.609375 11.125 51.796875 \nQ 17.09375 56 29.390625 56 \nQ 34.234375 56 39.546875 55.265625 \nQ 44.875 54.546875 51.125 52.984375 \nz\n\" id=\"DejaVuSans-Bold-115\"/>\n     <path d=\"M 32.90625 24.609375 \nQ 27.4375 24.609375 24.671875 22.75 \nQ 21.921875 20.90625 21.921875 17.28125 \nQ 21.921875 13.96875 24.140625 12.078125 \nQ 26.375 10.203125 30.328125 10.203125 \nQ 35.25 10.203125 38.625 13.734375 \nQ 42 17.28125 42 22.609375 \nL 42 24.609375 \nz\nM 59.625 31.203125 \nL 59.625 0 \nL 42 0 \nL 42 8.109375 \nQ 38.484375 3.125 34.078125 0.84375 \nQ 29.6875 -1.421875 23.390625 -1.421875 \nQ 14.890625 -1.421875 9.59375 3.53125 \nQ 4.296875 8.5 4.296875 16.40625 \nQ 4.296875 26.03125 10.90625 30.515625 \nQ 17.53125 35.015625 31.6875 35.015625 \nL 42 35.015625 \nL 42 36.375 \nQ 42 40.53125 38.71875 42.453125 \nQ 35.453125 44.390625 28.515625 44.390625 \nQ 22.90625 44.390625 18.0625 43.265625 \nQ 13.234375 42.140625 9.078125 39.890625 \nL 9.078125 53.21875 \nQ 14.703125 54.59375 20.359375 55.296875 \nQ 26.03125 56 31.6875 56 \nQ 46.484375 56 53.046875 50.171875 \nQ 59.625 44.34375 59.625 31.203125 \nz\n\" id=\"DejaVuSans-Bold-97\"/>\n     <path d=\"M 1.21875 54.6875 \nL 18.703125 54.6875 \nL 33.40625 17.578125 \nL 45.90625 54.6875 \nL 63.375 54.6875 \nL 40.375 -5.171875 \nQ 36.921875 -14.3125 32.296875 -17.9375 \nQ 27.6875 -21.578125 20.125 -21.578125 \nL 10.015625 -21.578125 \nL 10.015625 -10.109375 \nL 15.484375 -10.109375 \nQ 19.921875 -10.109375 21.9375 -8.6875 \nQ 23.96875 -7.28125 25.09375 -3.609375 \nL 25.59375 -2.09375 \nz\n\" id=\"DejaVuSans-Bold-121\"/>\n     <path d=\"M 59.078125 45.609375 \nQ 62.40625 50.6875 66.96875 53.34375 \nQ 71.53125 56 77 56 \nQ 86.421875 56 91.359375 50.1875 \nQ 96.296875 44.390625 96.296875 33.296875 \nL 96.296875 0 \nL 78.71875 0 \nL 78.71875 28.515625 \nQ 78.765625 29.15625 78.78125 29.828125 \nQ 78.8125 30.515625 78.8125 31.78125 \nQ 78.8125 37.59375 77.09375 40.203125 \nQ 75.390625 42.828125 71.578125 42.828125 \nQ 66.609375 42.828125 63.890625 38.71875 \nQ 61.1875 34.625 61.078125 26.859375 \nL 61.078125 0 \nL 43.5 0 \nL 43.5 28.515625 \nQ 43.5 37.59375 41.9375 40.203125 \nQ 40.375 42.828125 36.375 42.828125 \nQ 31.34375 42.828125 28.609375 38.703125 \nQ 25.875 34.578125 25.875 26.90625 \nL 25.875 0 \nL 8.296875 0 \nL 8.296875 54.6875 \nL 25.875 54.6875 \nL 25.875 46.6875 \nQ 29.109375 51.3125 33.28125 53.65625 \nQ 37.453125 56 42.484375 56 \nQ 48.140625 56 52.484375 53.265625 \nQ 56.84375 50.53125 59.078125 45.609375 \nz\n\" id=\"DejaVuSans-Bold-109\"/>\n     <path d=\"M 62.984375 27.484375 \nL 62.984375 22.515625 \nL 22.125 22.515625 \nQ 22.75 16.359375 26.5625 13.28125 \nQ 30.375 10.203125 37.203125 10.203125 \nQ 42.71875 10.203125 48.5 11.84375 \nQ 54.296875 13.484375 60.40625 16.796875 \nL 60.40625 3.328125 \nQ 54.203125 0.984375 48 -0.21875 \nQ 41.796875 -1.421875 35.59375 -1.421875 \nQ 20.75 -1.421875 12.515625 6.125 \nQ 4.296875 13.671875 4.296875 27.296875 \nQ 4.296875 40.671875 12.375 48.328125 \nQ 20.453125 56 34.625 56 \nQ 47.515625 56 55.25 48.234375 \nQ 62.984375 40.484375 62.984375 27.484375 \nz\nM 45.015625 33.296875 \nQ 45.015625 38.28125 42.109375 41.328125 \nQ 39.203125 44.390625 34.515625 44.390625 \nQ 29.4375 44.390625 26.265625 41.53125 \nQ 23.09375 38.671875 22.3125 33.296875 \nz\n\" id=\"DejaVuSans-Bold-101\"/>\n     <path d=\"M 22.21875 27.984375 \nL 2.484375 54.6875 \nL 21 54.6875 \nL 32.171875 38.484375 \nL 43.5 54.6875 \nL 62.015625 54.6875 \nL 42.28125 28.078125 \nL 62.984375 0 \nL 44.484375 0 \nL 32.171875 17.28125 \nL 20.015625 0 \nL 1.515625 0 \nz\n\" id=\"DejaVuSans-Bold-120\"/>\n     <path d=\"M 7.8125 21.296875 \nL 7.8125 54.6875 \nL 25.390625 54.6875 \nL 25.390625 49.21875 \nQ 25.390625 44.78125 25.34375 38.0625 \nQ 25.296875 31.34375 25.296875 29.109375 \nQ 25.296875 22.515625 25.640625 19.609375 \nQ 25.984375 16.703125 26.8125 15.375 \nQ 27.875 13.671875 29.609375 12.734375 \nQ 31.34375 11.8125 33.59375 11.8125 \nQ 39.0625 11.8125 42.1875 16.015625 \nQ 45.3125 20.21875 45.3125 27.6875 \nL 45.3125 54.6875 \nL 62.796875 54.6875 \nL 62.796875 0 \nL 45.3125 0 \nL 45.3125 7.90625 \nQ 41.359375 3.125 36.9375 0.84375 \nQ 32.515625 -1.421875 27.203125 -1.421875 \nQ 17.71875 -1.421875 12.765625 4.390625 \nQ 7.8125 10.203125 7.8125 21.296875 \nz\n\" id=\"DejaVuSans-Bold-117\"/>\n     <path d=\"M 8.40625 75.984375 \nL 25.875 75.984375 \nL 25.875 0 \nL 8.40625 0 \nz\n\" id=\"DejaVuSans-Bold-108\"/>\n     <path d=\"M 8.40625 54.6875 \nL 25.875 54.6875 \nL 25.875 0 \nL 8.40625 0 \nz\nM 8.40625 75.984375 \nL 25.875 75.984375 \nL 25.875 61.71875 \nL 8.40625 61.71875 \nz\n\" id=\"DejaVuSans-Bold-105\"/>\n     <path d=\"M 27.484375 70.21875 \nL 27.484375 54.6875 \nL 45.515625 54.6875 \nL 45.515625 42.1875 \nL 27.484375 42.1875 \nL 27.484375 19 \nQ 27.484375 15.1875 29 13.84375 \nQ 30.515625 12.5 35.015625 12.5 \nL 44 12.5 \nL 44 0 \nL 29 0 \nQ 18.65625 0 14.328125 4.3125 \nQ 10.015625 8.640625 10.015625 19 \nL 10.015625 42.1875 \nL 1.3125 42.1875 \nL 1.3125 54.6875 \nL 10.015625 54.6875 \nL 10.015625 70.21875 \nz\n\" id=\"DejaVuSans-Bold-116\"/>\n     <path d=\"M 45.609375 46.6875 \nL 45.609375 75.984375 \nL 63.1875 75.984375 \nL 63.1875 0 \nL 45.609375 0 \nL 45.609375 7.90625 \nQ 42 3.078125 37.640625 0.828125 \nQ 33.296875 -1.421875 27.59375 -1.421875 \nQ 17.484375 -1.421875 10.984375 6.609375 \nQ 4.5 14.65625 4.5 27.296875 \nQ 4.5 39.9375 10.984375 47.96875 \nQ 17.484375 56 27.59375 56 \nQ 33.25 56 37.625 53.734375 \nQ 42 51.46875 45.609375 46.6875 \nz\nM 34.078125 11.28125 \nQ 39.703125 11.28125 42.65625 15.375 \nQ 45.609375 19.484375 45.609375 27.296875 \nQ 45.609375 35.109375 42.65625 39.203125 \nQ 39.703125 43.3125 34.078125 43.3125 \nQ 28.515625 43.3125 25.5625 39.203125 \nQ 22.609375 35.109375 22.609375 27.296875 \nQ 22.609375 19.484375 25.5625 15.375 \nQ 28.515625 11.28125 34.078125 11.28125 \nz\n\" id=\"DejaVuSans-Bold-100\"/>\n     <path d=\"M 37.5 11.28125 \nQ 43.109375 11.28125 46.0625 15.375 \nQ 49.03125 19.484375 49.03125 27.296875 \nQ 49.03125 35.109375 46.0625 39.203125 \nQ 43.109375 43.3125 37.5 43.3125 \nQ 31.890625 43.3125 28.875 39.1875 \nQ 25.875 35.0625 25.875 27.296875 \nQ 25.875 19.53125 28.875 15.40625 \nQ 31.890625 11.28125 37.5 11.28125 \nz\nM 25.875 46.6875 \nQ 29.5 51.46875 33.890625 53.734375 \nQ 38.28125 56 44 56 \nQ 54.109375 56 60.59375 47.96875 \nQ 67.09375 39.9375 67.09375 27.296875 \nQ 67.09375 14.65625 60.59375 6.609375 \nQ 54.109375 -1.421875 44 -1.421875 \nQ 38.28125 -1.421875 33.890625 0.84375 \nQ 29.5 3.125 25.875 7.90625 \nL 25.875 0 \nL 8.40625 0 \nL 8.40625 75.984375 \nL 25.875 75.984375 \nz\n\" id=\"DejaVuSans-Bold-98\"/>\n     <path d=\"M 52.59375 52.984375 \nL 52.59375 38.71875 \nQ 49.03125 41.15625 45.4375 42.328125 \nQ 41.84375 43.5 37.984375 43.5 \nQ 30.671875 43.5 26.59375 39.234375 \nQ 22.515625 34.96875 22.515625 27.296875 \nQ 22.515625 19.625 26.59375 15.34375 \nQ 30.671875 11.078125 37.984375 11.078125 \nQ 42.09375 11.078125 45.78125 12.296875 \nQ 49.46875 13.53125 52.59375 15.921875 \nL 52.59375 1.609375 \nQ 48.484375 0.09375 44.265625 -0.65625 \nQ 40.046875 -1.421875 35.796875 -1.421875 \nQ 21 -1.421875 12.640625 6.171875 \nQ 4.296875 13.765625 4.296875 27.296875 \nQ 4.296875 40.828125 12.640625 48.40625 \nQ 21 56 35.796875 56 \nQ 40.09375 56 44.265625 55.25 \nQ 48.4375 54.5 52.59375 52.984375 \nz\n\" id=\"DejaVuSans-Bold-99\"/>\n     <path d=\"M 25.875 7.90625 \nL 25.875 -20.796875 \nL 8.40625 -20.796875 \nL 8.40625 54.6875 \nL 25.875 54.6875 \nL 25.875 46.6875 \nQ 29.5 51.46875 33.890625 53.734375 \nQ 38.28125 56 44 56 \nQ 54.109375 56 60.59375 47.96875 \nQ 67.09375 39.9375 67.09375 27.296875 \nQ 67.09375 14.65625 60.59375 6.609375 \nQ 54.109375 -1.421875 44 -1.421875 \nQ 38.28125 -1.421875 33.890625 0.84375 \nQ 29.5 3.125 25.875 7.90625 \nz\nM 37.5 43.3125 \nQ 31.890625 43.3125 28.875 39.1875 \nQ 25.875 35.0625 25.875 27.296875 \nQ 25.875 19.53125 28.875 15.40625 \nQ 31.890625 11.28125 37.5 11.28125 \nQ 43.109375 11.28125 46.0625 15.375 \nQ 49.03125 19.484375 49.03125 27.296875 \nQ 49.03125 35.109375 46.0625 39.203125 \nQ 43.109375 43.3125 37.5 43.3125 \nz\n\" id=\"DejaVuSans-Bold-112\"/>\n    </defs>\n    <g transform=\"translate(30.103125 116.107411)scale(0.1 -0.1)\">\n     <use xlink:href=\"#DejaVuSans-Bold-37\"/>\n     <use x=\"100.195312\" xlink:href=\"#DejaVuSans-Bold-32\"/>\n     <use x=\"135.009766\" xlink:href=\"#DejaVuSans-Bold-119\"/>\n     <use x=\"227.392578\" xlink:href=\"#DejaVuSans-Bold-104\"/>\n     <use x=\"298.583984\" xlink:href=\"#DejaVuSans-Bold-111\"/>\n     <use x=\"367.285156\" xlink:href=\"#DejaVuSans-Bold-32\"/>\n     <use x=\"402.099609\" xlink:href=\"#DejaVuSans-Bold-115\"/>\n     <use x=\"461.621094\" xlink:href=\"#DejaVuSans-Bold-97\"/>\n     <use x=\"529.054688\" xlink:href=\"#DejaVuSans-Bold-121\"/>\n     <use x=\"594.240234\" xlink:href=\"#DejaVuSans-Bold-32\"/>\n     <use x=\"629.054688\" xlink:href=\"#DejaVuSans-Bold-104\"/>\n     <use x=\"700.246094\" xlink:href=\"#DejaVuSans-Bold-111\"/>\n     <use x=\"768.947266\" xlink:href=\"#DejaVuSans-Bold-109\"/>\n     <use x=\"873.146484\" xlink:href=\"#DejaVuSans-Bold-111\"/>\n     <use x=\"941.847656\" xlink:href=\"#DejaVuSans-Bold-115\"/>\n     <use x=\"1001.369141\" xlink:href=\"#DejaVuSans-Bold-101\"/>\n     <use x=\"1069.191406\" xlink:href=\"#DejaVuSans-Bold-120\"/>\n     <use x=\"1133.693359\" xlink:href=\"#DejaVuSans-Bold-117\"/>\n     <use x=\"1204.884766\" xlink:href=\"#DejaVuSans-Bold-97\"/>\n     <use x=\"1272.365234\" xlink:href=\"#DejaVuSans-Bold-108\"/>\n     <use x=\"1306.642578\" xlink:href=\"#DejaVuSans-Bold-105\"/>\n     <use x=\"1340.919922\" xlink:href=\"#DejaVuSans-Bold-116\"/>\n     <use x=\"1388.722656\" xlink:href=\"#DejaVuSans-Bold-121\"/>\n     <use x=\"1453.908203\" xlink:href=\"#DejaVuSans-Bold-32\"/>\n     <use x=\"1488.722656\" xlink:href=\"#DejaVuSans-Bold-115\"/>\n     <use x=\"1548.244141\" xlink:href=\"#DejaVuSans-Bold-104\"/>\n     <use x=\"1619.435547\" xlink:href=\"#DejaVuSans-Bold-111\"/>\n     <use x=\"1688.136719\" xlink:href=\"#DejaVuSans-Bold-117\"/>\n     <use x=\"1759.328125\" xlink:href=\"#DejaVuSans-Bold-108\"/>\n     <use x=\"1793.605469\" xlink:href=\"#DejaVuSans-Bold-100\"/>\n     <use x=\"1865.1875\" xlink:href=\"#DejaVuSans-Bold-32\"/>\n     <use x=\"1900.001953\" xlink:href=\"#DejaVuSans-Bold-98\"/>\n     <use x=\"1971.583984\" xlink:href=\"#DejaVuSans-Bold-101\"/>\n     <use x=\"2039.40625\" xlink:href=\"#DejaVuSans-Bold-32\"/>\n     <use x=\"2074.220703\" xlink:href=\"#DejaVuSans-Bold-97\"/>\n     <use x=\"2141.701172\" xlink:href=\"#DejaVuSans-Bold-99\"/>\n     <use x=\"2200.978516\" xlink:href=\"#DejaVuSans-Bold-99\"/>\n     <use x=\"2260.255859\" xlink:href=\"#DejaVuSans-Bold-101\"/>\n     <use x=\"2328.078125\" xlink:href=\"#DejaVuSans-Bold-112\"/>\n     <use x=\"2399.660156\" xlink:href=\"#DejaVuSans-Bold-116\"/>\n     <use x=\"2447.462891\" xlink:href=\"#DejaVuSans-Bold-101\"/>\n     <use x=\"2515.285156\" xlink:href=\"#DejaVuSans-Bold-100\"/>\n     <use x=\"2586.867188\" xlink:href=\"#DejaVuSans-Bold-32\"/>\n     <use x=\"2621.681641\" xlink:href=\"#DejaVuSans-Bold-98\"/>\n     <use x=\"2693.263672\" xlink:href=\"#DejaVuSans-Bold-121\"/>\n     <use x=\"2758.449219\" xlink:href=\"#DejaVuSans-Bold-32\"/>\n     <use x=\"2793.263672\" xlink:href=\"#DejaVuSans-Bold-115\"/>\n     <use x=\"2852.785156\" xlink:href=\"#DejaVuSans-Bold-111\"/>\n     <use x=\"2921.486328\" xlink:href=\"#DejaVuSans-Bold-99\"/>\n     <use x=\"2980.763672\" xlink:href=\"#DejaVuSans-Bold-105\"/>\n     <use x=\"3015.041016\" xlink:href=\"#DejaVuSans-Bold-101\"/>\n     <use x=\"3082.863281\" xlink:href=\"#DejaVuSans-Bold-116\"/>\n     <use x=\"3130.666016\" xlink:href=\"#DejaVuSans-Bold-121\"/>\n    </g>\n   </g>\n   <g id=\"text_2\">\n    <!-- 22% -->\n    <defs>\n     <path d=\"M 19.1875 8.296875 \nL 53.609375 8.296875 \nL 53.609375 0 \nL 7.328125 0 \nL 7.328125 8.296875 \nQ 12.9375 14.109375 22.625 23.890625 \nQ 32.328125 33.6875 34.8125 36.53125 \nQ 39.546875 41.84375 41.421875 45.53125 \nQ 43.3125 49.21875 43.3125 52.78125 \nQ 43.3125 58.59375 39.234375 62.25 \nQ 35.15625 65.921875 28.609375 65.921875 \nQ 23.96875 65.921875 18.8125 64.3125 \nQ 13.671875 62.703125 7.8125 59.421875 \nL 7.8125 69.390625 \nQ 13.765625 71.78125 18.9375 73 \nQ 24.125 74.21875 28.421875 74.21875 \nQ 39.75 74.21875 46.484375 68.546875 \nQ 53.21875 62.890625 53.21875 53.421875 \nQ 53.21875 48.921875 51.53125 44.890625 \nQ 49.859375 40.875 45.40625 35.40625 \nQ 44.1875 33.984375 37.640625 27.21875 \nQ 31.109375 20.453125 19.1875 8.296875 \nz\n\" id=\"DejaVuSans-50\"/>\n     <path d=\"M 72.703125 32.078125 \nQ 68.453125 32.078125 66.03125 28.46875 \nQ 63.625 24.859375 63.625 18.40625 \nQ 63.625 12.0625 66.03125 8.421875 \nQ 68.453125 4.78125 72.703125 4.78125 \nQ 76.859375 4.78125 79.265625 8.421875 \nQ 81.6875 12.0625 81.6875 18.40625 \nQ 81.6875 24.8125 79.265625 28.4375 \nQ 76.859375 32.078125 72.703125 32.078125 \nz\nM 72.703125 38.28125 \nQ 80.421875 38.28125 84.953125 32.90625 \nQ 89.5 27.546875 89.5 18.40625 \nQ 89.5 9.28125 84.9375 3.921875 \nQ 80.375 -1.421875 72.703125 -1.421875 \nQ 64.890625 -1.421875 60.34375 3.921875 \nQ 55.8125 9.28125 55.8125 18.40625 \nQ 55.8125 27.59375 60.375 32.9375 \nQ 64.9375 38.28125 72.703125 38.28125 \nz\nM 22.3125 68.015625 \nQ 18.109375 68.015625 15.6875 64.375 \nQ 13.28125 60.75 13.28125 54.390625 \nQ 13.28125 47.953125 15.671875 44.328125 \nQ 18.0625 40.71875 22.3125 40.71875 \nQ 26.5625 40.71875 28.96875 44.328125 \nQ 31.390625 47.953125 31.390625 54.390625 \nQ 31.390625 60.6875 28.953125 64.34375 \nQ 26.515625 68.015625 22.3125 68.015625 \nz\nM 66.40625 74.21875 \nL 74.21875 74.21875 \nL 28.609375 -1.421875 \nL 20.796875 -1.421875 \nz\nM 22.3125 74.21875 \nQ 30.03125 74.21875 34.609375 68.875 \nQ 39.203125 63.53125 39.203125 54.390625 \nQ 39.203125 45.171875 34.640625 39.84375 \nQ 30.078125 34.515625 22.3125 34.515625 \nQ 14.546875 34.515625 10.03125 39.859375 \nQ 5.515625 45.21875 5.515625 54.390625 \nQ 5.515625 63.484375 10.046875 68.84375 \nQ 14.59375 74.21875 22.3125 74.21875 \nz\n\" id=\"DejaVuSans-37\"/>\n    </defs>\n    <g style=\"fill:#ffffff;\" transform=\"translate(114.475593 523.907672)scale(0.12 -0.12)\">\n     <use xlink:href=\"#DejaVuSans-50\"/>\n     <use x=\"63.623047\" xlink:href=\"#DejaVuSans-50\"/>\n     <use x=\"127.246094\" xlink:href=\"#DejaVuSans-37\"/>\n    </g>\n   </g>\n   <g id=\"text_3\">\n    <!-- 62% -->\n    <defs>\n     <path d=\"M 33.015625 40.375 \nQ 26.375 40.375 22.484375 35.828125 \nQ 18.609375 31.296875 18.609375 23.390625 \nQ 18.609375 15.53125 22.484375 10.953125 \nQ 26.375 6.390625 33.015625 6.390625 \nQ 39.65625 6.390625 43.53125 10.953125 \nQ 47.40625 15.53125 47.40625 23.390625 \nQ 47.40625 31.296875 43.53125 35.828125 \nQ 39.65625 40.375 33.015625 40.375 \nz\nM 52.59375 71.296875 \nL 52.59375 62.3125 \nQ 48.875 64.0625 45.09375 64.984375 \nQ 41.3125 65.921875 37.59375 65.921875 \nQ 27.828125 65.921875 22.671875 59.328125 \nQ 17.53125 52.734375 16.796875 39.40625 \nQ 19.671875 43.65625 24.015625 45.921875 \nQ 28.375 48.1875 33.59375 48.1875 \nQ 44.578125 48.1875 50.953125 41.515625 \nQ 57.328125 34.859375 57.328125 23.390625 \nQ 57.328125 12.15625 50.6875 5.359375 \nQ 44.046875 -1.421875 33.015625 -1.421875 \nQ 20.359375 -1.421875 13.671875 8.265625 \nQ 6.984375 17.96875 6.984375 36.375 \nQ 6.984375 53.65625 15.1875 63.9375 \nQ 23.390625 74.21875 37.203125 74.21875 \nQ 40.921875 74.21875 44.703125 73.484375 \nQ 48.484375 72.75 52.59375 71.296875 \nz\n\" id=\"DejaVuSans-54\"/>\n    </defs>\n    <g style=\"fill:#2196f3;\" transform=\"translate(279.202792 523.907672)scale(0.12 -0.12)\">\n     <use xlink:href=\"#DejaVuSans-54\"/>\n     <use x=\"63.623047\" xlink:href=\"#DejaVuSans-50\"/>\n     <use x=\"127.246094\" xlink:href=\"#DejaVuSans-37\"/>\n    </g>\n   </g>\n   <g id=\"text_4\">\n    <!-- Data Source: Pew Research Centre | Created by: Jack Tann (@jacktann3) -->\n    <defs>\n     <path d=\"M 19.671875 64.796875 \nL 19.671875 8.109375 \nL 31.59375 8.109375 \nQ 46.6875 8.109375 53.6875 14.9375 \nQ 60.6875 21.78125 60.6875 36.53125 \nQ 60.6875 51.171875 53.6875 57.984375 \nQ 46.6875 64.796875 31.59375 64.796875 \nz\nM 9.8125 72.90625 \nL 30.078125 72.90625 \nQ 51.265625 72.90625 61.171875 64.09375 \nQ 71.09375 55.28125 71.09375 36.53125 \nQ 71.09375 17.671875 61.125 8.828125 \nQ 51.171875 0 30.078125 0 \nL 9.8125 0 \nz\n\" id=\"DejaVuSans-68\"/>\n     <path d=\"M 34.28125 27.484375 \nQ 23.390625 27.484375 19.1875 25 \nQ 14.984375 22.515625 14.984375 16.5 \nQ 14.984375 11.71875 18.140625 8.90625 \nQ 21.296875 6.109375 26.703125 6.109375 \nQ 34.1875 6.109375 38.703125 11.40625 \nQ 43.21875 16.703125 43.21875 25.484375 \nL 43.21875 27.484375 \nz\nM 52.203125 31.203125 \nL 52.203125 0 \nL 43.21875 0 \nL 43.21875 8.296875 \nQ 40.140625 3.328125 35.546875 0.953125 \nQ 30.953125 -1.421875 24.3125 -1.421875 \nQ 15.921875 -1.421875 10.953125 3.296875 \nQ 6 8.015625 6 15.921875 \nQ 6 25.140625 12.171875 29.828125 \nQ 18.359375 34.515625 30.609375 34.515625 \nL 43.21875 34.515625 \nL 43.21875 35.40625 \nQ 43.21875 41.609375 39.140625 45 \nQ 35.0625 48.390625 27.6875 48.390625 \nQ 23 48.390625 18.546875 47.265625 \nQ 14.109375 46.140625 10.015625 43.890625 \nL 10.015625 52.203125 \nQ 14.9375 54.109375 19.578125 55.046875 \nQ 24.21875 56 28.609375 56 \nQ 40.484375 56 46.34375 49.84375 \nQ 52.203125 43.703125 52.203125 31.203125 \nz\n\" id=\"DejaVuSans-97\"/>\n     <path d=\"M 18.3125 70.21875 \nL 18.3125 54.6875 \nL 36.8125 54.6875 \nL 36.8125 47.703125 \nL 18.3125 47.703125 \nL 18.3125 18.015625 \nQ 18.3125 11.328125 20.140625 9.421875 \nQ 21.96875 7.515625 27.59375 7.515625 \nL 36.8125 7.515625 \nL 36.8125 0 \nL 27.59375 0 \nQ 17.1875 0 13.234375 3.875 \nQ 9.28125 7.765625 9.28125 18.015625 \nL 9.28125 47.703125 \nL 2.6875 47.703125 \nL 2.6875 54.6875 \nL 9.28125 54.6875 \nL 9.28125 70.21875 \nz\n\" id=\"DejaVuSans-116\"/>\n     <path id=\"DejaVuSans-32\"/>\n     <path d=\"M 53.515625 70.515625 \nL 53.515625 60.890625 \nQ 47.90625 63.578125 42.921875 64.890625 \nQ 37.9375 66.21875 33.296875 66.21875 \nQ 25.25 66.21875 20.875 63.09375 \nQ 16.5 59.96875 16.5 54.203125 \nQ 16.5 49.359375 19.40625 46.890625 \nQ 22.3125 44.4375 30.421875 42.921875 \nL 36.375 41.703125 \nQ 47.40625 39.59375 52.65625 34.296875 \nQ 57.90625 29 57.90625 20.125 \nQ 57.90625 9.515625 50.796875 4.046875 \nQ 43.703125 -1.421875 29.984375 -1.421875 \nQ 24.8125 -1.421875 18.96875 -0.25 \nQ 13.140625 0.921875 6.890625 3.21875 \nL 6.890625 13.375 \nQ 12.890625 10.015625 18.65625 8.296875 \nQ 24.421875 6.59375 29.984375 6.59375 \nQ 38.421875 6.59375 43.015625 9.90625 \nQ 47.609375 13.234375 47.609375 19.390625 \nQ 47.609375 24.75 44.3125 27.78125 \nQ 41.015625 30.8125 33.5 32.328125 \nL 27.484375 33.5 \nQ 16.453125 35.6875 11.515625 40.375 \nQ 6.59375 45.0625 6.59375 53.421875 \nQ 6.59375 63.09375 13.40625 68.65625 \nQ 20.21875 74.21875 32.171875 74.21875 \nQ 37.3125 74.21875 42.625 73.28125 \nQ 47.953125 72.359375 53.515625 70.515625 \nz\n\" id=\"DejaVuSans-83\"/>\n     <path d=\"M 30.609375 48.390625 \nQ 23.390625 48.390625 19.1875 42.75 \nQ 14.984375 37.109375 14.984375 27.296875 \nQ 14.984375 17.484375 19.15625 11.84375 \nQ 23.34375 6.203125 30.609375 6.203125 \nQ 37.796875 6.203125 41.984375 11.859375 \nQ 46.1875 17.53125 46.1875 27.296875 \nQ 46.1875 37.015625 41.984375 42.703125 \nQ 37.796875 48.390625 30.609375 48.390625 \nz\nM 30.609375 56 \nQ 42.328125 56 49.015625 48.375 \nQ 55.71875 40.765625 55.71875 27.296875 \nQ 55.71875 13.875 49.015625 6.21875 \nQ 42.328125 -1.421875 30.609375 -1.421875 \nQ 18.84375 -1.421875 12.171875 6.21875 \nQ 5.515625 13.875 5.515625 27.296875 \nQ 5.515625 40.765625 12.171875 48.375 \nQ 18.84375 56 30.609375 56 \nz\n\" id=\"DejaVuSans-111\"/>\n     <path d=\"M 8.5 21.578125 \nL 8.5 54.6875 \nL 17.484375 54.6875 \nL 17.484375 21.921875 \nQ 17.484375 14.15625 20.5 10.265625 \nQ 23.53125 6.390625 29.59375 6.390625 \nQ 36.859375 6.390625 41.078125 11.03125 \nQ 45.3125 15.671875 45.3125 23.6875 \nL 45.3125 54.6875 \nL 54.296875 54.6875 \nL 54.296875 0 \nL 45.3125 0 \nL 45.3125 8.40625 \nQ 42.046875 3.421875 37.71875 1 \nQ 33.40625 -1.421875 27.6875 -1.421875 \nQ 18.265625 -1.421875 13.375 4.4375 \nQ 8.5 10.296875 8.5 21.578125 \nz\nM 31.109375 56 \nz\n\" id=\"DejaVuSans-117\"/>\n     <path d=\"M 41.109375 46.296875 \nQ 39.59375 47.171875 37.8125 47.578125 \nQ 36.03125 48 33.890625 48 \nQ 26.265625 48 22.1875 43.046875 \nQ 18.109375 38.09375 18.109375 28.8125 \nL 18.109375 0 \nL 9.078125 0 \nL 9.078125 54.6875 \nL 18.109375 54.6875 \nL 18.109375 46.1875 \nQ 20.953125 51.171875 25.484375 53.578125 \nQ 30.03125 56 36.53125 56 \nQ 37.453125 56 38.578125 55.875 \nQ 39.703125 55.765625 41.0625 55.515625 \nz\n\" id=\"DejaVuSans-114\"/>\n     <path d=\"M 48.78125 52.59375 \nL 48.78125 44.1875 \nQ 44.96875 46.296875 41.140625 47.34375 \nQ 37.3125 48.390625 33.40625 48.390625 \nQ 24.65625 48.390625 19.8125 42.84375 \nQ 14.984375 37.3125 14.984375 27.296875 \nQ 14.984375 17.28125 19.8125 11.734375 \nQ 24.65625 6.203125 33.40625 6.203125 \nQ 37.3125 6.203125 41.140625 7.25 \nQ 44.96875 8.296875 48.78125 10.40625 \nL 48.78125 2.09375 \nQ 45.015625 0.34375 40.984375 -0.53125 \nQ 36.96875 -1.421875 32.421875 -1.421875 \nQ 20.0625 -1.421875 12.78125 6.34375 \nQ 5.515625 14.109375 5.515625 27.296875 \nQ 5.515625 40.671875 12.859375 48.328125 \nQ 20.21875 56 33.015625 56 \nQ 37.15625 56 41.109375 55.140625 \nQ 45.0625 54.296875 48.78125 52.59375 \nz\n\" id=\"DejaVuSans-99\"/>\n     <path d=\"M 56.203125 29.59375 \nL 56.203125 25.203125 \nL 14.890625 25.203125 \nQ 15.484375 15.921875 20.484375 11.0625 \nQ 25.484375 6.203125 34.421875 6.203125 \nQ 39.59375 6.203125 44.453125 7.46875 \nQ 49.3125 8.734375 54.109375 11.28125 \nL 54.109375 2.78125 \nQ 49.265625 0.734375 44.1875 -0.34375 \nQ 39.109375 -1.421875 33.890625 -1.421875 \nQ 20.796875 -1.421875 13.15625 6.1875 \nQ 5.515625 13.8125 5.515625 26.8125 \nQ 5.515625 40.234375 12.765625 48.109375 \nQ 20.015625 56 32.328125 56 \nQ 43.359375 56 49.78125 48.890625 \nQ 56.203125 41.796875 56.203125 29.59375 \nz\nM 47.21875 32.234375 \nQ 47.125 39.59375 43.09375 43.984375 \nQ 39.0625 48.390625 32.421875 48.390625 \nQ 24.90625 48.390625 20.390625 44.140625 \nQ 15.875 39.890625 15.1875 32.171875 \nz\n\" id=\"DejaVuSans-101\"/>\n     <path d=\"M 11.71875 12.40625 \nL 22.015625 12.40625 \nL 22.015625 0 \nL 11.71875 0 \nz\nM 11.71875 51.703125 \nL 22.015625 51.703125 \nL 22.015625 39.3125 \nL 11.71875 39.3125 \nz\n\" id=\"DejaVuSans-58\"/>\n     <path d=\"M 19.671875 64.796875 \nL 19.671875 37.40625 \nL 32.078125 37.40625 \nQ 38.96875 37.40625 42.71875 40.96875 \nQ 46.484375 44.53125 46.484375 51.125 \nQ 46.484375 57.671875 42.71875 61.234375 \nQ 38.96875 64.796875 32.078125 64.796875 \nz\nM 9.8125 72.90625 \nL 32.078125 72.90625 \nQ 44.34375 72.90625 50.609375 67.359375 \nQ 56.890625 61.8125 56.890625 51.125 \nQ 56.890625 40.328125 50.609375 34.8125 \nQ 44.34375 29.296875 32.078125 29.296875 \nL 19.671875 29.296875 \nL 19.671875 0 \nL 9.8125 0 \nz\n\" id=\"DejaVuSans-80\"/>\n     <path d=\"M 4.203125 54.6875 \nL 13.1875 54.6875 \nL 24.421875 12.015625 \nL 35.59375 54.6875 \nL 46.1875 54.6875 \nL 57.421875 12.015625 \nL 68.609375 54.6875 \nL 77.59375 54.6875 \nL 63.28125 0 \nL 52.6875 0 \nL 40.921875 44.828125 \nL 29.109375 0 \nL 18.5 0 \nz\n\" id=\"DejaVuSans-119\"/>\n     <path d=\"M 44.390625 34.1875 \nQ 47.5625 33.109375 50.5625 29.59375 \nQ 53.5625 26.078125 56.59375 19.921875 \nL 66.609375 0 \nL 56 0 \nL 46.6875 18.703125 \nQ 43.0625 26.03125 39.671875 28.421875 \nQ 36.28125 30.8125 30.421875 30.8125 \nL 19.671875 30.8125 \nL 19.671875 0 \nL 9.8125 0 \nL 9.8125 72.90625 \nL 32.078125 72.90625 \nQ 44.578125 72.90625 50.734375 67.671875 \nQ 56.890625 62.453125 56.890625 51.90625 \nQ 56.890625 45.015625 53.6875 40.46875 \nQ 50.484375 35.9375 44.390625 34.1875 \nz\nM 19.671875 64.796875 \nL 19.671875 38.921875 \nL 32.078125 38.921875 \nQ 39.203125 38.921875 42.84375 42.21875 \nQ 46.484375 45.515625 46.484375 51.90625 \nQ 46.484375 58.296875 42.84375 61.546875 \nQ 39.203125 64.796875 32.078125 64.796875 \nz\n\" id=\"DejaVuSans-82\"/>\n     <path d=\"M 44.28125 53.078125 \nL 44.28125 44.578125 \nQ 40.484375 46.53125 36.375 47.5 \nQ 32.28125 48.484375 27.875 48.484375 \nQ 21.1875 48.484375 17.84375 46.4375 \nQ 14.5 44.390625 14.5 40.28125 \nQ 14.5 37.15625 16.890625 35.375 \nQ 19.28125 33.59375 26.515625 31.984375 \nL 29.59375 31.296875 \nQ 39.15625 29.25 43.1875 25.515625 \nQ 47.21875 21.78125 47.21875 15.09375 \nQ 47.21875 7.46875 41.1875 3.015625 \nQ 35.15625 -1.421875 24.609375 -1.421875 \nQ 20.21875 -1.421875 15.453125 -0.5625 \nQ 10.6875 0.296875 5.421875 2 \nL 5.421875 11.28125 \nQ 10.40625 8.6875 15.234375 7.390625 \nQ 20.0625 6.109375 24.8125 6.109375 \nQ 31.15625 6.109375 34.5625 8.28125 \nQ 37.984375 10.453125 37.984375 14.40625 \nQ 37.984375 18.0625 35.515625 20.015625 \nQ 33.0625 21.96875 24.703125 23.78125 \nL 21.578125 24.515625 \nQ 13.234375 26.265625 9.515625 29.90625 \nQ 5.8125 33.546875 5.8125 39.890625 \nQ 5.8125 47.609375 11.28125 51.796875 \nQ 16.75 56 26.8125 56 \nQ 31.78125 56 36.171875 55.265625 \nQ 40.578125 54.546875 44.28125 53.078125 \nz\n\" id=\"DejaVuSans-115\"/>\n     <path d=\"M 54.890625 33.015625 \nL 54.890625 0 \nL 45.90625 0 \nL 45.90625 32.71875 \nQ 45.90625 40.484375 42.875 44.328125 \nQ 39.84375 48.1875 33.796875 48.1875 \nQ 26.515625 48.1875 22.3125 43.546875 \nQ 18.109375 38.921875 18.109375 30.90625 \nL 18.109375 0 \nL 9.078125 0 \nL 9.078125 75.984375 \nL 18.109375 75.984375 \nL 18.109375 46.1875 \nQ 21.34375 51.125 25.703125 53.5625 \nQ 30.078125 56 35.796875 56 \nQ 45.21875 56 50.046875 50.171875 \nQ 54.890625 44.34375 54.890625 33.015625 \nz\n\" id=\"DejaVuSans-104\"/>\n     <path d=\"M 64.40625 67.28125 \nL 64.40625 56.890625 \nQ 59.421875 61.53125 53.78125 63.8125 \nQ 48.140625 66.109375 41.796875 66.109375 \nQ 29.296875 66.109375 22.65625 58.46875 \nQ 16.015625 50.828125 16.015625 36.375 \nQ 16.015625 21.96875 22.65625 14.328125 \nQ 29.296875 6.6875 41.796875 6.6875 \nQ 48.140625 6.6875 53.78125 8.984375 \nQ 59.421875 11.28125 64.40625 15.921875 \nL 64.40625 5.609375 \nQ 59.234375 2.09375 53.4375 0.328125 \nQ 47.65625 -1.421875 41.21875 -1.421875 \nQ 24.65625 -1.421875 15.125 8.703125 \nQ 5.609375 18.84375 5.609375 36.375 \nQ 5.609375 53.953125 15.125 64.078125 \nQ 24.65625 74.21875 41.21875 74.21875 \nQ 47.75 74.21875 53.53125 72.484375 \nQ 59.328125 70.75 64.40625 67.28125 \nz\n\" id=\"DejaVuSans-67\"/>\n     <path d=\"M 54.890625 33.015625 \nL 54.890625 0 \nL 45.90625 0 \nL 45.90625 32.71875 \nQ 45.90625 40.484375 42.875 44.328125 \nQ 39.84375 48.1875 33.796875 48.1875 \nQ 26.515625 48.1875 22.3125 43.546875 \nQ 18.109375 38.921875 18.109375 30.90625 \nL 18.109375 0 \nL 9.078125 0 \nL 9.078125 54.6875 \nL 18.109375 54.6875 \nL 18.109375 46.1875 \nQ 21.34375 51.125 25.703125 53.5625 \nQ 30.078125 56 35.796875 56 \nQ 45.21875 56 50.046875 50.171875 \nQ 54.890625 44.34375 54.890625 33.015625 \nz\n\" id=\"DejaVuSans-110\"/>\n     <path d=\"M 21 76.421875 \nL 21 -23.578125 \nL 12.703125 -23.578125 \nL 12.703125 76.421875 \nz\n\" id=\"DejaVuSans-124\"/>\n     <path d=\"M 45.40625 46.390625 \nL 45.40625 75.984375 \nL 54.390625 75.984375 \nL 54.390625 0 \nL 45.40625 0 \nL 45.40625 8.203125 \nQ 42.578125 3.328125 38.25 0.953125 \nQ 33.9375 -1.421875 27.875 -1.421875 \nQ 17.96875 -1.421875 11.734375 6.484375 \nQ 5.515625 14.40625 5.515625 27.296875 \nQ 5.515625 40.1875 11.734375 48.09375 \nQ 17.96875 56 27.875 56 \nQ 33.9375 56 38.25 53.625 \nQ 42.578125 51.265625 45.40625 46.390625 \nz\nM 14.796875 27.296875 \nQ 14.796875 17.390625 18.875 11.75 \nQ 22.953125 6.109375 30.078125 6.109375 \nQ 37.203125 6.109375 41.296875 11.75 \nQ 45.40625 17.390625 45.40625 27.296875 \nQ 45.40625 37.203125 41.296875 42.84375 \nQ 37.203125 48.484375 30.078125 48.484375 \nQ 22.953125 48.484375 18.875 42.84375 \nQ 14.796875 37.203125 14.796875 27.296875 \nz\n\" id=\"DejaVuSans-100\"/>\n     <path d=\"M 48.6875 27.296875 \nQ 48.6875 37.203125 44.609375 42.84375 \nQ 40.53125 48.484375 33.40625 48.484375 \nQ 26.265625 48.484375 22.1875 42.84375 \nQ 18.109375 37.203125 18.109375 27.296875 \nQ 18.109375 17.390625 22.1875 11.75 \nQ 26.265625 6.109375 33.40625 6.109375 \nQ 40.53125 6.109375 44.609375 11.75 \nQ 48.6875 17.390625 48.6875 27.296875 \nz\nM 18.109375 46.390625 \nQ 20.953125 51.265625 25.265625 53.625 \nQ 29.59375 56 35.59375 56 \nQ 45.5625 56 51.78125 48.09375 \nQ 58.015625 40.1875 58.015625 27.296875 \nQ 58.015625 14.40625 51.78125 6.484375 \nQ 45.5625 -1.421875 35.59375 -1.421875 \nQ 29.59375 -1.421875 25.265625 0.953125 \nQ 20.953125 3.328125 18.109375 8.203125 \nL 18.109375 0 \nL 9.078125 0 \nL 9.078125 75.984375 \nL 18.109375 75.984375 \nz\n\" id=\"DejaVuSans-98\"/>\n     <path d=\"M 32.171875 -5.078125 \nQ 28.375 -14.84375 24.75 -17.8125 \nQ 21.140625 -20.796875 15.09375 -20.796875 \nL 7.90625 -20.796875 \nL 7.90625 -13.28125 \nL 13.1875 -13.28125 \nQ 16.890625 -13.28125 18.9375 -11.515625 \nQ 21 -9.765625 23.484375 -3.21875 \nL 25.09375 0.875 \nL 2.984375 54.6875 \nL 12.5 54.6875 \nL 29.59375 11.921875 \nL 46.6875 54.6875 \nL 56.203125 54.6875 \nz\n\" id=\"DejaVuSans-121\"/>\n     <path d=\"M 9.8125 72.90625 \nL 19.671875 72.90625 \nL 19.671875 5.078125 \nQ 19.671875 -8.109375 14.671875 -14.0625 \nQ 9.671875 -20.015625 -1.421875 -20.015625 \nL -5.171875 -20.015625 \nL -5.171875 -11.71875 \nL -2.09375 -11.71875 \nQ 4.4375 -11.71875 7.125 -8.046875 \nQ 9.8125 -4.390625 9.8125 5.078125 \nz\n\" id=\"DejaVuSans-74\"/>\n     <path d=\"M 9.078125 75.984375 \nL 18.109375 75.984375 \nL 18.109375 31.109375 \nL 44.921875 54.6875 \nL 56.390625 54.6875 \nL 27.390625 29.109375 \nL 57.625 0 \nL 45.90625 0 \nL 18.109375 26.703125 \nL 18.109375 0 \nL 9.078125 0 \nz\n\" id=\"DejaVuSans-107\"/>\n     <path d=\"M -0.296875 72.90625 \nL 61.375 72.90625 \nL 61.375 64.59375 \nL 35.5 64.59375 \nL 35.5 0 \nL 25.59375 0 \nL 25.59375 64.59375 \nL -0.296875 64.59375 \nz\n\" id=\"DejaVuSans-84\"/>\n     <path d=\"M 31 75.875 \nQ 24.46875 64.65625 21.28125 53.65625 \nQ 18.109375 42.671875 18.109375 31.390625 \nQ 18.109375 20.125 21.3125 9.0625 \nQ 24.515625 -2 31 -13.1875 \nL 23.1875 -13.1875 \nQ 15.875 -1.703125 12.234375 9.375 \nQ 8.59375 20.453125 8.59375 31.390625 \nQ 8.59375 42.28125 12.203125 53.3125 \nQ 15.828125 64.359375 23.1875 75.875 \nz\n\" id=\"DejaVuSans-40\"/>\n     <path d=\"M 37.203125 26.21875 \nQ 37.203125 19.234375 40.671875 15.25 \nQ 44.140625 11.28125 50.203125 11.28125 \nQ 56.203125 11.28125 59.640625 15.28125 \nQ 63.09375 19.28125 63.09375 26.21875 \nQ 63.09375 33.0625 59.578125 37.078125 \nQ 56.0625 41.109375 50.09375 41.109375 \nQ 44.1875 41.109375 40.6875 37.109375 \nQ 37.203125 33.109375 37.203125 26.21875 \nz\nM 63.8125 11.625 \nQ 60.890625 7.859375 57.109375 6.078125 \nQ 53.328125 4.296875 48.296875 4.296875 \nQ 39.890625 4.296875 34.640625 10.375 \nQ 29.390625 16.453125 29.390625 26.21875 \nQ 29.390625 35.984375 34.65625 42.078125 \nQ 39.9375 48.1875 48.296875 48.1875 \nQ 53.328125 48.1875 57.125 46.359375 \nQ 60.9375 44.53125 63.8125 40.828125 \nL 63.8125 47.21875 \nL 70.796875 47.21875 \nL 70.796875 11.28125 \nQ 77.9375 12.359375 81.953125 17.796875 \nQ 85.984375 23.25 85.984375 31.890625 \nQ 85.984375 37.109375 84.4375 41.703125 \nQ 82.90625 46.296875 79.78125 50.203125 \nQ 74.703125 56.59375 67.40625 59.984375 \nQ 60.109375 63.375 51.515625 63.375 \nQ 45.515625 63.375 39.984375 61.78125 \nQ 34.46875 60.203125 29.78125 57.078125 \nQ 22.125 52.09375 17.796875 44.015625 \nQ 13.484375 35.9375 13.484375 26.515625 \nQ 13.484375 18.75 16.28125 11.953125 \nQ 19.09375 5.171875 24.421875 0 \nQ 29.546875 -5.078125 36.28125 -7.734375 \nQ 43.015625 -10.40625 50.6875 -10.40625 \nQ 56.984375 -10.40625 63.0625 -8.28125 \nQ 69.140625 -6.15625 74.21875 -2.203125 \nL 78.609375 -7.625 \nQ 72.515625 -12.359375 65.3125 -14.875 \nQ 58.109375 -17.390625 50.6875 -17.390625 \nQ 41.65625 -17.390625 33.640625 -14.1875 \nQ 25.640625 -10.984375 19.390625 -4.890625 \nQ 13.140625 1.21875 9.859375 9.25 \nQ 6.59375 17.28125 6.59375 26.515625 \nQ 6.59375 35.40625 9.90625 43.453125 \nQ 13.234375 51.515625 19.390625 57.625 \nQ 25.6875 63.8125 33.9375 67.109375 \nQ 42.1875 70.40625 51.421875 70.40625 \nQ 61.765625 70.40625 70.625 66.15625 \nQ 79.5 61.921875 85.5 54.109375 \nQ 89.15625 49.3125 91.078125 43.703125 \nQ 93.015625 38.09375 93.015625 32.078125 \nQ 93.015625 19.234375 85.25 11.8125 \nQ 77.484375 4.390625 63.8125 4.109375 \nz\n\" id=\"DejaVuSans-64\"/>\n     <path d=\"M 9.421875 54.6875 \nL 18.40625 54.6875 \nL 18.40625 -0.984375 \nQ 18.40625 -11.421875 14.421875 -16.109375 \nQ 10.453125 -20.796875 1.609375 -20.796875 \nL -1.8125 -20.796875 \nL -1.8125 -13.1875 \nL 0.59375 -13.1875 \nQ 5.71875 -13.1875 7.5625 -10.8125 \nQ 9.421875 -8.453125 9.421875 -0.984375 \nz\nM 9.421875 75.984375 \nL 18.40625 75.984375 \nL 18.40625 64.59375 \nL 9.421875 64.59375 \nz\n\" id=\"DejaVuSans-106\"/>\n     <path d=\"M 40.578125 39.3125 \nQ 47.65625 37.796875 51.625 33 \nQ 55.609375 28.21875 55.609375 21.1875 \nQ 55.609375 10.40625 48.1875 4.484375 \nQ 40.765625 -1.421875 27.09375 -1.421875 \nQ 22.515625 -1.421875 17.65625 -0.515625 \nQ 12.796875 0.390625 7.625 2.203125 \nL 7.625 11.71875 \nQ 11.71875 9.328125 16.59375 8.109375 \nQ 21.484375 6.890625 26.8125 6.890625 \nQ 36.078125 6.890625 40.9375 10.546875 \nQ 45.796875 14.203125 45.796875 21.1875 \nQ 45.796875 27.640625 41.28125 31.265625 \nQ 36.765625 34.90625 28.71875 34.90625 \nL 20.21875 34.90625 \nL 20.21875 43.015625 \nL 29.109375 43.015625 \nQ 36.375 43.015625 40.234375 45.921875 \nQ 44.09375 48.828125 44.09375 54.296875 \nQ 44.09375 59.90625 40.109375 62.90625 \nQ 36.140625 65.921875 28.71875 65.921875 \nQ 24.65625 65.921875 20.015625 65.03125 \nQ 15.375 64.15625 9.8125 62.3125 \nL 9.8125 71.09375 \nQ 15.4375 72.65625 20.34375 73.4375 \nQ 25.25 74.21875 29.59375 74.21875 \nQ 40.828125 74.21875 47.359375 69.109375 \nQ 53.90625 64.015625 53.90625 55.328125 \nQ 53.90625 49.265625 50.4375 45.09375 \nQ 46.96875 40.921875 40.578125 39.3125 \nz\n\" id=\"DejaVuSans-51\"/>\n     <path d=\"M 8.015625 75.875 \nL 15.828125 75.875 \nQ 23.140625 64.359375 26.78125 53.3125 \nQ 30.421875 42.28125 30.421875 31.390625 \nQ 30.421875 20.453125 26.78125 9.375 \nQ 23.140625 -1.703125 15.828125 -13.1875 \nL 8.015625 -13.1875 \nQ 14.5 -2 17.703125 9.0625 \nQ 20.90625 20.125 20.90625 31.390625 \nQ 20.90625 42.671875 17.703125 53.65625 \nQ 14.5 64.65625 8.015625 75.875 \nz\n\" id=\"DejaVuSans-41\"/>\n    </defs>\n    <g transform=\"translate(190.812588 558.058433)scale(0.08 -0.08)\">\n     <use xlink:href=\"#DejaVuSans-68\"/>\n     <use x=\"77.001953\" xlink:href=\"#DejaVuSans-97\"/>\n     <use x=\"138.28125\" xlink:href=\"#DejaVuSans-116\"/>\n     <use x=\"177.490234\" xlink:href=\"#DejaVuSans-97\"/>\n     <use x=\"238.769531\" xlink:href=\"#DejaVuSans-32\"/>\n     <use x=\"270.556641\" xlink:href=\"#DejaVuSans-83\"/>\n     <use x=\"334.033203\" xlink:href=\"#DejaVuSans-111\"/>\n     <use x=\"395.214844\" xlink:href=\"#DejaVuSans-117\"/>\n     <use x=\"458.59375\" xlink:href=\"#DejaVuSans-114\"/>\n     <use x=\"499.675781\" xlink:href=\"#DejaVuSans-99\"/>\n     <use x=\"554.65625\" xlink:href=\"#DejaVuSans-101\"/>\n     <use x=\"616.179688\" xlink:href=\"#DejaVuSans-58\"/>\n     <use x=\"649.871094\" xlink:href=\"#DejaVuSans-32\"/>\n     <use x=\"681.658203\" xlink:href=\"#DejaVuSans-80\"/>\n     <use x=\"741.914062\" xlink:href=\"#DejaVuSans-101\"/>\n     <use x=\"803.4375\" xlink:href=\"#DejaVuSans-119\"/>\n     <use x=\"885.224609\" xlink:href=\"#DejaVuSans-32\"/>\n     <use x=\"917.011719\" xlink:href=\"#DejaVuSans-82\"/>\n     <use x=\"986.431641\" xlink:href=\"#DejaVuSans-101\"/>\n     <use x=\"1047.955078\" xlink:href=\"#DejaVuSans-115\"/>\n     <use x=\"1100.054688\" xlink:href=\"#DejaVuSans-101\"/>\n     <use x=\"1161.578125\" xlink:href=\"#DejaVuSans-97\"/>\n     <use x=\"1222.857422\" xlink:href=\"#DejaVuSans-114\"/>\n     <use x=\"1263.939453\" xlink:href=\"#DejaVuSans-99\"/>\n     <use x=\"1318.919922\" xlink:href=\"#DejaVuSans-104\"/>\n     <use x=\"1382.298828\" xlink:href=\"#DejaVuSans-32\"/>\n     <use x=\"1414.085938\" xlink:href=\"#DejaVuSans-67\"/>\n     <use x=\"1483.910156\" xlink:href=\"#DejaVuSans-101\"/>\n     <use x=\"1545.433594\" xlink:href=\"#DejaVuSans-110\"/>\n     <use x=\"1608.8125\" xlink:href=\"#DejaVuSans-116\"/>\n     <use x=\"1648.021484\" xlink:href=\"#DejaVuSans-114\"/>\n     <use x=\"1689.103516\" xlink:href=\"#DejaVuSans-101\"/>\n     <use x=\"1750.626953\" xlink:href=\"#DejaVuSans-32\"/>\n     <use x=\"1782.414062\" xlink:href=\"#DejaVuSans-124\"/>\n     <use x=\"1816.105469\" xlink:href=\"#DejaVuSans-32\"/>\n     <use x=\"1847.892578\" xlink:href=\"#DejaVuSans-67\"/>\n     <use x=\"1917.716797\" xlink:href=\"#DejaVuSans-114\"/>\n     <use x=\"1958.798828\" xlink:href=\"#DejaVuSans-101\"/>\n     <use x=\"2020.322266\" xlink:href=\"#DejaVuSans-97\"/>\n     <use x=\"2081.601562\" xlink:href=\"#DejaVuSans-116\"/>\n     <use x=\"2120.810547\" xlink:href=\"#DejaVuSans-101\"/>\n     <use x=\"2182.333984\" xlink:href=\"#DejaVuSans-100\"/>\n     <use x=\"2245.810547\" xlink:href=\"#DejaVuSans-32\"/>\n     <use x=\"2277.597656\" xlink:href=\"#DejaVuSans-98\"/>\n     <use x=\"2341.074219\" xlink:href=\"#DejaVuSans-121\"/>\n     <use x=\"2400.144531\" xlink:href=\"#DejaVuSans-58\"/>\n     <use x=\"2433.835938\" xlink:href=\"#DejaVuSans-32\"/>\n     <use x=\"2465.623047\" xlink:href=\"#DejaVuSans-74\"/>\n     <use x=\"2495.115234\" xlink:href=\"#DejaVuSans-97\"/>\n     <use x=\"2556.394531\" xlink:href=\"#DejaVuSans-99\"/>\n     <use x=\"2611.375\" xlink:href=\"#DejaVuSans-107\"/>\n     <use x=\"2669.285156\" xlink:href=\"#DejaVuSans-32\"/>\n     <use x=\"2701.072266\" xlink:href=\"#DejaVuSans-84\"/>\n     <use x=\"2761.90625\" xlink:href=\"#DejaVuSans-97\"/>\n     <use x=\"2823.185547\" xlink:href=\"#DejaVuSans-110\"/>\n     <use x=\"2886.564453\" xlink:href=\"#DejaVuSans-110\"/>\n     <use x=\"2949.943359\" xlink:href=\"#DejaVuSans-32\"/>\n     <use x=\"2981.730469\" xlink:href=\"#DejaVuSans-40\"/>\n     <use x=\"3020.744141\" xlink:href=\"#DejaVuSans-64\"/>\n     <use x=\"3120.744141\" xlink:href=\"#DejaVuSans-106\"/>\n     <use x=\"3148.527344\" xlink:href=\"#DejaVuSans-97\"/>\n     <use x=\"3209.806641\" xlink:href=\"#DejaVuSans-99\"/>\n     <use x=\"3264.787109\" xlink:href=\"#DejaVuSans-107\"/>\n     <use x=\"3322.697266\" xlink:href=\"#DejaVuSans-116\"/>\n     <use x=\"3361.90625\" xlink:href=\"#DejaVuSans-97\"/>\n     <use x=\"3423.185547\" xlink:href=\"#DejaVuSans-110\"/>\n     <use x=\"3486.564453\" xlink:href=\"#DejaVuSans-110\"/>\n     <use x=\"3549.943359\" xlink:href=\"#DejaVuSans-51\"/>\n     <use x=\"3613.566406\" xlink:href=\"#DejaVuSans-41\"/>\n    </g>\n   </g>\n   <g id=\"text_5\">\n    <!-- A Country Divided -->\n    <defs>\n     <path d=\"M 34.1875 63.1875 \nL 20.796875 26.90625 \nL 47.609375 26.90625 \nz\nM 28.609375 72.90625 \nL 39.796875 72.90625 \nL 67.578125 0 \nL 57.328125 0 \nL 50.6875 18.703125 \nL 17.828125 18.703125 \nL 11.1875 0 \nL 0.78125 0 \nz\n\" id=\"DejaVuSans-65\"/>\n     <path d=\"M 9.421875 54.6875 \nL 18.40625 54.6875 \nL 18.40625 0 \nL 9.421875 0 \nz\nM 9.421875 75.984375 \nL 18.40625 75.984375 \nL 18.40625 64.59375 \nL 9.421875 64.59375 \nz\n\" id=\"DejaVuSans-105\"/>\n     <path d=\"M 2.984375 54.6875 \nL 12.5 54.6875 \nL 29.59375 8.796875 \nL 46.6875 54.6875 \nL 56.203125 54.6875 \nL 35.6875 0 \nL 23.484375 0 \nz\n\" id=\"DejaVuSans-118\"/>\n    </defs>\n    <g transform=\"translate(30.103125 26.196094)scale(0.25 -0.25)\">\n     <use xlink:href=\"#DejaVuSans-65\"/>\n     <use x=\"68.408203\" xlink:href=\"#DejaVuSans-32\"/>\n     <use x=\"100.195312\" xlink:href=\"#DejaVuSans-67\"/>\n     <use x=\"170.019531\" xlink:href=\"#DejaVuSans-111\"/>\n     <use x=\"231.201172\" xlink:href=\"#DejaVuSans-117\"/>\n     <use x=\"294.580078\" xlink:href=\"#DejaVuSans-110\"/>\n     <use x=\"357.958984\" xlink:href=\"#DejaVuSans-116\"/>\n     <use x=\"397.167969\" xlink:href=\"#DejaVuSans-114\"/>\n     <use x=\"438.28125\" xlink:href=\"#DejaVuSans-121\"/>\n     <use x=\"497.460938\" xlink:href=\"#DejaVuSans-32\"/>\n     <use x=\"529.248047\" xlink:href=\"#DejaVuSans-68\"/>\n     <use x=\"606.25\" xlink:href=\"#DejaVuSans-105\"/>\n     <use x=\"634.033203\" xlink:href=\"#DejaVuSans-118\"/>\n     <use x=\"693.212891\" xlink:href=\"#DejaVuSans-105\"/>\n     <use x=\"720.996094\" xlink:href=\"#DejaVuSans-100\"/>\n     <use x=\"784.472656\" xlink:href=\"#DejaVuSans-101\"/>\n     <use x=\"845.996094\" xlink:href=\"#DejaVuSans-100\"/>\n    </g>\n   </g>\n   <g id=\"legend_1\">\n    <g id=\"patch_102\">\n     <path d=\"M 272.291942 184.212732 \nL 432.912254 184.212732 \nQ 434.912254 184.212732 434.912254 182.212732 \nL 434.912254 139.178357 \nQ 434.912254 137.178357 432.912254 137.178357 \nL 272.291942 137.178357 \nQ 270.291942 137.178357 270.291942 139.178357 \nL 270.291942 182.212732 \nQ 270.291942 184.212732 272.291942 184.212732 \nz\n\" style=\"fill:none;opacity:0;\"/>\n    </g>\n    <g id=\"patch_103\">\n     <path d=\"M 274.291942 148.776795 \nL 294.291942 148.776795 \nL 294.291942 141.776795 \nL 274.291942 141.776795 \nz\n\" style=\"fill:#2196f3;stroke:#2196f3;stroke-linejoin:miter;\"/>\n    </g>\n    <g id=\"text_6\">\n     <!-- Religion IS important -->\n     <defs>\n      <path d=\"M 9.421875 75.984375 \nL 18.40625 75.984375 \nL 18.40625 0 \nL 9.421875 0 \nz\n\" id=\"DejaVuSans-108\"/>\n      <path d=\"M 45.40625 27.984375 \nQ 45.40625 37.75 41.375 43.109375 \nQ 37.359375 48.484375 30.078125 48.484375 \nQ 22.859375 48.484375 18.828125 43.109375 \nQ 14.796875 37.75 14.796875 27.984375 \nQ 14.796875 18.265625 18.828125 12.890625 \nQ 22.859375 7.515625 30.078125 7.515625 \nQ 37.359375 7.515625 41.375 12.890625 \nQ 45.40625 18.265625 45.40625 27.984375 \nz\nM 54.390625 6.78125 \nQ 54.390625 -7.171875 48.1875 -13.984375 \nQ 42 -20.796875 29.203125 -20.796875 \nQ 24.46875 -20.796875 20.265625 -20.09375 \nQ 16.0625 -19.390625 12.109375 -17.921875 \nL 12.109375 -9.1875 \nQ 16.0625 -11.328125 19.921875 -12.34375 \nQ 23.78125 -13.375 27.78125 -13.375 \nQ 36.625 -13.375 41.015625 -8.765625 \nQ 45.40625 -4.15625 45.40625 5.171875 \nL 45.40625 9.625 \nQ 42.625 4.78125 38.28125 2.390625 \nQ 33.9375 0 27.875 0 \nQ 17.828125 0 11.671875 7.65625 \nQ 5.515625 15.328125 5.515625 27.984375 \nQ 5.515625 40.671875 11.671875 48.328125 \nQ 17.828125 56 27.875 56 \nQ 33.9375 56 38.28125 53.609375 \nQ 42.625 51.21875 45.40625 46.390625 \nL 45.40625 54.6875 \nL 54.390625 54.6875 \nz\n\" id=\"DejaVuSans-103\"/>\n      <path d=\"M 9.8125 72.90625 \nL 19.671875 72.90625 \nL 19.671875 0 \nL 9.8125 0 \nz\n\" id=\"DejaVuSans-73\"/>\n      <path d=\"M 52 44.1875 \nQ 55.375 50.25 60.0625 53.125 \nQ 64.75 56 71.09375 56 \nQ 79.640625 56 84.28125 50.015625 \nQ 88.921875 44.046875 88.921875 33.015625 \nL 88.921875 0 \nL 79.890625 0 \nL 79.890625 32.71875 \nQ 79.890625 40.578125 77.09375 44.375 \nQ 74.3125 48.1875 68.609375 48.1875 \nQ 61.625 48.1875 57.5625 43.546875 \nQ 53.515625 38.921875 53.515625 30.90625 \nL 53.515625 0 \nL 44.484375 0 \nL 44.484375 32.71875 \nQ 44.484375 40.625 41.703125 44.40625 \nQ 38.921875 48.1875 33.109375 48.1875 \nQ 26.21875 48.1875 22.15625 43.53125 \nQ 18.109375 38.875 18.109375 30.90625 \nL 18.109375 0 \nL 9.078125 0 \nL 9.078125 54.6875 \nL 18.109375 54.6875 \nL 18.109375 46.1875 \nQ 21.1875 51.21875 25.484375 53.609375 \nQ 29.78125 56 35.6875 56 \nQ 41.65625 56 45.828125 52.96875 \nQ 50 49.953125 52 44.1875 \nz\n\" id=\"DejaVuSans-109\"/>\n      <path d=\"M 18.109375 8.203125 \nL 18.109375 -20.796875 \nL 9.078125 -20.796875 \nL 9.078125 54.6875 \nL 18.109375 54.6875 \nL 18.109375 46.390625 \nQ 20.953125 51.265625 25.265625 53.625 \nQ 29.59375 56 35.59375 56 \nQ 45.5625 56 51.78125 48.09375 \nQ 58.015625 40.1875 58.015625 27.296875 \nQ 58.015625 14.40625 51.78125 6.484375 \nQ 45.5625 -1.421875 35.59375 -1.421875 \nQ 29.59375 -1.421875 25.265625 0.953125 \nQ 20.953125 3.328125 18.109375 8.203125 \nz\nM 48.6875 27.296875 \nQ 48.6875 37.203125 44.609375 42.84375 \nQ 40.53125 48.484375 33.40625 48.484375 \nQ 26.265625 48.484375 22.1875 42.84375 \nQ 18.109375 37.203125 18.109375 27.296875 \nQ 18.109375 17.390625 22.1875 11.75 \nQ 26.265625 6.109375 33.40625 6.109375 \nQ 40.53125 6.109375 44.609375 11.75 \nQ 48.6875 17.390625 48.6875 27.296875 \nz\n\" id=\"DejaVuSans-112\"/>\n     </defs>\n     <g transform=\"translate(302.291942 148.776795)scale(0.1 -0.1)\">\n      <use xlink:href=\"#DejaVuSans-82\"/>\n      <use x=\"69.419922\" xlink:href=\"#DejaVuSans-101\"/>\n      <use x=\"130.943359\" xlink:href=\"#DejaVuSans-108\"/>\n      <use x=\"158.726562\" xlink:href=\"#DejaVuSans-105\"/>\n      <use x=\"186.509766\" xlink:href=\"#DejaVuSans-103\"/>\n      <use x=\"249.986328\" xlink:href=\"#DejaVuSans-105\"/>\n      <use x=\"277.769531\" xlink:href=\"#DejaVuSans-111\"/>\n      <use x=\"338.951172\" xlink:href=\"#DejaVuSans-110\"/>\n      <use x=\"402.330078\" xlink:href=\"#DejaVuSans-32\"/>\n      <use x=\"434.117188\" xlink:href=\"#DejaVuSans-73\"/>\n      <use x=\"463.609375\" xlink:href=\"#DejaVuSans-83\"/>\n      <use x=\"527.085938\" xlink:href=\"#DejaVuSans-32\"/>\n      <use x=\"558.873047\" xlink:href=\"#DejaVuSans-105\"/>\n      <use x=\"586.65625\" xlink:href=\"#DejaVuSans-109\"/>\n      <use x=\"684.068359\" xlink:href=\"#DejaVuSans-112\"/>\n      <use x=\"747.544922\" xlink:href=\"#DejaVuSans-111\"/>\n      <use x=\"808.726562\" xlink:href=\"#DejaVuSans-114\"/>\n      <use x=\"849.839844\" xlink:href=\"#DejaVuSans-116\"/>\n      <use x=\"889.048828\" xlink:href=\"#DejaVuSans-97\"/>\n      <use x=\"950.328125\" xlink:href=\"#DejaVuSans-110\"/>\n      <use x=\"1013.707031\" xlink:href=\"#DejaVuSans-116\"/>\n     </g>\n    </g>\n    <g id=\"patch_104\">\n     <path d=\"M 274.291942 163.45492 \nL 294.291942 163.45492 \nL 294.291942 156.45492 \nL 274.291942 156.45492 \nz\n\" style=\"fill:#ffffff;stroke:#ffffff;stroke-linejoin:miter;\"/>\n    </g>\n    <g id=\"text_7\">\n     <!-- Religion is NOT important -->\n     <defs>\n      <path d=\"M 9.8125 72.90625 \nL 23.09375 72.90625 \nL 55.421875 11.921875 \nL 55.421875 72.90625 \nL 64.984375 72.90625 \nL 64.984375 0 \nL 51.703125 0 \nL 19.390625 60.984375 \nL 19.390625 0 \nL 9.8125 0 \nz\n\" id=\"DejaVuSans-78\"/>\n      <path d=\"M 39.40625 66.21875 \nQ 28.65625 66.21875 22.328125 58.203125 \nQ 16.015625 50.203125 16.015625 36.375 \nQ 16.015625 22.609375 22.328125 14.59375 \nQ 28.65625 6.59375 39.40625 6.59375 \nQ 50.140625 6.59375 56.421875 14.59375 \nQ 62.703125 22.609375 62.703125 36.375 \nQ 62.703125 50.203125 56.421875 58.203125 \nQ 50.140625 66.21875 39.40625 66.21875 \nz\nM 39.40625 74.21875 \nQ 54.734375 74.21875 63.90625 63.9375 \nQ 73.09375 53.65625 73.09375 36.375 \nQ 73.09375 19.140625 63.90625 8.859375 \nQ 54.734375 -1.421875 39.40625 -1.421875 \nQ 24.03125 -1.421875 14.8125 8.828125 \nQ 5.609375 19.09375 5.609375 36.375 \nQ 5.609375 53.65625 14.8125 63.9375 \nQ 24.03125 74.21875 39.40625 74.21875 \nz\n\" id=\"DejaVuSans-79\"/>\n     </defs>\n     <g transform=\"translate(302.291942 163.45492)scale(0.1 -0.1)\">\n      <use xlink:href=\"#DejaVuSans-82\"/>\n      <use x=\"69.419922\" xlink:href=\"#DejaVuSans-101\"/>\n      <use x=\"130.943359\" xlink:href=\"#DejaVuSans-108\"/>\n      <use x=\"158.726562\" xlink:href=\"#DejaVuSans-105\"/>\n      <use x=\"186.509766\" xlink:href=\"#DejaVuSans-103\"/>\n      <use x=\"249.986328\" xlink:href=\"#DejaVuSans-105\"/>\n      <use x=\"277.769531\" xlink:href=\"#DejaVuSans-111\"/>\n      <use x=\"338.951172\" xlink:href=\"#DejaVuSans-110\"/>\n      <use x=\"402.330078\" xlink:href=\"#DejaVuSans-32\"/>\n      <use x=\"434.117188\" xlink:href=\"#DejaVuSans-105\"/>\n      <use x=\"461.900391\" xlink:href=\"#DejaVuSans-115\"/>\n      <use x=\"514\" xlink:href=\"#DejaVuSans-32\"/>\n      <use x=\"545.787109\" xlink:href=\"#DejaVuSans-78\"/>\n      <use x=\"620.591797\" xlink:href=\"#DejaVuSans-79\"/>\n      <use x=\"699.302734\" xlink:href=\"#DejaVuSans-84\"/>\n      <use x=\"760.386719\" xlink:href=\"#DejaVuSans-32\"/>\n      <use x=\"792.173828\" xlink:href=\"#DejaVuSans-105\"/>\n      <use x=\"819.957031\" xlink:href=\"#DejaVuSans-109\"/>\n      <use x=\"917.369141\" xlink:href=\"#DejaVuSans-112\"/>\n      <use x=\"980.845703\" xlink:href=\"#DejaVuSans-111\"/>\n      <use x=\"1042.027344\" xlink:href=\"#DejaVuSans-114\"/>\n      <use x=\"1083.140625\" xlink:href=\"#DejaVuSans-116\"/>\n      <use x=\"1122.349609\" xlink:href=\"#DejaVuSans-97\"/>\n      <use x=\"1183.628906\" xlink:href=\"#DejaVuSans-110\"/>\n      <use x=\"1247.007812\" xlink:href=\"#DejaVuSans-116\"/>\n     </g>\n    </g>\n    <g id=\"patch_105\">\n     <path d=\"M 274.291942 178.133045 \nL 294.291942 178.133045 \nL 294.291942 171.133045 \nL 274.291942 171.133045 \nz\n\" style=\"fill:#eeeeee;stroke:#eeeeee;stroke-linejoin:miter;\"/>\n    </g>\n   </g>\n  </g>\n  <g id=\"text_8\">\n   <!--  -->\n   <g transform=\"translate(25.2 17.038125)scale(0.12 -0.12)\"/>\n   <!--  -->\n   <g transform=\"translate(25.2 30.4755)scale(0.12 -0.12)\"/>\n   <!--  -->\n   <g transform=\"translate(25.2 43.912875)scale(0.12 -0.12)\"/>\n   <!--  Israelis who consider religion to be important are twice as likely to have  -->\n   <g transform=\"translate(25.2 57.35025)scale(0.12 -0.12)\">\n    <use xlink:href=\"#DejaVuSans-32\"/>\n    <use x=\"31.787109\" xlink:href=\"#DejaVuSans-73\"/>\n    <use x=\"61.279297\" xlink:href=\"#DejaVuSans-115\"/>\n    <use x=\"113.378906\" xlink:href=\"#DejaVuSans-114\"/>\n    <use x=\"154.492188\" xlink:href=\"#DejaVuSans-97\"/>\n    <use x=\"215.771484\" xlink:href=\"#DejaVuSans-101\"/>\n    <use x=\"277.294922\" xlink:href=\"#DejaVuSans-108\"/>\n    <use x=\"305.078125\" xlink:href=\"#DejaVuSans-105\"/>\n    <use x=\"332.861328\" xlink:href=\"#DejaVuSans-115\"/>\n    <use x=\"384.960938\" xlink:href=\"#DejaVuSans-32\"/>\n    <use x=\"416.748047\" xlink:href=\"#DejaVuSans-119\"/>\n    <use x=\"498.535156\" xlink:href=\"#DejaVuSans-104\"/>\n    <use x=\"561.914062\" xlink:href=\"#DejaVuSans-111\"/>\n    <use x=\"623.095703\" xlink:href=\"#DejaVuSans-32\"/>\n    <use x=\"654.882812\" xlink:href=\"#DejaVuSans-99\"/>\n    <use x=\"709.863281\" xlink:href=\"#DejaVuSans-111\"/>\n    <use x=\"771.044922\" xlink:href=\"#DejaVuSans-110\"/>\n    <use x=\"834.423828\" xlink:href=\"#DejaVuSans-115\"/>\n    <use x=\"886.523438\" xlink:href=\"#DejaVuSans-105\"/>\n    <use x=\"914.306641\" xlink:href=\"#DejaVuSans-100\"/>\n    <use x=\"977.783203\" xlink:href=\"#DejaVuSans-101\"/>\n    <use x=\"1039.306641\" xlink:href=\"#DejaVuSans-114\"/>\n    <use x=\"1080.419922\" xlink:href=\"#DejaVuSans-32\"/>\n    <use x=\"1112.207031\" xlink:href=\"#DejaVuSans-114\"/>\n    <use x=\"1153.289062\" xlink:href=\"#DejaVuSans-101\"/>\n    <use x=\"1214.8125\" xlink:href=\"#DejaVuSans-108\"/>\n    <use x=\"1242.595703\" xlink:href=\"#DejaVuSans-105\"/>\n    <use x=\"1270.378906\" xlink:href=\"#DejaVuSans-103\"/>\n    <use x=\"1333.855469\" xlink:href=\"#DejaVuSans-105\"/>\n    <use x=\"1361.638672\" xlink:href=\"#DejaVuSans-111\"/>\n    <use x=\"1422.820312\" xlink:href=\"#DejaVuSans-110\"/>\n    <use x=\"1486.199219\" xlink:href=\"#DejaVuSans-32\"/>\n    <use x=\"1517.986328\" xlink:href=\"#DejaVuSans-116\"/>\n    <use x=\"1557.195312\" xlink:href=\"#DejaVuSans-111\"/>\n    <use x=\"1618.376953\" xlink:href=\"#DejaVuSans-32\"/>\n    <use x=\"1650.164062\" xlink:href=\"#DejaVuSans-98\"/>\n    <use x=\"1713.640625\" xlink:href=\"#DejaVuSans-101\"/>\n    <use x=\"1775.164062\" xlink:href=\"#DejaVuSans-32\"/>\n    <use x=\"1806.951172\" xlink:href=\"#DejaVuSans-105\"/>\n    <use x=\"1834.734375\" xlink:href=\"#DejaVuSans-109\"/>\n    <use x=\"1932.146484\" xlink:href=\"#DejaVuSans-112\"/>\n    <use x=\"1995.623047\" xlink:href=\"#DejaVuSans-111\"/>\n    <use x=\"2056.804688\" xlink:href=\"#DejaVuSans-114\"/>\n    <use x=\"2097.917969\" xlink:href=\"#DejaVuSans-116\"/>\n    <use x=\"2137.126953\" xlink:href=\"#DejaVuSans-97\"/>\n    <use x=\"2198.40625\" xlink:href=\"#DejaVuSans-110\"/>\n    <use x=\"2261.785156\" xlink:href=\"#DejaVuSans-116\"/>\n    <use x=\"2300.994141\" xlink:href=\"#DejaVuSans-32\"/>\n    <use x=\"2332.78125\" xlink:href=\"#DejaVuSans-97\"/>\n    <use x=\"2394.060547\" xlink:href=\"#DejaVuSans-114\"/>\n    <use x=\"2435.142578\" xlink:href=\"#DejaVuSans-101\"/>\n    <use x=\"2496.666016\" xlink:href=\"#DejaVuSans-32\"/>\n    <use x=\"2528.453125\" xlink:href=\"#DejaVuSans-116\"/>\n    <use x=\"2567.662109\" xlink:href=\"#DejaVuSans-119\"/>\n    <use x=\"2649.449219\" xlink:href=\"#DejaVuSans-105\"/>\n    <use x=\"2677.232422\" xlink:href=\"#DejaVuSans-99\"/>\n    <use x=\"2732.212891\" xlink:href=\"#DejaVuSans-101\"/>\n    <use x=\"2793.736328\" xlink:href=\"#DejaVuSans-32\"/>\n    <use x=\"2825.523438\" xlink:href=\"#DejaVuSans-97\"/>\n    <use x=\"2886.802734\" xlink:href=\"#DejaVuSans-115\"/>\n    <use x=\"2938.902344\" xlink:href=\"#DejaVuSans-32\"/>\n    <use x=\"2970.689453\" xlink:href=\"#DejaVuSans-108\"/>\n    <use x=\"2998.472656\" xlink:href=\"#DejaVuSans-105\"/>\n    <use x=\"3026.255859\" xlink:href=\"#DejaVuSans-107\"/>\n    <use x=\"3084.119141\" xlink:href=\"#DejaVuSans-101\"/>\n    <use x=\"3145.642578\" xlink:href=\"#DejaVuSans-108\"/>\n    <use x=\"3173.425781\" xlink:href=\"#DejaVuSans-121\"/>\n    <use x=\"3232.605469\" xlink:href=\"#DejaVuSans-32\"/>\n    <use x=\"3264.392578\" xlink:href=\"#DejaVuSans-116\"/>\n    <use x=\"3303.601562\" xlink:href=\"#DejaVuSans-111\"/>\n    <use x=\"3364.783203\" xlink:href=\"#DejaVuSans-32\"/>\n    <use x=\"3396.570312\" xlink:href=\"#DejaVuSans-104\"/>\n    <use x=\"3459.949219\" xlink:href=\"#DejaVuSans-97\"/>\n    <use x=\"3521.228516\" xlink:href=\"#DejaVuSans-118\"/>\n    <use x=\"3580.408203\" xlink:href=\"#DejaVuSans-101\"/>\n    <use x=\"3641.931641\" xlink:href=\"#DejaVuSans-32\"/>\n   </g>\n   <!--  unaccepting views towards homosexuality than those who don't. -->\n   <defs>\n    <path d=\"M 54.890625 54.6875 \nL 35.109375 28.078125 \nL 55.90625 0 \nL 45.3125 0 \nL 29.390625 21.484375 \nL 13.484375 0 \nL 2.875 0 \nL 24.125 28.609375 \nL 4.6875 54.6875 \nL 15.28125 54.6875 \nL 29.78125 35.203125 \nL 44.28125 54.6875 \nz\n\" id=\"DejaVuSans-120\"/>\n    <path d=\"M 17.921875 72.90625 \nL 17.921875 45.796875 \nL 9.625 45.796875 \nL 9.625 72.90625 \nz\n\" id=\"DejaVuSans-39\"/>\n    <path d=\"M 10.6875 12.40625 \nL 21 12.40625 \nL 21 0 \nL 10.6875 0 \nz\n\" id=\"DejaVuSans-46\"/>\n   </defs>\n   <g transform=\"translate(25.2 70.787625)scale(0.12 -0.12)\">\n    <use xlink:href=\"#DejaVuSans-32\"/>\n    <use x=\"31.787109\" xlink:href=\"#DejaVuSans-117\"/>\n    <use x=\"95.166016\" xlink:href=\"#DejaVuSans-110\"/>\n    <use x=\"158.544922\" xlink:href=\"#DejaVuSans-97\"/>\n    <use x=\"219.824219\" xlink:href=\"#DejaVuSans-99\"/>\n    <use x=\"274.804688\" xlink:href=\"#DejaVuSans-99\"/>\n    <use x=\"329.785156\" xlink:href=\"#DejaVuSans-101\"/>\n    <use x=\"391.308594\" xlink:href=\"#DejaVuSans-112\"/>\n    <use x=\"454.785156\" xlink:href=\"#DejaVuSans-116\"/>\n    <use x=\"493.994141\" xlink:href=\"#DejaVuSans-105\"/>\n    <use x=\"521.777344\" xlink:href=\"#DejaVuSans-110\"/>\n    <use x=\"585.15625\" xlink:href=\"#DejaVuSans-103\"/>\n    <use x=\"648.632812\" xlink:href=\"#DejaVuSans-32\"/>\n    <use x=\"680.419922\" xlink:href=\"#DejaVuSans-118\"/>\n    <use x=\"739.599609\" xlink:href=\"#DejaVuSans-105\"/>\n    <use x=\"767.382812\" xlink:href=\"#DejaVuSans-101\"/>\n    <use x=\"828.90625\" xlink:href=\"#DejaVuSans-119\"/>\n    <use x=\"910.693359\" xlink:href=\"#DejaVuSans-115\"/>\n    <use x=\"962.792969\" xlink:href=\"#DejaVuSans-32\"/>\n    <use x=\"994.580078\" xlink:href=\"#DejaVuSans-116\"/>\n    <use x=\"1033.789062\" xlink:href=\"#DejaVuSans-111\"/>\n    <use x=\"1094.970703\" xlink:href=\"#DejaVuSans-119\"/>\n    <use x=\"1176.757812\" xlink:href=\"#DejaVuSans-97\"/>\n    <use x=\"1238.037109\" xlink:href=\"#DejaVuSans-114\"/>\n    <use x=\"1279.134766\" xlink:href=\"#DejaVuSans-100\"/>\n    <use x=\"1342.611328\" xlink:href=\"#DejaVuSans-115\"/>\n    <use x=\"1394.710938\" xlink:href=\"#DejaVuSans-32\"/>\n    <use x=\"1426.498047\" xlink:href=\"#DejaVuSans-104\"/>\n    <use x=\"1489.876953\" xlink:href=\"#DejaVuSans-111\"/>\n    <use x=\"1551.058594\" xlink:href=\"#DejaVuSans-109\"/>\n    <use x=\"1648.470703\" xlink:href=\"#DejaVuSans-111\"/>\n    <use x=\"1709.652344\" xlink:href=\"#DejaVuSans-115\"/>\n    <use x=\"1761.751953\" xlink:href=\"#DejaVuSans-101\"/>\n    <use x=\"1823.259766\" xlink:href=\"#DejaVuSans-120\"/>\n    <use x=\"1882.439453\" xlink:href=\"#DejaVuSans-117\"/>\n    <use x=\"1945.818359\" xlink:href=\"#DejaVuSans-97\"/>\n    <use x=\"2007.097656\" xlink:href=\"#DejaVuSans-108\"/>\n    <use x=\"2034.880859\" xlink:href=\"#DejaVuSans-105\"/>\n    <use x=\"2062.664062\" xlink:href=\"#DejaVuSans-116\"/>\n    <use x=\"2101.873047\" xlink:href=\"#DejaVuSans-121\"/>\n    <use x=\"2161.052734\" xlink:href=\"#DejaVuSans-32\"/>\n    <use x=\"2192.839844\" xlink:href=\"#DejaVuSans-116\"/>\n    <use x=\"2232.048828\" xlink:href=\"#DejaVuSans-104\"/>\n    <use x=\"2295.427734\" xlink:href=\"#DejaVuSans-97\"/>\n    <use x=\"2356.707031\" xlink:href=\"#DejaVuSans-110\"/>\n    <use x=\"2420.085938\" xlink:href=\"#DejaVuSans-32\"/>\n    <use x=\"2451.873047\" xlink:href=\"#DejaVuSans-116\"/>\n    <use x=\"2491.082031\" xlink:href=\"#DejaVuSans-104\"/>\n    <use x=\"2554.460938\" xlink:href=\"#DejaVuSans-111\"/>\n    <use x=\"2615.642578\" xlink:href=\"#DejaVuSans-115\"/>\n    <use x=\"2667.742188\" xlink:href=\"#DejaVuSans-101\"/>\n    <use x=\"2729.265625\" xlink:href=\"#DejaVuSans-32\"/>\n    <use x=\"2761.052734\" xlink:href=\"#DejaVuSans-119\"/>\n    <use x=\"2842.839844\" xlink:href=\"#DejaVuSans-104\"/>\n    <use x=\"2906.21875\" xlink:href=\"#DejaVuSans-111\"/>\n    <use x=\"2967.400391\" xlink:href=\"#DejaVuSans-32\"/>\n    <use x=\"2999.1875\" xlink:href=\"#DejaVuSans-100\"/>\n    <use x=\"3062.664062\" xlink:href=\"#DejaVuSans-111\"/>\n    <use x=\"3123.845703\" xlink:href=\"#DejaVuSans-110\"/>\n    <use x=\"3187.224609\" xlink:href=\"#DejaVuSans-39\"/>\n    <use x=\"3214.714844\" xlink:href=\"#DejaVuSans-116\"/>\n    <use x=\"3253.923828\" xlink:href=\"#DejaVuSans-46\"/>\n   </g>\n  </g>\n </g>\n <defs>\n  <clipPath id=\"p557f1d3ff2\">\n   <rect height=\"401.773656\" width=\"401.773656\" x=\"30.103125\" y=\"136.196094\"/>\n  </clipPath>\n </defs>\n</svg>\n",
      "image/png": "[encoded data removed]"
     },
     "metadata": {}
    }
   ],
   "source": [
    "import pandas as pd\n",
    "from pywaffle import Waffle\n",
    "\n",
    "fig = plt.figure(\n",
    "    FigureClass = Waffle,\n",
    "    rows=10, \n",
    "    columns=10, \n",
    "    # values=[22, 40, 38],\n",
    "    values = {'Religion IS important': 22, 'Religion is NOT important': 40, '': 38},\n",
    "    colors=(\"#2196f3\", \"white\", \"#EEEEEE\"),\n",
    "    legend={'framealpha': 0, 'bbox_to_anchor': (1.02, 1.01)},\n",
    "    figsize=(8, 8),\n",
    ")\n",
    "fig.set_facecolor('#EEEEEE')\n",
    "plt.title('A Country Divided', loc = 'left', fontdict = {'fontsize': 25}, pad = 110)\n",
    "plt.suptitle(\"\"\"\\n\\n\\n Israelis who consider religion to be important are twice as likely to have \\n unaccepting views towards homosexuality than those who don't.\"\"\", ha = 'left', x = 0.05)\n",
    "plt.text(0, 1.05, '% who say homosexuality should be accepted by society', color = 'black', fontweight = 'bold')\n",
    "plt.text(0.21, 0.035, '22%', color = 'white', fontsize = 12)\n",
    "plt.text(0.62, 0.035, '62%', color = \"#2196f3\", fontsize = 12)\n",
    "plt.text(0.4, -0.05, 'Data Source: Pew Research Centre | Created by: Jack Tann (@jacktann3)', fontsize = 8)\n",
    "plt.show()"
   ]
  },
  {
   "cell_type": "code",
   "execution_count": null,
   "metadata": {},
   "outputs": [],
   "source": []
  }
 ]
}