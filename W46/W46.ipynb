{
 "metadata": {
  "language_info": {
   "codemirror_mode": {
    "name": "ipython",
    "version": 3
   },
   "file_extension": ".py",
   "mimetype": "text/x-python",
   "name": "python",
   "nbconvert_exporter": "python",
   "pygments_lexer": "ipython3",
   "version": "3.8.3-final"
  },
  "orig_nbformat": 2,
  "kernelspec": {
   "name": "python3",
   "display_name": "Python 3"
  }
 },
 "nbformat": 4,
 "nbformat_minor": 2,
 "cells": [
  {
   "cell_type": "code",
   "execution_count": 1,
   "metadata": {},
   "outputs": [],
   "source": [
    "import numpy as np\n",
    "import pandas as pd"
   ]
  },
  {
   "cell_type": "code",
   "execution_count": 2,
   "metadata": {},
   "outputs": [],
   "source": [
    "df = pd.read_excel('https://query.data.world/s/rvag7de6nxmo5pradcjaxlx67sinj6')"
   ]
  },
  {
   "cell_type": "code",
   "execution_count": 3,
   "metadata": {},
   "outputs": [],
   "source": [
    "df_melted = df.melt(df.columns[:2], df.columns[2:], var_name = 'Year', value_name = 'Spend')\n",
    "\n",
    "df_melted['Type'] = df_melted['Type'].map(lambda x: 'Internet' if x == 'Pure-Play Internet' else x)\n",
    "\n",
    "df_melted = df_melted.loc[(df_melted['Type'] != 'Total TV') & (df_melted['Type'] != 'Media total')]\n",
    "\n",
    "df_reduced = df_melted.groupby(['Type', 'Year'])['Spend'].sum().reset_index()"
   ]
  },
  {
   "cell_type": "code",
   "execution_count": 4,
   "metadata": {},
   "outputs": [],
   "source": [
    "spend_weights = [0] + [1 / (1 + np.exp(-x)) for x in np.arange(-5, 5.5, 0.5)] + [1]\n",
    "year_incriments = [i/len(spend_weights) for i in range(len(spend_weights))]\n",
    "\n",
    "df_reduced['Past Year'] = df_reduced['Year'].map(lambda x: x - 1)\n",
    "df_merged = pd.merge(df_reduced, df_reduced, left_on = ['Type', 'Year'], right_on = ['Type', 'Past Year'])\n",
    "\n",
    "df_merged.rename(columns = {\n",
    "    'Type': 'type',\n",
    "    'Year_x': 'year',\n",
    "    'Spend_x': 'spend',\n",
    "    'Spend_y': 'next_spend'}, inplace = True)"
   ]
  },
  {
   "cell_type": "code",
   "execution_count": 5,
   "metadata": {},
   "outputs": [],
   "source": [
    "spend_weights = [1 / (1 + np.exp(-x)) for x in np.arange(-5, 5.5, 0.5)] + [1]\n",
    "\n",
    "adjusted_spends = []\n",
    "for index, row in df_merged.iterrows():\n",
    "    for i in range(1, len(spend_weights) + 1):\n",
    "        adjusted_year = row['year'] + i / len(spend_weights)\n",
    "        adjusted_spend = row['spend'] + ((row['next_spend'] - row['spend']) * spend_weights[i - 1])\n",
    "        adjusted_spends.append({'type': row['type'], 'year': adjusted_year, 'spend': adjusted_spend})\n",
    "\n",
    "df_adjusted = pd.DataFrame(adjusted_spends)"
   ]
  },
  {
   "cell_type": "code",
   "execution_count": 21,
   "metadata": {},
   "outputs": [],
   "source": [
    "max_year_spend = df_reduced.groupby(['Year'])['Spend'].sum().max()\n",
    "total_year_spend_gaps = (max_year_spend - df_adjusted.groupby(['year'])['spend'].sum()).reset_index()\n",
    "dummy_year_spends = []\n",
    "for index, row in total_year_spend_gaps.iterrows():\n",
    "    for dummy_type in ['dummy_1', 'dummy_2']:\n",
    "        dummy_spend = row['spend'] / 2\n",
    "        dummy_year_spends.append({'type': dummy_type, 'year': row['year'], 'spend': dummy_spend})\n",
    "\n",
    "dummy_year_spends = pd.DataFrame(dummy_year_spends)\n",
    "\n",
    "df_final = pd.concat([df_adjusted, dummy_year_spends])\n",
    "\n",
    "df_final = df_final.reset_index().drop(columns = ['index'])"
   ]
  },
  {
   "cell_type": "code",
   "execution_count": 25,
   "metadata": {},
   "outputs": [
    {
     "output_type": "execute_result",
     "data": {
      "text/plain": [
       "          type         year         spend\n",
       "0     Internet  2012.045455  5.683022e+10\n",
       "1     Internet  2012.090909  5.686885e+10\n",
       "2     Internet  2012.136364  5.693182e+10\n",
       "3     Internet  2012.181818  5.703372e+10\n",
       "4     Internet  2012.227273  5.719669e+10\n",
       "...        ...          ...           ...\n",
       "2107   dummy_2  2023.909091  9.042968e+07\n",
       "2108   dummy_1  2023.954545  5.508651e+07\n",
       "2109   dummy_2  2023.954545  5.508651e+07\n",
       "2110   dummy_1  2024.000000  0.000000e+00\n",
       "2111   dummy_2  2024.000000  0.000000e+00\n",
       "\n",
       "[2112 rows x 3 columns]"
      ],
      "text/html": "<div>\n<style scoped>\n    .dataframe tbody tr th:only-of-type {\n        vertical-align: middle;\n    }\n\n    .dataframe tbody tr th {\n        vertical-align: top;\n    }\n\n    .dataframe thead th {\n        text-align: right;\n    }\n</style>\n<table border=\"1\" class=\"dataframe\">\n  <thead>\n    <tr style=\"text-align: right;\">\n      <th></th>\n      <th>type</th>\n      <th>year</th>\n      <th>spend</th>\n    </tr>\n  </thead>\n  <tbody>\n    <tr>\n      <th>0</th>\n      <td>Internet</td>\n      <td>2012.045455</td>\n      <td>5.683022e+10</td>\n    </tr>\n    <tr>\n      <th>1</th>\n      <td>Internet</td>\n      <td>2012.090909</td>\n      <td>5.686885e+10</td>\n    </tr>\n    <tr>\n      <th>2</th>\n      <td>Internet</td>\n      <td>2012.136364</td>\n      <td>5.693182e+10</td>\n    </tr>\n    <tr>\n      <th>3</th>\n      <td>Internet</td>\n      <td>2012.181818</td>\n      <td>5.703372e+10</td>\n    </tr>\n    <tr>\n      <th>4</th>\n      <td>Internet</td>\n      <td>2012.227273</td>\n      <td>5.719669e+10</td>\n    </tr>\n    <tr>\n      <th>...</th>\n      <td>...</td>\n      <td>...</td>\n      <td>...</td>\n    </tr>\n    <tr>\n      <th>2107</th>\n      <td>dummy_2</td>\n      <td>2023.909091</td>\n      <td>9.042968e+07</td>\n    </tr>\n    <tr>\n      <th>2108</th>\n      <td>dummy_1</td>\n      <td>2023.954545</td>\n      <td>5.508651e+07</td>\n    </tr>\n    <tr>\n      <th>2109</th>\n      <td>dummy_2</td>\n      <td>2023.954545</td>\n      <td>5.508651e+07</td>\n    </tr>\n    <tr>\n      <th>2110</th>\n      <td>dummy_1</td>\n      <td>2024.000000</td>\n      <td>0.000000e+00</td>\n    </tr>\n    <tr>\n      <th>2111</th>\n      <td>dummy_2</td>\n      <td>2024.000000</td>\n      <td>0.000000e+00</td>\n    </tr>\n  </tbody>\n</table>\n<p>2112 rows × 3 columns</p>\n</div>"
     },
     "metadata": {},
     "execution_count": 25
    }
   ],
   "source": [
    "df_final"
   ]
  },
  {
   "cell_type": "code",
   "execution_count": 27,
   "metadata": {},
   "outputs": [],
   "source": [
    "df_final.to_csv('W46.csv', index = False)"
   ]
  },
  {
   "cell_type": "code",
   "execution_count": null,
   "metadata": {},
   "outputs": [],
   "source": []
  }
 ]
}