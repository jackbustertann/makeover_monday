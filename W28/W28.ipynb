{
 "cells": [
  {
   "cell_type": "code",
   "execution_count": 1,
   "metadata": {},
   "outputs": [],
   "source": [
    "import numpy as np\n",
    "import pandas as pd\n",
    "import matplotlib.pyplot as plt\n",
    "import seaborn as sns\n",
    "import plotly.graph_objects as go\n",
    "import plotly.express as px\n",
    "from jupyter_dash import JupyterDash\n",
    "import dash_core_components as dcc\n",
    "import dash_bootstrap_components as dbc\n",
    "import dash_html_components as html\n",
    "from dash.dependencies import Input, Output"
   ]
  },
  {
   "cell_type": "code",
   "execution_count": 2,
   "metadata": {},
   "outputs": [],
   "source": [
    "df = pd.read_excel('https://query.data.world/s/l2umdny2hjfu7jmo6f4wroj6t33ssi')"
   ]
  },
  {
   "cell_type": "code",
   "execution_count": 3,
   "metadata": {
    "tags": []
   },
   "outputs": [],
   "source": [
    "df.drop(columns = ['studyName', 'Sample Number', 'Region', 'Stage', 'Clutch Completion', 'Date Egg', 'Delta 15 N (o/oo)', 'Delta 13 C (o/oo)', 'Comments'], inplace = True)"
   ]
  },
  {
   "cell_type": "code",
   "execution_count": 4,
   "metadata": {},
   "outputs": [],
   "source": [
    "df['Species'] = df.Species.map(lambda x: x.split(' ')[0])\n",
    "df['Sex'] = df.Sex.fillna('.').map(lambda x: 'UNKNOWN' if x == '.' else x)\n",
    "df.dropna(inplace = True)"
   ]
  },
  {
   "cell_type": "code",
   "execution_count": 5,
   "metadata": {},
   "outputs": [
    {
     "output_type": "execute_result",
     "data": {
      "text/plain": "           Culmen Length (mm)  Culmen Depth (mm)  Flipper Length (mm)  \\\nSpecies                                                                 \nAdelie              38.791391          18.346358           189.953642   \nChinstrap           48.833824          18.420588           195.823529   \nGentoo              47.504878          14.982114           217.186992   \n\n           Body Mass (g)  \nSpecies                   \nAdelie       3700.662252  \nChinstrap    3733.088235  \nGentoo       5076.016260  ",
      "text/html": "<div>\n<style scoped>\n    .dataframe tbody tr th:only-of-type {\n        vertical-align: middle;\n    }\n\n    .dataframe tbody tr th {\n        vertical-align: top;\n    }\n\n    .dataframe thead th {\n        text-align: right;\n    }\n</style>\n<table border=\"1\" class=\"dataframe\">\n  <thead>\n    <tr style=\"text-align: right;\">\n      <th></th>\n      <th>Culmen Length (mm)</th>\n      <th>Culmen Depth (mm)</th>\n      <th>Flipper Length (mm)</th>\n      <th>Body Mass (g)</th>\n    </tr>\n    <tr>\n      <th>Species</th>\n      <th></th>\n      <th></th>\n      <th></th>\n      <th></th>\n    </tr>\n  </thead>\n  <tbody>\n    <tr>\n      <th>Adelie</th>\n      <td>38.791391</td>\n      <td>18.346358</td>\n      <td>189.953642</td>\n      <td>3700.662252</td>\n    </tr>\n    <tr>\n      <th>Chinstrap</th>\n      <td>48.833824</td>\n      <td>18.420588</td>\n      <td>195.823529</td>\n      <td>3733.088235</td>\n    </tr>\n    <tr>\n      <th>Gentoo</th>\n      <td>47.504878</td>\n      <td>14.982114</td>\n      <td>217.186992</td>\n      <td>5076.016260</td>\n    </tr>\n  </tbody>\n</table>\n</div>"
     },
     "metadata": {},
     "execution_count": 5
    }
   ],
   "source": [
    "df.groupby(['Species']).mean()"
   ]
  },
  {
   "cell_type": "code",
   "execution_count": 6,
   "metadata": {},
   "outputs": [
    {
     "output_type": "execute_result",
     "data": {
      "text/plain": "                  Culmen Length (mm)  Culmen Depth (mm)  Flipper Length (mm)  \\\nSpecies   Sex                                                                  \nAdelie    FEMALE           37.257534          17.621918           187.794521   \n          MALE             40.390411          19.072603           192.410959   \nChinstrap FEMALE           46.573529          17.588235           191.735294   \n          MALE             51.094118          19.252941           199.911765   \nGentoo    FEMALE           45.563793          14.237931           212.706897   \n          MALE             49.473770          15.718033           221.540984   \n\n                  Body Mass (g)  \nSpecies   Sex                    \nAdelie    FEMALE    3368.835616  \n          MALE      4043.493151  \nChinstrap FEMALE    3527.205882  \n          MALE      3938.970588  \nGentoo    FEMALE    4679.741379  \n          MALE      5484.836066  ",
      "text/html": "<div>\n<style scoped>\n    .dataframe tbody tr th:only-of-type {\n        vertical-align: middle;\n    }\n\n    .dataframe tbody tr th {\n        vertical-align: top;\n    }\n\n    .dataframe thead th {\n        text-align: right;\n    }\n</style>\n<table border=\"1\" class=\"dataframe\">\n  <thead>\n    <tr style=\"text-align: right;\">\n      <th></th>\n      <th></th>\n      <th>Culmen Length (mm)</th>\n      <th>Culmen Depth (mm)</th>\n      <th>Flipper Length (mm)</th>\n      <th>Body Mass (g)</th>\n    </tr>\n    <tr>\n      <th>Species</th>\n      <th>Sex</th>\n      <th></th>\n      <th></th>\n      <th></th>\n      <th></th>\n    </tr>\n  </thead>\n  <tbody>\n    <tr>\n      <th rowspan=\"2\" valign=\"top\">Adelie</th>\n      <th>FEMALE</th>\n      <td>37.257534</td>\n      <td>17.621918</td>\n      <td>187.794521</td>\n      <td>3368.835616</td>\n    </tr>\n    <tr>\n      <th>MALE</th>\n      <td>40.390411</td>\n      <td>19.072603</td>\n      <td>192.410959</td>\n      <td>4043.493151</td>\n    </tr>\n    <tr>\n      <th rowspan=\"2\" valign=\"top\">Chinstrap</th>\n      <th>FEMALE</th>\n      <td>46.573529</td>\n      <td>17.588235</td>\n      <td>191.735294</td>\n      <td>3527.205882</td>\n    </tr>\n    <tr>\n      <th>MALE</th>\n      <td>51.094118</td>\n      <td>19.252941</td>\n      <td>199.911765</td>\n      <td>3938.970588</td>\n    </tr>\n    <tr>\n      <th rowspan=\"2\" valign=\"top\">Gentoo</th>\n      <th>FEMALE</th>\n      <td>45.563793</td>\n      <td>14.237931</td>\n      <td>212.706897</td>\n      <td>4679.741379</td>\n    </tr>\n    <tr>\n      <th>MALE</th>\n      <td>49.473770</td>\n      <td>15.718033</td>\n      <td>221.540984</td>\n      <td>5484.836066</td>\n    </tr>\n  </tbody>\n</table>\n</div>"
     },
     "metadata": {},
     "execution_count": 6
    }
   ],
   "source": [
    "df.loc[df.Sex != 'UNKNOWN'].groupby(['Species', 'Sex']).mean()"
   ]
  },
  {
   "cell_type": "code",
   "execution_count": 7,
   "metadata": {},
   "outputs": [
    {
     "output_type": "execute_result",
     "data": {
      "text/plain": "Island     Species  \nBiscoe     Adelie        44\n           Gentoo       123\nDream      Adelie        56\n           Chinstrap     68\nTorgersen  Adelie        51\nName: Culmen Length (mm), dtype: int64"
     },
     "metadata": {},
     "execution_count": 7
    }
   ],
   "source": [
    "df.groupby(['Island', 'Species']).count().iloc[:,1]"
   ]
  },
  {
   "cell_type": "code",
   "execution_count": 8,
   "metadata": {},
   "outputs": [
    {
     "output_type": "display_data",
     "data": {
      "text/plain": "<Figure size 432x288 with 1 Axes>",
      "image/svg+xml": "<?xml version=\"1.0\" encoding=\"utf-8\" standalone=\"no\"?>\n<!DOCTYPE svg PUBLIC \"-//W3C//DTD SVG 1.1//EN\"\n  \"http://www.w3.org/Graphics/SVG/1.1/DTD/svg11.dtd\">\n<!-- Created with matplotlib (https://matplotlib.org/) -->\n<svg height=\"238.84pt\" version=\"1.1\" viewBox=\"0 0 398.828125 238.84\" width=\"398.828125pt\" xmlns=\"http://www.w3.org/2000/svg\" xmlns:xlink=\"http://www.w3.org/1999/xlink\">\n <defs>\n  <style type=\"text/css\">\n*{stroke-linecap:butt;stroke-linejoin:round;}\n  </style>\n </defs>\n <g id=\"figure_1\">\n  <g id=\"patch_1\">\n   <path d=\"M 0 238.84 \nL 398.828125 238.84 \nL 398.828125 0 \nL 0 0 \nz\n\" style=\"fill:none;\"/>\n  </g>\n  <g id=\"axes_1\">\n   <g id=\"patch_2\">\n    <path d=\"M 53.328125 228.14 \nL 388.128125 228.14 \nL 388.128125 10.7 \nL 53.328125 10.7 \nz\n\" style=\"fill:#ffffff;\"/>\n   </g>\n   <g id=\"matplotlib.axis_1\">\n    <g id=\"xtick_1\">\n     <g id=\"line2d_1\">\n      <defs>\n       <path d=\"M 0 0 \nL 0 3.5 \n\" id=\"m2fc4643ba0\" style=\"stroke:#000000;stroke-width:0.8;\"/>\n      </defs>\n      <g>\n       <use style=\"stroke:#000000;stroke-width:0.8;\" x=\"220.728125\" xlink:href=\"#m2fc4643ba0\" y=\"228.14\"/>\n      </g>\n     </g>\n    </g>\n   </g>\n   <g id=\"matplotlib.axis_2\">\n    <g id=\"ytick_1\">\n     <g id=\"line2d_2\">\n      <defs>\n       <path d=\"M 0 0 \nL -3.5 0 \n\" id=\"mf37b9f18da\" style=\"stroke:#000000;stroke-width:0.8;\"/>\n      </defs>\n      <g>\n       <use style=\"stroke:#000000;stroke-width:0.8;\" x=\"53.328125\" xlink:href=\"#mf37b9f18da\" y=\"218.657111\"/>\n      </g>\n     </g>\n     <g id=\"text_1\">\n      <!-- 0 -->\n      <defs>\n       <path d=\"M 31.78125 66.40625 \nQ 24.171875 66.40625 20.328125 58.90625 \nQ 16.5 51.421875 16.5 36.375 \nQ 16.5 21.390625 20.328125 13.890625 \nQ 24.171875 6.390625 31.78125 6.390625 \nQ 39.453125 6.390625 43.28125 13.890625 \nQ 47.125 21.390625 47.125 36.375 \nQ 47.125 51.421875 43.28125 58.90625 \nQ 39.453125 66.40625 31.78125 66.40625 \nz\nM 31.78125 74.21875 \nQ 44.046875 74.21875 50.515625 64.515625 \nQ 56.984375 54.828125 56.984375 36.375 \nQ 56.984375 17.96875 50.515625 8.265625 \nQ 44.046875 -1.421875 31.78125 -1.421875 \nQ 19.53125 -1.421875 13.0625 8.265625 \nQ 6.59375 17.96875 6.59375 36.375 \nQ 6.59375 54.828125 13.0625 64.515625 \nQ 19.53125 74.21875 31.78125 74.21875 \nz\n\" id=\"DejaVuSans-48\"/>\n      </defs>\n      <g transform=\"translate(39.965625 222.456329)scale(0.1 -0.1)\">\n       <use xlink:href=\"#DejaVuSans-48\"/>\n      </g>\n     </g>\n    </g>\n    <g id=\"ytick_2\">\n     <g id=\"line2d_3\">\n      <g>\n       <use style=\"stroke:#000000;stroke-width:0.8;\" x=\"53.328125\" xlink:href=\"#mf37b9f18da\" y=\"187.230683\"/>\n      </g>\n     </g>\n     <g id=\"text_2\">\n      <!-- 1000 -->\n      <defs>\n       <path d=\"M 12.40625 8.296875 \nL 28.515625 8.296875 \nL 28.515625 63.921875 \nL 10.984375 60.40625 \nL 10.984375 69.390625 \nL 28.421875 72.90625 \nL 38.28125 72.90625 \nL 38.28125 8.296875 \nL 54.390625 8.296875 \nL 54.390625 0 \nL 12.40625 0 \nz\n\" id=\"DejaVuSans-49\"/>\n      </defs>\n      <g transform=\"translate(20.878125 191.029902)scale(0.1 -0.1)\">\n       <use xlink:href=\"#DejaVuSans-49\"/>\n       <use x=\"63.623047\" xlink:href=\"#DejaVuSans-48\"/>\n       <use x=\"127.246094\" xlink:href=\"#DejaVuSans-48\"/>\n       <use x=\"190.869141\" xlink:href=\"#DejaVuSans-48\"/>\n      </g>\n     </g>\n    </g>\n    <g id=\"ytick_3\">\n     <g id=\"line2d_4\">\n      <g>\n       <use style=\"stroke:#000000;stroke-width:0.8;\" x=\"53.328125\" xlink:href=\"#mf37b9f18da\" y=\"155.804255\"/>\n      </g>\n     </g>\n     <g id=\"text_3\">\n      <!-- 2000 -->\n      <defs>\n       <path d=\"M 19.1875 8.296875 \nL 53.609375 8.296875 \nL 53.609375 0 \nL 7.328125 0 \nL 7.328125 8.296875 \nQ 12.9375 14.109375 22.625 23.890625 \nQ 32.328125 33.6875 34.8125 36.53125 \nQ 39.546875 41.84375 41.421875 45.53125 \nQ 43.3125 49.21875 43.3125 52.78125 \nQ 43.3125 58.59375 39.234375 62.25 \nQ 35.15625 65.921875 28.609375 65.921875 \nQ 23.96875 65.921875 18.8125 64.3125 \nQ 13.671875 62.703125 7.8125 59.421875 \nL 7.8125 69.390625 \nQ 13.765625 71.78125 18.9375 73 \nQ 24.125 74.21875 28.421875 74.21875 \nQ 39.75 74.21875 46.484375 68.546875 \nQ 53.21875 62.890625 53.21875 53.421875 \nQ 53.21875 48.921875 51.53125 44.890625 \nQ 49.859375 40.875 45.40625 35.40625 \nQ 44.1875 33.984375 37.640625 27.21875 \nQ 31.109375 20.453125 19.1875 8.296875 \nz\n\" id=\"DejaVuSans-50\"/>\n      </defs>\n      <g transform=\"translate(20.878125 159.603474)scale(0.1 -0.1)\">\n       <use xlink:href=\"#DejaVuSans-50\"/>\n       <use x=\"63.623047\" xlink:href=\"#DejaVuSans-48\"/>\n       <use x=\"127.246094\" xlink:href=\"#DejaVuSans-48\"/>\n       <use x=\"190.869141\" xlink:href=\"#DejaVuSans-48\"/>\n      </g>\n     </g>\n    </g>\n    <g id=\"ytick_4\">\n     <g id=\"line2d_5\">\n      <g>\n       <use style=\"stroke:#000000;stroke-width:0.8;\" x=\"53.328125\" xlink:href=\"#mf37b9f18da\" y=\"124.377827\"/>\n      </g>\n     </g>\n     <g id=\"text_4\">\n      <!-- 3000 -->\n      <defs>\n       <path d=\"M 40.578125 39.3125 \nQ 47.65625 37.796875 51.625 33 \nQ 55.609375 28.21875 55.609375 21.1875 \nQ 55.609375 10.40625 48.1875 4.484375 \nQ 40.765625 -1.421875 27.09375 -1.421875 \nQ 22.515625 -1.421875 17.65625 -0.515625 \nQ 12.796875 0.390625 7.625 2.203125 \nL 7.625 11.71875 \nQ 11.71875 9.328125 16.59375 8.109375 \nQ 21.484375 6.890625 26.8125 6.890625 \nQ 36.078125 6.890625 40.9375 10.546875 \nQ 45.796875 14.203125 45.796875 21.1875 \nQ 45.796875 27.640625 41.28125 31.265625 \nQ 36.765625 34.90625 28.71875 34.90625 \nL 20.21875 34.90625 \nL 20.21875 43.015625 \nL 29.109375 43.015625 \nQ 36.375 43.015625 40.234375 45.921875 \nQ 44.09375 48.828125 44.09375 54.296875 \nQ 44.09375 59.90625 40.109375 62.90625 \nQ 36.140625 65.921875 28.71875 65.921875 \nQ 24.65625 65.921875 20.015625 65.03125 \nQ 15.375 64.15625 9.8125 62.3125 \nL 9.8125 71.09375 \nQ 15.4375 72.65625 20.34375 73.4375 \nQ 25.25 74.21875 29.59375 74.21875 \nQ 40.828125 74.21875 47.359375 69.109375 \nQ 53.90625 64.015625 53.90625 55.328125 \nQ 53.90625 49.265625 50.4375 45.09375 \nQ 46.96875 40.921875 40.578125 39.3125 \nz\n\" id=\"DejaVuSans-51\"/>\n      </defs>\n      <g transform=\"translate(20.878125 128.177046)scale(0.1 -0.1)\">\n       <use xlink:href=\"#DejaVuSans-51\"/>\n       <use x=\"63.623047\" xlink:href=\"#DejaVuSans-48\"/>\n       <use x=\"127.246094\" xlink:href=\"#DejaVuSans-48\"/>\n       <use x=\"190.869141\" xlink:href=\"#DejaVuSans-48\"/>\n      </g>\n     </g>\n    </g>\n    <g id=\"ytick_5\">\n     <g id=\"line2d_6\">\n      <g>\n       <use style=\"stroke:#000000;stroke-width:0.8;\" x=\"53.328125\" xlink:href=\"#mf37b9f18da\" y=\"92.9514\"/>\n      </g>\n     </g>\n     <g id=\"text_5\">\n      <!-- 4000 -->\n      <defs>\n       <path d=\"M 37.796875 64.3125 \nL 12.890625 25.390625 \nL 37.796875 25.390625 \nz\nM 35.203125 72.90625 \nL 47.609375 72.90625 \nL 47.609375 25.390625 \nL 58.015625 25.390625 \nL 58.015625 17.1875 \nL 47.609375 17.1875 \nL 47.609375 0 \nL 37.796875 0 \nL 37.796875 17.1875 \nL 4.890625 17.1875 \nL 4.890625 26.703125 \nz\n\" id=\"DejaVuSans-52\"/>\n      </defs>\n      <g transform=\"translate(20.878125 96.750618)scale(0.1 -0.1)\">\n       <use xlink:href=\"#DejaVuSans-52\"/>\n       <use x=\"63.623047\" xlink:href=\"#DejaVuSans-48\"/>\n       <use x=\"127.246094\" xlink:href=\"#DejaVuSans-48\"/>\n       <use x=\"190.869141\" xlink:href=\"#DejaVuSans-48\"/>\n      </g>\n     </g>\n    </g>\n    <g id=\"ytick_6\">\n     <g id=\"line2d_7\">\n      <g>\n       <use style=\"stroke:#000000;stroke-width:0.8;\" x=\"53.328125\" xlink:href=\"#mf37b9f18da\" y=\"61.524972\"/>\n      </g>\n     </g>\n     <g id=\"text_6\">\n      <!-- 5000 -->\n      <defs>\n       <path d=\"M 10.796875 72.90625 \nL 49.515625 72.90625 \nL 49.515625 64.59375 \nL 19.828125 64.59375 \nL 19.828125 46.734375 \nQ 21.96875 47.46875 24.109375 47.828125 \nQ 26.265625 48.1875 28.421875 48.1875 \nQ 40.625 48.1875 47.75 41.5 \nQ 54.890625 34.8125 54.890625 23.390625 \nQ 54.890625 11.625 47.5625 5.09375 \nQ 40.234375 -1.421875 26.90625 -1.421875 \nQ 22.3125 -1.421875 17.546875 -0.640625 \nQ 12.796875 0.140625 7.71875 1.703125 \nL 7.71875 11.625 \nQ 12.109375 9.234375 16.796875 8.0625 \nQ 21.484375 6.890625 26.703125 6.890625 \nQ 35.15625 6.890625 40.078125 11.328125 \nQ 45.015625 15.765625 45.015625 23.390625 \nQ 45.015625 31 40.078125 35.4375 \nQ 35.15625 39.890625 26.703125 39.890625 \nQ 22.75 39.890625 18.8125 39.015625 \nQ 14.890625 38.140625 10.796875 36.28125 \nz\n\" id=\"DejaVuSans-53\"/>\n      </defs>\n      <g transform=\"translate(20.878125 65.324191)scale(0.1 -0.1)\">\n       <use xlink:href=\"#DejaVuSans-53\"/>\n       <use x=\"63.623047\" xlink:href=\"#DejaVuSans-48\"/>\n       <use x=\"127.246094\" xlink:href=\"#DejaVuSans-48\"/>\n       <use x=\"190.869141\" xlink:href=\"#DejaVuSans-48\"/>\n      </g>\n     </g>\n    </g>\n    <g id=\"ytick_7\">\n     <g id=\"line2d_8\">\n      <g>\n       <use style=\"stroke:#000000;stroke-width:0.8;\" x=\"53.328125\" xlink:href=\"#mf37b9f18da\" y=\"30.098544\"/>\n      </g>\n     </g>\n     <g id=\"text_7\">\n      <!-- 6000 -->\n      <defs>\n       <path d=\"M 33.015625 40.375 \nQ 26.375 40.375 22.484375 35.828125 \nQ 18.609375 31.296875 18.609375 23.390625 \nQ 18.609375 15.53125 22.484375 10.953125 \nQ 26.375 6.390625 33.015625 6.390625 \nQ 39.65625 6.390625 43.53125 10.953125 \nQ 47.40625 15.53125 47.40625 23.390625 \nQ 47.40625 31.296875 43.53125 35.828125 \nQ 39.65625 40.375 33.015625 40.375 \nz\nM 52.59375 71.296875 \nL 52.59375 62.3125 \nQ 48.875 64.0625 45.09375 64.984375 \nQ 41.3125 65.921875 37.59375 65.921875 \nQ 27.828125 65.921875 22.671875 59.328125 \nQ 17.53125 52.734375 16.796875 39.40625 \nQ 19.671875 43.65625 24.015625 45.921875 \nQ 28.375 48.1875 33.59375 48.1875 \nQ 44.578125 48.1875 50.953125 41.515625 \nQ 57.328125 34.859375 57.328125 23.390625 \nQ 57.328125 12.15625 50.6875 5.359375 \nQ 44.046875 -1.421875 33.015625 -1.421875 \nQ 20.359375 -1.421875 13.671875 8.265625 \nQ 6.984375 17.96875 6.984375 36.375 \nQ 6.984375 53.65625 15.1875 63.9375 \nQ 23.390625 74.21875 37.203125 74.21875 \nQ 40.921875 74.21875 44.703125 73.484375 \nQ 48.484375 72.75 52.59375 71.296875 \nz\n\" id=\"DejaVuSans-54\"/>\n      </defs>\n      <g transform=\"translate(20.878125 33.897763)scale(0.1 -0.1)\">\n       <use xlink:href=\"#DejaVuSans-54\"/>\n       <use x=\"63.623047\" xlink:href=\"#DejaVuSans-48\"/>\n       <use x=\"127.246094\" xlink:href=\"#DejaVuSans-48\"/>\n       <use x=\"190.869141\" xlink:href=\"#DejaVuSans-48\"/>\n      </g>\n     </g>\n    </g>\n    <g id=\"text_8\">\n     <!-- Body Mass (g) -->\n     <defs>\n      <path d=\"M 19.671875 34.8125 \nL 19.671875 8.109375 \nL 35.5 8.109375 \nQ 43.453125 8.109375 47.28125 11.40625 \nQ 51.125 14.703125 51.125 21.484375 \nQ 51.125 28.328125 47.28125 31.5625 \nQ 43.453125 34.8125 35.5 34.8125 \nz\nM 19.671875 64.796875 \nL 19.671875 42.828125 \nL 34.28125 42.828125 \nQ 41.5 42.828125 45.03125 45.53125 \nQ 48.578125 48.25 48.578125 53.8125 \nQ 48.578125 59.328125 45.03125 62.0625 \nQ 41.5 64.796875 34.28125 64.796875 \nz\nM 9.8125 72.90625 \nL 35.015625 72.90625 \nQ 46.296875 72.90625 52.390625 68.21875 \nQ 58.5 63.53125 58.5 54.890625 \nQ 58.5 48.1875 55.375 44.234375 \nQ 52.25 40.28125 46.1875 39.3125 \nQ 53.46875 37.75 57.5 32.78125 \nQ 61.53125 27.828125 61.53125 20.40625 \nQ 61.53125 10.640625 54.890625 5.3125 \nQ 48.25 0 35.984375 0 \nL 9.8125 0 \nz\n\" id=\"DejaVuSans-66\"/>\n      <path d=\"M 30.609375 48.390625 \nQ 23.390625 48.390625 19.1875 42.75 \nQ 14.984375 37.109375 14.984375 27.296875 \nQ 14.984375 17.484375 19.15625 11.84375 \nQ 23.34375 6.203125 30.609375 6.203125 \nQ 37.796875 6.203125 41.984375 11.859375 \nQ 46.1875 17.53125 46.1875 27.296875 \nQ 46.1875 37.015625 41.984375 42.703125 \nQ 37.796875 48.390625 30.609375 48.390625 \nz\nM 30.609375 56 \nQ 42.328125 56 49.015625 48.375 \nQ 55.71875 40.765625 55.71875 27.296875 \nQ 55.71875 13.875 49.015625 6.21875 \nQ 42.328125 -1.421875 30.609375 -1.421875 \nQ 18.84375 -1.421875 12.171875 6.21875 \nQ 5.515625 13.875 5.515625 27.296875 \nQ 5.515625 40.765625 12.171875 48.375 \nQ 18.84375 56 30.609375 56 \nz\n\" id=\"DejaVuSans-111\"/>\n      <path d=\"M 45.40625 46.390625 \nL 45.40625 75.984375 \nL 54.390625 75.984375 \nL 54.390625 0 \nL 45.40625 0 \nL 45.40625 8.203125 \nQ 42.578125 3.328125 38.25 0.953125 \nQ 33.9375 -1.421875 27.875 -1.421875 \nQ 17.96875 -1.421875 11.734375 6.484375 \nQ 5.515625 14.40625 5.515625 27.296875 \nQ 5.515625 40.1875 11.734375 48.09375 \nQ 17.96875 56 27.875 56 \nQ 33.9375 56 38.25 53.625 \nQ 42.578125 51.265625 45.40625 46.390625 \nz\nM 14.796875 27.296875 \nQ 14.796875 17.390625 18.875 11.75 \nQ 22.953125 6.109375 30.078125 6.109375 \nQ 37.203125 6.109375 41.296875 11.75 \nQ 45.40625 17.390625 45.40625 27.296875 \nQ 45.40625 37.203125 41.296875 42.84375 \nQ 37.203125 48.484375 30.078125 48.484375 \nQ 22.953125 48.484375 18.875 42.84375 \nQ 14.796875 37.203125 14.796875 27.296875 \nz\n\" id=\"DejaVuSans-100\"/>\n      <path d=\"M 32.171875 -5.078125 \nQ 28.375 -14.84375 24.75 -17.8125 \nQ 21.140625 -20.796875 15.09375 -20.796875 \nL 7.90625 -20.796875 \nL 7.90625 -13.28125 \nL 13.1875 -13.28125 \nQ 16.890625 -13.28125 18.9375 -11.515625 \nQ 21 -9.765625 23.484375 -3.21875 \nL 25.09375 0.875 \nL 2.984375 54.6875 \nL 12.5 54.6875 \nL 29.59375 11.921875 \nL 46.6875 54.6875 \nL 56.203125 54.6875 \nz\n\" id=\"DejaVuSans-121\"/>\n      <path id=\"DejaVuSans-32\"/>\n      <path d=\"M 9.8125 72.90625 \nL 24.515625 72.90625 \nL 43.109375 23.296875 \nL 61.8125 72.90625 \nL 76.515625 72.90625 \nL 76.515625 0 \nL 66.890625 0 \nL 66.890625 64.015625 \nL 48.09375 14.015625 \nL 38.1875 14.015625 \nL 19.390625 64.015625 \nL 19.390625 0 \nL 9.8125 0 \nz\n\" id=\"DejaVuSans-77\"/>\n      <path d=\"M 34.28125 27.484375 \nQ 23.390625 27.484375 19.1875 25 \nQ 14.984375 22.515625 14.984375 16.5 \nQ 14.984375 11.71875 18.140625 8.90625 \nQ 21.296875 6.109375 26.703125 6.109375 \nQ 34.1875 6.109375 38.703125 11.40625 \nQ 43.21875 16.703125 43.21875 25.484375 \nL 43.21875 27.484375 \nz\nM 52.203125 31.203125 \nL 52.203125 0 \nL 43.21875 0 \nL 43.21875 8.296875 \nQ 40.140625 3.328125 35.546875 0.953125 \nQ 30.953125 -1.421875 24.3125 -1.421875 \nQ 15.921875 -1.421875 10.953125 3.296875 \nQ 6 8.015625 6 15.921875 \nQ 6 25.140625 12.171875 29.828125 \nQ 18.359375 34.515625 30.609375 34.515625 \nL 43.21875 34.515625 \nL 43.21875 35.40625 \nQ 43.21875 41.609375 39.140625 45 \nQ 35.0625 48.390625 27.6875 48.390625 \nQ 23 48.390625 18.546875 47.265625 \nQ 14.109375 46.140625 10.015625 43.890625 \nL 10.015625 52.203125 \nQ 14.9375 54.109375 19.578125 55.046875 \nQ 24.21875 56 28.609375 56 \nQ 40.484375 56 46.34375 49.84375 \nQ 52.203125 43.703125 52.203125 31.203125 \nz\n\" id=\"DejaVuSans-97\"/>\n      <path d=\"M 44.28125 53.078125 \nL 44.28125 44.578125 \nQ 40.484375 46.53125 36.375 47.5 \nQ 32.28125 48.484375 27.875 48.484375 \nQ 21.1875 48.484375 17.84375 46.4375 \nQ 14.5 44.390625 14.5 40.28125 \nQ 14.5 37.15625 16.890625 35.375 \nQ 19.28125 33.59375 26.515625 31.984375 \nL 29.59375 31.296875 \nQ 39.15625 29.25 43.1875 25.515625 \nQ 47.21875 21.78125 47.21875 15.09375 \nQ 47.21875 7.46875 41.1875 3.015625 \nQ 35.15625 -1.421875 24.609375 -1.421875 \nQ 20.21875 -1.421875 15.453125 -0.5625 \nQ 10.6875 0.296875 5.421875 2 \nL 5.421875 11.28125 \nQ 10.40625 8.6875 15.234375 7.390625 \nQ 20.0625 6.109375 24.8125 6.109375 \nQ 31.15625 6.109375 34.5625 8.28125 \nQ 37.984375 10.453125 37.984375 14.40625 \nQ 37.984375 18.0625 35.515625 20.015625 \nQ 33.0625 21.96875 24.703125 23.78125 \nL 21.578125 24.515625 \nQ 13.234375 26.265625 9.515625 29.90625 \nQ 5.8125 33.546875 5.8125 39.890625 \nQ 5.8125 47.609375 11.28125 51.796875 \nQ 16.75 56 26.8125 56 \nQ 31.78125 56 36.171875 55.265625 \nQ 40.578125 54.546875 44.28125 53.078125 \nz\n\" id=\"DejaVuSans-115\"/>\n      <path d=\"M 31 75.875 \nQ 24.46875 64.65625 21.28125 53.65625 \nQ 18.109375 42.671875 18.109375 31.390625 \nQ 18.109375 20.125 21.3125 9.0625 \nQ 24.515625 -2 31 -13.1875 \nL 23.1875 -13.1875 \nQ 15.875 -1.703125 12.234375 9.375 \nQ 8.59375 20.453125 8.59375 31.390625 \nQ 8.59375 42.28125 12.203125 53.3125 \nQ 15.828125 64.359375 23.1875 75.875 \nz\n\" id=\"DejaVuSans-40\"/>\n      <path d=\"M 45.40625 27.984375 \nQ 45.40625 37.75 41.375 43.109375 \nQ 37.359375 48.484375 30.078125 48.484375 \nQ 22.859375 48.484375 18.828125 43.109375 \nQ 14.796875 37.75 14.796875 27.984375 \nQ 14.796875 18.265625 18.828125 12.890625 \nQ 22.859375 7.515625 30.078125 7.515625 \nQ 37.359375 7.515625 41.375 12.890625 \nQ 45.40625 18.265625 45.40625 27.984375 \nz\nM 54.390625 6.78125 \nQ 54.390625 -7.171875 48.1875 -13.984375 \nQ 42 -20.796875 29.203125 -20.796875 \nQ 24.46875 -20.796875 20.265625 -20.09375 \nQ 16.0625 -19.390625 12.109375 -17.921875 \nL 12.109375 -9.1875 \nQ 16.0625 -11.328125 19.921875 -12.34375 \nQ 23.78125 -13.375 27.78125 -13.375 \nQ 36.625 -13.375 41.015625 -8.765625 \nQ 45.40625 -4.15625 45.40625 5.171875 \nL 45.40625 9.625 \nQ 42.625 4.78125 38.28125 2.390625 \nQ 33.9375 0 27.875 0 \nQ 17.828125 0 11.671875 7.65625 \nQ 5.515625 15.328125 5.515625 27.984375 \nQ 5.515625 40.671875 11.671875 48.328125 \nQ 17.828125 56 27.875 56 \nQ 33.9375 56 38.28125 53.609375 \nQ 42.625 51.21875 45.40625 46.390625 \nL 45.40625 54.6875 \nL 54.390625 54.6875 \nz\n\" id=\"DejaVuSans-103\"/>\n      <path d=\"M 8.015625 75.875 \nL 15.828125 75.875 \nQ 23.140625 64.359375 26.78125 53.3125 \nQ 30.421875 42.28125 30.421875 31.390625 \nQ 30.421875 20.453125 26.78125 9.375 \nQ 23.140625 -1.703125 15.828125 -13.1875 \nL 8.015625 -13.1875 \nQ 14.5 -2 17.703125 9.0625 \nQ 20.90625 20.125 20.90625 31.390625 \nQ 20.90625 42.671875 17.703125 53.65625 \nQ 14.5 64.65625 8.015625 75.875 \nz\n\" id=\"DejaVuSans-41\"/>\n     </defs>\n     <g transform=\"translate(14.798438 154.884844)rotate(-90)scale(0.1 -0.1)\">\n      <use xlink:href=\"#DejaVuSans-66\"/>\n      <use x=\"68.603516\" xlink:href=\"#DejaVuSans-111\"/>\n      <use x=\"129.785156\" xlink:href=\"#DejaVuSans-100\"/>\n      <use x=\"193.261719\" xlink:href=\"#DejaVuSans-121\"/>\n      <use x=\"252.441406\" xlink:href=\"#DejaVuSans-32\"/>\n      <use x=\"284.228516\" xlink:href=\"#DejaVuSans-77\"/>\n      <use x=\"370.507812\" xlink:href=\"#DejaVuSans-97\"/>\n      <use x=\"431.787109\" xlink:href=\"#DejaVuSans-115\"/>\n      <use x=\"483.886719\" xlink:href=\"#DejaVuSans-115\"/>\n      <use x=\"535.986328\" xlink:href=\"#DejaVuSans-32\"/>\n      <use x=\"567.773438\" xlink:href=\"#DejaVuSans-40\"/>\n      <use x=\"606.787109\" xlink:href=\"#DejaVuSans-103\"/>\n      <use x=\"670.263672\" xlink:href=\"#DejaVuSans-41\"/>\n     </g>\n    </g>\n   </g>\n   <g id=\"patch_3\">\n    <path d=\"M 53.328125 228.14 \nL 53.328125 10.7 \n\" style=\"fill:none;stroke:#000000;stroke-linecap:square;stroke-linejoin:miter;stroke-width:0.8;\"/>\n   </g>\n   <g id=\"patch_4\">\n    <path d=\"M 388.128125 228.14 \nL 388.128125 10.7 \n\" style=\"fill:none;stroke:#000000;stroke-linecap:square;stroke-linejoin:miter;stroke-width:0.8;\"/>\n   </g>\n   <g id=\"patch_5\">\n    <path d=\"M 53.328125 228.14 \nL 388.128125 228.14 \n\" style=\"fill:none;stroke:#000000;stroke-linecap:square;stroke-linejoin:miter;stroke-width:0.8;\"/>\n   </g>\n   <g id=\"patch_6\">\n    <path d=\"M 53.328125 10.7 \nL 388.128125 10.7 \n\" style=\"fill:none;stroke:#000000;stroke-linecap:square;stroke-linejoin:miter;stroke-width:0.8;\"/>\n   </g>\n   <g id=\"PathCollection_1\">\n    <defs>\n     <path d=\"M 0 2.5 \nC 0.663008 2.5 1.29895 2.236584 1.767767 1.767767 \nC 2.236584 1.29895 2.5 0.663008 2.5 0 \nC 2.5 -0.663008 2.236584 -1.29895 1.767767 -1.767767 \nC 1.29895 -2.236584 0.663008 -2.5 0 -2.5 \nC -0.663008 -2.5 -1.29895 -2.236584 -1.767767 -1.767767 \nC -2.236584 -1.29895 -2.5 -0.663008 -2.5 0 \nC -2.5 0.663008 -2.236584 1.29895 -1.767767 1.767767 \nC -1.29895 2.236584 -0.663008 2.5 0 2.5 \nz\n\" id=\"C0_0_4db9ab571c\"/>\n    </defs>\n    <g clip-path=\"url(#p631d58c506)\">\n     <use style=\"fill:#1f77b4;\" x=\"220.728125\" xlink:href=\"#C0_0_4db9ab571c\" y=\"217.648322\"/>\n    </g>\n    <g clip-path=\"url(#p631d58c506)\">\n     <use style=\"fill:#1f77b4;\" x=\"220.728125\" xlink:href=\"#C0_0_4db9ab571c\" y=\"217.616896\"/>\n    </g>\n    <g clip-path=\"url(#p631d58c506)\">\n     <use style=\"fill:#1f77b4;\" x=\"216.431225\" xlink:href=\"#C0_0_4db9ab571c\" y=\"217.604325\"/>\n    </g>\n    <g clip-path=\"url(#p631d58c506)\">\n     <use style=\"fill:#1f77b4;\" x=\"220.728125\" xlink:href=\"#C0_0_4db9ab571c\" y=\"217.588612\"/>\n    </g>\n    <g clip-path=\"url(#p631d58c506)\">\n     <use style=\"fill:#1f77b4;\" x=\"225.923681\" xlink:href=\"#C0_0_4db9ab571c\" y=\"217.585469\"/>\n    </g>\n    <g clip-path=\"url(#p631d58c506)\">\n     <use style=\"fill:#1f77b4;\" x=\"216.431225\" xlink:href=\"#C0_0_4db9ab571c\" y=\"217.576042\"/>\n    </g>\n    <g clip-path=\"url(#p631d58c506)\">\n     <use style=\"fill:#1f77b4;\" x=\"230.220581\" xlink:href=\"#C0_0_4db9ab571c\" y=\"217.572899\"/>\n    </g>\n    <g clip-path=\"url(#p631d58c506)\">\n     <use style=\"fill:#1f77b4;\" x=\"211.402536\" xlink:href=\"#C0_0_4db9ab571c\" y=\"217.569756\"/>\n    </g>\n    <g clip-path=\"url(#p631d58c506)\">\n     <use style=\"fill:#1f77b4;\" x=\"206.152536\" xlink:href=\"#C0_0_4db9ab571c\" y=\"217.569756\"/>\n    </g>\n    <g clip-path=\"url(#p631d58c506)\">\n     <use style=\"fill:#1f77b4;\" x=\"220.728125\" xlink:href=\"#C0_0_4db9ab571c\" y=\"217.557186\"/>\n    </g>\n    <g clip-path=\"url(#p631d58c506)\">\n     <use style=\"fill:#1f77b4;\" x=\"225.978125\" xlink:href=\"#C0_0_4db9ab571c\" y=\"217.557186\"/>\n    </g>\n    <g clip-path=\"url(#p631d58c506)\">\n     <use style=\"fill:#1f77b4;\" x=\"215.532569\" xlink:href=\"#C0_0_4db9ab571c\" y=\"217.554043\"/>\n    </g>\n    <g clip-path=\"url(#p631d58c506)\">\n     <use style=\"fill:#1f77b4;\" x=\"231.006814\" xlink:href=\"#C0_0_4db9ab571c\" y=\"217.5509\"/>\n    </g>\n    <g clip-path=\"url(#p631d58c506)\">\n     <use style=\"fill:#1f77b4;\" x=\"210.50388\" xlink:href=\"#C0_0_4db9ab571c\" y=\"217.547758\"/>\n    </g>\n    <g clip-path=\"url(#p631d58c506)\">\n     <use style=\"fill:#1f77b4;\" x=\"235.744348\" xlink:href=\"#C0_0_4db9ab571c\" y=\"217.541472\"/>\n    </g>\n    <g clip-path=\"url(#p631d58c506)\">\n     <use style=\"fill:#1f77b4;\" x=\"205.475191\" xlink:href=\"#C0_0_4db9ab571c\" y=\"217.541472\"/>\n    </g>\n    <g clip-path=\"url(#p631d58c506)\">\n     <use style=\"fill:#1f77b4;\" x=\"223.315529\" xlink:href=\"#C0_0_4db9ab571c\" y=\"217.53833\"/>\n    </g>\n    <g clip-path=\"url(#p631d58c506)\">\n     <use style=\"fill:#1f77b4;\" x=\"218.195165\" xlink:href=\"#C0_0_4db9ab571c\" y=\"217.535187\"/>\n    </g>\n    <g clip-path=\"url(#p631d58c506)\">\n     <use style=\"fill:#1f77b4;\" x=\"240.773037\" xlink:href=\"#C0_0_4db9ab571c\" y=\"217.535187\"/>\n    </g>\n    <g clip-path=\"url(#p631d58c506)\">\n     <use style=\"fill:#1f77b4;\" x=\"200.446502\" xlink:href=\"#C0_0_4db9ab571c\" y=\"217.535187\"/>\n    </g>\n    <g clip-path=\"url(#p631d58c506)\">\n     <use style=\"fill:#1f77b4;\" x=\"228.053063\" xlink:href=\"#C0_0_4db9ab571c\" y=\"217.528902\"/>\n    </g>\n    <g clip-path=\"url(#p631d58c506)\">\n     <use style=\"fill:#1f77b4;\" x=\"213.166476\" xlink:href=\"#C0_0_4db9ab571c\" y=\"217.528902\"/>\n    </g>\n    <g clip-path=\"url(#p631d58c506)\">\n     <use style=\"fill:#1f77b4;\" x=\"245.510571\" xlink:href=\"#C0_0_4db9ab571c\" y=\"217.525759\"/>\n    </g>\n    <g clip-path=\"url(#p631d58c506)\">\n     <use style=\"fill:#1f77b4;\" x=\"195.708968\" xlink:href=\"#C0_0_4db9ab571c\" y=\"217.525759\"/>\n    </g>\n    <g clip-path=\"url(#p631d58c506)\">\n     <use style=\"fill:#1f77b4;\" x=\"250.760571\" xlink:href=\"#C0_0_4db9ab571c\" y=\"217.525759\"/>\n    </g>\n    <g clip-path=\"url(#p631d58c506)\">\n     <use style=\"fill:#1f77b4;\" x=\"190.458968\" xlink:href=\"#C0_0_4db9ab571c\" y=\"217.525759\"/>\n    </g>\n    <g clip-path=\"url(#p631d58c506)\">\n     <use style=\"fill:#1f77b4;\" x=\"232.790597\" xlink:href=\"#C0_0_4db9ab571c\" y=\"217.519474\"/>\n    </g>\n    <g clip-path=\"url(#p631d58c506)\">\n     <use style=\"fill:#1f77b4;\" x=\"208.428942\" xlink:href=\"#C0_0_4db9ab571c\" y=\"217.519474\"/>\n    </g>\n    <g clip-path=\"url(#p631d58c506)\">\n     <use style=\"fill:#1f77b4;\" x=\"255.78926\" xlink:href=\"#C0_0_4db9ab571c\" y=\"217.519474\"/>\n    </g>\n    <g clip-path=\"url(#p631d58c506)\">\n     <use style=\"fill:#1f77b4;\" x=\"220.857761\" xlink:href=\"#C0_0_4db9ab571c\" y=\"217.516331\"/>\n    </g>\n    <g clip-path=\"url(#p631d58c506)\">\n     <use style=\"fill:#1f77b4;\" x=\"237.819286\" xlink:href=\"#C0_0_4db9ab571c\" y=\"217.513189\"/>\n    </g>\n    <g clip-path=\"url(#p631d58c506)\">\n     <use style=\"fill:#1f77b4;\" x=\"203.400253\" xlink:href=\"#C0_0_4db9ab571c\" y=\"217.513189\"/>\n    </g>\n    <g clip-path=\"url(#p631d58c506)\">\n     <use style=\"fill:#1f77b4;\" x=\"215.829072\" xlink:href=\"#C0_0_4db9ab571c\" y=\"217.510046\"/>\n    </g>\n    <g clip-path=\"url(#p631d58c506)\">\n     <use style=\"fill:#1f77b4;\" x=\"186.805876\" xlink:href=\"#C0_0_4db9ab571c\" y=\"217.510046\"/>\n    </g>\n    <g clip-path=\"url(#p631d58c506)\">\n     <use style=\"fill:#1f77b4;\" x=\"225.595295\" xlink:href=\"#C0_0_4db9ab571c\" y=\"217.506903\"/>\n    </g>\n    <g clip-path=\"url(#p631d58c506)\">\n     <use style=\"fill:#1f77b4;\" x=\"242.847975\" xlink:href=\"#C0_0_4db9ab571c\" y=\"217.506903\"/>\n    </g>\n    <g clip-path=\"url(#p631d58c506)\">\n     <use style=\"fill:#1f77b4;\" x=\"198.662719\" xlink:href=\"#C0_0_4db9ab571c\" y=\"217.503761\"/>\n    </g>\n    <g clip-path=\"url(#p631d58c506)\">\n     <use style=\"fill:#1f77b4;\" x=\"193.412719\" xlink:href=\"#C0_0_4db9ab571c\" y=\"217.503761\"/>\n    </g>\n    <g clip-path=\"url(#p631d58c506)\">\n     <use style=\"fill:#1f77b4;\" x=\"211.091538\" xlink:href=\"#C0_0_4db9ab571c\" y=\"217.500618\"/>\n    </g>\n    <g clip-path=\"url(#p631d58c506)\">\n     <use style=\"fill:#1f77b4;\" x=\"230.332829\" xlink:href=\"#C0_0_4db9ab571c\" y=\"217.497475\"/>\n    </g>\n    <g clip-path=\"url(#p631d58c506)\">\n     <use style=\"fill:#1f77b4;\" x=\"220.728125\" xlink:href=\"#C0_0_4db9ab571c\" y=\"217.494333\"/>\n    </g>\n    <g clip-path=\"url(#p631d58c506)\">\n     <use style=\"fill:#1f77b4;\" x=\"206.062849\" xlink:href=\"#C0_0_4db9ab571c\" y=\"217.494333\"/>\n    </g>\n    <g clip-path=\"url(#p631d58c506)\">\n     <use style=\"fill:#1f77b4;\" x=\"215.699436\" xlink:href=\"#C0_0_4db9ab571c\" y=\"217.488048\"/>\n    </g>\n    <g clip-path=\"url(#p631d58c506)\">\n     <use style=\"fill:#1f77b4;\" x=\"235.070363\" xlink:href=\"#C0_0_4db9ab571c\" y=\"217.488048\"/>\n    </g>\n    <g clip-path=\"url(#p631d58c506)\">\n     <use style=\"fill:#1f77b4;\" x=\"225.465659\" xlink:href=\"#C0_0_4db9ab571c\" y=\"217.484905\"/>\n    </g>\n    <g clip-path=\"url(#p631d58c506)\">\n     <use style=\"fill:#1f77b4;\" x=\"201.325315\" xlink:href=\"#C0_0_4db9ab571c\" y=\"217.484905\"/>\n    </g>\n    <g clip-path=\"url(#p631d58c506)\">\n     <use style=\"fill:#1f77b4;\" x=\"240.265919\" xlink:href=\"#C0_0_4db9ab571c\" y=\"217.484905\"/>\n    </g>\n    <g clip-path=\"url(#p631d58c506)\">\n     <use style=\"fill:#1f77b4;\" x=\"210.961902\" xlink:href=\"#C0_0_4db9ab571c\" y=\"217.47862\"/>\n    </g>\n    <g clip-path=\"url(#p631d58c506)\">\n     <use style=\"fill:#1f77b4;\" x=\"196.296626\" xlink:href=\"#C0_0_4db9ab571c\" y=\"217.47862\"/>\n    </g>\n    <g clip-path=\"url(#p631d58c506)\">\n     <use style=\"fill:#1f77b4;\" x=\"230.203193\" xlink:href=\"#C0_0_4db9ab571c\" y=\"217.475477\"/>\n    </g>\n    <g clip-path=\"url(#p631d58c506)\">\n     <use style=\"fill:#1f77b4;\" x=\"245.003454\" xlink:href=\"#C0_0_4db9ab571c\" y=\"217.475477\"/>\n    </g>\n    <g clip-path=\"url(#p631d58c506)\">\n     <use style=\"fill:#1f77b4;\" x=\"250.253454\" xlink:href=\"#C0_0_4db9ab571c\" y=\"217.475477\"/>\n    </g>\n    <g clip-path=\"url(#p631d58c506)\">\n     <use style=\"fill:#1f77b4;\" x=\"220.728125\" xlink:href=\"#C0_0_4db9ab571c\" y=\"217.472334\"/>\n    </g>\n    <g clip-path=\"url(#p631d58c506)\">\n     <use style=\"fill:#1f77b4;\" x=\"205.933213\" xlink:href=\"#C0_0_4db9ab571c\" y=\"217.472334\"/>\n    </g>\n    <g clip-path=\"url(#p631d58c506)\">\n     <use style=\"fill:#1f77b4;\" x=\"191.267937\" xlink:href=\"#C0_0_4db9ab571c\" y=\"217.472334\"/>\n    </g>\n    <g clip-path=\"url(#p631d58c506)\">\n     <use style=\"fill:#1f77b4;\" x=\"255.282143\" xlink:href=\"#C0_0_4db9ab571c\" y=\"217.469192\"/>\n    </g>\n    <g clip-path=\"url(#p631d58c506)\">\n     <use style=\"fill:#1f77b4;\" x=\"186.072381\" xlink:href=\"#C0_0_4db9ab571c\" y=\"217.469192\"/>\n    </g>\n    <g clip-path=\"url(#p631d58c506)\">\n     <use style=\"fill:#1f77b4;\" x=\"260.532143\" xlink:href=\"#C0_0_4db9ab571c\" y=\"217.469192\"/>\n    </g>\n    <g clip-path=\"url(#p631d58c506)\">\n     <use style=\"fill:#1f77b4;\" x=\"180.822381\" xlink:href=\"#C0_0_4db9ab571c\" y=\"217.469192\"/>\n    </g>\n    <g clip-path=\"url(#p631d58c506)\">\n     <use style=\"fill:#1f77b4;\" x=\"265.782143\" xlink:href=\"#C0_0_4db9ab571c\" y=\"217.469192\"/>\n    </g>\n    <g clip-path=\"url(#p631d58c506)\">\n     <use style=\"fill:#1f77b4;\" x=\"215.699436\" xlink:href=\"#C0_0_4db9ab571c\" y=\"217.466049\"/>\n    </g>\n    <g clip-path=\"url(#p631d58c506)\">\n     <use style=\"fill:#1f77b4;\" x=\"234.940727\" xlink:href=\"#C0_0_4db9ab571c\" y=\"217.466049\"/>\n    </g>\n    <g clip-path=\"url(#p631d58c506)\">\n     <use style=\"fill:#1f77b4;\" x=\"225.025025\" xlink:href=\"#C0_0_4db9ab571c\" y=\"217.459764\"/>\n    </g>\n    <g clip-path=\"url(#p631d58c506)\">\n     <use style=\"fill:#1f77b4;\" x=\"201.636313\" xlink:href=\"#C0_0_4db9ab571c\" y=\"217.459764\"/>\n    </g>\n    <g clip-path=\"url(#p631d58c506)\">\n     <use style=\"fill:#1f77b4;\" x=\"239.969416\" xlink:href=\"#C0_0_4db9ab571c\" y=\"217.459764\"/>\n    </g>\n    <g clip-path=\"url(#p631d58c506)\">\n     <use style=\"fill:#1f77b4;\" x=\"176.084847\" xlink:href=\"#C0_0_4db9ab571c\" y=\"217.459764\"/>\n    </g>\n    <g clip-path=\"url(#p631d58c506)\">\n     <use style=\"fill:#1f77b4;\" x=\"210.961902\" xlink:href=\"#C0_0_4db9ab571c\" y=\"217.456621\"/>\n    </g>\n    <g clip-path=\"url(#p631d58c506)\">\n     <use style=\"fill:#1f77b4;\" x=\"196.440756\" xlink:href=\"#C0_0_4db9ab571c\" y=\"217.456621\"/>\n    </g>\n    <g clip-path=\"url(#p631d58c506)\">\n     <use style=\"fill:#1f77b4;\" x=\"230.053714\" xlink:href=\"#C0_0_4db9ab571c\" y=\"217.453478\"/>\n    </g>\n    <g clip-path=\"url(#p631d58c506)\">\n     <use style=\"fill:#1f77b4;\" x=\"220.728125\" xlink:href=\"#C0_0_4db9ab571c\" y=\"217.447193\"/>\n    </g>\n    <g clip-path=\"url(#p631d58c506)\">\n     <use style=\"fill:#1f77b4;\" x=\"215.532569\" xlink:href=\"#C0_0_4db9ab571c\" y=\"217.444051\"/>\n    </g>\n    <g clip-path=\"url(#p631d58c506)\">\n     <use style=\"fill:#1f77b4;\" x=\"234.791248\" xlink:href=\"#C0_0_4db9ab571c\" y=\"217.444051\"/>\n    </g>\n    <g clip-path=\"url(#p631d58c506)\">\n     <use style=\"fill:#1f77b4;\" x=\"206.665002\" xlink:href=\"#C0_0_4db9ab571c\" y=\"217.444051\"/>\n    </g>\n    <g clip-path=\"url(#p631d58c506)\">\n     <use style=\"fill:#1f77b4;\" x=\"242.632012\" xlink:href=\"#C0_0_4db9ab571c\" y=\"217.440908\"/>\n    </g>\n    <g clip-path=\"url(#p631d58c506)\">\n     <use style=\"fill:#1f77b4;\" x=\"225.465659\" xlink:href=\"#C0_0_4db9ab571c\" y=\"217.437765\"/>\n    </g>\n    <g clip-path=\"url(#p631d58c506)\">\n     <use style=\"fill:#1f77b4;\" x=\"201.636313\" xlink:href=\"#C0_0_4db9ab571c\" y=\"217.437765\"/>\n    </g>\n    <g clip-path=\"url(#p631d58c506)\">\n     <use style=\"fill:#1f77b4;\" x=\"193.77816\" xlink:href=\"#C0_0_4db9ab571c\" y=\"217.437765\"/>\n    </g>\n    <g clip-path=\"url(#p631d58c506)\">\n     <use style=\"fill:#1f77b4;\" x=\"247.660701\" xlink:href=\"#C0_0_4db9ab571c\" y=\"217.434623\"/>\n    </g>\n    <g clip-path=\"url(#p631d58c506)\">\n     <use style=\"fill:#1f77b4;\" x=\"188.582604\" xlink:href=\"#C0_0_4db9ab571c\" y=\"217.434623\"/>\n    </g>\n    <g clip-path=\"url(#p631d58c506)\">\n     <use style=\"fill:#1f77b4;\" x=\"211.235669\" xlink:href=\"#C0_0_4db9ab571c\" y=\"217.43148\"/>\n    </g>\n    <g clip-path=\"url(#p631d58c506)\">\n     <use style=\"fill:#1f77b4;\" x=\"230.494348\" xlink:href=\"#C0_0_4db9ab571c\" y=\"217.43148\"/>\n    </g>\n    <g clip-path=\"url(#p631d58c506)\">\n     <use style=\"fill:#1f77b4;\" x=\"252.856258\" xlink:href=\"#C0_0_4db9ab571c\" y=\"217.43148\"/>\n    </g>\n    <g clip-path=\"url(#p631d58c506)\">\n     <use style=\"fill:#1f77b4;\" x=\"238.335112\" xlink:href=\"#C0_0_4db9ab571c\" y=\"217.428337\"/>\n    </g>\n    <g clip-path=\"url(#p631d58c506)\">\n     <use style=\"fill:#1f77b4;\" x=\"220.728125\" xlink:href=\"#C0_0_4db9ab571c\" y=\"217.425195\"/>\n    </g>\n    <g clip-path=\"url(#p631d58c506)\">\n     <use style=\"fill:#1f77b4;\" x=\"183.84507\" xlink:href=\"#C0_0_4db9ab571c\" y=\"217.425195\"/>\n    </g>\n    <g clip-path=\"url(#p631d58c506)\">\n     <use style=\"fill:#1f77b4;\" x=\"257.884947\" xlink:href=\"#C0_0_4db9ab571c\" y=\"217.425195\"/>\n    </g>\n    <g clip-path=\"url(#p631d58c506)\">\n     <use style=\"fill:#1f77b4;\" x=\"206.498134\" xlink:href=\"#C0_0_4db9ab571c\" y=\"217.422052\"/>\n    </g>\n    <g clip-path=\"url(#p631d58c506)\">\n     <use style=\"fill:#1f77b4;\" x=\"225.465659\" xlink:href=\"#C0_0_4db9ab571c\" y=\"217.415767\"/>\n    </g>\n    <g clip-path=\"url(#p631d58c506)\">\n     <use style=\"fill:#1f77b4;\" x=\"215.990591\" xlink:href=\"#C0_0_4db9ab571c\" y=\"217.415767\"/>\n    </g>\n    <g clip-path=\"url(#p631d58c506)\">\n     <use style=\"fill:#1f77b4;\" x=\"234.038212\" xlink:href=\"#C0_0_4db9ab571c\" y=\"217.415767\"/>\n    </g>\n    <g clip-path=\"url(#p631d58c506)\">\n     <use style=\"fill:#1f77b4;\" x=\"201.7606\" xlink:href=\"#C0_0_4db9ab571c\" y=\"217.412624\"/>\n    </g>\n    <g clip-path=\"url(#p631d58c506)\">\n     <use style=\"fill:#1f77b4;\" x=\"241.988204\" xlink:href=\"#C0_0_4db9ab571c\" y=\"217.412624\"/>\n    </g>\n    <g clip-path=\"url(#p631d58c506)\">\n     <use style=\"fill:#1f77b4;\" x=\"196.5106\" xlink:href=\"#C0_0_4db9ab571c\" y=\"217.412624\"/>\n    </g>\n    <g clip-path=\"url(#p631d58c506)\">\n     <use style=\"fill:#1f77b4;\" x=\"247.238204\" xlink:href=\"#C0_0_4db9ab571c\" y=\"217.412624\"/>\n    </g>\n    <g clip-path=\"url(#p631d58c506)\">\n     <use style=\"fill:#1f77b4;\" x=\"191.2606\" xlink:href=\"#C0_0_4db9ab571c\" y=\"217.412624\"/>\n    </g>\n    <g clip-path=\"url(#p631d58c506)\">\n     <use style=\"fill:#1f77b4;\" x=\"210.961902\" xlink:href=\"#C0_0_4db9ab571c\" y=\"217.409481\"/>\n    </g>\n    <g clip-path=\"url(#p631d58c506)\">\n     <use style=\"fill:#1f77b4;\" x=\"252.43376\" xlink:href=\"#C0_0_4db9ab571c\" y=\"217.409481\"/>\n    </g>\n    <g clip-path=\"url(#p631d58c506)\">\n     <use style=\"fill:#1f77b4;\" x=\"180.191978\" xlink:href=\"#C0_0_4db9ab571c\" y=\"217.409481\"/>\n    </g>\n    <g clip-path=\"url(#p631d58c506)\">\n     <use style=\"fill:#1f77b4;\" x=\"261.538039\" xlink:href=\"#C0_0_4db9ab571c\" y=\"217.409481\"/>\n    </g>\n    <g clip-path=\"url(#p631d58c506)\">\n     <use style=\"fill:#1f77b4;\" x=\"174.996422\" xlink:href=\"#C0_0_4db9ab571c\" y=\"217.406339\"/>\n    </g>\n    <g clip-path=\"url(#p631d58c506)\">\n     <use style=\"fill:#1f77b4;\" x=\"220.728125\" xlink:href=\"#C0_0_4db9ab571c\" y=\"217.396911\"/>\n    </g>\n    <g clip-path=\"url(#p631d58c506)\">\n     <use style=\"fill:#1f77b4;\" x=\"215.532569\" xlink:href=\"#C0_0_4db9ab571c\" y=\"217.393768\"/>\n    </g>\n    <g clip-path=\"url(#p631d58c506)\">\n     <use style=\"fill:#1f77b4;\" x=\"225.923681\" xlink:href=\"#C0_0_4db9ab571c\" y=\"217.393768\"/>\n    </g>\n    <g clip-path=\"url(#p631d58c506)\">\n     <use style=\"fill:#1f77b4;\" x=\"231.173681\" xlink:href=\"#C0_0_4db9ab571c\" y=\"217.393768\"/>\n    </g>\n    <g clip-path=\"url(#p631d58c506)\">\n     <use style=\"fill:#1f77b4;\" x=\"208.299306\" xlink:href=\"#C0_0_4db9ab571c\" y=\"217.390626\"/>\n    </g>\n    <g clip-path=\"url(#p631d58c506)\">\n     <use style=\"fill:#1f77b4;\" x=\"236.369237\" xlink:href=\"#C0_0_4db9ab571c\" y=\"217.390626\"/>\n    </g>\n    <g clip-path=\"url(#p631d58c506)\">\n     <use style=\"fill:#1f77b4;\" x=\"203.270617\" xlink:href=\"#C0_0_4db9ab571c\" y=\"217.38434\"/>\n    </g>\n    <g clip-path=\"url(#p631d58c506)\">\n     <use style=\"fill:#1f77b4;\" x=\"241.397926\" xlink:href=\"#C0_0_4db9ab571c\" y=\"217.38434\"/>\n    </g>\n    <g clip-path=\"url(#p631d58c506)\">\n     <use style=\"fill:#1f77b4;\" x=\"198.075061\" xlink:href=\"#C0_0_4db9ab571c\" y=\"217.381198\"/>\n    </g>\n    <g clip-path=\"url(#p631d58c506)\">\n     <use style=\"fill:#1f77b4;\" x=\"246.593482\" xlink:href=\"#C0_0_4db9ab571c\" y=\"217.381198\"/>\n    </g>\n    <g clip-path=\"url(#p631d58c506)\">\n     <use style=\"fill:#1f77b4;\" x=\"192.825061\" xlink:href=\"#C0_0_4db9ab571c\" y=\"217.381198\"/>\n    </g>\n    <g clip-path=\"url(#p631d58c506)\">\n     <use style=\"fill:#1f77b4;\" x=\"251.843482\" xlink:href=\"#C0_0_4db9ab571c\" y=\"217.381198\"/>\n    </g>\n    <g clip-path=\"url(#p631d58c506)\">\n     <use style=\"fill:#1f77b4;\" x=\"187.629505\" xlink:href=\"#C0_0_4db9ab571c\" y=\"217.378055\"/>\n    </g>\n    <g clip-path=\"url(#p631d58c506)\">\n     <use style=\"fill:#1f77b4;\" x=\"220.728125\" xlink:href=\"#C0_0_4db9ab571c\" y=\"217.374912\"/>\n    </g>\n    <g clip-path=\"url(#p631d58c506)\">\n     <use style=\"fill:#1f77b4;\" x=\"228.511085\" xlink:href=\"#C0_0_4db9ab571c\" y=\"217.374912\"/>\n    </g>\n    <g clip-path=\"url(#p631d58c506)\">\n     <use style=\"fill:#1f77b4;\" x=\"215.532569\" xlink:href=\"#C0_0_4db9ab571c\" y=\"217.37177\"/>\n    </g>\n    <g clip-path=\"url(#p631d58c506)\">\n     <use style=\"fill:#1f77b4;\" x=\"233.706641\" xlink:href=\"#C0_0_4db9ab571c\" y=\"217.37177\"/>\n    </g>\n    <g clip-path=\"url(#p631d58c506)\">\n     <use style=\"fill:#1f77b4;\" x=\"256.581016\" xlink:href=\"#C0_0_4db9ab571c\" y=\"217.37177\"/>\n    </g>\n    <g clip-path=\"url(#p631d58c506)\">\n     <use style=\"fill:#1f77b4;\" x=\"182.600816\" xlink:href=\"#C0_0_4db9ab571c\" y=\"217.37177\"/>\n    </g>\n    <g clip-path=\"url(#p631d58c506)\">\n     <use style=\"fill:#1f77b4;\" x=\"210.337013\" xlink:href=\"#C0_0_4db9ab571c\" y=\"217.368627\"/>\n    </g>\n    <g clip-path=\"url(#p631d58c506)\">\n     <use style=\"fill:#1f77b4;\" x=\"238.73533\" xlink:href=\"#C0_0_4db9ab571c\" y=\"217.365484\"/>\n    </g>\n    <g clip-path=\"url(#p631d58c506)\">\n     <use style=\"fill:#1f77b4;\" x=\"261.609705\" xlink:href=\"#C0_0_4db9ab571c\" y=\"217.365484\"/>\n    </g>\n    <g clip-path=\"url(#p631d58c506)\">\n     <use style=\"fill:#1f77b4;\" x=\"177.572127\" xlink:href=\"#C0_0_4db9ab571c\" y=\"217.365484\"/>\n    </g>\n    <g clip-path=\"url(#p631d58c506)\">\n     <use style=\"fill:#1f77b4;\" x=\"266.859705\" xlink:href=\"#C0_0_4db9ab571c\" y=\"217.365484\"/>\n    </g>\n    <g clip-path=\"url(#p631d58c506)\">\n     <use style=\"fill:#1f77b4;\" x=\"172.322127\" xlink:href=\"#C0_0_4db9ab571c\" y=\"217.365484\"/>\n    </g>\n    <g clip-path=\"url(#p631d58c506)\">\n     <use style=\"fill:#1f77b4;\" x=\"272.109705\" xlink:href=\"#C0_0_4db9ab571c\" y=\"217.365484\"/>\n    </g>\n    <g clip-path=\"url(#p631d58c506)\">\n     <use style=\"fill:#1f77b4;\" x=\"167.072127\" xlink:href=\"#C0_0_4db9ab571c\" y=\"217.365484\"/>\n    </g>\n    <g clip-path=\"url(#p631d58c506)\">\n     <use style=\"fill:#1f77b4;\" x=\"224.381217\" xlink:href=\"#C0_0_4db9ab571c\" y=\"217.359199\"/>\n    </g>\n    <g clip-path=\"url(#p631d58c506)\">\n     <use style=\"fill:#1f77b4;\" x=\"205.599479\" xlink:href=\"#C0_0_4db9ab571c\" y=\"217.359199\"/>\n    </g>\n    <g clip-path=\"url(#p631d58c506)\">\n     <use style=\"fill:#1f77b4;\" x=\"200.403923\" xlink:href=\"#C0_0_4db9ab571c\" y=\"217.356057\"/>\n    </g>\n    <g clip-path=\"url(#p631d58c506)\">\n     <use style=\"fill:#1f77b4;\" x=\"243.472864\" xlink:href=\"#C0_0_4db9ab571c\" y=\"217.356057\"/>\n    </g>\n    <g clip-path=\"url(#p631d58c506)\">\n     <use style=\"fill:#1f77b4;\" x=\"219.352528\" xlink:href=\"#C0_0_4db9ab571c\" y=\"217.352914\"/>\n    </g>\n    <g clip-path=\"url(#p631d58c506)\">\n     <use style=\"fill:#1f77b4;\" x=\"229.409906\" xlink:href=\"#C0_0_4db9ab571c\" y=\"217.352914\"/>\n    </g>\n    <g clip-path=\"url(#p631d58c506)\">\n     <use style=\"fill:#1f77b4;\" x=\"214.156972\" xlink:href=\"#C0_0_4db9ab571c\" y=\"217.349771\"/>\n    </g>\n    <g clip-path=\"url(#p631d58c506)\">\n     <use style=\"fill:#1f77b4;\" x=\"234.438595\" xlink:href=\"#C0_0_4db9ab571c\" y=\"217.346629\"/>\n    </g>\n    <g clip-path=\"url(#p631d58c506)\">\n     <use style=\"fill:#1f77b4;\" x=\"209.252571\" xlink:href=\"#C0_0_4db9ab571c\" y=\"217.343486\"/>\n    </g>\n    <g clip-path=\"url(#p631d58c506)\">\n     <use style=\"fill:#1f77b4;\" x=\"223.00562\" xlink:href=\"#C0_0_4db9ab571c\" y=\"217.337201\"/>\n    </g>\n    <g clip-path=\"url(#p631d58c506)\">\n     <use style=\"fill:#1f77b4;\" x=\"204.223882\" xlink:href=\"#C0_0_4db9ab571c\" y=\"217.337201\"/>\n    </g>\n    <g clip-path=\"url(#p631d58c506)\">\n     <use style=\"fill:#1f77b4;\" x=\"239.176129\" xlink:href=\"#C0_0_4db9ab571c\" y=\"217.337201\"/>\n    </g>\n    <g clip-path=\"url(#p631d58c506)\">\n     <use style=\"fill:#1f77b4;\" x=\"199.028326\" xlink:href=\"#C0_0_4db9ab571c\" y=\"217.334058\"/>\n    </g>\n    <g clip-path=\"url(#p631d58c506)\">\n     <use style=\"fill:#1f77b4;\" x=\"217.976931\" xlink:href=\"#C0_0_4db9ab571c\" y=\"217.330915\"/>\n    </g>\n    <g clip-path=\"url(#p631d58c506)\">\n     <use style=\"fill:#1f77b4;\" x=\"228.034309\" xlink:href=\"#C0_0_4db9ab571c\" y=\"217.330915\"/>\n    </g>\n    <g clip-path=\"url(#p631d58c506)\">\n     <use style=\"fill:#1f77b4;\" x=\"212.905663\" xlink:href=\"#C0_0_4db9ab571c\" y=\"217.327773\"/>\n    </g>\n    <g clip-path=\"url(#p631d58c506)\">\n     <use style=\"fill:#1f77b4;\" x=\"233.062998\" xlink:href=\"#C0_0_4db9ab571c\" y=\"217.32463\"/>\n    </g>\n    <g clip-path=\"url(#p631d58c506)\">\n     <use style=\"fill:#1f77b4;\" x=\"207.876974\" xlink:href=\"#C0_0_4db9ab571c\" y=\"217.321488\"/>\n    </g>\n    <g clip-path=\"url(#p631d58c506)\">\n     <use style=\"fill:#1f77b4;\" x=\"242.829221\" xlink:href=\"#C0_0_4db9ab571c\" y=\"217.321488\"/>\n    </g>\n    <g clip-path=\"url(#p631d58c506)\">\n     <use style=\"fill:#1f77b4;\" x=\"194.731425\" xlink:href=\"#C0_0_4db9ab571c\" y=\"217.321488\"/>\n    </g>\n    <g clip-path=\"url(#p631d58c506)\">\n     <use style=\"fill:#1f77b4;\" x=\"248.024777\" xlink:href=\"#C0_0_4db9ab571c\" y=\"217.318345\"/>\n    </g>\n    <g clip-path=\"url(#p631d58c506)\">\n     <use style=\"fill:#1f77b4;\" x=\"221.630023\" xlink:href=\"#C0_0_4db9ab571c\" y=\"217.315202\"/>\n    </g>\n    <g clip-path=\"url(#p631d58c506)\">\n     <use style=\"fill:#1f77b4;\" x=\"237.800532\" xlink:href=\"#C0_0_4db9ab571c\" y=\"217.315202\"/>\n    </g>\n    <g clip-path=\"url(#p631d58c506)\">\n     <use style=\"fill:#1f77b4;\" x=\"203.13944\" xlink:href=\"#C0_0_4db9ab571c\" y=\"217.31206\"/>\n    </g>\n    <g clip-path=\"url(#p631d58c506)\">\n     <use style=\"fill:#1f77b4;\" x=\"189.993891\" xlink:href=\"#C0_0_4db9ab571c\" y=\"217.31206\"/>\n    </g>\n    <g clip-path=\"url(#p631d58c506)\">\n     <use style=\"fill:#1f77b4;\" x=\"216.601334\" xlink:href=\"#C0_0_4db9ab571c\" y=\"217.308917\"/>\n    </g>\n    <g clip-path=\"url(#p631d58c506)\">\n     <use style=\"fill:#1f77b4;\" x=\"226.658712\" xlink:href=\"#C0_0_4db9ab571c\" y=\"217.308917\"/>\n    </g>\n    <g clip-path=\"url(#p631d58c506)\">\n     <use style=\"fill:#1f77b4;\" x=\"211.572645\" xlink:href=\"#C0_0_4db9ab571c\" y=\"217.302632\"/>\n    </g>\n    <g clip-path=\"url(#p631d58c506)\">\n     <use style=\"fill:#1f77b4;\" x=\"231.396246\" xlink:href=\"#C0_0_4db9ab571c\" y=\"217.299489\"/>\n    </g>\n    <g clip-path=\"url(#p631d58c506)\">\n     <use style=\"fill:#1f77b4;\" x=\"241.453624\" xlink:href=\"#C0_0_4db9ab571c\" y=\"217.299489\"/>\n    </g>\n    <g clip-path=\"url(#p631d58c506)\">\n     <use style=\"fill:#1f77b4;\" x=\"198.842539\" xlink:href=\"#C0_0_4db9ab571c\" y=\"217.299489\"/>\n    </g>\n    <g clip-path=\"url(#p631d58c506)\">\n     <use style=\"fill:#1f77b4;\" x=\"250.687373\" xlink:href=\"#C0_0_4db9ab571c\" y=\"217.299489\"/>\n    </g>\n    <g clip-path=\"url(#p631d58c506)\">\n     <use style=\"fill:#1f77b4;\" x=\"193.646983\" xlink:href=\"#C0_0_4db9ab571c\" y=\"217.296346\"/>\n    </g>\n    <g clip-path=\"url(#p631d58c506)\">\n     <use style=\"fill:#1f77b4;\" x=\"186.340799\" xlink:href=\"#C0_0_4db9ab571c\" y=\"217.296346\"/>\n    </g>\n    <g clip-path=\"url(#p631d58c506)\">\n     <use style=\"fill:#1f77b4;\" x=\"220.728125\" xlink:href=\"#C0_0_4db9ab571c\" y=\"217.293204\"/>\n    </g>\n    <g clip-path=\"url(#p631d58c506)\">\n     <use style=\"fill:#1f77b4;\" x=\"207.275745\" xlink:href=\"#C0_0_4db9ab571c\" y=\"217.290061\"/>\n    </g>\n    <g clip-path=\"url(#p631d58c506)\">\n     <use style=\"fill:#1f77b4;\" x=\"236.13378\" xlink:href=\"#C0_0_4db9ab571c\" y=\"217.290061\"/>\n    </g>\n    <g clip-path=\"url(#p631d58c506)\">\n     <use style=\"fill:#1f77b4;\" x=\"255.424908\" xlink:href=\"#C0_0_4db9ab571c\" y=\"217.290061\"/>\n    </g>\n    <g clip-path=\"url(#p631d58c506)\">\n     <use style=\"fill:#1f77b4;\" x=\"215.699436\" xlink:href=\"#C0_0_4db9ab571c\" y=\"217.286918\"/>\n    </g>\n    <g clip-path=\"url(#p631d58c506)\">\n     <use style=\"fill:#1f77b4;\" x=\"225.025025\" xlink:href=\"#C0_0_4db9ab571c\" y=\"217.280633\"/>\n    </g>\n    <g clip-path=\"url(#p631d58c506)\">\n     <use style=\"fill:#1f77b4;\" x=\"211.402536\" xlink:href=\"#C0_0_4db9ab571c\" y=\"217.274348\"/>\n    </g>\n    <g clip-path=\"url(#p631d58c506)\">\n     <use style=\"fill:#1f77b4;\" x=\"220.287491\" xlink:href=\"#C0_0_4db9ab571c\" y=\"217.271205\"/>\n    </g>\n    <g clip-path=\"url(#p631d58c506)\">\n     <use style=\"fill:#1f77b4;\" x=\"229.762559\" xlink:href=\"#C0_0_4db9ab571c\" y=\"217.271205\"/>\n    </g>\n    <g clip-path=\"url(#p631d58c506)\">\n     <use style=\"fill:#1f77b4;\" x=\"215.699436\" xlink:href=\"#C0_0_4db9ab571c\" y=\"217.261777\"/>\n    </g>\n    <g clip-path=\"url(#p631d58c506)\">\n     <use style=\"fill:#1f77b4;\" x=\"224.584392\" xlink:href=\"#C0_0_4db9ab571c\" y=\"217.258635\"/>\n    </g>\n    <g clip-path=\"url(#p631d58c506)\">\n     <use style=\"fill:#1f77b4;\" x=\"207.749444\" xlink:href=\"#C0_0_4db9ab571c\" y=\"217.258635\"/>\n    </g>\n    <g clip-path=\"url(#p631d58c506)\">\n     <use style=\"fill:#1f77b4;\" x=\"234.05946\" xlink:href=\"#C0_0_4db9ab571c\" y=\"217.258635\"/>\n    </g>\n    <g clip-path=\"url(#p631d58c506)\">\n     <use style=\"fill:#1f77b4;\" x=\"220.287491\" xlink:href=\"#C0_0_4db9ab571c\" y=\"217.246064\"/>\n    </g>\n    <g clip-path=\"url(#p631d58c506)\">\n     <use style=\"fill:#1f77b4;\" x=\"228.881292\" xlink:href=\"#C0_0_4db9ab571c\" y=\"217.246064\"/>\n    </g>\n    <g clip-path=\"url(#p631d58c506)\">\n     <use style=\"fill:#1f77b4;\" x=\"213.03684\" xlink:href=\"#C0_0_4db9ab571c\" y=\"217.242921\"/>\n    </g>\n    <g clip-path=\"url(#p631d58c506)\">\n     <use style=\"fill:#1f77b4;\" x=\"205.086848\" xlink:href=\"#C0_0_4db9ab571c\" y=\"217.239779\"/>\n    </g>\n    <g clip-path=\"url(#p631d58c506)\">\n     <use style=\"fill:#1f77b4;\" x=\"236.722056\" xlink:href=\"#C0_0_4db9ab571c\" y=\"217.239779\"/>\n    </g>\n    <g clip-path=\"url(#p631d58c506)\">\n     <use style=\"fill:#1f77b4;\" x=\"199.836848\" xlink:href=\"#C0_0_4db9ab571c\" y=\"217.239779\"/>\n    </g>\n    <g clip-path=\"url(#p631d58c506)\">\n     <use style=\"fill:#1f77b4;\" x=\"241.917612\" xlink:href=\"#C0_0_4db9ab571c\" y=\"217.236636\"/>\n    </g>\n    <g clip-path=\"url(#p631d58c506)\">\n     <use style=\"fill:#1f77b4;\" x=\"194.641291\" xlink:href=\"#C0_0_4db9ab571c\" y=\"217.236636\"/>\n    </g>\n    <g clip-path=\"url(#p631d58c506)\">\n     <use style=\"fill:#1f77b4;\" x=\"247.167612\" xlink:href=\"#C0_0_4db9ab571c\" y=\"217.236636\"/>\n    </g>\n    <g clip-path=\"url(#p631d58c506)\">\n     <use style=\"fill:#1f77b4;\" x=\"189.391291\" xlink:href=\"#C0_0_4db9ab571c\" y=\"217.236636\"/>\n    </g>\n    <g clip-path=\"url(#p631d58c506)\">\n     <use style=\"fill:#1f77b4;\" x=\"252.417612\" xlink:href=\"#C0_0_4db9ab571c\" y=\"217.236636\"/>\n    </g>\n    <g clip-path=\"url(#p631d58c506)\">\n     <use style=\"fill:#1f77b4;\" x=\"184.141291\" xlink:href=\"#C0_0_4db9ab571c\" y=\"217.236636\"/>\n    </g>\n    <g clip-path=\"url(#p631d58c506)\">\n     <use style=\"fill:#1f77b4;\" x=\"224.584392\" xlink:href=\"#C0_0_4db9ab571c\" y=\"217.233494\"/>\n    </g>\n    <g clip-path=\"url(#p631d58c506)\">\n     <use style=\"fill:#1f77b4;\" x=\"257.613168\" xlink:href=\"#C0_0_4db9ab571c\" y=\"217.233494\"/>\n    </g>\n    <g clip-path=\"url(#p631d58c506)\">\n     <use style=\"fill:#1f77b4;\" x=\"179.112602\" xlink:href=\"#C0_0_4db9ab571c\" y=\"217.230351\"/>\n    </g>\n    <g clip-path=\"url(#p631d58c506)\">\n     <use style=\"fill:#1f77b4;\" x=\"262.808724\" xlink:href=\"#C0_0_4db9ab571c\" y=\"217.230351\"/>\n    </g>\n    <g clip-path=\"url(#p631d58c506)\">\n     <use style=\"fill:#1f77b4;\" x=\"217.624895\" xlink:href=\"#C0_0_4db9ab571c\" y=\"217.227208\"/>\n    </g>\n    <g clip-path=\"url(#p631d58c506)\">\n     <use style=\"fill:#1f77b4;\" x=\"231.543888\" xlink:href=\"#C0_0_4db9ab571c\" y=\"217.227208\"/>\n    </g>\n    <g clip-path=\"url(#p631d58c506)\">\n     <use style=\"fill:#1f77b4;\" x=\"209.383748\" xlink:href=\"#C0_0_4db9ab571c\" y=\"217.227208\"/>\n    </g>\n    <g clip-path=\"url(#p631d58c506)\">\n     <use style=\"fill:#1f77b4;\" x=\"173.917046\" xlink:href=\"#C0_0_4db9ab571c\" y=\"217.227208\"/>\n    </g>\n    <g clip-path=\"url(#p631d58c506)\">\n     <use style=\"fill:#1f77b4;\" x=\"268.00428\" xlink:href=\"#C0_0_4db9ab571c\" y=\"217.227208\"/>\n    </g>\n    <g clip-path=\"url(#p631d58c506)\">\n     <use style=\"fill:#1f77b4;\" x=\"168.72149\" xlink:href=\"#C0_0_4db9ab571c\" y=\"217.224066\"/>\n    </g>\n    <g clip-path=\"url(#p631d58c506)\">\n     <use style=\"fill:#1f77b4;\" x=\"273.199836\" xlink:href=\"#C0_0_4db9ab571c\" y=\"217.224066\"/>\n    </g>\n    <g clip-path=\"url(#p631d58c506)\">\n     <use style=\"fill:#1f77b4;\" x=\"202.499444\" xlink:href=\"#C0_0_4db9ab571c\" y=\"217.220923\"/>\n    </g>\n    <g clip-path=\"url(#p631d58c506)\">\n     <use style=\"fill:#1f77b4;\" x=\"163.525934\" xlink:href=\"#C0_0_4db9ab571c\" y=\"217.220923\"/>\n    </g>\n    <g clip-path=\"url(#p631d58c506)\">\n     <use style=\"fill:#1f77b4;\" x=\"278.395392\" xlink:href=\"#C0_0_4db9ab571c\" y=\"217.220923\"/>\n    </g>\n    <g clip-path=\"url(#p631d58c506)\">\n     <use style=\"fill:#1f77b4;\" x=\"236.281422\" xlink:href=\"#C0_0_4db9ab571c\" y=\"217.21778\"/>\n    </g>\n    <g clip-path=\"url(#p631d58c506)\">\n     <use style=\"fill:#1f77b4;\" x=\"197.303887\" xlink:href=\"#C0_0_4db9ab571c\" y=\"217.21778\"/>\n    </g>\n    <g clip-path=\"url(#p631d58c506)\">\n     <use style=\"fill:#1f77b4;\" x=\"244.505016\" xlink:href=\"#C0_0_4db9ab571c\" y=\"217.21778\"/>\n    </g>\n    <g clip-path=\"url(#p631d58c506)\">\n     <use style=\"fill:#1f77b4;\" x=\"221.921795\" xlink:href=\"#C0_0_4db9ab571c\" y=\"217.214638\"/>\n    </g>\n    <g clip-path=\"url(#p631d58c506)\">\n     <use style=\"fill:#1f77b4;\" x=\"227.117352\" xlink:href=\"#C0_0_4db9ab571c\" y=\"217.211495\"/>\n    </g>\n    <g clip-path=\"url(#p631d58c506)\">\n     <use style=\"fill:#1f77b4;\" x=\"213.971803\" xlink:href=\"#C0_0_4db9ab571c\" y=\"217.211495\"/>\n    </g>\n    <g clip-path=\"url(#p631d58c506)\">\n     <use style=\"fill:#1f77b4;\" x=\"206.796344\" xlink:href=\"#C0_0_4db9ab571c\" y=\"217.208352\"/>\n    </g>\n    <g clip-path=\"url(#p631d58c506)\">\n     <use style=\"fill:#1f77b4;\" x=\"192.566353\" xlink:href=\"#C0_0_4db9ab571c\" y=\"217.208352\"/>\n    </g>\n    <g clip-path=\"url(#p631d58c506)\">\n     <use style=\"fill:#1f77b4;\" x=\"249.24255\" xlink:href=\"#C0_0_4db9ab571c\" y=\"217.208352\"/>\n    </g>\n    <g clip-path=\"url(#p631d58c506)\">\n     <use style=\"fill:#1f77b4;\" x=\"231.984522\" xlink:href=\"#C0_0_4db9ab571c\" y=\"217.20521\"/>\n    </g>\n    <g clip-path=\"url(#p631d58c506)\">\n     <use style=\"fill:#1f77b4;\" x=\"187.370797\" xlink:href=\"#C0_0_4db9ab571c\" y=\"217.20521\"/>\n    </g>\n    <g clip-path=\"url(#p631d58c506)\">\n     <use style=\"fill:#1f77b4;\" x=\"254.438106\" xlink:href=\"#C0_0_4db9ab571c\" y=\"217.20521\"/>\n    </g>\n    <g clip-path=\"url(#p631d58c506)\">\n     <use style=\"fill:#1f77b4;\" x=\"182.120797\" xlink:href=\"#C0_0_4db9ab571c\" y=\"217.20521\"/>\n    </g>\n    <g clip-path=\"url(#p631d58c506)\">\n     <use style=\"fill:#1f77b4;\" x=\"259.688106\" xlink:href=\"#C0_0_4db9ab571c\" y=\"217.20521\"/>\n    </g>\n    <g clip-path=\"url(#p631d58c506)\">\n     <use style=\"fill:#1f77b4;\" x=\"239.934514\" xlink:href=\"#C0_0_4db9ab571c\" y=\"217.202067\"/>\n    </g>\n    <g clip-path=\"url(#p631d58c506)\">\n     <use style=\"fill:#1f77b4;\" x=\"218.268703\" xlink:href=\"#C0_0_4db9ab571c\" y=\"217.198924\"/>\n    </g>\n    <g clip-path=\"url(#p631d58c506)\">\n     <use style=\"fill:#1f77b4;\" x=\"202.05881\" xlink:href=\"#C0_0_4db9ab571c\" y=\"217.198924\"/>\n    </g>\n    <g clip-path=\"url(#p631d58c506)\">\n     <use style=\"fill:#1f77b4;\" x=\"177.092108\" xlink:href=\"#C0_0_4db9ab571c\" y=\"217.198924\"/>\n    </g>\n    <g clip-path=\"url(#p631d58c506)\">\n     <use style=\"fill:#1f77b4;\" x=\"264.716795\" xlink:href=\"#C0_0_4db9ab571c\" y=\"217.198924\"/>\n    </g>\n    <g clip-path=\"url(#p631d58c506)\">\n     <use style=\"fill:#1f77b4;\" x=\"196.863254\" xlink:href=\"#C0_0_4db9ab571c\" y=\"217.195782\"/>\n    </g>\n    <g clip-path=\"url(#p631d58c506)\">\n     <use style=\"fill:#1f77b4;\" x=\"244.94565\" xlink:href=\"#C0_0_4db9ab571c\" y=\"217.195782\"/>\n    </g>\n    <g clip-path=\"url(#p631d58c506)\">\n     <use style=\"fill:#1f77b4;\" x=\"171.896552\" xlink:href=\"#C0_0_4db9ab571c\" y=\"217.195782\"/>\n    </g>\n    <g clip-path=\"url(#p631d58c506)\">\n     <use style=\"fill:#1f77b4;\" x=\"269.912351\" xlink:href=\"#C0_0_4db9ab571c\" y=\"217.195782\"/>\n    </g>\n    <g clip-path=\"url(#p631d58c506)\">\n     <use style=\"fill:#1f77b4;\" x=\"166.646552\" xlink:href=\"#C0_0_4db9ab571c\" y=\"217.195782\"/>\n    </g>\n    <g clip-path=\"url(#p631d58c506)\">\n     <use style=\"fill:#1f77b4;\" x=\"223.297392\" xlink:href=\"#C0_0_4db9ab571c\" y=\"217.192639\"/>\n    </g>\n    <g clip-path=\"url(#p631d58c506)\">\n     <use style=\"fill:#1f77b4;\" x=\"211.309207\" xlink:href=\"#C0_0_4db9ab571c\" y=\"217.192639\"/>\n    </g>\n    <g clip-path=\"url(#p631d58c506)\">\n     <use style=\"fill:#1f77b4;\" x=\"228.33143\" xlink:href=\"#C0_0_4db9ab571c\" y=\"217.189497\"/>\n    </g>\n    <g clip-path=\"url(#p631d58c506)\">\n     <use style=\"fill:#1f77b4;\" x=\"235.637614\" xlink:href=\"#C0_0_4db9ab571c\" y=\"217.189497\"/>\n    </g>\n    <g clip-path=\"url(#p631d58c506)\">\n     <use style=\"fill:#1f77b4;\" x=\"206.35571\" xlink:href=\"#C0_0_4db9ab571c\" y=\"217.186354\"/>\n    </g>\n    <g clip-path=\"url(#p631d58c506)\">\n     <use style=\"fill:#1f77b4;\" x=\"192.12572\" xlink:href=\"#C0_0_4db9ab571c\" y=\"217.186354\"/>\n    </g>\n    <g clip-path=\"url(#p631d58c506)\">\n     <use style=\"fill:#1f77b4;\" x=\"249.683184\" xlink:href=\"#C0_0_4db9ab571c\" y=\"217.186354\"/>\n    </g>\n    <g clip-path=\"url(#p631d58c506)\">\n     <use style=\"fill:#1f77b4;\" x=\"184.783393\" xlink:href=\"#C0_0_4db9ab571c\" y=\"217.186354\"/>\n    </g>\n    <g clip-path=\"url(#p631d58c506)\">\n     <use style=\"fill:#1f77b4;\" x=\"254.87874\" xlink:href=\"#C0_0_4db9ab571c\" y=\"217.183211\"/>\n    </g>\n    <g clip-path=\"url(#p631d58c506)\">\n     <use style=\"fill:#1f77b4;\" x=\"260.12874\" xlink:href=\"#C0_0_4db9ab571c\" y=\"217.183211\"/>\n    </g>\n    <g clip-path=\"url(#p631d58c506)\">\n     <use style=\"fill:#1f77b4;\" x=\"215.606107\" xlink:href=\"#C0_0_4db9ab571c\" y=\"217.180069\"/>\n    </g>\n    <g clip-path=\"url(#p631d58c506)\">\n     <use style=\"fill:#1f77b4;\" x=\"220.728125\" xlink:href=\"#C0_0_4db9ab571c\" y=\"217.173783\"/>\n    </g>\n    <g clip-path=\"url(#p631d58c506)\">\n     <use style=\"fill:#1f77b4;\" x=\"231.984522\" xlink:href=\"#C0_0_4db9ab571c\" y=\"217.173783\"/>\n    </g>\n    <g clip-path=\"url(#p631d58c506)\">\n     <use style=\"fill:#1f77b4;\" x=\"210.868573\" xlink:href=\"#C0_0_4db9ab571c\" y=\"217.170641\"/>\n    </g>\n    <g clip-path=\"url(#p631d58c506)\">\n     <use style=\"fill:#1f77b4;\" x=\"238.30021\" xlink:href=\"#C0_0_4db9ab571c\" y=\"217.170641\"/>\n    </g>\n    <g clip-path=\"url(#p631d58c506)\">\n     <use style=\"fill:#1f77b4;\" x=\"225.756814\" xlink:href=\"#C0_0_4db9ab571c\" y=\"217.167498\"/>\n    </g>\n    <g clip-path=\"url(#p631d58c506)\">\n     <use style=\"fill:#1f77b4;\" x=\"205.839884\" xlink:href=\"#C0_0_4db9ab571c\" y=\"217.164355\"/>\n    </g>\n    <g clip-path=\"url(#p631d58c506)\">\n     <use style=\"fill:#1f77b4;\" x=\"200.589884\" xlink:href=\"#C0_0_4db9ab571c\" y=\"217.164355\"/>\n    </g>\n    <g clip-path=\"url(#p631d58c506)\">\n     <use style=\"fill:#1f77b4;\" x=\"243.328899\" xlink:href=\"#C0_0_4db9ab571c\" y=\"217.164355\"/>\n    </g>\n    <g clip-path=\"url(#p631d58c506)\">\n     <use style=\"fill:#1f77b4;\" x=\"195.339884\" xlink:href=\"#C0_0_4db9ab571c\" y=\"217.164355\"/>\n    </g>\n    <g clip-path=\"url(#p631d58c506)\">\n     <use style=\"fill:#1f77b4;\" x=\"248.524455\" xlink:href=\"#C0_0_4db9ab571c\" y=\"217.161213\"/>\n    </g>\n    <g clip-path=\"url(#p631d58c506)\">\n     <use style=\"fill:#1f77b4;\" x=\"190.144328\" xlink:href=\"#C0_0_4db9ab571c\" y=\"217.161213\"/>\n    </g>\n    <g clip-path=\"url(#p631d58c506)\">\n     <use style=\"fill:#1f77b4;\" x=\"217.075033\" xlink:href=\"#C0_0_4db9ab571c\" y=\"217.15807\"/>\n    </g>\n    <g clip-path=\"url(#p631d58c506)\">\n     <use style=\"fill:#1f77b4;\" x=\"234.647118\" xlink:href=\"#C0_0_4db9ab571c\" y=\"217.154927\"/>\n    </g>\n    <g clip-path=\"url(#p631d58c506)\">\n     <use style=\"fill:#1f77b4;\" x=\"221.371933\" xlink:href=\"#C0_0_4db9ab571c\" y=\"217.1455\"/>\n    </g>\n    <g clip-path=\"url(#p631d58c506)\">\n     <use style=\"fill:#1f77b4;\" x=\"226.621933\" xlink:href=\"#C0_0_4db9ab571c\" y=\"217.1455\"/>\n    </g>\n    <g clip-path=\"url(#p631d58c506)\">\n     <use style=\"fill:#1f77b4;\" x=\"213.421941\" xlink:href=\"#C0_0_4db9ab571c\" y=\"217.142357\"/>\n    </g>\n    <g clip-path=\"url(#p631d58c506)\">\n     <use style=\"fill:#1f77b4;\" x=\"208.171941\" xlink:href=\"#C0_0_4db9ab571c\" y=\"217.142357\"/>\n    </g>\n    <g clip-path=\"url(#p631d58c506)\">\n     <use style=\"fill:#1f77b4;\" x=\"231.359467\" xlink:href=\"#C0_0_4db9ab571c\" y=\"217.136072\"/>\n    </g>\n    <g clip-path=\"url(#p631d58c506)\">\n     <use style=\"fill:#1f77b4;\" x=\"237.309714\" xlink:href=\"#C0_0_4db9ab571c\" y=\"217.136072\"/>\n    </g>\n    <g clip-path=\"url(#p631d58c506)\">\n     <use style=\"fill:#1f77b4;\" x=\"203.143252\" xlink:href=\"#C0_0_4db9ab571c\" y=\"217.136072\"/>\n    </g>\n    <g clip-path=\"url(#p631d58c506)\">\n     <use style=\"fill:#1f77b4;\" x=\"242.50527\" xlink:href=\"#C0_0_4db9ab571c\" y=\"217.132929\"/>\n    </g>\n    <g clip-path=\"url(#p631d58c506)\">\n     <use style=\"fill:#1f77b4;\" x=\"197.947696\" xlink:href=\"#C0_0_4db9ab571c\" y=\"217.132929\"/>\n    </g>\n    <g clip-path=\"url(#p631d58c506)\">\n     <use style=\"fill:#1f77b4;\" x=\"247.75527\" xlink:href=\"#C0_0_4db9ab571c\" y=\"217.132929\"/>\n    </g>\n    <g clip-path=\"url(#p631d58c506)\">\n     <use style=\"fill:#1f77b4;\" x=\"217.718841\" xlink:href=\"#C0_0_4db9ab571c\" y=\"217.129786\"/>\n    </g>\n    <g clip-path=\"url(#p631d58c506)\">\n     <use style=\"fill:#1f77b4;\" x=\"223.959337\" xlink:href=\"#C0_0_4db9ab571c\" y=\"217.126644\"/>\n    </g>\n    <g clip-path=\"url(#p631d58c506)\">\n     <use style=\"fill:#1f77b4;\" x=\"192.919007\" xlink:href=\"#C0_0_4db9ab571c\" y=\"217.126644\"/>\n    </g>\n    <g clip-path=\"url(#p631d58c506)\">\n     <use style=\"fill:#1f77b4;\" x=\"252.783959\" xlink:href=\"#C0_0_4db9ab571c\" y=\"217.126644\"/>\n    </g>\n    <g clip-path=\"url(#p631d58c506)\">\n     <use style=\"fill:#1f77b4;\" x=\"210.834537\" xlink:href=\"#C0_0_4db9ab571c\" y=\"217.123501\"/>\n    </g>\n    <g clip-path=\"url(#p631d58c506)\">\n     <use style=\"fill:#1f77b4;\" x=\"228.696871\" xlink:href=\"#C0_0_4db9ab571c\" y=\"217.117216\"/>\n    </g>\n    <g clip-path=\"url(#p631d58c506)\">\n     <use style=\"fill:#1f77b4;\" x=\"233.946871\" xlink:href=\"#C0_0_4db9ab571c\" y=\"217.117216\"/>\n    </g>\n    <g clip-path=\"url(#p631d58c506)\">\n     <use style=\"fill:#1f77b4;\" x=\"205.805848\" xlink:href=\"#C0_0_4db9ab571c\" y=\"217.117216\"/>\n    </g>\n    <g clip-path=\"url(#p631d58c506)\">\n     <use style=\"fill:#1f77b4;\" x=\"239.142427\" xlink:href=\"#C0_0_4db9ab571c\" y=\"217.114073\"/>\n    </g>\n    <g clip-path=\"url(#p631d58c506)\">\n     <use style=\"fill:#1f77b4;\" x=\"200.610292\" xlink:href=\"#C0_0_4db9ab571c\" y=\"217.114073\"/>\n    </g>\n    <g clip-path=\"url(#p631d58c506)\">\n     <use style=\"fill:#1f77b4;\" x=\"245.092674\" xlink:href=\"#C0_0_4db9ab571c\" y=\"217.114073\"/>\n    </g>\n    <g clip-path=\"url(#p631d58c506)\">\n     <use style=\"fill:#1f77b4;\" x=\"220.381437\" xlink:href=\"#C0_0_4db9ab571c\" y=\"217.11093\"/>\n    </g>\n    <g clip-path=\"url(#p631d58c506)\">\n     <use style=\"fill:#1f77b4;\" x=\"215.131437\" xlink:href=\"#C0_0_4db9ab571c\" y=\"217.11093\"/>\n    </g>\n    <g clip-path=\"url(#p631d58c506)\">\n     <use style=\"fill:#1f77b4;\" x=\"195.581603\" xlink:href=\"#C0_0_4db9ab571c\" y=\"217.107788\"/>\n    </g>\n    <g clip-path=\"url(#p631d58c506)\">\n     <use style=\"fill:#1f77b4;\" x=\"250.121363\" xlink:href=\"#C0_0_4db9ab571c\" y=\"217.107788\"/>\n    </g>\n    <g clip-path=\"url(#p631d58c506)\">\n     <use style=\"fill:#1f77b4;\" x=\"190.386047\" xlink:href=\"#C0_0_4db9ab571c\" y=\"217.104645\"/>\n    </g>\n    <g clip-path=\"url(#p631d58c506)\">\n     <use style=\"fill:#1f77b4;\" x=\"225.043779\" xlink:href=\"#C0_0_4db9ab571c\" y=\"217.101503\"/>\n    </g>\n    <g clip-path=\"url(#p631d58c506)\">\n     <use style=\"fill:#1f77b4;\" x=\"210.393903\" xlink:href=\"#C0_0_4db9ab571c\" y=\"217.101503\"/>\n    </g>\n    <g clip-path=\"url(#p631d58c506)\">\n     <use style=\"fill:#1f77b4;\" x=\"255.150052\" xlink:href=\"#C0_0_4db9ab571c\" y=\"217.101503\"/>\n    </g>\n    <g clip-path=\"url(#p631d58c506)\">\n     <use style=\"fill:#1f77b4;\" x=\"231.284275\" xlink:href=\"#C0_0_4db9ab571c\" y=\"217.09836\"/>\n    </g>\n    <g clip-path=\"url(#p631d58c506)\">\n     <use style=\"fill:#1f77b4;\" x=\"185.357358\" xlink:href=\"#C0_0_4db9ab571c\" y=\"217.09836\"/>\n    </g>\n    <g clip-path=\"url(#p631d58c506)\">\n     <use style=\"fill:#1f77b4;\" x=\"260.345608\" xlink:href=\"#C0_0_4db9ab571c\" y=\"217.09836\"/>\n    </g>\n    <g clip-path=\"url(#p631d58c506)\">\n     <use style=\"fill:#1f77b4;\" x=\"205.365214\" xlink:href=\"#C0_0_4db9ab571c\" y=\"217.095217\"/>\n    </g>\n    <g clip-path=\"url(#p631d58c506)\">\n     <use style=\"fill:#1f77b4;\" x=\"217.794033\" xlink:href=\"#C0_0_4db9ab571c\" y=\"217.092075\"/>\n    </g>\n    <g clip-path=\"url(#p631d58c506)\">\n     <use style=\"fill:#1f77b4;\" x=\"236.312964\" xlink:href=\"#C0_0_4db9ab571c\" y=\"217.092075\"/>\n    </g>\n    <g clip-path=\"url(#p631d58c506)\">\n     <use style=\"fill:#1f77b4;\" x=\"200.169658\" xlink:href=\"#C0_0_4db9ab571c\" y=\"217.092075\"/>\n    </g>\n    <g clip-path=\"url(#p631d58c506)\">\n     <use style=\"fill:#1f77b4;\" x=\"241.50852\" xlink:href=\"#C0_0_4db9ab571c\" y=\"217.088932\"/>\n    </g>\n    <g clip-path=\"url(#p631d58c506)\">\n     <use style=\"fill:#1f77b4;\" x=\"195.140969\" xlink:href=\"#C0_0_4db9ab571c\" y=\"217.085789\"/>\n    </g>\n    <g clip-path=\"url(#p631d58c506)\">\n     <use style=\"fill:#1f77b4;\" x=\"246.704076\" xlink:href=\"#C0_0_4db9ab571c\" y=\"217.085789\"/>\n    </g>\n    <g clip-path=\"url(#p631d58c506)\">\n     <use style=\"fill:#1f77b4;\" x=\"181.060457\" xlink:href=\"#C0_0_4db9ab571c\" y=\"217.085789\"/>\n    </g>\n    <g clip-path=\"url(#p631d58c506)\">\n     <use style=\"fill:#1f77b4;\" x=\"264.642508\" xlink:href=\"#C0_0_4db9ab571c\" y=\"217.085789\"/>\n    </g>\n    <g clip-path=\"url(#p631d58c506)\">\n     <use style=\"fill:#1f77b4;\" x=\"175.810457\" xlink:href=\"#C0_0_4db9ab571c\" y=\"217.085789\"/>\n    </g>\n    <g clip-path=\"url(#p631d58c506)\">\n     <use style=\"fill:#1f77b4;\" x=\"222.381183\" xlink:href=\"#C0_0_4db9ab571c\" y=\"217.082647\"/>\n    </g>\n    <g clip-path=\"url(#p631d58c506)\">\n     <use style=\"fill:#1f77b4;\" x=\"227.631183\" xlink:href=\"#C0_0_4db9ab571c\" y=\"217.082647\"/>\n    </g>\n    <g clip-path=\"url(#p631d58c506)\">\n     <use style=\"fill:#1f77b4;\" x=\"213.497133\" xlink:href=\"#C0_0_4db9ab571c\" y=\"217.079504\"/>\n    </g>\n    <g clip-path=\"url(#p631d58c506)\">\n     <use style=\"fill:#1f77b4;\" x=\"190.11228\" xlink:href=\"#C0_0_4db9ab571c\" y=\"217.079504\"/>\n    </g>\n    <g clip-path=\"url(#p631d58c506)\">\n     <use style=\"fill:#1f77b4;\" x=\"251.732765\" xlink:href=\"#C0_0_4db9ab571c\" y=\"217.079504\"/>\n    </g>\n    <g clip-path=\"url(#p631d58c506)\">\n     <use style=\"fill:#1f77b4;\" x=\"232.659872\" xlink:href=\"#C0_0_4db9ab571c\" y=\"217.076361\"/>\n    </g>\n    <g clip-path=\"url(#p631d58c506)\">\n     <use style=\"fill:#1f77b4;\" x=\"208.468444\" xlink:href=\"#C0_0_4db9ab571c\" y=\"217.073219\"/>\n    </g>\n    <g clip-path=\"url(#p631d58c506)\">\n     <use style=\"fill:#1f77b4;\" x=\"203.218444\" xlink:href=\"#C0_0_4db9ab571c\" y=\"217.073219\"/>\n    </g>\n    <g clip-path=\"url(#p631d58c506)\">\n     <use style=\"fill:#1f77b4;\" x=\"218.234667\" xlink:href=\"#C0_0_4db9ab571c\" y=\"217.070076\"/>\n    </g>\n    <g clip-path=\"url(#p631d58c506)\">\n     <use style=\"fill:#1f77b4;\" x=\"237.688561\" xlink:href=\"#C0_0_4db9ab571c\" y=\"217.070076\"/>\n    </g>\n    <g clip-path=\"url(#p631d58c506)\">\n     <use style=\"fill:#1f77b4;\" x=\"185.374746\" xlink:href=\"#C0_0_4db9ab571c\" y=\"217.070076\"/>\n    </g>\n    <g clip-path=\"url(#p631d58c506)\">\n     <use style=\"fill:#1f77b4;\" x=\"256.4703\" xlink:href=\"#C0_0_4db9ab571c\" y=\"217.070076\"/>\n    </g>\n    <g clip-path=\"url(#p631d58c506)\">\n     <use style=\"fill:#1f77b4;\" x=\"268.2956\" xlink:href=\"#C0_0_4db9ab571c\" y=\"217.070076\"/>\n    </g>\n    <g clip-path=\"url(#p631d58c506)\">\n     <use style=\"fill:#1f77b4;\" x=\"242.884117\" xlink:href=\"#C0_0_4db9ab571c\" y=\"217.066933\"/>\n    </g>\n    <g clip-path=\"url(#p631d58c506)\">\n     <use style=\"fill:#1f77b4;\" x=\"224.968587\" xlink:href=\"#C0_0_4db9ab571c\" y=\"217.063791\"/>\n    </g>\n    <g clip-path=\"url(#p631d58c506)\">\n     <use style=\"fill:#1f77b4;\" x=\"198.48091\" xlink:href=\"#C0_0_4db9ab571c\" y=\"217.063791\"/>\n    </g>\n    <g clip-path=\"url(#p631d58c506)\">\n     <use style=\"fill:#1f77b4;\" x=\"247.912806\" xlink:href=\"#C0_0_4db9ab571c\" y=\"217.060648\"/>\n    </g>\n    <g clip-path=\"url(#p631d58c506)\">\n     <use style=\"fill:#1f77b4;\" x=\"193.285354\" xlink:href=\"#C0_0_4db9ab571c\" y=\"217.060648\"/>\n    </g>\n    <g clip-path=\"url(#p631d58c506)\">\n     <use style=\"fill:#1f77b4;\" x=\"180.637212\" xlink:href=\"#C0_0_4db9ab571c\" y=\"217.060648\"/>\n    </g>\n    <g clip-path=\"url(#p631d58c506)\">\n     <use style=\"fill:#1f77b4;\" x=\"261.207834\" xlink:href=\"#C0_0_4db9ab571c\" y=\"217.060648\"/>\n    </g>\n    <g clip-path=\"url(#p631d58c506)\">\n     <use style=\"fill:#1f77b4;\" x=\"213.937767\" xlink:href=\"#C0_0_4db9ab571c\" y=\"217.057506\"/>\n    </g>\n    <g clip-path=\"url(#p631d58c506)\">\n     <use style=\"fill:#1f77b4;\" x=\"229.997276\" xlink:href=\"#C0_0_4db9ab571c\" y=\"217.057506\"/>\n    </g>\n    <g clip-path=\"url(#p631d58c506)\">\n     <use style=\"fill:#1f77b4;\" x=\"205.88104\" xlink:href=\"#C0_0_4db9ab571c\" y=\"217.054363\"/>\n    </g>\n    <g clip-path=\"url(#p631d58c506)\">\n     <use style=\"fill:#1f77b4;\" x=\"235.025965\" xlink:href=\"#C0_0_4db9ab571c\" y=\"217.05122\"/>\n    </g>\n    <g clip-path=\"url(#p631d58c506)\">\n     <use style=\"fill:#1f77b4;\" x=\"252.65034\" xlink:href=\"#C0_0_4db9ab571c\" y=\"217.05122\"/>\n    </g>\n    <g clip-path=\"url(#p631d58c506)\">\n     <use style=\"fill:#1f77b4;\" x=\"220.728125\" xlink:href=\"#C0_0_4db9ab571c\" y=\"217.044935\"/>\n    </g>\n    <g clip-path=\"url(#p631d58c506)\">\n     <use style=\"fill:#1f77b4;\" x=\"240.054654\" xlink:href=\"#C0_0_4db9ab571c\" y=\"217.044935\"/>\n    </g>\n    <g clip-path=\"url(#p631d58c506)\">\n     <use style=\"fill:#1f77b4;\" x=\"201.143506\" xlink:href=\"#C0_0_4db9ab571c\" y=\"217.044935\"/>\n    </g>\n    <g clip-path=\"url(#p631d58c506)\">\n     <use style=\"fill:#1f77b4;\" x=\"189.632262\" xlink:href=\"#C0_0_4db9ab571c\" y=\"217.044935\"/>\n    </g>\n    <g clip-path=\"url(#p631d58c506)\">\n     <use style=\"fill:#1f77b4;\" x=\"225.923681\" xlink:href=\"#C0_0_4db9ab571c\" y=\"217.041792\"/>\n    </g>\n    <g clip-path=\"url(#p631d58c506)\">\n     <use style=\"fill:#1f77b4;\" x=\"211.275171\" xlink:href=\"#C0_0_4db9ab571c\" y=\"217.03865\"/>\n    </g>\n    <g clip-path=\"url(#p631d58c506)\">\n     <use style=\"fill:#1f77b4;\" x=\"245.083343\" xlink:href=\"#C0_0_4db9ab571c\" y=\"217.03865\"/>\n    </g>\n    <g clip-path=\"url(#p631d58c506)\">\n     <use style=\"fill:#1f77b4;\" x=\"216.431225\" xlink:href=\"#C0_0_4db9ab571c\" y=\"217.032364\"/>\n    </g>\n    <g clip-path=\"url(#p631d58c506)\">\n     <use style=\"fill:#1f77b4;\" x=\"229.576773\" xlink:href=\"#C0_0_4db9ab571c\" y=\"217.026079\"/>\n    </g>\n    <g clip-path=\"url(#p631d58c506)\">\n     <use style=\"fill:#1f77b4;\" x=\"221.168759\" xlink:href=\"#C0_0_4db9ab571c\" y=\"217.022936\"/>\n    </g>\n    <g clip-path=\"url(#p631d58c506)\">\n     <use style=\"fill:#1f77b4;\" x=\"207.622079\" xlink:href=\"#C0_0_4db9ab571c\" y=\"217.022936\"/>\n    </g>\n    <g clip-path=\"url(#p631d58c506)\">\n     <use style=\"fill:#1f77b4;\" x=\"234.772329\" xlink:href=\"#C0_0_4db9ab571c\" y=\"217.022936\"/>\n    </g>\n    <g clip-path=\"url(#p631d58c506)\">\n     <use style=\"fill:#1f77b4;\" x=\"202.426522\" xlink:href=\"#C0_0_4db9ab571c\" y=\"217.019794\"/>\n    </g>\n    <g clip-path=\"url(#p631d58c506)\">\n     <use style=\"fill:#1f77b4;\" x=\"212.778133\" xlink:href=\"#C0_0_4db9ab571c\" y=\"217.016651\"/>\n    </g>\n    <g clip-path=\"url(#p631d58c506)\">\n     <use style=\"fill:#1f77b4;\" x=\"239.801018\" xlink:href=\"#C0_0_4db9ab571c\" y=\"217.016651\"/>\n    </g>\n    <g clip-path=\"url(#p631d58c506)\">\n     <use style=\"fill:#1f77b4;\" x=\"217.515667\" xlink:href=\"#C0_0_4db9ab571c\" y=\"217.007223\"/>\n    </g>\n    <g clip-path=\"url(#p631d58c506)\">\n     <use style=\"fill:#1f77b4;\" x=\"222.544356\" xlink:href=\"#C0_0_4db9ab571c\" y=\"217.000938\"/>\n    </g>\n    <g clip-path=\"url(#p631d58c506)\">\n     <use style=\"fill:#1f77b4;\" x=\"227.739912\" xlink:href=\"#C0_0_4db9ab571c\" y=\"216.997795\"/>\n    </g>\n    <g clip-path=\"url(#p631d58c506)\">\n     <use style=\"fill:#1f77b4;\" x=\"220.728125\" xlink:href=\"#C0_0_4db9ab571c\" y=\"216.978939\"/>\n    </g>\n    <g clip-path=\"url(#p631d58c506)\">\n     <use style=\"fill:#1f77b4;\" x=\"215.532569\" xlink:href=\"#C0_0_4db9ab571c\" y=\"216.975797\"/>\n    </g>\n    <g clip-path=\"url(#p631d58c506)\">\n     <use style=\"fill:#1f77b4;\" x=\"220.728125\" xlink:href=\"#C0_0_4db9ab571c\" y=\"216.953798\"/>\n    </g>\n    <g clip-path=\"url(#p631d58c506)\">\n     <use style=\"fill:#1f77b4;\" x=\"215.532569\" xlink:href=\"#C0_0_4db9ab571c\" y=\"216.950656\"/>\n    </g>\n    <g clip-path=\"url(#p631d58c506)\">\n     <use style=\"fill:#1f77b4;\" x=\"220.728125\" xlink:href=\"#C0_0_4db9ab571c\" y=\"216.925515\"/>\n    </g>\n    <g clip-path=\"url(#p631d58c506)\">\n     <use style=\"fill:#1f77b4;\" x=\"220.728125\" xlink:href=\"#C0_0_4db9ab571c\" y=\"216.903516\"/>\n    </g>\n    <g clip-path=\"url(#p631d58c506)\">\n     <use style=\"fill:#1f77b4;\" x=\"215.532569\" xlink:href=\"#C0_0_4db9ab571c\" y=\"216.900373\"/>\n    </g>\n    <g clip-path=\"url(#p631d58c506)\">\n     <use style=\"fill:#1f77b4;\" x=\"220.728125\" xlink:href=\"#C0_0_4db9ab571c\" y=\"216.834378\"/>\n    </g>\n    <g clip-path=\"url(#p631d58c506)\">\n     <use style=\"fill:#1f77b4;\" x=\"220.728125\" xlink:href=\"#C0_0_4db9ab571c\" y=\"216.784096\"/>\n    </g>\n   </g>\n   <g id=\"PathCollection_2\">\n    <defs>\n     <path d=\"M 0 2.5 \nC 0.663008 2.5 1.29895 2.236584 1.767767 1.767767 \nC 2.236584 1.29895 2.5 0.663008 2.5 0 \nC 2.5 -0.663008 2.236584 -1.29895 1.767767 -1.767767 \nC 1.29895 -2.236584 0.663008 -2.5 0 -2.5 \nC -0.663008 -2.5 -1.29895 -2.236584 -1.767767 -1.767767 \nC -2.236584 -1.29895 -2.5 -0.663008 -2.5 0 \nC -2.5 0.663008 -2.236584 1.29895 -1.767767 1.767767 \nC -1.29895 2.236584 -0.663008 2.5 0 2.5 \nz\n\" id=\"C1_0_8db006bc17\"/>\n    </defs>\n    <g clip-path=\"url(#p631d58c506)\">\n     <use style=\"fill:#1f77b4;\" x=\"220.728125\" xlink:href=\"#C1_0_8db006bc17\" y=\"218.245424\"/>\n    </g>\n    <g clip-path=\"url(#p631d58c506)\">\n     <use style=\"fill:#1f77b4;\" x=\"215.496843\" xlink:href=\"#C1_0_8db006bc17\" y=\"218.242282\"/>\n    </g>\n    <g clip-path=\"url(#p631d58c506)\">\n     <use style=\"fill:#1f77b4;\" x=\"225.902847\" xlink:href=\"#C1_0_8db006bc17\" y=\"218.239139\"/>\n    </g>\n    <g clip-path=\"url(#p631d58c506)\">\n     <use style=\"fill:#1f77b4;\" x=\"210.322122\" xlink:href=\"#C1_0_8db006bc17\" y=\"218.235997\"/>\n    </g>\n    <g clip-path=\"url(#p631d58c506)\">\n     <use style=\"fill:#1f77b4;\" x=\"231.077568\" xlink:href=\"#C1_0_8db006bc17\" y=\"218.232854\"/>\n    </g>\n    <g clip-path=\"url(#p631d58c506)\">\n     <use style=\"fill:#1f77b4;\" x=\"236.327568\" xlink:href=\"#C1_0_8db006bc17\" y=\"218.232854\"/>\n    </g>\n    <g clip-path=\"url(#p631d58c506)\">\n     <use style=\"fill:#1f77b4;\" x=\"205.1474\" xlink:href=\"#C1_0_8db006bc17\" y=\"218.229711\"/>\n    </g>\n    <g clip-path=\"url(#p631d58c506)\">\n     <use style=\"fill:#1f77b4;\" x=\"241.50229\" xlink:href=\"#C1_0_8db006bc17\" y=\"218.226569\"/>\n    </g>\n    <g clip-path=\"url(#p631d58c506)\">\n     <use style=\"fill:#1f77b4;\" x=\"199.916118\" xlink:href=\"#C1_0_8db006bc17\" y=\"218.226569\"/>\n    </g>\n    <g clip-path=\"url(#p631d58c506)\">\n     <use style=\"fill:#1f77b4;\" x=\"246.75229\" xlink:href=\"#C1_0_8db006bc17\" y=\"218.226569\"/>\n    </g>\n    <g clip-path=\"url(#p631d58c506)\">\n     <use style=\"fill:#1f77b4;\" x=\"194.666118\" xlink:href=\"#C1_0_8db006bc17\" y=\"218.226569\"/>\n    </g>\n    <g clip-path=\"url(#p631d58c506)\">\n     <use style=\"fill:#1f77b4;\" x=\"252.00229\" xlink:href=\"#C1_0_8db006bc17\" y=\"218.226569\"/>\n    </g>\n    <g clip-path=\"url(#p631d58c506)\">\n     <use style=\"fill:#1f77b4;\" x=\"189.416118\" xlink:href=\"#C1_0_8db006bc17\" y=\"218.226569\"/>\n    </g>\n    <g clip-path=\"url(#p631d58c506)\">\n     <use style=\"fill:#1f77b4;\" x=\"257.233572\" xlink:href=\"#C1_0_8db006bc17\" y=\"218.223426\"/>\n    </g>\n    <g clip-path=\"url(#p631d58c506)\">\n     <use style=\"fill:#1f77b4;\" x=\"184.184836\" xlink:href=\"#C1_0_8db006bc17\" y=\"218.223426\"/>\n    </g>\n    <g clip-path=\"url(#p631d58c506)\">\n     <use style=\"fill:#1f77b4;\" x=\"262.483572\" xlink:href=\"#C1_0_8db006bc17\" y=\"218.223426\"/>\n    </g>\n    <g clip-path=\"url(#p631d58c506)\">\n     <use style=\"fill:#1f77b4;\" x=\"178.934836\" xlink:href=\"#C1_0_8db006bc17\" y=\"218.223426\"/>\n    </g>\n    <g clip-path=\"url(#p631d58c506)\">\n     <use style=\"fill:#1f77b4;\" x=\"267.714853\" xlink:href=\"#C1_0_8db006bc17\" y=\"218.220283\"/>\n    </g>\n    <g clip-path=\"url(#p631d58c506)\">\n     <use style=\"fill:#1f77b4;\" x=\"173.703554\" xlink:href=\"#C1_0_8db006bc17\" y=\"218.220283\"/>\n    </g>\n    <g clip-path=\"url(#p631d58c506)\">\n     <use style=\"fill:#1f77b4;\" x=\"272.964853\" xlink:href=\"#C1_0_8db006bc17\" y=\"218.220283\"/>\n    </g>\n    <g clip-path=\"url(#p631d58c506)\">\n     <use style=\"fill:#1f77b4;\" x=\"168.453554\" xlink:href=\"#C1_0_8db006bc17\" y=\"218.220283\"/>\n    </g>\n    <g clip-path=\"url(#p631d58c506)\">\n     <use style=\"fill:#1f77b4;\" x=\"278.196135\" xlink:href=\"#C1_0_8db006bc17\" y=\"218.217141\"/>\n    </g>\n    <g clip-path=\"url(#p631d58c506)\">\n     <use style=\"fill:#1f77b4;\" x=\"163.222272\" xlink:href=\"#C1_0_8db006bc17\" y=\"218.217141\"/>\n    </g>\n    <g clip-path=\"url(#p631d58c506)\">\n     <use style=\"fill:#1f77b4;\" x=\"283.427417\" xlink:href=\"#C1_0_8db006bc17\" y=\"218.213998\"/>\n    </g>\n    <g clip-path=\"url(#p631d58c506)\">\n     <use style=\"fill:#1f77b4;\" x=\"157.99099\" xlink:href=\"#C1_0_8db006bc17\" y=\"218.213998\"/>\n    </g>\n    <g clip-path=\"url(#p631d58c506)\">\n     <use style=\"fill:#1f77b4;\" x=\"288.677417\" xlink:href=\"#C1_0_8db006bc17\" y=\"218.213998\"/>\n    </g>\n    <g clip-path=\"url(#p631d58c506)\">\n     <use style=\"fill:#1f77b4;\" x=\"218.772722\" xlink:href=\"#C1_0_8db006bc17\" y=\"218.210855\"/>\n    </g>\n    <g clip-path=\"url(#p631d58c506)\">\n     <use style=\"fill:#1f77b4;\" x=\"152.759708\" xlink:href=\"#C1_0_8db006bc17\" y=\"218.210855\"/>\n    </g>\n    <g clip-path=\"url(#p631d58c506)\">\n     <use style=\"fill:#1f77b4;\" x=\"293.908699\" xlink:href=\"#C1_0_8db006bc17\" y=\"218.210855\"/>\n    </g>\n    <g clip-path=\"url(#p631d58c506)\">\n     <use style=\"fill:#1f77b4;\" x=\"147.509708\" xlink:href=\"#C1_0_8db006bc17\" y=\"218.210855\"/>\n    </g>\n    <g clip-path=\"url(#p631d58c506)\">\n     <use style=\"fill:#1f77b4;\" x=\"299.158699\" xlink:href=\"#C1_0_8db006bc17\" y=\"218.210855\"/>\n    </g>\n    <g clip-path=\"url(#p631d58c506)\">\n     <use style=\"fill:#1f77b4;\" x=\"142.259708\" xlink:href=\"#C1_0_8db006bc17\" y=\"218.210855\"/>\n    </g>\n    <g clip-path=\"url(#p631d58c506)\">\n     <use style=\"fill:#1f77b4;\" x=\"304.389981\" xlink:href=\"#C1_0_8db006bc17\" y=\"218.207713\"/>\n    </g>\n    <g clip-path=\"url(#p631d58c506)\">\n     <use style=\"fill:#1f77b4;\" x=\"137.028426\" xlink:href=\"#C1_0_8db006bc17\" y=\"218.207713\"/>\n    </g>\n    <g clip-path=\"url(#p631d58c506)\">\n     <use style=\"fill:#1f77b4;\" x=\"309.639981\" xlink:href=\"#C1_0_8db006bc17\" y=\"218.207713\"/>\n    </g>\n    <g clip-path=\"url(#p631d58c506)\">\n     <use style=\"fill:#1f77b4;\" x=\"131.778426\" xlink:href=\"#C1_0_8db006bc17\" y=\"218.207713\"/>\n    </g>\n    <g clip-path=\"url(#p631d58c506)\">\n     <use style=\"fill:#1f77b4;\" x=\"223.947444\" xlink:href=\"#C1_0_8db006bc17\" y=\"218.20457\"/>\n    </g>\n    <g clip-path=\"url(#p631d58c506)\">\n     <use style=\"fill:#1f77b4;\" x=\"213.598001\" xlink:href=\"#C1_0_8db006bc17\" y=\"218.20457\"/>\n    </g>\n    <g clip-path=\"url(#p631d58c506)\">\n     <use style=\"fill:#1f77b4;\" x=\"314.871263\" xlink:href=\"#C1_0_8db006bc17\" y=\"218.20457\"/>\n    </g>\n    <g clip-path=\"url(#p631d58c506)\">\n     <use style=\"fill:#1f77b4;\" x=\"126.547144\" xlink:href=\"#C1_0_8db006bc17\" y=\"218.20457\"/>\n    </g>\n    <g clip-path=\"url(#p631d58c506)\">\n     <use style=\"fill:#1f77b4;\" x=\"320.121263\" xlink:href=\"#C1_0_8db006bc17\" y=\"218.20457\"/>\n    </g>\n    <g clip-path=\"url(#p631d58c506)\">\n     <use style=\"fill:#1f77b4;\" x=\"121.315863\" xlink:href=\"#C1_0_8db006bc17\" y=\"218.201427\"/>\n    </g>\n    <g clip-path=\"url(#p631d58c506)\">\n     <use style=\"fill:#1f77b4;\" x=\"325.352545\" xlink:href=\"#C1_0_8db006bc17\" y=\"218.201427\"/>\n    </g>\n    <g clip-path=\"url(#p631d58c506)\">\n     <use style=\"fill:#1f77b4;\" x=\"116.065863\" xlink:href=\"#C1_0_8db006bc17\" y=\"218.201427\"/>\n    </g>\n    <g clip-path=\"url(#p631d58c506)\">\n     <use style=\"fill:#1f77b4;\" x=\"330.602545\" xlink:href=\"#C1_0_8db006bc17\" y=\"218.201427\"/>\n    </g>\n    <g clip-path=\"url(#p631d58c506)\">\n     <use style=\"fill:#1f77b4;\" x=\"110.815863\" xlink:href=\"#C1_0_8db006bc17\" y=\"218.201427\"/>\n    </g>\n    <g clip-path=\"url(#p631d58c506)\">\n     <use style=\"fill:#1f77b4;\" x=\"335.852545\" xlink:href=\"#C1_0_8db006bc17\" y=\"218.201427\"/>\n    </g>\n    <g clip-path=\"url(#p631d58c506)\">\n     <use style=\"fill:#1f77b4;\" x=\"105.565863\" xlink:href=\"#C1_0_8db006bc17\" y=\"218.201427\"/>\n    </g>\n    <g clip-path=\"url(#p631d58c506)\">\n     <use style=\"fill:#1f77b4;\" x=\"341.102545\" xlink:href=\"#C1_0_8db006bc17\" y=\"218.201427\"/>\n    </g>\n    <g clip-path=\"url(#p631d58c506)\">\n     <use style=\"fill:#1f77b4;\" x=\"229.122165\" xlink:href=\"#C1_0_8db006bc17\" y=\"218.198285\"/>\n    </g>\n    <g clip-path=\"url(#p631d58c506)\">\n     <use style=\"fill:#1f77b4;\" x=\"208.423279\" xlink:href=\"#C1_0_8db006bc17\" y=\"218.198285\"/>\n    </g>\n    <g clip-path=\"url(#p631d58c506)\">\n     <use style=\"fill:#1f77b4;\" x=\"234.372165\" xlink:href=\"#C1_0_8db006bc17\" y=\"218.198285\"/>\n    </g>\n    <g clip-path=\"url(#p631d58c506)\">\n     <use style=\"fill:#1f77b4;\" x=\"100.334581\" xlink:href=\"#C1_0_8db006bc17\" y=\"218.198285\"/>\n    </g>\n    <g clip-path=\"url(#p631d58c506)\">\n     <use style=\"fill:#1f77b4;\" x=\"346.333827\" xlink:href=\"#C1_0_8db006bc17\" y=\"218.198285\"/>\n    </g>\n    <g clip-path=\"url(#p631d58c506)\">\n     <use style=\"fill:#1f77b4;\" x=\"203.191997\" xlink:href=\"#C1_0_8db006bc17\" y=\"218.195142\"/>\n    </g>\n    <g clip-path=\"url(#p631d58c506)\">\n     <use style=\"fill:#1f77b4;\" x=\"95.103299\" xlink:href=\"#C1_0_8db006bc17\" y=\"218.195142\"/>\n    </g>\n    <g clip-path=\"url(#p631d58c506)\">\n     <use style=\"fill:#1f77b4;\" x=\"239.546887\" xlink:href=\"#C1_0_8db006bc17\" y=\"218.192\"/>\n    </g>\n    <g clip-path=\"url(#p631d58c506)\">\n     <use style=\"fill:#1f77b4;\" x=\"197.960715\" xlink:href=\"#C1_0_8db006bc17\" y=\"218.192\"/>\n    </g>\n    <g clip-path=\"url(#p631d58c506)\">\n     <use style=\"fill:#1f77b4;\" x=\"244.796887\" xlink:href=\"#C1_0_8db006bc17\" y=\"218.192\"/>\n    </g>\n    <g clip-path=\"url(#p631d58c506)\">\n     <use style=\"fill:#1f77b4;\" x=\"192.729433\" xlink:href=\"#C1_0_8db006bc17\" y=\"218.188857\"/>\n    </g>\n    <g clip-path=\"url(#p631d58c506)\">\n     <use style=\"fill:#1f77b4;\" x=\"249.971608\" xlink:href=\"#C1_0_8db006bc17\" y=\"218.185714\"/>\n    </g>\n    <g clip-path=\"url(#p631d58c506)\">\n     <use style=\"fill:#1f77b4;\" x=\"187.498151\" xlink:href=\"#C1_0_8db006bc17\" y=\"218.185714\"/>\n    </g>\n    <g clip-path=\"url(#p631d58c506)\">\n     <use style=\"fill:#1f77b4;\" x=\"255.221608\" xlink:href=\"#C1_0_8db006bc17\" y=\"218.185714\"/>\n    </g>\n    <g clip-path=\"url(#p631d58c506)\">\n     <use style=\"fill:#1f77b4;\" x=\"182.248151\" xlink:href=\"#C1_0_8db006bc17\" y=\"218.185714\"/>\n    </g>\n    <g clip-path=\"url(#p631d58c506)\">\n     <use style=\"fill:#1f77b4;\" x=\"260.471608\" xlink:href=\"#C1_0_8db006bc17\" y=\"218.185714\"/>\n    </g>\n    <g clip-path=\"url(#p631d58c506)\">\n     <use style=\"fill:#1f77b4;\" x=\"176.998151\" xlink:href=\"#C1_0_8db006bc17\" y=\"218.185714\"/>\n    </g>\n    <g clip-path=\"url(#p631d58c506)\">\n     <use style=\"fill:#1f77b4;\" x=\"265.721608\" xlink:href=\"#C1_0_8db006bc17\" y=\"218.185714\"/>\n    </g>\n    <g clip-path=\"url(#p631d58c506)\">\n     <use style=\"fill:#1f77b4;\" x=\"171.748151\" xlink:href=\"#C1_0_8db006bc17\" y=\"218.185714\"/>\n    </g>\n    <g clip-path=\"url(#p631d58c506)\">\n     <use style=\"fill:#1f77b4;\" x=\"270.971608\" xlink:href=\"#C1_0_8db006bc17\" y=\"218.185714\"/>\n    </g>\n    <g clip-path=\"url(#p631d58c506)\">\n     <use style=\"fill:#1f77b4;\" x=\"166.498151\" xlink:href=\"#C1_0_8db006bc17\" y=\"218.185714\"/>\n    </g>\n    <g clip-path=\"url(#p631d58c506)\">\n     <use style=\"fill:#1f77b4;\" x=\"276.20289\" xlink:href=\"#C1_0_8db006bc17\" y=\"218.182572\"/>\n    </g>\n    <g clip-path=\"url(#p631d58c506)\">\n     <use style=\"fill:#1f77b4;\" x=\"161.26687\" xlink:href=\"#C1_0_8db006bc17\" y=\"218.182572\"/>\n    </g>\n    <g clip-path=\"url(#p631d58c506)\">\n     <use style=\"fill:#1f77b4;\" x=\"351.093845\" xlink:href=\"#C1_0_8db006bc17\" y=\"218.182572\"/>\n    </g>\n    <g clip-path=\"url(#p631d58c506)\">\n     <use style=\"fill:#1f77b4;\" x=\"281.434172\" xlink:href=\"#C1_0_8db006bc17\" y=\"218.179429\"/>\n    </g>\n    <g clip-path=\"url(#p631d58c506)\">\n     <use style=\"fill:#1f77b4;\" x=\"156.035588\" xlink:href=\"#C1_0_8db006bc17\" y=\"218.179429\"/>\n    </g>\n    <g clip-path=\"url(#p631d58c506)\">\n     <use style=\"fill:#1f77b4;\" x=\"286.684172\" xlink:href=\"#C1_0_8db006bc17\" y=\"218.179429\"/>\n    </g>\n    <g clip-path=\"url(#p631d58c506)\">\n     <use style=\"fill:#1f77b4;\" x=\"90.343281\" xlink:href=\"#C1_0_8db006bc17\" y=\"218.179429\"/>\n    </g>\n    <g clip-path=\"url(#p631d58c506)\">\n     <use style=\"fill:#1f77b4;\" x=\"150.804306\" xlink:href=\"#C1_0_8db006bc17\" y=\"218.176286\"/>\n    </g>\n    <g clip-path=\"url(#p631d58c506)\">\n     <use style=\"fill:#1f77b4;\" x=\"291.915454\" xlink:href=\"#C1_0_8db006bc17\" y=\"218.176286\"/>\n    </g>\n    <g clip-path=\"url(#p631d58c506)\">\n     <use style=\"fill:#1f77b4;\" x=\"145.554306\" xlink:href=\"#C1_0_8db006bc17\" y=\"218.176286\"/>\n    </g>\n    <g clip-path=\"url(#p631d58c506)\">\n     <use style=\"fill:#1f77b4;\" x=\"297.165454\" xlink:href=\"#C1_0_8db006bc17\" y=\"218.176286\"/>\n    </g>\n    <g clip-path=\"url(#p631d58c506)\">\n     <use style=\"fill:#1f77b4;\" x=\"220.728125\" xlink:href=\"#C1_0_8db006bc17\" y=\"218.173144\"/>\n    </g>\n    <g clip-path=\"url(#p631d58c506)\">\n     <use style=\"fill:#1f77b4;\" x=\"140.323024\" xlink:href=\"#C1_0_8db006bc17\" y=\"218.173144\"/>\n    </g>\n    <g clip-path=\"url(#p631d58c506)\">\n     <use style=\"fill:#1f77b4;\" x=\"215.553403\" xlink:href=\"#C1_0_8db006bc17\" y=\"218.170001\"/>\n    </g>\n    <g clip-path=\"url(#p631d58c506)\">\n     <use style=\"fill:#1f77b4;\" x=\"302.340176\" xlink:href=\"#C1_0_8db006bc17\" y=\"218.170001\"/>\n    </g>\n    <g clip-path=\"url(#p631d58c506)\">\n     <use style=\"fill:#1f77b4;\" x=\"225.902847\" xlink:href=\"#C1_0_8db006bc17\" y=\"218.166858\"/>\n    </g>\n    <g clip-path=\"url(#p631d58c506)\">\n     <use style=\"fill:#1f77b4;\" x=\"135.148302\" xlink:href=\"#C1_0_8db006bc17\" y=\"218.166858\"/>\n    </g>\n    <g clip-path=\"url(#p631d58c506)\">\n     <use style=\"fill:#1f77b4;\" x=\"307.571458\" xlink:href=\"#C1_0_8db006bc17\" y=\"218.166858\"/>\n    </g>\n    <g clip-path=\"url(#p631d58c506)\">\n     <use style=\"fill:#1f77b4;\" x=\"210.378682\" xlink:href=\"#C1_0_8db006bc17\" y=\"218.163716\"/>\n    </g>\n    <g clip-path=\"url(#p631d58c506)\">\n     <use style=\"fill:#1f77b4;\" x=\"231.077568\" xlink:href=\"#C1_0_8db006bc17\" y=\"218.163716\"/>\n    </g>\n    <g clip-path=\"url(#p631d58c506)\">\n     <use style=\"fill:#1f77b4;\" x=\"129.91702\" xlink:href=\"#C1_0_8db006bc17\" y=\"218.163716\"/>\n    </g>\n    <g clip-path=\"url(#p631d58c506)\">\n     <use style=\"fill:#1f77b4;\" x=\"312.80274\" xlink:href=\"#C1_0_8db006bc17\" y=\"218.163716\"/>\n    </g>\n    <g clip-path=\"url(#p631d58c506)\">\n     <use style=\"fill:#1f77b4;\" x=\"124.66702\" xlink:href=\"#C1_0_8db006bc17\" y=\"218.163716\"/>\n    </g>\n    <g clip-path=\"url(#p631d58c506)\">\n     <use style=\"fill:#1f77b4;\" x=\"318.05274\" xlink:href=\"#C1_0_8db006bc17\" y=\"218.163716\"/>\n    </g>\n    <g clip-path=\"url(#p631d58c506)\">\n     <use style=\"fill:#1f77b4;\" x=\"205.1474\" xlink:href=\"#C1_0_8db006bc17\" y=\"218.160573\"/>\n    </g>\n    <g clip-path=\"url(#p631d58c506)\">\n     <use style=\"fill:#1f77b4;\" x=\"236.30885\" xlink:href=\"#C1_0_8db006bc17\" y=\"218.160573\"/>\n    </g>\n    <g clip-path=\"url(#p631d58c506)\">\n     <use style=\"fill:#1f77b4;\" x=\"119.435738\" xlink:href=\"#C1_0_8db006bc17\" y=\"218.160573\"/>\n    </g>\n    <g clip-path=\"url(#p631d58c506)\">\n     <use style=\"fill:#1f77b4;\" x=\"323.284022\" xlink:href=\"#C1_0_8db006bc17\" y=\"218.160573\"/>\n    </g>\n    <g clip-path=\"url(#p631d58c506)\">\n     <use style=\"fill:#1f77b4;\" x=\"241.50229\" xlink:href=\"#C1_0_8db006bc17\" y=\"218.15743\"/>\n    </g>\n    <g clip-path=\"url(#p631d58c506)\">\n     <use style=\"fill:#1f77b4;\" x=\"199.916118\" xlink:href=\"#C1_0_8db006bc17\" y=\"218.15743\"/>\n    </g>\n    <g clip-path=\"url(#p631d58c506)\">\n     <use style=\"fill:#1f77b4;\" x=\"114.204456\" xlink:href=\"#C1_0_8db006bc17\" y=\"218.15743\"/>\n    </g>\n    <g clip-path=\"url(#p631d58c506)\">\n     <use style=\"fill:#1f77b4;\" x=\"328.515304\" xlink:href=\"#C1_0_8db006bc17\" y=\"218.15743\"/>\n    </g>\n    <g clip-path=\"url(#p631d58c506)\">\n     <use style=\"fill:#1f77b4;\" x=\"108.954456\" xlink:href=\"#C1_0_8db006bc17\" y=\"218.15743\"/>\n    </g>\n    <g clip-path=\"url(#p631d58c506)\">\n     <use style=\"fill:#1f77b4;\" x=\"246.733572\" xlink:href=\"#C1_0_8db006bc17\" y=\"218.154288\"/>\n    </g>\n    <g clip-path=\"url(#p631d58c506)\">\n     <use style=\"fill:#1f77b4;\" x=\"194.684836\" xlink:href=\"#C1_0_8db006bc17\" y=\"218.154288\"/>\n    </g>\n    <g clip-path=\"url(#p631d58c506)\">\n     <use style=\"fill:#1f77b4;\" x=\"333.746585\" xlink:href=\"#C1_0_8db006bc17\" y=\"218.154288\"/>\n    </g>\n    <g clip-path=\"url(#p631d58c506)\">\n     <use style=\"fill:#1f77b4;\" x=\"103.723174\" xlink:href=\"#C1_0_8db006bc17\" y=\"218.154288\"/>\n    </g>\n    <g clip-path=\"url(#p631d58c506)\">\n     <use style=\"fill:#1f77b4;\" x=\"251.927011\" xlink:href=\"#C1_0_8db006bc17\" y=\"218.151145\"/>\n    </g>\n    <g clip-path=\"url(#p631d58c506)\">\n     <use style=\"fill:#1f77b4;\" x=\"189.453554\" xlink:href=\"#C1_0_8db006bc17\" y=\"218.151145\"/>\n    </g>\n    <g clip-path=\"url(#p631d58c506)\">\n     <use style=\"fill:#1f77b4;\" x=\"257.177011\" xlink:href=\"#C1_0_8db006bc17\" y=\"218.151145\"/>\n    </g>\n    <g clip-path=\"url(#p631d58c506)\">\n     <use style=\"fill:#1f77b4;\" x=\"184.203554\" xlink:href=\"#C1_0_8db006bc17\" y=\"218.151145\"/>\n    </g>\n    <g clip-path=\"url(#p631d58c506)\">\n     <use style=\"fill:#1f77b4;\" x=\"262.427011\" xlink:href=\"#C1_0_8db006bc17\" y=\"218.151145\"/>\n    </g>\n    <g clip-path=\"url(#p631d58c506)\">\n     <use style=\"fill:#1f77b4;\" x=\"178.953554\" xlink:href=\"#C1_0_8db006bc17\" y=\"218.151145\"/>\n    </g>\n    <g clip-path=\"url(#p631d58c506)\">\n     <use style=\"fill:#1f77b4;\" x=\"267.658293\" xlink:href=\"#C1_0_8db006bc17\" y=\"218.148003\"/>\n    </g>\n    <g clip-path=\"url(#p631d58c506)\">\n     <use style=\"fill:#1f77b4;\" x=\"173.722272\" xlink:href=\"#C1_0_8db006bc17\" y=\"218.148003\"/>\n    </g>\n    <g clip-path=\"url(#p631d58c506)\">\n     <use style=\"fill:#1f77b4;\" x=\"272.908293\" xlink:href=\"#C1_0_8db006bc17\" y=\"218.148003\"/>\n    </g>\n    <g clip-path=\"url(#p631d58c506)\">\n     <use style=\"fill:#1f77b4;\" x=\"168.49099\" xlink:href=\"#C1_0_8db006bc17\" y=\"218.14486\"/>\n    </g>\n    <g clip-path=\"url(#p631d58c506)\">\n     <use style=\"fill:#1f77b4;\" x=\"278.139575\" xlink:href=\"#C1_0_8db006bc17\" y=\"218.14486\"/>\n    </g>\n    <g clip-path=\"url(#p631d58c506)\">\n     <use style=\"fill:#1f77b4;\" x=\"163.24099\" xlink:href=\"#C1_0_8db006bc17\" y=\"218.14486\"/>\n    </g>\n    <g clip-path=\"url(#p631d58c506)\">\n     <use style=\"fill:#1f77b4;\" x=\"283.389575\" xlink:href=\"#C1_0_8db006bc17\" y=\"218.14486\"/>\n    </g>\n    <g clip-path=\"url(#p631d58c506)\">\n     <use style=\"fill:#1f77b4;\" x=\"158.009708\" xlink:href=\"#C1_0_8db006bc17\" y=\"218.141717\"/>\n    </g>\n    <g clip-path=\"url(#p631d58c506)\">\n     <use style=\"fill:#1f77b4;\" x=\"288.620857\" xlink:href=\"#C1_0_8db006bc17\" y=\"218.141717\"/>\n    </g>\n    <g clip-path=\"url(#p631d58c506)\">\n     <use style=\"fill:#1f77b4;\" x=\"218.772722\" xlink:href=\"#C1_0_8db006bc17\" y=\"218.138575\"/>\n    </g>\n    <g clip-path=\"url(#p631d58c506)\">\n     <use style=\"fill:#1f77b4;\" x=\"152.778426\" xlink:href=\"#C1_0_8db006bc17\" y=\"218.138575\"/>\n    </g>\n    <g clip-path=\"url(#p631d58c506)\">\n     <use style=\"fill:#1f77b4;\" x=\"293.852139\" xlink:href=\"#C1_0_8db006bc17\" y=\"218.138575\"/>\n    </g>\n    <g clip-path=\"url(#p631d58c506)\">\n     <use style=\"fill:#1f77b4;\" x=\"147.528426\" xlink:href=\"#C1_0_8db006bc17\" y=\"218.138575\"/>\n    </g>\n    <g clip-path=\"url(#p631d58c506)\">\n     <use style=\"fill:#1f77b4;\" x=\"299.083421\" xlink:href=\"#C1_0_8db006bc17\" y=\"218.135432\"/>\n    </g>\n    <g clip-path=\"url(#p631d58c506)\">\n     <use style=\"fill:#1f77b4;\" x=\"142.297144\" xlink:href=\"#C1_0_8db006bc17\" y=\"218.135432\"/>\n    </g>\n    <g clip-path=\"url(#p631d58c506)\">\n     <use style=\"fill:#1f77b4;\" x=\"304.295578\" xlink:href=\"#C1_0_8db006bc17\" y=\"218.135432\"/>\n    </g>\n    <g clip-path=\"url(#p631d58c506)\">\n     <use style=\"fill:#1f77b4;\" x=\"338.274243\" xlink:href=\"#C1_0_8db006bc17\" y=\"218.135432\"/>\n    </g>\n    <g clip-path=\"url(#p631d58c506)\">\n     <use style=\"fill:#1f77b4;\" x=\"99.195516\" xlink:href=\"#C1_0_8db006bc17\" y=\"218.135432\"/>\n    </g>\n    <g clip-path=\"url(#p631d58c506)\">\n     <use style=\"fill:#1f77b4;\" x=\"343.524243\" xlink:href=\"#C1_0_8db006bc17\" y=\"218.135432\"/>\n    </g>\n    <g clip-path=\"url(#p631d58c506)\">\n     <use style=\"fill:#1f77b4;\" x=\"223.947444\" xlink:href=\"#C1_0_8db006bc17\" y=\"218.132289\"/>\n    </g>\n    <g clip-path=\"url(#p631d58c506)\">\n     <use style=\"fill:#1f77b4;\" x=\"213.598001\" xlink:href=\"#C1_0_8db006bc17\" y=\"218.132289\"/>\n    </g>\n    <g clip-path=\"url(#p631d58c506)\">\n     <use style=\"fill:#1f77b4;\" x=\"229.122165\" xlink:href=\"#C1_0_8db006bc17\" y=\"218.129147\"/>\n    </g>\n    <g clip-path=\"url(#p631d58c506)\">\n     <use style=\"fill:#1f77b4;\" x=\"208.423279\" xlink:href=\"#C1_0_8db006bc17\" y=\"218.129147\"/>\n    </g>\n    <g clip-path=\"url(#p631d58c506)\">\n     <use style=\"fill:#1f77b4;\" x=\"137.122423\" xlink:href=\"#C1_0_8db006bc17\" y=\"218.129147\"/>\n    </g>\n    <g clip-path=\"url(#p631d58c506)\">\n     <use style=\"fill:#1f77b4;\" x=\"309.4703\" xlink:href=\"#C1_0_8db006bc17\" y=\"218.129147\"/>\n    </g>\n    <g clip-path=\"url(#p631d58c506)\">\n     <use style=\"fill:#1f77b4;\" x=\"234.353447\" xlink:href=\"#C1_0_8db006bc17\" y=\"218.126004\"/>\n    </g>\n    <g clip-path=\"url(#p631d58c506)\">\n     <use style=\"fill:#1f77b4;\" x=\"203.191997\" xlink:href=\"#C1_0_8db006bc17\" y=\"218.126004\"/>\n    </g>\n    <g clip-path=\"url(#p631d58c506)\">\n     <use style=\"fill:#1f77b4;\" x=\"239.546887\" xlink:href=\"#C1_0_8db006bc17\" y=\"218.122861\"/>\n    </g>\n    <g clip-path=\"url(#p631d58c506)\">\n     <use style=\"fill:#1f77b4;\" x=\"197.960715\" xlink:href=\"#C1_0_8db006bc17\" y=\"218.122861\"/>\n    </g>\n    <g clip-path=\"url(#p631d58c506)\">\n     <use style=\"fill:#1f77b4;\" x=\"131.947701\" xlink:href=\"#C1_0_8db006bc17\" y=\"218.122861\"/>\n    </g>\n    <g clip-path=\"url(#p631d58c506)\">\n     <use style=\"fill:#1f77b4;\" x=\"314.645022\" xlink:href=\"#C1_0_8db006bc17\" y=\"218.122861\"/>\n    </g>\n    <g clip-path=\"url(#p631d58c506)\">\n     <use style=\"fill:#1f77b4;\" x=\"126.697701\" xlink:href=\"#C1_0_8db006bc17\" y=\"218.122861\"/>\n    </g>\n    <g clip-path=\"url(#p631d58c506)\">\n     <use style=\"fill:#1f77b4;\" x=\"319.895022\" xlink:href=\"#C1_0_8db006bc17\" y=\"218.122861\"/>\n    </g>\n    <g clip-path=\"url(#p631d58c506)\">\n     <use style=\"fill:#1f77b4;\" x=\"121.447701\" xlink:href=\"#C1_0_8db006bc17\" y=\"218.122861\"/>\n    </g>\n    <g clip-path=\"url(#p631d58c506)\">\n     <use style=\"fill:#1f77b4;\" x=\"325.145022\" xlink:href=\"#C1_0_8db006bc17\" y=\"218.122861\"/>\n    </g>\n    <g clip-path=\"url(#p631d58c506)\">\n     <use style=\"fill:#1f77b4;\" x=\"116.197701\" xlink:href=\"#C1_0_8db006bc17\" y=\"218.122861\"/>\n    </g>\n    <g clip-path=\"url(#p631d58c506)\">\n     <use style=\"fill:#1f77b4;\" x=\"330.395022\" xlink:href=\"#C1_0_8db006bc17\" y=\"218.122861\"/>\n    </g>\n    <g clip-path=\"url(#p631d58c506)\">\n     <use style=\"fill:#1f77b4;\" x=\"110.947701\" xlink:href=\"#C1_0_8db006bc17\" y=\"218.122861\"/>\n    </g>\n    <g clip-path=\"url(#p631d58c506)\">\n     <use style=\"fill:#1f77b4;\" x=\"94.253505\" xlink:href=\"#C1_0_8db006bc17\" y=\"218.122861\"/>\n    </g>\n    <g clip-path=\"url(#p631d58c506)\">\n     <use style=\"fill:#1f77b4;\" x=\"244.778169\" xlink:href=\"#C1_0_8db006bc17\" y=\"218.119719\"/>\n    </g>\n    <g clip-path=\"url(#p631d58c506)\">\n     <use style=\"fill:#1f77b4;\" x=\"192.729433\" xlink:href=\"#C1_0_8db006bc17\" y=\"218.119719\"/>\n    </g>\n    <g clip-path=\"url(#p631d58c506)\">\n     <use style=\"fill:#1f77b4;\" x=\"105.716419\" xlink:href=\"#C1_0_8db006bc17\" y=\"218.119719\"/>\n    </g>\n    <g clip-path=\"url(#p631d58c506)\">\n     <use style=\"fill:#1f77b4;\" x=\"348.284261\" xlink:href=\"#C1_0_8db006bc17\" y=\"218.119719\"/>\n    </g>\n    <g clip-path=\"url(#p631d58c506)\">\n     <use style=\"fill:#1f77b4;\" x=\"89.022224\" xlink:href=\"#C1_0_8db006bc17\" y=\"218.119719\"/>\n    </g>\n    <g clip-path=\"url(#p631d58c506)\">\n     <use style=\"fill:#1f77b4;\" x=\"353.534261\" xlink:href=\"#C1_0_8db006bc17\" y=\"218.119719\"/>\n    </g>\n    <g clip-path=\"url(#p631d58c506)\">\n     <use style=\"fill:#1f77b4;\" x=\"86.808125\" xlink:href=\"#C1_0_8db006bc17\" y=\"218.119719\"/>\n    </g>\n    <g clip-path=\"url(#p631d58c506)\">\n     <use style=\"fill:#1f77b4;\" x=\"354.648125\" xlink:href=\"#C1_0_8db006bc17\" y=\"218.119719\"/>\n    </g>\n    <g clip-path=\"url(#p631d58c506)\">\n     <use style=\"fill:#1f77b4;\" x=\"249.971608\" xlink:href=\"#C1_0_8db006bc17\" y=\"218.116576\"/>\n    </g>\n    <g clip-path=\"url(#p631d58c506)\">\n     <use style=\"fill:#1f77b4;\" x=\"187.498151\" xlink:href=\"#C1_0_8db006bc17\" y=\"218.116576\"/>\n    </g>\n    <g clip-path=\"url(#p631d58c506)\">\n     <use style=\"fill:#1f77b4;\" x=\"255.221608\" xlink:href=\"#C1_0_8db006bc17\" y=\"218.116576\"/>\n    </g>\n    <g clip-path=\"url(#p631d58c506)\">\n     <use style=\"fill:#1f77b4;\" x=\"182.248151\" xlink:href=\"#C1_0_8db006bc17\" y=\"218.116576\"/>\n    </g>\n    <g clip-path=\"url(#p631d58c506)\">\n     <use style=\"fill:#1f77b4;\" x=\"260.471608\" xlink:href=\"#C1_0_8db006bc17\" y=\"218.116576\"/>\n    </g>\n    <g clip-path=\"url(#p631d58c506)\">\n     <use style=\"fill:#1f77b4;\" x=\"176.998151\" xlink:href=\"#C1_0_8db006bc17\" y=\"218.116576\"/>\n    </g>\n    <g clip-path=\"url(#p631d58c506)\">\n     <use style=\"fill:#1f77b4;\" x=\"265.70289\" xlink:href=\"#C1_0_8db006bc17\" y=\"218.113433\"/>\n    </g>\n    <g clip-path=\"url(#p631d58c506)\">\n     <use style=\"fill:#1f77b4;\" x=\"171.76687\" xlink:href=\"#C1_0_8db006bc17\" y=\"218.113433\"/>\n    </g>\n    <g clip-path=\"url(#p631d58c506)\">\n     <use style=\"fill:#1f77b4;\" x=\"270.95289\" xlink:href=\"#C1_0_8db006bc17\" y=\"218.113433\"/>\n    </g>\n    <g clip-path=\"url(#p631d58c506)\">\n     <use style=\"fill:#1f77b4;\" x=\"86.808125\" xlink:href=\"#C1_0_8db006bc17\" y=\"218.113433\"/>\n    </g>\n    <g clip-path=\"url(#p631d58c506)\">\n     <use style=\"fill:#1f77b4;\" x=\"354.648125\" xlink:href=\"#C1_0_8db006bc17\" y=\"218.113433\"/>\n    </g>\n    <g clip-path=\"url(#p631d58c506)\">\n     <use style=\"fill:#1f77b4;\" x=\"86.808125\" xlink:href=\"#C1_0_8db006bc17\" y=\"218.113433\"/>\n    </g>\n    <g clip-path=\"url(#p631d58c506)\">\n     <use style=\"fill:#1f77b4;\" x=\"354.648125\" xlink:href=\"#C1_0_8db006bc17\" y=\"218.113433\"/>\n    </g>\n    <g clip-path=\"url(#p631d58c506)\">\n     <use style=\"fill:#1f77b4;\" x=\"86.808125\" xlink:href=\"#C1_0_8db006bc17\" y=\"218.113433\"/>\n    </g>\n    <g clip-path=\"url(#p631d58c506)\">\n     <use style=\"fill:#1f77b4;\" x=\"354.648125\" xlink:href=\"#C1_0_8db006bc17\" y=\"218.113433\"/>\n    </g>\n    <g clip-path=\"url(#p631d58c506)\">\n     <use style=\"fill:#1f77b4;\" x=\"166.535588\" xlink:href=\"#C1_0_8db006bc17\" y=\"218.110291\"/>\n    </g>\n    <g clip-path=\"url(#p631d58c506)\">\n     <use style=\"fill:#1f77b4;\" x=\"276.127612\" xlink:href=\"#C1_0_8db006bc17\" y=\"218.107148\"/>\n    </g>\n    <g clip-path=\"url(#p631d58c506)\">\n     <use style=\"fill:#1f77b4;\" x=\"161.304306\" xlink:href=\"#C1_0_8db006bc17\" y=\"218.107148\"/>\n    </g>\n    <g clip-path=\"url(#p631d58c506)\">\n     <use style=\"fill:#1f77b4;\" x=\"281.377612\" xlink:href=\"#C1_0_8db006bc17\" y=\"218.107148\"/>\n    </g>\n    <g clip-path=\"url(#p631d58c506)\">\n     <use style=\"fill:#1f77b4;\" x=\"156.054306\" xlink:href=\"#C1_0_8db006bc17\" y=\"218.107148\"/>\n    </g>\n    <g clip-path=\"url(#p631d58c506)\">\n     <use style=\"fill:#1f77b4;\" x=\"286.627612\" xlink:href=\"#C1_0_8db006bc17\" y=\"218.107148\"/>\n    </g>\n    <g clip-path=\"url(#p631d58c506)\">\n     <use style=\"fill:#1f77b4;\" x=\"86.808125\" xlink:href=\"#C1_0_8db006bc17\" y=\"218.107148\"/>\n    </g>\n    <g clip-path=\"url(#p631d58c506)\">\n     <use style=\"fill:#1f77b4;\" x=\"150.823024\" xlink:href=\"#C1_0_8db006bc17\" y=\"218.104006\"/>\n    </g>\n    <g clip-path=\"url(#p631d58c506)\">\n     <use style=\"fill:#1f77b4;\" x=\"291.858894\" xlink:href=\"#C1_0_8db006bc17\" y=\"218.104006\"/>\n    </g>\n    <g clip-path=\"url(#p631d58c506)\">\n     <use style=\"fill:#1f77b4;\" x=\"145.573024\" xlink:href=\"#C1_0_8db006bc17\" y=\"218.104006\"/>\n    </g>\n    <g clip-path=\"url(#p631d58c506)\">\n     <use style=\"fill:#1f77b4;\" x=\"334.92268\" xlink:href=\"#C1_0_8db006bc17\" y=\"218.104006\"/>\n    </g>\n    <g clip-path=\"url(#p631d58c506)\">\n     <use style=\"fill:#1f77b4;\" x=\"220.728125\" xlink:href=\"#C1_0_8db006bc17\" y=\"218.100863\"/>\n    </g>\n    <g clip-path=\"url(#p631d58c506)\">\n     <use style=\"fill:#1f77b4;\" x=\"297.090176\" xlink:href=\"#C1_0_8db006bc17\" y=\"218.100863\"/>\n    </g>\n    <g clip-path=\"url(#p631d58c506)\">\n     <use style=\"fill:#1f77b4;\" x=\"225.902847\" xlink:href=\"#C1_0_8db006bc17\" y=\"218.09772\"/>\n    </g>\n    <g clip-path=\"url(#p631d58c506)\">\n     <use style=\"fill:#1f77b4;\" x=\"215.553403\" xlink:href=\"#C1_0_8db006bc17\" y=\"218.09772\"/>\n    </g>\n    <g clip-path=\"url(#p631d58c506)\">\n     <use style=\"fill:#1f77b4;\" x=\"140.398302\" xlink:href=\"#C1_0_8db006bc17\" y=\"218.09772\"/>\n    </g>\n    <g clip-path=\"url(#p631d58c506)\">\n     <use style=\"fill:#1f77b4;\" x=\"302.321458\" xlink:href=\"#C1_0_8db006bc17\" y=\"218.09772\"/>\n    </g>\n    <g clip-path=\"url(#p631d58c506)\">\n     <use style=\"fill:#1f77b4;\" x=\"101.479767\" xlink:href=\"#C1_0_8db006bc17\" y=\"218.09772\"/>\n    </g>\n    <g clip-path=\"url(#p631d58c506)\">\n     <use style=\"fill:#1f77b4;\" x=\"340.097401\" xlink:href=\"#C1_0_8db006bc17\" y=\"218.09772\"/>\n    </g>\n    <g clip-path=\"url(#p631d58c506)\">\n     <use style=\"fill:#1f77b4;\" x=\"354.648125\" xlink:href=\"#C1_0_8db006bc17\" y=\"218.09772\"/>\n    </g>\n    <g clip-path=\"url(#p631d58c506)\">\n     <use style=\"fill:#1f77b4;\" x=\"86.808125\" xlink:href=\"#C1_0_8db006bc17\" y=\"218.09772\"/>\n    </g>\n    <g clip-path=\"url(#p631d58c506)\">\n     <use style=\"fill:#1f77b4;\" x=\"354.648125\" xlink:href=\"#C1_0_8db006bc17\" y=\"218.09772\"/>\n    </g>\n    <g clip-path=\"url(#p631d58c506)\">\n     <use style=\"fill:#1f77b4;\" x=\"210.378682\" xlink:href=\"#C1_0_8db006bc17\" y=\"218.094578\"/>\n    </g>\n    <g clip-path=\"url(#p631d58c506)\">\n     <use style=\"fill:#1f77b4;\" x=\"231.077568\" xlink:href=\"#C1_0_8db006bc17\" y=\"218.094578\"/>\n    </g>\n    <g clip-path=\"url(#p631d58c506)\">\n     <use style=\"fill:#1f77b4;\" x=\"307.514897\" xlink:href=\"#C1_0_8db006bc17\" y=\"218.094578\"/>\n    </g>\n    <g clip-path=\"url(#p631d58c506)\">\n     <use style=\"fill:#1f77b4;\" x=\"86.808125\" xlink:href=\"#C1_0_8db006bc17\" y=\"218.094578\"/>\n    </g>\n    <g clip-path=\"url(#p631d58c506)\">\n     <use style=\"fill:#1f77b4;\" x=\"354.648125\" xlink:href=\"#C1_0_8db006bc17\" y=\"218.094578\"/>\n    </g>\n    <g clip-path=\"url(#p631d58c506)\">\n     <use style=\"fill:#1f77b4;\" x=\"86.808125\" xlink:href=\"#C1_0_8db006bc17\" y=\"218.094578\"/>\n    </g>\n    <g clip-path=\"url(#p631d58c506)\">\n     <use style=\"fill:#1f77b4;\" x=\"354.648125\" xlink:href=\"#C1_0_8db006bc17\" y=\"218.094578\"/>\n    </g>\n    <g clip-path=\"url(#p631d58c506)\">\n     <use style=\"fill:#1f77b4;\" x=\"86.808125\" xlink:href=\"#C1_0_8db006bc17\" y=\"218.094578\"/>\n    </g>\n    <g clip-path=\"url(#p631d58c506)\">\n     <use style=\"fill:#1f77b4;\" x=\"354.648125\" xlink:href=\"#C1_0_8db006bc17\" y=\"218.094578\"/>\n    </g>\n    <g clip-path=\"url(#p631d58c506)\">\n     <use style=\"fill:#1f77b4;\" x=\"86.808125\" xlink:href=\"#C1_0_8db006bc17\" y=\"218.094578\"/>\n    </g>\n    <g clip-path=\"url(#p631d58c506)\">\n     <use style=\"fill:#1f77b4;\" x=\"205.1474\" xlink:href=\"#C1_0_8db006bc17\" y=\"218.091435\"/>\n    </g>\n    <g clip-path=\"url(#p631d58c506)\">\n     <use style=\"fill:#1f77b4;\" x=\"236.30885\" xlink:href=\"#C1_0_8db006bc17\" y=\"218.091435\"/>\n    </g>\n    <g clip-path=\"url(#p631d58c506)\">\n     <use style=\"fill:#1f77b4;\" x=\"135.223581\" xlink:href=\"#C1_0_8db006bc17\" y=\"218.091435\"/>\n    </g>\n    <g clip-path=\"url(#p631d58c506)\">\n     <use style=\"fill:#1f77b4;\" x=\"354.648125\" xlink:href=\"#C1_0_8db006bc17\" y=\"218.091435\"/>\n    </g>\n    <g clip-path=\"url(#p631d58c506)\">\n     <use style=\"fill:#1f77b4;\" x=\"86.808125\" xlink:href=\"#C1_0_8db006bc17\" y=\"218.091435\"/>\n    </g>\n    <g clip-path=\"url(#p631d58c506)\">\n     <use style=\"fill:#1f77b4;\" x=\"241.50229\" xlink:href=\"#C1_0_8db006bc17\" y=\"218.088292\"/>\n    </g>\n    <g clip-path=\"url(#p631d58c506)\">\n     <use style=\"fill:#1f77b4;\" x=\"199.916118\" xlink:href=\"#C1_0_8db006bc17\" y=\"218.088292\"/>\n    </g>\n    <g clip-path=\"url(#p631d58c506)\">\n     <use style=\"fill:#1f77b4;\" x=\"129.992299\" xlink:href=\"#C1_0_8db006bc17\" y=\"218.088292\"/>\n    </g>\n    <g clip-path=\"url(#p631d58c506)\">\n     <use style=\"fill:#1f77b4;\" x=\"312.689619\" xlink:href=\"#C1_0_8db006bc17\" y=\"218.088292\"/>\n    </g>\n    <g clip-path=\"url(#p631d58c506)\">\n     <use style=\"fill:#1f77b4;\" x=\"124.742299\" xlink:href=\"#C1_0_8db006bc17\" y=\"218.088292\"/>\n    </g>\n    <g clip-path=\"url(#p631d58c506)\">\n     <use style=\"fill:#1f77b4;\" x=\"317.939619\" xlink:href=\"#C1_0_8db006bc17\" y=\"218.088292\"/>\n    </g>\n    <g clip-path=\"url(#p631d58c506)\">\n     <use style=\"fill:#1f77b4;\" x=\"119.492299\" xlink:href=\"#C1_0_8db006bc17\" y=\"218.088292\"/>\n    </g>\n    <g clip-path=\"url(#p631d58c506)\">\n     <use style=\"fill:#1f77b4;\" x=\"323.189619\" xlink:href=\"#C1_0_8db006bc17\" y=\"218.088292\"/>\n    </g>\n    <g clip-path=\"url(#p631d58c506)\">\n     <use style=\"fill:#1f77b4;\" x=\"114.242299\" xlink:href=\"#C1_0_8db006bc17\" y=\"218.088292\"/>\n    </g>\n    <g clip-path=\"url(#p631d58c506)\">\n     <use style=\"fill:#1f77b4;\" x=\"246.733572\" xlink:href=\"#C1_0_8db006bc17\" y=\"218.08515\"/>\n    </g>\n    <g clip-path=\"url(#p631d58c506)\">\n     <use style=\"fill:#1f77b4;\" x=\"194.684836\" xlink:href=\"#C1_0_8db006bc17\" y=\"218.08515\"/>\n    </g>\n    <g clip-path=\"url(#p631d58c506)\">\n     <use style=\"fill:#1f77b4;\" x=\"328.420901\" xlink:href=\"#C1_0_8db006bc17\" y=\"218.08515\"/>\n    </g>\n    <g clip-path=\"url(#p631d58c506)\">\n     <use style=\"fill:#1f77b4;\" x=\"109.011017\" xlink:href=\"#C1_0_8db006bc17\" y=\"218.08515\"/>\n    </g>\n    <g clip-path=\"url(#p631d58c506)\">\n     <use style=\"fill:#1f77b4;\" x=\"96.537756\" xlink:href=\"#C1_0_8db006bc17\" y=\"218.08515\"/>\n    </g>\n    <g clip-path=\"url(#p631d58c506)\">\n     <use style=\"fill:#1f77b4;\" x=\"251.927011\" xlink:href=\"#C1_0_8db006bc17\" y=\"218.082007\"/>\n    </g>\n    <g clip-path=\"url(#p631d58c506)\">\n     <use style=\"fill:#1f77b4;\" x=\"189.453554\" xlink:href=\"#C1_0_8db006bc17\" y=\"218.082007\"/>\n    </g>\n    <g clip-path=\"url(#p631d58c506)\">\n     <use style=\"fill:#1f77b4;\" x=\"257.177011\" xlink:href=\"#C1_0_8db006bc17\" y=\"218.082007\"/>\n    </g>\n    <g clip-path=\"url(#p631d58c506)\">\n     <use style=\"fill:#1f77b4;\" x=\"184.203554\" xlink:href=\"#C1_0_8db006bc17\" y=\"218.082007\"/>\n    </g>\n    <g clip-path=\"url(#p631d58c506)\">\n     <use style=\"fill:#1f77b4;\" x=\"262.408293\" xlink:href=\"#C1_0_8db006bc17\" y=\"218.078864\"/>\n    </g>\n    <g clip-path=\"url(#p631d58c506)\">\n     <use style=\"fill:#1f77b4;\" x=\"178.972272\" xlink:href=\"#C1_0_8db006bc17\" y=\"218.078864\"/>\n    </g>\n    <g clip-path=\"url(#p631d58c506)\">\n     <use style=\"fill:#1f77b4;\" x=\"267.658293\" xlink:href=\"#C1_0_8db006bc17\" y=\"218.078864\"/>\n    </g>\n    <g clip-path=\"url(#p631d58c506)\">\n     <use style=\"fill:#1f77b4;\" x=\"173.722272\" xlink:href=\"#C1_0_8db006bc17\" y=\"218.078864\"/>\n    </g>\n    <g clip-path=\"url(#p631d58c506)\">\n     <use style=\"fill:#1f77b4;\" x=\"344.625059\" xlink:href=\"#C1_0_8db006bc17\" y=\"218.078864\"/>\n    </g>\n    <g clip-path=\"url(#p631d58c506)\">\n     <use style=\"fill:#1f77b4;\" x=\"272.889575\" xlink:href=\"#C1_0_8db006bc17\" y=\"218.075722\"/>\n    </g>\n    <g clip-path=\"url(#p631d58c506)\">\n     <use style=\"fill:#1f77b4;\" x=\"168.49099\" xlink:href=\"#C1_0_8db006bc17\" y=\"218.075722\"/>\n    </g>\n    <g clip-path=\"url(#p631d58c506)\">\n     <use style=\"fill:#1f77b4;\" x=\"349.856341\" xlink:href=\"#C1_0_8db006bc17\" y=\"218.075722\"/>\n    </g>\n    <g clip-path=\"url(#p631d58c506)\">\n     <use style=\"fill:#1f77b4;\" x=\"91.458701\" xlink:href=\"#C1_0_8db006bc17\" y=\"218.075722\"/>\n    </g>\n    <g clip-path=\"url(#p631d58c506)\">\n     <use style=\"fill:#1f77b4;\" x=\"354.648125\" xlink:href=\"#C1_0_8db006bc17\" y=\"218.075722\"/>\n    </g>\n    <g clip-path=\"url(#p631d58c506)\">\n     <use style=\"fill:#1f77b4;\" x=\"86.808125\" xlink:href=\"#C1_0_8db006bc17\" y=\"218.075722\"/>\n    </g>\n    <g clip-path=\"url(#p631d58c506)\">\n     <use style=\"fill:#1f77b4;\" x=\"354.648125\" xlink:href=\"#C1_0_8db006bc17\" y=\"218.075722\"/>\n    </g>\n    <g clip-path=\"url(#p631d58c506)\">\n     <use style=\"fill:#1f77b4;\" x=\"86.808125\" xlink:href=\"#C1_0_8db006bc17\" y=\"218.075722\"/>\n    </g>\n    <g clip-path=\"url(#p631d58c506)\">\n     <use style=\"fill:#1f77b4;\" x=\"354.648125\" xlink:href=\"#C1_0_8db006bc17\" y=\"218.075722\"/>\n    </g>\n    <g clip-path=\"url(#p631d58c506)\">\n     <use style=\"fill:#1f77b4;\" x=\"86.808125\" xlink:href=\"#C1_0_8db006bc17\" y=\"218.075722\"/>\n    </g>\n    <g clip-path=\"url(#p631d58c506)\">\n     <use style=\"fill:#1f77b4;\" x=\"278.083015\" xlink:href=\"#C1_0_8db006bc17\" y=\"218.072579\"/>\n    </g>\n    <g clip-path=\"url(#p631d58c506)\">\n     <use style=\"fill:#1f77b4;\" x=\"163.259708\" xlink:href=\"#C1_0_8db006bc17\" y=\"218.072579\"/>\n    </g>\n    <g clip-path=\"url(#p631d58c506)\">\n     <use style=\"fill:#1f77b4;\" x=\"283.333015\" xlink:href=\"#C1_0_8db006bc17\" y=\"218.072579\"/>\n    </g>\n    <g clip-path=\"url(#p631d58c506)\">\n     <use style=\"fill:#1f77b4;\" x=\"158.009708\" xlink:href=\"#C1_0_8db006bc17\" y=\"218.072579\"/>\n    </g>\n    <g clip-path=\"url(#p631d58c506)\">\n     <use style=\"fill:#1f77b4;\" x=\"288.583015\" xlink:href=\"#C1_0_8db006bc17\" y=\"218.072579\"/>\n    </g>\n    <g clip-path=\"url(#p631d58c506)\">\n     <use style=\"fill:#1f77b4;\" x=\"354.648125\" xlink:href=\"#C1_0_8db006bc17\" y=\"218.072579\"/>\n    </g>\n    <g clip-path=\"url(#p631d58c506)\">\n     <use style=\"fill:#1f77b4;\" x=\"86.808125\" xlink:href=\"#C1_0_8db006bc17\" y=\"218.072579\"/>\n    </g>\n    <g clip-path=\"url(#p631d58c506)\">\n     <use style=\"fill:#1f77b4;\" x=\"86.808125\" xlink:href=\"#C1_0_8db006bc17\" y=\"218.072579\"/>\n    </g>\n    <g clip-path=\"url(#p631d58c506)\">\n     <use style=\"fill:#1f77b4;\" x=\"354.648125\" xlink:href=\"#C1_0_8db006bc17\" y=\"218.072579\"/>\n    </g>\n    <g clip-path=\"url(#p631d58c506)\">\n     <use style=\"fill:#1f77b4;\" x=\"86.808125\" xlink:href=\"#C1_0_8db006bc17\" y=\"218.072579\"/>\n    </g>\n    <g clip-path=\"url(#p631d58c506)\">\n     <use style=\"fill:#1f77b4;\" x=\"152.778426\" xlink:href=\"#C1_0_8db006bc17\" y=\"218.069436\"/>\n    </g>\n    <g clip-path=\"url(#p631d58c506)\">\n     <use style=\"fill:#1f77b4;\" x=\"293.814297\" xlink:href=\"#C1_0_8db006bc17\" y=\"218.069436\"/>\n    </g>\n    <g clip-path=\"url(#p631d58c506)\">\n     <use style=\"fill:#1f77b4;\" x=\"147.528426\" xlink:href=\"#C1_0_8db006bc17\" y=\"218.069436\"/>\n    </g>\n    <g clip-path=\"url(#p631d58c506)\">\n     <use style=\"fill:#1f77b4;\" x=\"332.967277\" xlink:href=\"#C1_0_8db006bc17\" y=\"218.069436\"/>\n    </g>\n    <g clip-path=\"url(#p631d58c506)\">\n     <use style=\"fill:#1f77b4;\" x=\"354.648125\" xlink:href=\"#C1_0_8db006bc17\" y=\"218.069436\"/>\n    </g>\n    <g clip-path=\"url(#p631d58c506)\">\n     <use style=\"fill:#1f77b4;\" x=\"86.808125\" xlink:href=\"#C1_0_8db006bc17\" y=\"218.069436\"/>\n    </g>\n    <g clip-path=\"url(#p631d58c506)\">\n     <use style=\"fill:#1f77b4;\" x=\"218.772722\" xlink:href=\"#C1_0_8db006bc17\" y=\"218.066294\"/>\n    </g>\n    <g clip-path=\"url(#p631d58c506)\">\n     <use style=\"fill:#1f77b4;\" x=\"299.045578\" xlink:href=\"#C1_0_8db006bc17\" y=\"218.066294\"/>\n    </g>\n    <g clip-path=\"url(#p631d58c506)\">\n     <use style=\"fill:#1f77b4;\" x=\"104.483359\" xlink:href=\"#C1_0_8db006bc17\" y=\"218.066294\"/>\n    </g>\n    <g clip-path=\"url(#p631d58c506)\">\n     <use style=\"fill:#1f77b4;\" x=\"354.648125\" xlink:href=\"#C1_0_8db006bc17\" y=\"218.066294\"/>\n    </g>\n    <g clip-path=\"url(#p631d58c506)\">\n     <use style=\"fill:#1f77b4;\" x=\"354.648125\" xlink:href=\"#C1_0_8db006bc17\" y=\"218.066294\"/>\n    </g>\n    <g clip-path=\"url(#p631d58c506)\">\n     <use style=\"fill:#1f77b4;\" x=\"86.808125\" xlink:href=\"#C1_0_8db006bc17\" y=\"218.066294\"/>\n    </g>\n    <g clip-path=\"url(#p631d58c506)\">\n     <use style=\"fill:#1f77b4;\" x=\"354.648125\" xlink:href=\"#C1_0_8db006bc17\" y=\"218.066294\"/>\n    </g>\n    <g clip-path=\"url(#p631d58c506)\">\n     <use style=\"fill:#1f77b4;\" x=\"223.947444\" xlink:href=\"#C1_0_8db006bc17\" y=\"218.063151\"/>\n    </g>\n    <g clip-path=\"url(#p631d58c506)\">\n     <use style=\"fill:#1f77b4;\" x=\"213.598001\" xlink:href=\"#C1_0_8db006bc17\" y=\"218.063151\"/>\n    </g>\n    <g clip-path=\"url(#p631d58c506)\">\n     <use style=\"fill:#1f77b4;\" x=\"142.353705\" xlink:href=\"#C1_0_8db006bc17\" y=\"218.063151\"/>\n    </g>\n    <g clip-path=\"url(#p631d58c506)\">\n     <use style=\"fill:#1f77b4;\" x=\"304.27686\" xlink:href=\"#C1_0_8db006bc17\" y=\"218.063151\"/>\n    </g>\n    <g clip-path=\"url(#p631d58c506)\">\n     <use style=\"fill:#1f77b4;\" x=\"338.141998\" xlink:href=\"#C1_0_8db006bc17\" y=\"218.063151\"/>\n    </g>\n    <g clip-path=\"url(#p631d58c506)\">\n     <use style=\"fill:#1f77b4;\" x=\"354.648125\" xlink:href=\"#C1_0_8db006bc17\" y=\"218.063151\"/>\n    </g>\n    <g clip-path=\"url(#p631d58c506)\">\n     <use style=\"fill:#1f77b4;\" x=\"86.808125\" xlink:href=\"#C1_0_8db006bc17\" y=\"218.063151\"/>\n    </g>\n    <g clip-path=\"url(#p631d58c506)\">\n     <use style=\"fill:#1f77b4;\" x=\"354.648125\" xlink:href=\"#C1_0_8db006bc17\" y=\"218.063151\"/>\n    </g>\n    <g clip-path=\"url(#p631d58c506)\">\n     <use style=\"fill:#1f77b4;\" x=\"86.808125\" xlink:href=\"#C1_0_8db006bc17\" y=\"218.063151\"/>\n    </g>\n    <g clip-path=\"url(#p631d58c506)\">\n     <use style=\"fill:#1f77b4;\" x=\"229.122165\" xlink:href=\"#C1_0_8db006bc17\" y=\"218.060009\"/>\n    </g>\n    <g clip-path=\"url(#p631d58c506)\">\n     <use style=\"fill:#1f77b4;\" x=\"208.423279\" xlink:href=\"#C1_0_8db006bc17\" y=\"218.060009\"/>\n    </g>\n    <g clip-path=\"url(#p631d58c506)\">\n     <use style=\"fill:#1f77b4;\" x=\"86.808125\" xlink:href=\"#C1_0_8db006bc17\" y=\"218.060009\"/>\n    </g>\n    <g clip-path=\"url(#p631d58c506)\">\n     <use style=\"fill:#1f77b4;\" x=\"354.648125\" xlink:href=\"#C1_0_8db006bc17\" y=\"218.060009\"/>\n    </g>\n    <g clip-path=\"url(#p631d58c506)\">\n     <use style=\"fill:#1f77b4;\" x=\"86.808125\" xlink:href=\"#C1_0_8db006bc17\" y=\"218.060009\"/>\n    </g>\n    <g clip-path=\"url(#p631d58c506)\">\n     <use style=\"fill:#1f77b4;\" x=\"354.648125\" xlink:href=\"#C1_0_8db006bc17\" y=\"218.060009\"/>\n    </g>\n    <g clip-path=\"url(#p631d58c506)\">\n     <use style=\"fill:#1f77b4;\" x=\"86.808125\" xlink:href=\"#C1_0_8db006bc17\" y=\"218.060009\"/>\n    </g>\n    <g clip-path=\"url(#p631d58c506)\">\n     <use style=\"fill:#1f77b4;\" x=\"354.648125\" xlink:href=\"#C1_0_8db006bc17\" y=\"218.060009\"/>\n    </g>\n    <g clip-path=\"url(#p631d58c506)\">\n     <use style=\"fill:#1f77b4;\" x=\"86.808125\" xlink:href=\"#C1_0_8db006bc17\" y=\"218.060009\"/>\n    </g>\n    <g clip-path=\"url(#p631d58c506)\">\n     <use style=\"fill:#1f77b4;\" x=\"234.353447\" xlink:href=\"#C1_0_8db006bc17\" y=\"218.056866\"/>\n    </g>\n    <g clip-path=\"url(#p631d58c506)\">\n     <use style=\"fill:#1f77b4;\" x=\"203.191997\" xlink:href=\"#C1_0_8db006bc17\" y=\"218.056866\"/>\n    </g>\n    <g clip-path=\"url(#p631d58c506)\">\n     <use style=\"fill:#1f77b4;\" x=\"137.178983\" xlink:href=\"#C1_0_8db006bc17\" y=\"218.056866\"/>\n    </g>\n    <g clip-path=\"url(#p631d58c506)\">\n     <use style=\"fill:#1f77b4;\" x=\"309.451582\" xlink:href=\"#C1_0_8db006bc17\" y=\"218.056866\"/>\n    </g>\n    <g clip-path=\"url(#p631d58c506)\">\n     <use style=\"fill:#1f77b4;\" x=\"86.808125\" xlink:href=\"#C1_0_8db006bc17\" y=\"218.056866\"/>\n    </g>\n    <g clip-path=\"url(#p631d58c506)\">\n     <use style=\"fill:#1f77b4;\" x=\"239.546887\" xlink:href=\"#C1_0_8db006bc17\" y=\"218.053723\"/>\n    </g>\n    <g clip-path=\"url(#p631d58c506)\">\n     <use style=\"fill:#1f77b4;\" x=\"197.960715\" xlink:href=\"#C1_0_8db006bc17\" y=\"218.053723\"/>\n    </g>\n    <g clip-path=\"url(#p631d58c506)\">\n     <use style=\"fill:#1f77b4;\" x=\"131.947701\" xlink:href=\"#C1_0_8db006bc17\" y=\"218.053723\"/>\n    </g>\n    <g clip-path=\"url(#p631d58c506)\">\n     <use style=\"fill:#1f77b4;\" x=\"314.645022\" xlink:href=\"#C1_0_8db006bc17\" y=\"218.053723\"/>\n    </g>\n    <g clip-path=\"url(#p631d58c506)\">\n     <use style=\"fill:#1f77b4;\" x=\"244.778169\" xlink:href=\"#C1_0_8db006bc17\" y=\"218.050581\"/>\n    </g>\n    <g clip-path=\"url(#p631d58c506)\">\n     <use style=\"fill:#1f77b4;\" x=\"192.729433\" xlink:href=\"#C1_0_8db006bc17\" y=\"218.050581\"/>\n    </g>\n    <g clip-path=\"url(#p631d58c506)\">\n     <use style=\"fill:#1f77b4;\" x=\"249.971608\" xlink:href=\"#C1_0_8db006bc17\" y=\"218.047438\"/>\n    </g>\n    <g clip-path=\"url(#p631d58c506)\">\n     <use style=\"fill:#1f77b4;\" x=\"187.498151\" xlink:href=\"#C1_0_8db006bc17\" y=\"218.047438\"/>\n    </g>\n    <g clip-path=\"url(#p631d58c506)\">\n     <use style=\"fill:#1f77b4;\" x=\"255.221608\" xlink:href=\"#C1_0_8db006bc17\" y=\"218.047438\"/>\n    </g>\n    <g clip-path=\"url(#p631d58c506)\">\n     <use style=\"fill:#1f77b4;\" x=\"182.248151\" xlink:href=\"#C1_0_8db006bc17\" y=\"218.047438\"/>\n    </g>\n    <g clip-path=\"url(#p631d58c506)\">\n     <use style=\"fill:#1f77b4;\" x=\"126.77298\" xlink:href=\"#C1_0_8db006bc17\" y=\"218.047438\"/>\n    </g>\n    <g clip-path=\"url(#p631d58c506)\">\n     <use style=\"fill:#1f77b4;\" x=\"260.45289\" xlink:href=\"#C1_0_8db006bc17\" y=\"218.044295\"/>\n    </g>\n    <g clip-path=\"url(#p631d58c506)\">\n     <use style=\"fill:#1f77b4;\" x=\"177.01687\" xlink:href=\"#C1_0_8db006bc17\" y=\"218.044295\"/>\n    </g>\n    <g clip-path=\"url(#p631d58c506)\">\n     <use style=\"fill:#1f77b4;\" x=\"265.70289\" xlink:href=\"#C1_0_8db006bc17\" y=\"218.044295\"/>\n    </g>\n    <g clip-path=\"url(#p631d58c506)\">\n     <use style=\"fill:#1f77b4;\" x=\"171.76687\" xlink:href=\"#C1_0_8db006bc17\" y=\"218.044295\"/>\n    </g>\n    <g clip-path=\"url(#p631d58c506)\">\n     <use style=\"fill:#1f77b4;\" x=\"319.724076\" xlink:href=\"#C1_0_8db006bc17\" y=\"218.044295\"/>\n    </g>\n    <g clip-path=\"url(#p631d58c506)\">\n     <use style=\"fill:#1f77b4;\" x=\"121.541698\" xlink:href=\"#C1_0_8db006bc17\" y=\"218.044295\"/>\n    </g>\n    <g clip-path=\"url(#p631d58c506)\">\n     <use style=\"fill:#1f77b4;\" x=\"270.934172\" xlink:href=\"#C1_0_8db006bc17\" y=\"218.041153\"/>\n    </g>\n    <g clip-path=\"url(#p631d58c506)\">\n     <use style=\"fill:#1f77b4;\" x=\"166.535588\" xlink:href=\"#C1_0_8db006bc17\" y=\"218.041153\"/>\n    </g>\n    <g clip-path=\"url(#p631d58c506)\">\n     <use style=\"fill:#1f77b4;\" x=\"324.955358\" xlink:href=\"#C1_0_8db006bc17\" y=\"218.041153\"/>\n    </g>\n    <g clip-path=\"url(#p631d58c506)\">\n     <use style=\"fill:#1f77b4;\" x=\"276.127612\" xlink:href=\"#C1_0_8db006bc17\" y=\"218.03801\"/>\n    </g>\n    <g clip-path=\"url(#p631d58c506)\">\n     <use style=\"fill:#1f77b4;\" x=\"161.304306\" xlink:href=\"#C1_0_8db006bc17\" y=\"218.03801\"/>\n    </g>\n    <g clip-path=\"url(#p631d58c506)\">\n     <use style=\"fill:#1f77b4;\" x=\"281.358894\" xlink:href=\"#C1_0_8db006bc17\" y=\"218.034867\"/>\n    </g>\n    <g clip-path=\"url(#p631d58c506)\">\n     <use style=\"fill:#1f77b4;\" x=\"156.073024\" xlink:href=\"#C1_0_8db006bc17\" y=\"218.034867\"/>\n    </g>\n    <g clip-path=\"url(#p631d58c506)\">\n     <use style=\"fill:#1f77b4;\" x=\"286.608894\" xlink:href=\"#C1_0_8db006bc17\" y=\"218.034867\"/>\n    </g>\n    <g clip-path=\"url(#p631d58c506)\">\n     <use style=\"fill:#1f77b4;\" x=\"220.728125\" xlink:href=\"#C1_0_8db006bc17\" y=\"218.031725\"/>\n    </g>\n    <g clip-path=\"url(#p631d58c506)\">\n     <use style=\"fill:#1f77b4;\" x=\"150.841742\" xlink:href=\"#C1_0_8db006bc17\" y=\"218.031725\"/>\n    </g>\n    <g clip-path=\"url(#p631d58c506)\">\n     <use style=\"fill:#1f77b4;\" x=\"291.840176\" xlink:href=\"#C1_0_8db006bc17\" y=\"218.031725\"/>\n    </g>\n    <g clip-path=\"url(#p631d58c506)\">\n     <use style=\"fill:#1f77b4;\" x=\"225.902847\" xlink:href=\"#C1_0_8db006bc17\" y=\"218.028582\"/>\n    </g>\n    <g clip-path=\"url(#p631d58c506)\">\n     <use style=\"fill:#1f77b4;\" x=\"215.553403\" xlink:href=\"#C1_0_8db006bc17\" y=\"218.028582\"/>\n    </g>\n    <g clip-path=\"url(#p631d58c506)\">\n     <use style=\"fill:#1f77b4;\" x=\"145.61046\" xlink:href=\"#C1_0_8db006bc17\" y=\"218.028582\"/>\n    </g>\n    <g clip-path=\"url(#p631d58c506)\">\n     <use style=\"fill:#1f77b4;\" x=\"297.071458\" xlink:href=\"#C1_0_8db006bc17\" y=\"218.028582\"/>\n    </g>\n    <g clip-path=\"url(#p631d58c506)\">\n     <use style=\"fill:#1f77b4;\" x=\"302.321458\" xlink:href=\"#C1_0_8db006bc17\" y=\"218.028582\"/>\n    </g>\n    <g clip-path=\"url(#p631d58c506)\">\n     <use style=\"fill:#1f77b4;\" x=\"116.78168\" xlink:href=\"#C1_0_8db006bc17\" y=\"218.028582\"/>\n    </g>\n    <g clip-path=\"url(#p631d58c506)\">\n     <use style=\"fill:#1f77b4;\" x=\"210.378682\" xlink:href=\"#C1_0_8db006bc17\" y=\"218.025439\"/>\n    </g>\n    <g clip-path=\"url(#p631d58c506)\">\n     <use style=\"fill:#1f77b4;\" x=\"231.077568\" xlink:href=\"#C1_0_8db006bc17\" y=\"218.022297\"/>\n    </g>\n    <g clip-path=\"url(#p631d58c506)\">\n     <use style=\"fill:#1f77b4;\" x=\"205.20396\" xlink:href=\"#C1_0_8db006bc17\" y=\"218.019154\"/>\n    </g>\n    <g clip-path=\"url(#p631d58c506)\">\n     <use style=\"fill:#1f77b4;\" x=\"236.30885\" xlink:href=\"#C1_0_8db006bc17\" y=\"218.019154\"/>\n    </g>\n    <g clip-path=\"url(#p631d58c506)\">\n     <use style=\"fill:#1f77b4;\" x=\"241.50229\" xlink:href=\"#C1_0_8db006bc17\" y=\"218.019154\"/>\n    </g>\n    <g clip-path=\"url(#p631d58c506)\">\n     <use style=\"fill:#1f77b4;\" x=\"200.029239\" xlink:href=\"#C1_0_8db006bc17\" y=\"218.012869\"/>\n    </g>\n    <g clip-path=\"url(#p631d58c506)\">\n     <use style=\"fill:#1f77b4;\" x=\"246.581344\" xlink:href=\"#C1_0_8db006bc17\" y=\"218.009726\"/>\n    </g>\n    <g clip-path=\"url(#p631d58c506)\">\n     <use style=\"fill:#1f77b4;\" x=\"194.854517\" xlink:href=\"#C1_0_8db006bc17\" y=\"218.006584\"/>\n    </g>\n    <g clip-path=\"url(#p631d58c506)\">\n     <use style=\"fill:#1f77b4;\" x=\"251.812626\" xlink:href=\"#C1_0_8db006bc17\" y=\"218.006584\"/>\n    </g>\n    <g clip-path=\"url(#p631d58c506)\">\n     <use style=\"fill:#1f77b4;\" x=\"189.604517\" xlink:href=\"#C1_0_8db006bc17\" y=\"218.006584\"/>\n    </g>\n    <g clip-path=\"url(#p631d58c506)\">\n     <use style=\"fill:#1f77b4;\" x=\"257.043908\" xlink:href=\"#C1_0_8db006bc17\" y=\"218.003441\"/>\n    </g>\n    <g clip-path=\"url(#p631d58c506)\">\n     <use style=\"fill:#1f77b4;\" x=\"220.728125\" xlink:href=\"#C1_0_8db006bc17\" y=\"217.994013\"/>\n    </g>\n    <g clip-path=\"url(#p631d58c506)\">\n     <use style=\"fill:#1f77b4;\" x=\"213.598001\" xlink:href=\"#C1_0_8db006bc17\" y=\"217.994013\"/>\n    </g>\n    <g clip-path=\"url(#p631d58c506)\">\n     <use style=\"fill:#1f77b4;\" x=\"184.662506\" xlink:href=\"#C1_0_8db006bc17\" y=\"217.994013\"/>\n    </g>\n    <g clip-path=\"url(#p631d58c506)\">\n     <use style=\"fill:#1f77b4;\" x=\"225.959407\" xlink:href=\"#C1_0_8db006bc17\" y=\"217.99087\"/>\n    </g>\n    <g clip-path=\"url(#p631d58c506)\">\n     <use style=\"fill:#1f77b4;\" x=\"261.985919\" xlink:href=\"#C1_0_8db006bc17\" y=\"217.99087\"/>\n    </g>\n    <g clip-path=\"url(#p631d58c506)\">\n     <use style=\"fill:#1f77b4;\" x=\"231.038462\" xlink:href=\"#C1_0_8db006bc17\" y=\"217.981442\"/>\n    </g>\n   </g>\n   <g id=\"PathCollection_3\">\n    <defs>\n     <path d=\"M 0 2.5 \nC 0.663008 2.5 1.29895 2.236584 1.767767 1.767767 \nC 2.236584 1.29895 2.5 0.663008 2.5 0 \nC 2.5 -0.663008 2.236584 -1.29895 1.767767 -1.767767 \nC 1.29895 -2.236584 0.663008 -2.5 0 -2.5 \nC -0.663008 -2.5 -1.29895 -2.236584 -1.767767 -1.767767 \nC -2.236584 -1.29895 -2.5 -0.663008 -2.5 0 \nC -2.5 0.663008 -2.236584 1.29895 -1.767767 1.767767 \nC -1.29895 2.236584 -0.663008 2.5 0 2.5 \nz\n\" id=\"C2_0_f0ba12087e\"/>\n    </defs>\n    <g clip-path=\"url(#p631d58c506)\">\n     <use style=\"fill:#1f77b4;\" x=\"220.728125\" xlink:href=\"#C2_0_f0ba12087e\" y=\"213.251765\"/>\n    </g>\n    <g clip-path=\"url(#p631d58c506)\">\n     <use style=\"fill:#1f77b4;\" x=\"215.832782\" xlink:href=\"#C2_0_f0ba12087e\" y=\"213.188912\"/>\n    </g>\n    <g clip-path=\"url(#p631d58c506)\">\n     <use style=\"fill:#1f77b4;\" x=\"224.357177\" xlink:href=\"#C2_0_f0ba12087e\" y=\"213.126059\"/>\n    </g>\n    <g clip-path=\"url(#p631d58c506)\">\n     <use style=\"fill:#1f77b4;\" x=\"219.461834\" xlink:href=\"#C2_0_f0ba12087e\" y=\"213.063207\"/>\n    </g>\n    <g clip-path=\"url(#p631d58c506)\">\n     <use style=\"fill:#1f77b4;\" x=\"212.203731\" xlink:href=\"#C2_0_f0ba12087e\" y=\"213.063207\"/>\n    </g>\n    <g clip-path=\"url(#p631d58c506)\">\n     <use style=\"fill:#1f77b4;\" x=\"229.252519\" xlink:href=\"#C2_0_f0ba12087e\" y=\"213.063207\"/>\n    </g>\n    <g clip-path=\"url(#p631d58c506)\">\n     <use style=\"fill:#1f77b4;\" x=\"206.953731\" xlink:href=\"#C2_0_f0ba12087e\" y=\"213.063207\"/>\n    </g>\n    <g clip-path=\"url(#p631d58c506)\">\n     <use style=\"fill:#1f77b4;\" x=\"234.416139\" xlink:href=\"#C2_0_f0ba12087e\" y=\"213.03178\"/>\n    </g>\n    <g clip-path=\"url(#p631d58c506)\">\n     <use style=\"fill:#1f77b4;\" x=\"202.058388\" xlink:href=\"#C2_0_f0ba12087e\" y=\"213.000354\"/>\n    </g>\n    <g clip-path=\"url(#p631d58c506)\">\n     <use style=\"fill:#1f77b4;\" x=\"239.579759\" xlink:href=\"#C2_0_f0ba12087e\" y=\"213.000354\"/>\n    </g>\n    <g clip-path=\"url(#p631d58c506)\">\n     <use style=\"fill:#1f77b4;\" x=\"196.808388\" xlink:href=\"#C2_0_f0ba12087e\" y=\"213.000354\"/>\n    </g>\n    <g clip-path=\"url(#p631d58c506)\">\n     <use style=\"fill:#1f77b4;\" x=\"244.829759\" xlink:href=\"#C2_0_f0ba12087e\" y=\"213.000354\"/>\n    </g>\n    <g clip-path=\"url(#p631d58c506)\">\n     <use style=\"fill:#1f77b4;\" x=\"191.558388\" xlink:href=\"#C2_0_f0ba12087e\" y=\"213.000354\"/>\n    </g>\n    <g clip-path=\"url(#p631d58c506)\">\n     <use style=\"fill:#1f77b4;\" x=\"249.993379\" xlink:href=\"#C2_0_f0ba12087e\" y=\"212.968927\"/>\n    </g>\n    <g clip-path=\"url(#p631d58c506)\">\n     <use style=\"fill:#1f77b4;\" x=\"186.394769\" xlink:href=\"#C2_0_f0ba12087e\" y=\"212.968927\"/>\n    </g>\n    <g clip-path=\"url(#p631d58c506)\">\n     <use style=\"fill:#1f77b4;\" x=\"255.243379\" xlink:href=\"#C2_0_f0ba12087e\" y=\"212.968927\"/>\n    </g>\n    <g clip-path=\"url(#p631d58c506)\">\n     <use style=\"fill:#1f77b4;\" x=\"181.144769\" xlink:href=\"#C2_0_f0ba12087e\" y=\"212.968927\"/>\n    </g>\n    <g clip-path=\"url(#p631d58c506)\">\n     <use style=\"fill:#1f77b4;\" x=\"260.493379\" xlink:href=\"#C2_0_f0ba12087e\" y=\"212.968927\"/>\n    </g>\n    <g clip-path=\"url(#p631d58c506)\">\n     <use style=\"fill:#1f77b4;\" x=\"175.894769\" xlink:href=\"#C2_0_f0ba12087e\" y=\"212.968927\"/>\n    </g>\n    <g clip-path=\"url(#p631d58c506)\">\n     <use style=\"fill:#1f77b4;\" x=\"265.743379\" xlink:href=\"#C2_0_f0ba12087e\" y=\"212.968927\"/>\n    </g>\n    <g clip-path=\"url(#p631d58c506)\">\n     <use style=\"fill:#1f77b4;\" x=\"223.090886\" xlink:href=\"#C2_0_f0ba12087e\" y=\"212.937501\"/>\n    </g>\n    <g clip-path=\"url(#p631d58c506)\">\n     <use style=\"fill:#1f77b4;\" x=\"215.832782\" xlink:href=\"#C2_0_f0ba12087e\" y=\"212.937501\"/>\n    </g>\n    <g clip-path=\"url(#p631d58c506)\">\n     <use style=\"fill:#1f77b4;\" x=\"170.731149\" xlink:href=\"#C2_0_f0ba12087e\" y=\"212.937501\"/>\n    </g>\n    <g clip-path=\"url(#p631d58c506)\">\n     <use style=\"fill:#1f77b4;\" x=\"209.951123\" xlink:href=\"#C2_0_f0ba12087e\" y=\"212.906074\"/>\n    </g>\n    <g clip-path=\"url(#p631d58c506)\">\n     <use style=\"fill:#1f77b4;\" x=\"270.638721\" xlink:href=\"#C2_0_f0ba12087e\" y=\"212.906074\"/>\n    </g>\n    <g clip-path=\"url(#p631d58c506)\">\n     <use style=\"fill:#1f77b4;\" x=\"227.986228\" xlink:href=\"#C2_0_f0ba12087e\" y=\"212.874648\"/>\n    </g>\n    <g clip-path=\"url(#p631d58c506)\">\n     <use style=\"fill:#1f77b4;\" x=\"165.835806\" xlink:href=\"#C2_0_f0ba12087e\" y=\"212.874648\"/>\n    </g>\n    <g clip-path=\"url(#p631d58c506)\">\n     <use style=\"fill:#1f77b4;\" x=\"275.802341\" xlink:href=\"#C2_0_f0ba12087e\" y=\"212.874648\"/>\n    </g>\n    <g clip-path=\"url(#p631d58c506)\">\n     <use style=\"fill:#1f77b4;\" x=\"160.585806\" xlink:href=\"#C2_0_f0ba12087e\" y=\"212.874648\"/>\n    </g>\n    <g clip-path=\"url(#p631d58c506)\">\n     <use style=\"fill:#1f77b4;\" x=\"281.052341\" xlink:href=\"#C2_0_f0ba12087e\" y=\"212.874648\"/>\n    </g>\n    <g clip-path=\"url(#p631d58c506)\">\n     <use style=\"fill:#1f77b4;\" x=\"155.335806\" xlink:href=\"#C2_0_f0ba12087e\" y=\"212.874648\"/>\n    </g>\n    <g clip-path=\"url(#p631d58c506)\">\n     <use style=\"fill:#1f77b4;\" x=\"286.302341\" xlink:href=\"#C2_0_f0ba12087e\" y=\"212.874648\"/>\n    </g>\n    <g clip-path=\"url(#p631d58c506)\">\n     <use style=\"fill:#1f77b4;\" x=\"233.149848\" xlink:href=\"#C2_0_f0ba12087e\" y=\"212.843222\"/>\n    </g>\n    <g clip-path=\"url(#p631d58c506)\">\n     <use style=\"fill:#1f77b4;\" x=\"205.05578\" xlink:href=\"#C2_0_f0ba12087e\" y=\"212.843222\"/>\n    </g>\n    <g clip-path=\"url(#p631d58c506)\">\n     <use style=\"fill:#1f77b4;\" x=\"199.80578\" xlink:href=\"#C2_0_f0ba12087e\" y=\"212.843222\"/>\n    </g>\n    <g clip-path=\"url(#p631d58c506)\">\n     <use style=\"fill:#1f77b4;\" x=\"241.832367\" xlink:href=\"#C2_0_f0ba12087e\" y=\"212.843222\"/>\n    </g>\n    <g clip-path=\"url(#p631d58c506)\">\n     <use style=\"fill:#1f77b4;\" x=\"194.55578\" xlink:href=\"#C2_0_f0ba12087e\" y=\"212.843222\"/>\n    </g>\n    <g clip-path=\"url(#p631d58c506)\">\n     <use style=\"fill:#1f77b4;\" x=\"150.172186\" xlink:href=\"#C2_0_f0ba12087e\" y=\"212.843222\"/>\n    </g>\n    <g clip-path=\"url(#p631d58c506)\">\n     <use style=\"fill:#1f77b4;\" x=\"291.465961\" xlink:href=\"#C2_0_f0ba12087e\" y=\"212.843222\"/>\n    </g>\n    <g clip-path=\"url(#p631d58c506)\">\n     <use style=\"fill:#1f77b4;\" x=\"144.922186\" xlink:href=\"#C2_0_f0ba12087e\" y=\"212.843222\"/>\n    </g>\n    <g clip-path=\"url(#p631d58c506)\">\n     <use style=\"fill:#1f77b4;\" x=\"296.715961\" xlink:href=\"#C2_0_f0ba12087e\" y=\"212.843222\"/>\n    </g>\n    <g clip-path=\"url(#p631d58c506)\">\n     <use style=\"fill:#1f77b4;\" x=\"219.461834\" xlink:href=\"#C2_0_f0ba12087e\" y=\"212.811795\"/>\n    </g>\n    <g clip-path=\"url(#p631d58c506)\">\n     <use style=\"fill:#1f77b4;\" x=\"246.995986\" xlink:href=\"#C2_0_f0ba12087e\" y=\"212.811795\"/>\n    </g>\n    <g clip-path=\"url(#p631d58c506)\">\n     <use style=\"fill:#1f77b4;\" x=\"189.392161\" xlink:href=\"#C2_0_f0ba12087e\" y=\"212.811795\"/>\n    </g>\n    <g clip-path=\"url(#p631d58c506)\">\n     <use style=\"fill:#1f77b4;\" x=\"252.245986\" xlink:href=\"#C2_0_f0ba12087e\" y=\"212.811795\"/>\n    </g>\n    <g clip-path=\"url(#p631d58c506)\">\n     <use style=\"fill:#1f77b4;\" x=\"184.142161\" xlink:href=\"#C2_0_f0ba12087e\" y=\"212.811795\"/>\n    </g>\n    <g clip-path=\"url(#p631d58c506)\">\n     <use style=\"fill:#1f77b4;\" x=\"257.495986\" xlink:href=\"#C2_0_f0ba12087e\" y=\"212.811795\"/>\n    </g>\n    <g clip-path=\"url(#p631d58c506)\">\n     <use style=\"fill:#1f77b4;\" x=\"178.892161\" xlink:href=\"#C2_0_f0ba12087e\" y=\"212.811795\"/>\n    </g>\n    <g clip-path=\"url(#p631d58c506)\">\n     <use style=\"fill:#1f77b4;\" x=\"213.580175\" xlink:href=\"#C2_0_f0ba12087e\" y=\"212.780369\"/>\n    </g>\n    <g clip-path=\"url(#p631d58c506)\">\n     <use style=\"fill:#1f77b4;\" x=\"262.659606\" xlink:href=\"#C2_0_f0ba12087e\" y=\"212.780369\"/>\n    </g>\n    <g clip-path=\"url(#p631d58c506)\">\n     <use style=\"fill:#1f77b4;\" x=\"173.728541\" xlink:href=\"#C2_0_f0ba12087e\" y=\"212.780369\"/>\n    </g>\n    <g clip-path=\"url(#p631d58c506)\">\n     <use style=\"fill:#1f77b4;\" x=\"140.026844\" xlink:href=\"#C2_0_f0ba12087e\" y=\"212.780369\"/>\n    </g>\n    <g clip-path=\"url(#p631d58c506)\">\n     <use style=\"fill:#1f77b4;\" x=\"301.611303\" xlink:href=\"#C2_0_f0ba12087e\" y=\"212.780369\"/>\n    </g>\n    <g clip-path=\"url(#p631d58c506)\">\n     <use style=\"fill:#1f77b4;\" x=\"134.776844\" xlink:href=\"#C2_0_f0ba12087e\" y=\"212.780369\"/>\n    </g>\n    <g clip-path=\"url(#p631d58c506)\">\n     <use style=\"fill:#1f77b4;\" x=\"306.861303\" xlink:href=\"#C2_0_f0ba12087e\" y=\"212.780369\"/>\n    </g>\n    <g clip-path=\"url(#p631d58c506)\">\n     <use style=\"fill:#1f77b4;\" x=\"129.526844\" xlink:href=\"#C2_0_f0ba12087e\" y=\"212.780369\"/>\n    </g>\n    <g clip-path=\"url(#p631d58c506)\">\n     <use style=\"fill:#1f77b4;\" x=\"312.111303\" xlink:href=\"#C2_0_f0ba12087e\" y=\"212.780369\"/>\n    </g>\n    <g clip-path=\"url(#p631d58c506)\">\n     <use style=\"fill:#1f77b4;\" x=\"124.276844\" xlink:href=\"#C2_0_f0ba12087e\" y=\"212.780369\"/>\n    </g>\n    <g clip-path=\"url(#p631d58c506)\">\n     <use style=\"fill:#1f77b4;\" x=\"317.361303\" xlink:href=\"#C2_0_f0ba12087e\" y=\"212.780369\"/>\n    </g>\n    <g clip-path=\"url(#p631d58c506)\">\n     <use style=\"fill:#1f77b4;\" x=\"119.026844\" xlink:href=\"#C2_0_f0ba12087e\" y=\"212.780369\"/>\n    </g>\n    <g clip-path=\"url(#p631d58c506)\">\n     <use style=\"fill:#1f77b4;\" x=\"322.611303\" xlink:href=\"#C2_0_f0ba12087e\" y=\"212.780369\"/>\n    </g>\n    <g clip-path=\"url(#p631d58c506)\">\n     <use style=\"fill:#1f77b4;\" x=\"113.776844\" xlink:href=\"#C2_0_f0ba12087e\" y=\"212.780369\"/>\n    </g>\n    <g clip-path=\"url(#p631d58c506)\">\n     <use style=\"fill:#1f77b4;\" x=\"327.861303\" xlink:href=\"#C2_0_f0ba12087e\" y=\"212.780369\"/>\n    </g>\n    <g clip-path=\"url(#p631d58c506)\">\n     <use style=\"fill:#1f77b4;\" x=\"108.526844\" xlink:href=\"#C2_0_f0ba12087e\" y=\"212.780369\"/>\n    </g>\n    <g clip-path=\"url(#p631d58c506)\">\n     <use style=\"fill:#1f77b4;\" x=\"224.357177\" xlink:href=\"#C2_0_f0ba12087e\" y=\"212.748942\"/>\n    </g>\n    <g clip-path=\"url(#p631d58c506)\">\n     <use style=\"fill:#1f77b4;\" x=\"237.420255\" xlink:href=\"#C2_0_f0ba12087e\" y=\"212.748942\"/>\n    </g>\n    <g clip-path=\"url(#p631d58c506)\">\n     <use style=\"fill:#1f77b4;\" x=\"267.823226\" xlink:href=\"#C2_0_f0ba12087e\" y=\"212.748942\"/>\n    </g>\n    <g clip-path=\"url(#p631d58c506)\">\n     <use style=\"fill:#1f77b4;\" x=\"333.024923\" xlink:href=\"#C2_0_f0ba12087e\" y=\"212.748942\"/>\n    </g>\n    <g clip-path=\"url(#p631d58c506)\">\n     <use style=\"fill:#1f77b4;\" x=\"103.363224\" xlink:href=\"#C2_0_f0ba12087e\" y=\"212.748942\"/>\n    </g>\n    <g clip-path=\"url(#p631d58c506)\">\n     <use style=\"fill:#1f77b4;\" x=\"338.274923\" xlink:href=\"#C2_0_f0ba12087e\" y=\"212.748942\"/>\n    </g>\n    <g clip-path=\"url(#p631d58c506)\">\n     <use style=\"fill:#1f77b4;\" x=\"208.684832\" xlink:href=\"#C2_0_f0ba12087e\" y=\"212.717516\"/>\n    </g>\n    <g clip-path=\"url(#p631d58c506)\">\n     <use style=\"fill:#1f77b4;\" x=\"168.833198\" xlink:href=\"#C2_0_f0ba12087e\" y=\"212.717516\"/>\n    </g>\n    <g clip-path=\"url(#p631d58c506)\">\n     <use style=\"fill:#1f77b4;\" x=\"272.986846\" xlink:href=\"#C2_0_f0ba12087e\" y=\"212.717516\"/>\n    </g>\n    <g clip-path=\"url(#p631d58c506)\">\n     <use style=\"fill:#1f77b4;\" x=\"163.583198\" xlink:href=\"#C2_0_f0ba12087e\" y=\"212.717516\"/>\n    </g>\n    <g clip-path=\"url(#p631d58c506)\">\n     <use style=\"fill:#1f77b4;\" x=\"278.054949\" xlink:href=\"#C2_0_f0ba12087e\" y=\"212.717516\"/>\n    </g>\n    <g clip-path=\"url(#p631d58c506)\">\n     <use style=\"fill:#1f77b4;\" x=\"158.333198\" xlink:href=\"#C2_0_f0ba12087e\" y=\"212.717516\"/>\n    </g>\n    <g clip-path=\"url(#p631d58c506)\">\n     <use style=\"fill:#1f77b4;\" x=\"283.304949\" xlink:href=\"#C2_0_f0ba12087e\" y=\"212.717516\"/>\n    </g>\n    <g clip-path=\"url(#p631d58c506)\">\n     <use style=\"fill:#1f77b4;\" x=\"229.252519\" xlink:href=\"#C2_0_f0ba12087e\" y=\"212.686089\"/>\n    </g>\n    <g clip-path=\"url(#p631d58c506)\">\n     <use style=\"fill:#1f77b4;\" x=\"202.803173\" xlink:href=\"#C2_0_f0ba12087e\" y=\"212.686089\"/>\n    </g>\n    <g clip-path=\"url(#p631d58c506)\">\n     <use style=\"fill:#1f77b4;\" x=\"197.553173\" xlink:href=\"#C2_0_f0ba12087e\" y=\"212.686089\"/>\n    </g>\n    <g clip-path=\"url(#p631d58c506)\">\n     <use style=\"fill:#1f77b4;\" x=\"153.169578\" xlink:href=\"#C2_0_f0ba12087e\" y=\"212.686089\"/>\n    </g>\n    <g clip-path=\"url(#p631d58c506)\">\n     <use style=\"fill:#1f77b4;\" x=\"288.468569\" xlink:href=\"#C2_0_f0ba12087e\" y=\"212.686089\"/>\n    </g>\n    <g clip-path=\"url(#p631d58c506)\">\n     <use style=\"fill:#1f77b4;\" x=\"147.919578\" xlink:href=\"#C2_0_f0ba12087e\" y=\"212.686089\"/>\n    </g>\n    <g clip-path=\"url(#p631d58c506)\">\n     <use style=\"fill:#1f77b4;\" x=\"293.718569\" xlink:href=\"#C2_0_f0ba12087e\" y=\"212.686089\"/>\n    </g>\n    <g clip-path=\"url(#p631d58c506)\">\n     <use style=\"fill:#1f77b4;\" x=\"98.467881\" xlink:href=\"#C2_0_f0ba12087e\" y=\"212.686089\"/>\n    </g>\n    <g clip-path=\"url(#p631d58c506)\">\n     <use style=\"fill:#1f77b4;\" x=\"343.170266\" xlink:href=\"#C2_0_f0ba12087e\" y=\"212.686089\"/>\n    </g>\n    <g clip-path=\"url(#p631d58c506)\">\n     <use style=\"fill:#1f77b4;\" x=\"93.217881\" xlink:href=\"#C2_0_f0ba12087e\" y=\"212.686089\"/>\n    </g>\n    <g clip-path=\"url(#p631d58c506)\">\n     <use style=\"fill:#1f77b4;\" x=\"348.420266\" xlink:href=\"#C2_0_f0ba12087e\" y=\"212.686089\"/>\n    </g>\n    <g clip-path=\"url(#p631d58c506)\">\n     <use style=\"fill:#1f77b4;\" x=\"87.967881\" xlink:href=\"#C2_0_f0ba12087e\" y=\"212.686089\"/>\n    </g>\n    <g clip-path=\"url(#p631d58c506)\">\n     <use style=\"fill:#1f77b4;\" x=\"353.670266\" xlink:href=\"#C2_0_f0ba12087e\" y=\"212.686089\"/>\n    </g>\n    <g clip-path=\"url(#p631d58c506)\">\n     <use style=\"fill:#1f77b4;\" x=\"86.808125\" xlink:href=\"#C2_0_f0ba12087e\" y=\"212.686089\"/>\n    </g>\n    <g clip-path=\"url(#p631d58c506)\">\n     <use style=\"fill:#1f77b4;\" x=\"354.648125\" xlink:href=\"#C2_0_f0ba12087e\" y=\"212.686089\"/>\n    </g>\n    <g clip-path=\"url(#p631d58c506)\">\n     <use style=\"fill:#1f77b4;\" x=\"86.808125\" xlink:href=\"#C2_0_f0ba12087e\" y=\"212.686089\"/>\n    </g>\n    <g clip-path=\"url(#p631d58c506)\">\n     <use style=\"fill:#1f77b4;\" x=\"354.648125\" xlink:href=\"#C2_0_f0ba12087e\" y=\"212.686089\"/>\n    </g>\n    <g clip-path=\"url(#p631d58c506)\">\n     <use style=\"fill:#1f77b4;\" x=\"86.808125\" xlink:href=\"#C2_0_f0ba12087e\" y=\"212.686089\"/>\n    </g>\n    <g clip-path=\"url(#p631d58c506)\">\n     <use style=\"fill:#1f77b4;\" x=\"354.648125\" xlink:href=\"#C2_0_f0ba12087e\" y=\"212.686089\"/>\n    </g>\n    <g clip-path=\"url(#p631d58c506)\">\n     <use style=\"fill:#1f77b4;\" x=\"86.808125\" xlink:href=\"#C2_0_f0ba12087e\" y=\"212.686089\"/>\n    </g>\n    <g clip-path=\"url(#p631d58c506)\">\n     <use style=\"fill:#1f77b4;\" x=\"354.648125\" xlink:href=\"#C2_0_f0ba12087e\" y=\"212.686089\"/>\n    </g>\n    <g clip-path=\"url(#p631d58c506)\">\n     <use style=\"fill:#1f77b4;\" x=\"86.808125\" xlink:href=\"#C2_0_f0ba12087e\" y=\"212.686089\"/>\n    </g>\n    <g clip-path=\"url(#p631d58c506)\">\n     <use style=\"fill:#1f77b4;\" x=\"217.209226\" xlink:href=\"#C2_0_f0ba12087e\" y=\"212.654663\"/>\n    </g>\n    <g clip-path=\"url(#p631d58c506)\">\n     <use style=\"fill:#1f77b4;\" x=\"241.832367\" xlink:href=\"#C2_0_f0ba12087e\" y=\"212.654663\"/>\n    </g>\n    <g clip-path=\"url(#p631d58c506)\">\n     <use style=\"fill:#1f77b4;\" x=\"192.389553\" xlink:href=\"#C2_0_f0ba12087e\" y=\"212.654663\"/>\n    </g>\n    <g clip-path=\"url(#p631d58c506)\">\n     <use style=\"fill:#1f77b4;\" x=\"249.248594\" xlink:href=\"#C2_0_f0ba12087e\" y=\"212.654663\"/>\n    </g>\n    <g clip-path=\"url(#p631d58c506)\">\n     <use style=\"fill:#1f77b4;\" x=\"187.139553\" xlink:href=\"#C2_0_f0ba12087e\" y=\"212.654663\"/>\n    </g>\n    <g clip-path=\"url(#p631d58c506)\">\n     <use style=\"fill:#1f77b4;\" x=\"254.498594\" xlink:href=\"#C2_0_f0ba12087e\" y=\"212.654663\"/>\n    </g>\n    <g clip-path=\"url(#p631d58c506)\">\n     <use style=\"fill:#1f77b4;\" x=\"181.889553\" xlink:href=\"#C2_0_f0ba12087e\" y=\"212.654663\"/>\n    </g>\n    <g clip-path=\"url(#p631d58c506)\">\n     <use style=\"fill:#1f77b4;\" x=\"354.648125\" xlink:href=\"#C2_0_f0ba12087e\" y=\"212.654663\"/>\n    </g>\n    <g clip-path=\"url(#p631d58c506)\">\n     <use style=\"fill:#1f77b4;\" x=\"86.808125\" xlink:href=\"#C2_0_f0ba12087e\" y=\"212.654663\"/>\n    </g>\n    <g clip-path=\"url(#p631d58c506)\">\n     <use style=\"fill:#1f77b4;\" x=\"354.648125\" xlink:href=\"#C2_0_f0ba12087e\" y=\"212.654663\"/>\n    </g>\n    <g clip-path=\"url(#p631d58c506)\">\n     <use style=\"fill:#1f77b4;\" x=\"86.808125\" xlink:href=\"#C2_0_f0ba12087e\" y=\"212.654663\"/>\n    </g>\n    <g clip-path=\"url(#p631d58c506)\">\n     <use style=\"fill:#1f77b4;\" x=\"354.648125\" xlink:href=\"#C2_0_f0ba12087e\" y=\"212.654663\"/>\n    </g>\n    <g clip-path=\"url(#p631d58c506)\">\n     <use style=\"fill:#1f77b4;\" x=\"86.808125\" xlink:href=\"#C2_0_f0ba12087e\" y=\"212.654663\"/>\n    </g>\n    <g clip-path=\"url(#p631d58c506)\">\n     <use style=\"fill:#1f77b4;\" x=\"259.662214\" xlink:href=\"#C2_0_f0ba12087e\" y=\"212.623237\"/>\n    </g>\n    <g clip-path=\"url(#p631d58c506)\">\n     <use style=\"fill:#1f77b4;\" x=\"176.725933\" xlink:href=\"#C2_0_f0ba12087e\" y=\"212.623237\"/>\n    </g>\n    <g clip-path=\"url(#p631d58c506)\">\n     <use style=\"fill:#1f77b4;\" x=\"143.024236\" xlink:href=\"#C2_0_f0ba12087e\" y=\"212.623237\"/>\n    </g>\n    <g clip-path=\"url(#p631d58c506)\">\n     <use style=\"fill:#1f77b4;\" x=\"298.613911\" xlink:href=\"#C2_0_f0ba12087e\" y=\"212.623237\"/>\n    </g>\n    <g clip-path=\"url(#p631d58c506)\">\n     <use style=\"fill:#1f77b4;\" x=\"137.774236\" xlink:href=\"#C2_0_f0ba12087e\" y=\"212.623237\"/>\n    </g>\n    <g clip-path=\"url(#p631d58c506)\">\n     <use style=\"fill:#1f77b4;\" x=\"303.863911\" xlink:href=\"#C2_0_f0ba12087e\" y=\"212.623237\"/>\n    </g>\n    <g clip-path=\"url(#p631d58c506)\">\n     <use style=\"fill:#1f77b4;\" x=\"132.524236\" xlink:href=\"#C2_0_f0ba12087e\" y=\"212.623237\"/>\n    </g>\n    <g clip-path=\"url(#p631d58c506)\">\n     <use style=\"fill:#1f77b4;\" x=\"222.104569\" xlink:href=\"#C2_0_f0ba12087e\" y=\"212.59181\"/>\n    </g>\n    <g clip-path=\"url(#p631d58c506)\">\n     <use style=\"fill:#1f77b4;\" x=\"212.313884\" xlink:href=\"#C2_0_f0ba12087e\" y=\"212.59181\"/>\n    </g>\n    <g clip-path=\"url(#p631d58c506)\">\n     <use style=\"fill:#1f77b4;\" x=\"233.664631\" xlink:href=\"#C2_0_f0ba12087e\" y=\"212.59181\"/>\n    </g>\n    <g clip-path=\"url(#p631d58c506)\">\n     <use style=\"fill:#1f77b4;\" x=\"264.825834\" xlink:href=\"#C2_0_f0ba12087e\" y=\"212.59181\"/>\n    </g>\n    <g clip-path=\"url(#p631d58c506)\">\n     <use style=\"fill:#1f77b4;\" x=\"309.027531\" xlink:href=\"#C2_0_f0ba12087e\" y=\"212.59181\"/>\n    </g>\n    <g clip-path=\"url(#p631d58c506)\">\n     <use style=\"fill:#1f77b4;\" x=\"127.360616\" xlink:href=\"#C2_0_f0ba12087e\" y=\"212.59181\"/>\n    </g>\n    <g clip-path=\"url(#p631d58c506)\">\n     <use style=\"fill:#1f77b4;\" x=\"314.277531\" xlink:href=\"#C2_0_f0ba12087e\" y=\"212.59181\"/>\n    </g>\n    <g clip-path=\"url(#p631d58c506)\">\n     <use style=\"fill:#1f77b4;\" x=\"122.110616\" xlink:href=\"#C2_0_f0ba12087e\" y=\"212.59181\"/>\n    </g>\n    <g clip-path=\"url(#p631d58c506)\">\n     <use style=\"fill:#1f77b4;\" x=\"319.527531\" xlink:href=\"#C2_0_f0ba12087e\" y=\"212.59181\"/>\n    </g>\n    <g clip-path=\"url(#p631d58c506)\">\n     <use style=\"fill:#1f77b4;\" x=\"116.860616\" xlink:href=\"#C2_0_f0ba12087e\" y=\"212.59181\"/>\n    </g>\n    <g clip-path=\"url(#p631d58c506)\">\n     <use style=\"fill:#1f77b4;\" x=\"324.777531\" xlink:href=\"#C2_0_f0ba12087e\" y=\"212.59181\"/>\n    </g>\n    <g clip-path=\"url(#p631d58c506)\">\n     <use style=\"fill:#1f77b4;\" x=\"111.610616\" xlink:href=\"#C2_0_f0ba12087e\" y=\"212.59181\"/>\n    </g>\n    <g clip-path=\"url(#p631d58c506)\">\n     <use style=\"fill:#1f77b4;\" x=\"330.027531\" xlink:href=\"#C2_0_f0ba12087e\" y=\"212.59181\"/>\n    </g>\n    <g clip-path=\"url(#p631d58c506)\">\n     <use style=\"fill:#1f77b4;\" x=\"106.360616\" xlink:href=\"#C2_0_f0ba12087e\" y=\"212.59181\"/>\n    </g>\n    <g clip-path=\"url(#p631d58c506)\">\n     <use style=\"fill:#1f77b4;\" x=\"335.277531\" xlink:href=\"#C2_0_f0ba12087e\" y=\"212.59181\"/>\n    </g>\n    <g clip-path=\"url(#p631d58c506)\">\n     <use style=\"fill:#1f77b4;\" x=\"206.432224\" xlink:href=\"#C2_0_f0ba12087e\" y=\"212.560384\"/>\n    </g>\n    <g clip-path=\"url(#p631d58c506)\">\n     <use style=\"fill:#1f77b4;\" x=\"171.83059\" xlink:href=\"#C2_0_f0ba12087e\" y=\"212.560384\"/>\n    </g>\n    <g clip-path=\"url(#p631d58c506)\">\n     <use style=\"fill:#1f77b4;\" x=\"269.989454\" xlink:href=\"#C2_0_f0ba12087e\" y=\"212.560384\"/>\n    </g>\n    <g clip-path=\"url(#p631d58c506)\">\n     <use style=\"fill:#1f77b4;\" x=\"166.58059\" xlink:href=\"#C2_0_f0ba12087e\" y=\"212.560384\"/>\n    </g>\n    <g clip-path=\"url(#p631d58c506)\">\n     <use style=\"fill:#1f77b4;\" x=\"275.239454\" xlink:href=\"#C2_0_f0ba12087e\" y=\"212.560384\"/>\n    </g>\n    <g clip-path=\"url(#p631d58c506)\">\n     <use style=\"fill:#1f77b4;\" x=\"226.999911\" xlink:href=\"#C2_0_f0ba12087e\" y=\"212.528957\"/>\n    </g>\n    <g clip-path=\"url(#p631d58c506)\">\n     <use style=\"fill:#1f77b4;\" x=\"200.550565\" xlink:href=\"#C2_0_f0ba12087e\" y=\"212.528957\"/>\n    </g>\n    <g clip-path=\"url(#p631d58c506)\">\n     <use style=\"fill:#1f77b4;\" x=\"245.461418\" xlink:href=\"#C2_0_f0ba12087e\" y=\"212.528957\"/>\n    </g>\n    <g clip-path=\"url(#p631d58c506)\">\n     <use style=\"fill:#1f77b4;\" x=\"161.416971\" xlink:href=\"#C2_0_f0ba12087e\" y=\"212.528957\"/>\n    </g>\n    <g clip-path=\"url(#p631d58c506)\">\n     <use style=\"fill:#1f77b4;\" x=\"280.403074\" xlink:href=\"#C2_0_f0ba12087e\" y=\"212.528957\"/>\n    </g>\n    <g clip-path=\"url(#p631d58c506)\">\n     <use style=\"fill:#1f77b4;\" x=\"156.166971\" xlink:href=\"#C2_0_f0ba12087e\" y=\"212.528957\"/>\n    </g>\n    <g clip-path=\"url(#p631d58c506)\">\n     <use style=\"fill:#1f77b4;\" x=\"285.653074\" xlink:href=\"#C2_0_f0ba12087e\" y=\"212.528957\"/>\n    </g>\n    <g clip-path=\"url(#p631d58c506)\">\n     <use style=\"fill:#1f77b4;\" x=\"150.916971\" xlink:href=\"#C2_0_f0ba12087e\" y=\"212.528957\"/>\n    </g>\n    <g clip-path=\"url(#p631d58c506)\">\n     <use style=\"fill:#1f77b4;\" x=\"290.721177\" xlink:href=\"#C2_0_f0ba12087e\" y=\"212.528957\"/>\n    </g>\n    <g clip-path=\"url(#p631d58c506)\">\n     <use style=\"fill:#1f77b4;\" x=\"101.465273\" xlink:href=\"#C2_0_f0ba12087e\" y=\"212.528957\"/>\n    </g>\n    <g clip-path=\"url(#p631d58c506)\">\n     <use style=\"fill:#1f77b4;\" x=\"340.172874\" xlink:href=\"#C2_0_f0ba12087e\" y=\"212.528957\"/>\n    </g>\n    <g clip-path=\"url(#p631d58c506)\">\n     <use style=\"fill:#1f77b4;\" x=\"96.215273\" xlink:href=\"#C2_0_f0ba12087e\" y=\"212.528957\"/>\n    </g>\n    <g clip-path=\"url(#p631d58c506)\">\n     <use style=\"fill:#1f77b4;\" x=\"345.422874\" xlink:href=\"#C2_0_f0ba12087e\" y=\"212.528957\"/>\n    </g>\n    <g clip-path=\"url(#p631d58c506)\">\n     <use style=\"fill:#1f77b4;\" x=\"90.965273\" xlink:href=\"#C2_0_f0ba12087e\" y=\"212.528957\"/>\n    </g>\n    <g clip-path=\"url(#p631d58c506)\">\n     <use style=\"fill:#1f77b4;\" x=\"350.672874\" xlink:href=\"#C2_0_f0ba12087e\" y=\"212.528957\"/>\n    </g>\n    <g clip-path=\"url(#p631d58c506)\">\n     <use style=\"fill:#1f77b4;\" x=\"86.808125\" xlink:href=\"#C2_0_f0ba12087e\" y=\"212.528957\"/>\n    </g>\n    <g clip-path=\"url(#p631d58c506)\">\n     <use style=\"fill:#1f77b4;\" x=\"354.648125\" xlink:href=\"#C2_0_f0ba12087e\" y=\"212.528957\"/>\n    </g>\n    <g clip-path=\"url(#p631d58c506)\">\n     <use style=\"fill:#1f77b4;\" x=\"238.076742\" xlink:href=\"#C2_0_f0ba12087e\" y=\"212.497531\"/>\n    </g>\n    <g clip-path=\"url(#p631d58c506)\">\n     <use style=\"fill:#1f77b4;\" x=\"195.386945\" xlink:href=\"#C2_0_f0ba12087e\" y=\"212.497531\"/>\n    </g>\n    <g clip-path=\"url(#p631d58c506)\">\n     <use style=\"fill:#1f77b4;\" x=\"190.136945\" xlink:href=\"#C2_0_f0ba12087e\" y=\"212.497531\"/>\n    </g>\n    <g clip-path=\"url(#p631d58c506)\">\n     <use style=\"fill:#1f77b4;\" x=\"251.501202\" xlink:href=\"#C2_0_f0ba12087e\" y=\"212.497531\"/>\n    </g>\n    <g clip-path=\"url(#p631d58c506)\">\n     <use style=\"fill:#1f77b4;\" x=\"184.886945\" xlink:href=\"#C2_0_f0ba12087e\" y=\"212.497531\"/>\n    </g>\n    <g clip-path=\"url(#p631d58c506)\">\n     <use style=\"fill:#1f77b4;\" x=\"86.808125\" xlink:href=\"#C2_0_f0ba12087e\" y=\"212.497531\"/>\n    </g>\n    <g clip-path=\"url(#p631d58c506)\">\n     <use style=\"fill:#1f77b4;\" x=\"354.648125\" xlink:href=\"#C2_0_f0ba12087e\" y=\"212.497531\"/>\n    </g>\n    <g clip-path=\"url(#p631d58c506)\">\n     <use style=\"fill:#1f77b4;\" x=\"86.808125\" xlink:href=\"#C2_0_f0ba12087e\" y=\"212.497531\"/>\n    </g>\n    <g clip-path=\"url(#p631d58c506)\">\n     <use style=\"fill:#1f77b4;\" x=\"354.648125\" xlink:href=\"#C2_0_f0ba12087e\" y=\"212.497531\"/>\n    </g>\n    <g clip-path=\"url(#p631d58c506)\">\n     <use style=\"fill:#1f77b4;\" x=\"86.808125\" xlink:href=\"#C2_0_f0ba12087e\" y=\"212.497531\"/>\n    </g>\n    <g clip-path=\"url(#p631d58c506)\">\n     <use style=\"fill:#1f77b4;\" x=\"218.475517\" xlink:href=\"#C2_0_f0ba12087e\" y=\"212.466104\"/>\n    </g>\n    <g clip-path=\"url(#p631d58c506)\">\n     <use style=\"fill:#1f77b4;\" x=\"256.664822\" xlink:href=\"#C2_0_f0ba12087e\" y=\"212.466104\"/>\n    </g>\n    <g clip-path=\"url(#p631d58c506)\">\n     <use style=\"fill:#1f77b4;\" x=\"179.723325\" xlink:href=\"#C2_0_f0ba12087e\" y=\"212.466104\"/>\n    </g>\n    <g clip-path=\"url(#p631d58c506)\">\n     <use style=\"fill:#1f77b4;\" x=\"146.021628\" xlink:href=\"#C2_0_f0ba12087e\" y=\"212.466104\"/>\n    </g>\n    <g clip-path=\"url(#p631d58c506)\">\n     <use style=\"fill:#1f77b4;\" x=\"295.616519\" xlink:href=\"#C2_0_f0ba12087e\" y=\"212.466104\"/>\n    </g>\n    <g clip-path=\"url(#p631d58c506)\">\n     <use style=\"fill:#1f77b4;\" x=\"140.771628\" xlink:href=\"#C2_0_f0ba12087e\" y=\"212.466104\"/>\n    </g>\n    <g clip-path=\"url(#p631d58c506)\">\n     <use style=\"fill:#1f77b4;\" x=\"300.866519\" xlink:href=\"#C2_0_f0ba12087e\" y=\"212.466104\"/>\n    </g>\n    <g clip-path=\"url(#p631d58c506)\">\n     <use style=\"fill:#1f77b4;\" x=\"135.521628\" xlink:href=\"#C2_0_f0ba12087e\" y=\"212.466104\"/>\n    </g>\n    <g clip-path=\"url(#p631d58c506)\">\n     <use style=\"fill:#1f77b4;\" x=\"354.648125\" xlink:href=\"#C2_0_f0ba12087e\" y=\"212.466104\"/>\n    </g>\n    <g clip-path=\"url(#p631d58c506)\">\n     <use style=\"fill:#1f77b4;\" x=\"86.808125\" xlink:href=\"#C2_0_f0ba12087e\" y=\"212.466104\"/>\n    </g>\n    <g clip-path=\"url(#p631d58c506)\">\n     <use style=\"fill:#1f77b4;\" x=\"210.061276\" xlink:href=\"#C2_0_f0ba12087e\" y=\"212.434678\"/>\n    </g>\n    <g clip-path=\"url(#p631d58c506)\">\n     <use style=\"fill:#1f77b4;\" x=\"231.412023\" xlink:href=\"#C2_0_f0ba12087e\" y=\"212.434678\"/>\n    </g>\n    <g clip-path=\"url(#p631d58c506)\">\n     <use style=\"fill:#1f77b4;\" x=\"261.828442\" xlink:href=\"#C2_0_f0ba12087e\" y=\"212.434678\"/>\n    </g>\n    <g clip-path=\"url(#p631d58c506)\">\n     <use style=\"fill:#1f77b4;\" x=\"306.030139\" xlink:href=\"#C2_0_f0ba12087e\" y=\"212.434678\"/>\n    </g>\n    <g clip-path=\"url(#p631d58c506)\">\n     <use style=\"fill:#1f77b4;\" x=\"130.358008\" xlink:href=\"#C2_0_f0ba12087e\" y=\"212.434678\"/>\n    </g>\n    <g clip-path=\"url(#p631d58c506)\">\n     <use style=\"fill:#1f77b4;\" x=\"311.280139\" xlink:href=\"#C2_0_f0ba12087e\" y=\"212.434678\"/>\n    </g>\n    <g clip-path=\"url(#p631d58c506)\">\n     <use style=\"fill:#1f77b4;\" x=\"125.108008\" xlink:href=\"#C2_0_f0ba12087e\" y=\"212.434678\"/>\n    </g>\n    <g clip-path=\"url(#p631d58c506)\">\n     <use style=\"fill:#1f77b4;\" x=\"316.530139\" xlink:href=\"#C2_0_f0ba12087e\" y=\"212.434678\"/>\n    </g>\n    <g clip-path=\"url(#p631d58c506)\">\n     <use style=\"fill:#1f77b4;\" x=\"223.37086\" xlink:href=\"#C2_0_f0ba12087e\" y=\"212.403252\"/>\n    </g>\n    <g clip-path=\"url(#p631d58c506)\">\n     <use style=\"fill:#1f77b4;\" x=\"204.179616\" xlink:href=\"#C2_0_f0ba12087e\" y=\"212.403252\"/>\n    </g>\n    <g clip-path=\"url(#p631d58c506)\">\n     <use style=\"fill:#1f77b4;\" x=\"174.827982\" xlink:href=\"#C2_0_f0ba12087e\" y=\"212.403252\"/>\n    </g>\n    <g clip-path=\"url(#p631d58c506)\">\n     <use style=\"fill:#1f77b4;\" x=\"266.992062\" xlink:href=\"#C2_0_f0ba12087e\" y=\"212.403252\"/>\n    </g>\n    <g clip-path=\"url(#p631d58c506)\">\n     <use style=\"fill:#1f77b4;\" x=\"169.577982\" xlink:href=\"#C2_0_f0ba12087e\" y=\"212.403252\"/>\n    </g>\n    <g clip-path=\"url(#p631d58c506)\">\n     <use style=\"fill:#1f77b4;\" x=\"272.242062\" xlink:href=\"#C2_0_f0ba12087e\" y=\"212.403252\"/>\n    </g>\n    <g clip-path=\"url(#p631d58c506)\">\n     <use style=\"fill:#1f77b4;\" x=\"241.705793\" xlink:href=\"#C2_0_f0ba12087e\" y=\"212.371825\"/>\n    </g>\n    <g clip-path=\"url(#p631d58c506)\">\n     <use style=\"fill:#1f77b4;\" x=\"247.714026\" xlink:href=\"#C2_0_f0ba12087e\" y=\"212.371825\"/>\n    </g>\n    <g clip-path=\"url(#p631d58c506)\">\n     <use style=\"fill:#1f77b4;\" x=\"164.414363\" xlink:href=\"#C2_0_f0ba12087e\" y=\"212.371825\"/>\n    </g>\n    <g clip-path=\"url(#p631d58c506)\">\n     <use style=\"fill:#1f77b4;\" x=\"277.405682\" xlink:href=\"#C2_0_f0ba12087e\" y=\"212.371825\"/>\n    </g>\n    <g clip-path=\"url(#p631d58c506)\">\n     <use style=\"fill:#1f77b4;\" x=\"214.846466\" xlink:href=\"#C2_0_f0ba12087e\" y=\"212.340399\"/>\n    </g>\n    <g clip-path=\"url(#p631d58c506)\">\n     <use style=\"fill:#1f77b4;\" x=\"235.824134\" xlink:href=\"#C2_0_f0ba12087e\" y=\"212.340399\"/>\n    </g>\n    <g clip-path=\"url(#p631d58c506)\">\n     <use style=\"fill:#1f77b4;\" x=\"199.284274\" xlink:href=\"#C2_0_f0ba12087e\" y=\"212.340399\"/>\n    </g>\n    <g clip-path=\"url(#p631d58c506)\">\n     <use style=\"fill:#1f77b4;\" x=\"193.134337\" xlink:href=\"#C2_0_f0ba12087e\" y=\"212.340399\"/>\n    </g>\n    <g clip-path=\"url(#p631d58c506)\">\n     <use style=\"fill:#1f77b4;\" x=\"187.884337\" xlink:href=\"#C2_0_f0ba12087e\" y=\"212.340399\"/>\n    </g>\n    <g clip-path=\"url(#p631d58c506)\">\n     <use style=\"fill:#1f77b4;\" x=\"159.250743\" xlink:href=\"#C2_0_f0ba12087e\" y=\"212.340399\"/>\n    </g>\n    <g clip-path=\"url(#p631d58c506)\">\n     <use style=\"fill:#1f77b4;\" x=\"227.782971\" xlink:href=\"#C2_0_f0ba12087e\" y=\"212.308972\"/>\n    </g>\n    <g clip-path=\"url(#p631d58c506)\">\n     <use style=\"fill:#1f77b4;\" x=\"252.609369\" xlink:href=\"#C2_0_f0ba12087e\" y=\"212.308972\"/>\n    </g>\n    <g clip-path=\"url(#p631d58c506)\">\n     <use style=\"fill:#1f77b4;\" x=\"182.720717\" xlink:href=\"#C2_0_f0ba12087e\" y=\"212.308972\"/>\n    </g>\n    <g clip-path=\"url(#p631d58c506)\">\n     <use style=\"fill:#1f77b4;\" x=\"282.301024\" xlink:href=\"#C2_0_f0ba12087e\" y=\"212.308972\"/>\n    </g>\n    <g clip-path=\"url(#p631d58c506)\">\n     <use style=\"fill:#1f77b4;\" x=\"219.741808\" xlink:href=\"#C2_0_f0ba12087e\" y=\"212.277546\"/>\n    </g>\n    <g clip-path=\"url(#p631d58c506)\">\n     <use style=\"fill:#1f77b4;\" x=\"207.808668\" xlink:href=\"#C2_0_f0ba12087e\" y=\"212.277546\"/>\n    </g>\n    <g clip-path=\"url(#p631d58c506)\">\n     <use style=\"fill:#1f77b4;\" x=\"257.772988\" xlink:href=\"#C2_0_f0ba12087e\" y=\"212.277546\"/>\n    </g>\n    <g clip-path=\"url(#p631d58c506)\">\n     <use style=\"fill:#1f77b4;\" x=\"154.3554\" xlink:href=\"#C2_0_f0ba12087e\" y=\"212.277546\"/>\n    </g>\n    <g clip-path=\"url(#p631d58c506)\">\n     <use style=\"fill:#1f77b4;\" x=\"287.464644\" xlink:href=\"#C2_0_f0ba12087e\" y=\"212.277546\"/>\n    </g>\n    <g clip-path=\"url(#p631d58c506)\">\n     <use style=\"fill:#1f77b4;\" x=\"232.195083\" xlink:href=\"#C2_0_f0ba12087e\" y=\"212.214693\"/>\n    </g>\n    <g clip-path=\"url(#p631d58c506)\">\n     <use style=\"fill:#1f77b4;\" x=\"202.913325\" xlink:href=\"#C2_0_f0ba12087e\" y=\"212.214693\"/>\n    </g>\n    <g clip-path=\"url(#p631d58c506)\">\n     <use style=\"fill:#1f77b4;\" x=\"239.453186\" xlink:href=\"#C2_0_f0ba12087e\" y=\"212.214693\"/>\n    </g>\n    <g clip-path=\"url(#p631d58c506)\">\n     <use style=\"fill:#1f77b4;\" x=\"224.15392\" xlink:href=\"#C2_0_f0ba12087e\" y=\"212.183267\"/>\n    </g>\n    <g clip-path=\"url(#p631d58c506)\">\n     <use style=\"fill:#1f77b4;\" x=\"216.112757\" xlink:href=\"#C2_0_f0ba12087e\" y=\"212.15184\"/>\n    </g>\n    <g clip-path=\"url(#p631d58c506)\">\n     <use style=\"fill:#1f77b4;\" x=\"198.017983\" xlink:href=\"#C2_0_f0ba12087e\" y=\"212.15184\"/>\n    </g>\n    <g clip-path=\"url(#p631d58c506)\">\n     <use style=\"fill:#1f77b4;\" x=\"210.949137\" xlink:href=\"#C2_0_f0ba12087e\" y=\"212.120414\"/>\n    </g>\n    <g clip-path=\"url(#p631d58c506)\">\n     <use style=\"fill:#1f77b4;\" x=\"243.865297\" xlink:href=\"#C2_0_f0ba12087e\" y=\"212.120414\"/>\n    </g>\n    <g clip-path=\"url(#p631d58c506)\">\n     <use style=\"fill:#1f77b4;\" x=\"192.854363\" xlink:href=\"#C2_0_f0ba12087e\" y=\"212.120414\"/>\n    </g>\n    <g clip-path=\"url(#p631d58c506)\">\n     <use style=\"fill:#1f77b4;\" x=\"249.115297\" xlink:href=\"#C2_0_f0ba12087e\" y=\"212.120414\"/>\n    </g>\n    <g clip-path=\"url(#p631d58c506)\">\n     <use style=\"fill:#1f77b4;\" x=\"187.604363\" xlink:href=\"#C2_0_f0ba12087e\" y=\"212.120414\"/>\n    </g>\n    <g clip-path=\"url(#p631d58c506)\">\n     <use style=\"fill:#1f77b4;\" x=\"254.365297\" xlink:href=\"#C2_0_f0ba12087e\" y=\"212.120414\"/>\n    </g>\n    <g clip-path=\"url(#p631d58c506)\">\n     <use style=\"fill:#1f77b4;\" x=\"182.354363\" xlink:href=\"#C2_0_f0ba12087e\" y=\"212.120414\"/>\n    </g>\n    <g clip-path=\"url(#p631d58c506)\">\n     <use style=\"fill:#1f77b4;\" x=\"260.025596\" xlink:href=\"#C2_0_f0ba12087e\" y=\"212.120414\"/>\n    </g>\n    <g clip-path=\"url(#p631d58c506)\">\n     <use style=\"fill:#1f77b4;\" x=\"228.566031\" xlink:href=\"#C2_0_f0ba12087e\" y=\"212.088987\"/>\n    </g>\n    <g clip-path=\"url(#p631d58c506)\">\n     <use style=\"fill:#1f77b4;\" x=\"235.824134\" xlink:href=\"#C2_0_f0ba12087e\" y=\"212.088987\"/>\n    </g>\n    <g clip-path=\"url(#p631d58c506)\">\n     <use style=\"fill:#1f77b4;\" x=\"177.190743\" xlink:href=\"#C2_0_f0ba12087e\" y=\"212.088987\"/>\n    </g>\n    <g clip-path=\"url(#p631d58c506)\">\n     <use style=\"fill:#1f77b4;\" x=\"265.189216\" xlink:href=\"#C2_0_f0ba12087e\" y=\"212.088987\"/>\n    </g>\n    <g clip-path=\"url(#p631d58c506)\">\n     <use style=\"fill:#1f77b4;\" x=\"171.940743\" xlink:href=\"#C2_0_f0ba12087e\" y=\"212.088987\"/>\n    </g>\n    <g clip-path=\"url(#p631d58c506)\">\n     <use style=\"fill:#1f77b4;\" x=\"220.524868\" xlink:href=\"#C2_0_f0ba12087e\" y=\"212.057561\"/>\n    </g>\n    <g clip-path=\"url(#p631d58c506)\">\n     <use style=\"fill:#1f77b4;\" x=\"206.053794\" xlink:href=\"#C2_0_f0ba12087e\" y=\"212.057561\"/>\n    </g>\n    <g clip-path=\"url(#p631d58c506)\">\n     <use style=\"fill:#1f77b4;\" x=\"270.352836\" xlink:href=\"#C2_0_f0ba12087e\" y=\"212.057561\"/>\n    </g>\n    <g clip-path=\"url(#p631d58c506)\">\n     <use style=\"fill:#1f77b4;\" x=\"166.777123\" xlink:href=\"#C2_0_f0ba12087e\" y=\"212.057561\"/>\n    </g>\n    <g clip-path=\"url(#p631d58c506)\">\n     <use style=\"fill:#1f77b4;\" x=\"275.602836\" xlink:href=\"#C2_0_f0ba12087e\" y=\"212.057561\"/>\n    </g>\n    <g clip-path=\"url(#p631d58c506)\">\n     <use style=\"fill:#1f77b4;\" x=\"161.527123\" xlink:href=\"#C2_0_f0ba12087e\" y=\"212.057561\"/>\n    </g>\n    <g clip-path=\"url(#p631d58c506)\">\n     <use style=\"fill:#1f77b4;\" x=\"280.852836\" xlink:href=\"#C2_0_f0ba12087e\" y=\"212.057561\"/>\n    </g>\n    <g clip-path=\"url(#p631d58c506)\">\n     <use style=\"fill:#1f77b4;\" x=\"156.277123\" xlink:href=\"#C2_0_f0ba12087e\" y=\"212.057561\"/>\n    </g>\n    <g clip-path=\"url(#p631d58c506)\">\n     <use style=\"fill:#1f77b4;\" x=\"286.102836\" xlink:href=\"#C2_0_f0ba12087e\" y=\"212.057561\"/>\n    </g>\n    <g clip-path=\"url(#p631d58c506)\">\n     <use style=\"fill:#1f77b4;\" x=\"151.027123\" xlink:href=\"#C2_0_f0ba12087e\" y=\"212.057561\"/>\n    </g>\n    <g clip-path=\"url(#p631d58c506)\">\n     <use style=\"fill:#1f77b4;\" x=\"291.352836\" xlink:href=\"#C2_0_f0ba12087e\" y=\"212.057561\"/>\n    </g>\n    <g clip-path=\"url(#p631d58c506)\">\n     <use style=\"fill:#1f77b4;\" x=\"145.777123\" xlink:href=\"#C2_0_f0ba12087e\" y=\"212.057561\"/>\n    </g>\n    <g clip-path=\"url(#p631d58c506)\">\n     <use style=\"fill:#1f77b4;\" x=\"296.602836\" xlink:href=\"#C2_0_f0ba12087e\" y=\"212.057561\"/>\n    </g>\n    <g clip-path=\"url(#p631d58c506)\">\n     <use style=\"fill:#1f77b4;\" x=\"140.527123\" xlink:href=\"#C2_0_f0ba12087e\" y=\"212.057561\"/>\n    </g>\n    <g clip-path=\"url(#p631d58c506)\">\n     <use style=\"fill:#1f77b4;\" x=\"301.766456\" xlink:href=\"#C2_0_f0ba12087e\" y=\"212.026134\"/>\n    </g>\n    <g clip-path=\"url(#p631d58c506)\">\n     <use style=\"fill:#1f77b4;\" x=\"135.363503\" xlink:href=\"#C2_0_f0ba12087e\" y=\"212.026134\"/>\n    </g>\n    <g clip-path=\"url(#p631d58c506)\">\n     <use style=\"fill:#1f77b4;\" x=\"240.236245\" xlink:href=\"#C2_0_f0ba12087e\" y=\"211.994708\"/>\n    </g>\n    <g clip-path=\"url(#p631d58c506)\">\n     <use style=\"fill:#1f77b4;\" x=\"201.158452\" xlink:href=\"#C2_0_f0ba12087e\" y=\"211.994708\"/>\n    </g>\n    <g clip-path=\"url(#p631d58c506)\">\n     <use style=\"fill:#1f77b4;\" x=\"306.930076\" xlink:href=\"#C2_0_f0ba12087e\" y=\"211.994708\"/>\n    </g>\n    <g clip-path=\"url(#p631d58c506)\">\n     <use style=\"fill:#1f77b4;\" x=\"130.199884\" xlink:href=\"#C2_0_f0ba12087e\" y=\"211.994708\"/>\n    </g>\n    <g clip-path=\"url(#p631d58c506)\">\n     <use style=\"fill:#1f77b4;\" x=\"312.180076\" xlink:href=\"#C2_0_f0ba12087e\" y=\"211.994708\"/>\n    </g>\n    <g clip-path=\"url(#p631d58c506)\">\n     <use style=\"fill:#1f77b4;\" x=\"124.949884\" xlink:href=\"#C2_0_f0ba12087e\" y=\"211.994708\"/>\n    </g>\n    <g clip-path=\"url(#p631d58c506)\">\n     <use style=\"fill:#1f77b4;\" x=\"317.430076\" xlink:href=\"#C2_0_f0ba12087e\" y=\"211.994708\"/>\n    </g>\n    <g clip-path=\"url(#p631d58c506)\">\n     <use style=\"fill:#1f77b4;\" x=\"224.936979\" xlink:href=\"#C2_0_f0ba12087e\" y=\"211.963282\"/>\n    </g>\n    <g clip-path=\"url(#p631d58c506)\">\n     <use style=\"fill:#1f77b4;\" x=\"216.112757\" xlink:href=\"#C2_0_f0ba12087e\" y=\"211.963282\"/>\n    </g>\n    <g clip-path=\"url(#p631d58c506)\">\n     <use style=\"fill:#1f77b4;\" x=\"232.195083\" xlink:href=\"#C2_0_f0ba12087e\" y=\"211.963282\"/>\n    </g>\n    <g clip-path=\"url(#p631d58c506)\">\n     <use style=\"fill:#1f77b4;\" x=\"195.994832\" xlink:href=\"#C2_0_f0ba12087e\" y=\"211.963282\"/>\n    </g>\n    <g clip-path=\"url(#p631d58c506)\">\n     <use style=\"fill:#1f77b4;\" x=\"246.117905\" xlink:href=\"#C2_0_f0ba12087e\" y=\"211.963282\"/>\n    </g>\n    <g clip-path=\"url(#p631d58c506)\">\n     <use style=\"fill:#1f77b4;\" x=\"190.601755\" xlink:href=\"#C2_0_f0ba12087e\" y=\"211.963282\"/>\n    </g>\n    <g clip-path=\"url(#p631d58c506)\">\n     <use style=\"fill:#1f77b4;\" x=\"210.949137\" xlink:href=\"#C2_0_f0ba12087e\" y=\"211.931855\"/>\n    </g>\n    <g clip-path=\"url(#p631d58c506)\">\n     <use style=\"fill:#1f77b4;\" x=\"251.281525\" xlink:href=\"#C2_0_f0ba12087e\" y=\"211.931855\"/>\n    </g>\n    <g clip-path=\"url(#p631d58c506)\">\n     <use style=\"fill:#1f77b4;\" x=\"185.438135\" xlink:href=\"#C2_0_f0ba12087e\" y=\"211.931855\"/>\n    </g>\n    <g clip-path=\"url(#p631d58c506)\">\n     <use style=\"fill:#1f77b4;\" x=\"256.531525\" xlink:href=\"#C2_0_f0ba12087e\" y=\"211.931855\"/>\n    </g>\n    <g clip-path=\"url(#p631d58c506)\">\n     <use style=\"fill:#1f77b4;\" x=\"180.188135\" xlink:href=\"#C2_0_f0ba12087e\" y=\"211.931855\"/>\n    </g>\n    <g clip-path=\"url(#p631d58c506)\">\n     <use style=\"fill:#1f77b4;\" x=\"261.781525\" xlink:href=\"#C2_0_f0ba12087e\" y=\"211.931855\"/>\n    </g>\n    <g clip-path=\"url(#p631d58c506)\">\n     <use style=\"fill:#1f77b4;\" x=\"175.024515\" xlink:href=\"#C2_0_f0ba12087e\" y=\"211.900429\"/>\n    </g>\n    <g clip-path=\"url(#p631d58c506)\">\n     <use style=\"fill:#1f77b4;\" x=\"266.945145\" xlink:href=\"#C2_0_f0ba12087e\" y=\"211.900429\"/>\n    </g>\n    <g clip-path=\"url(#p631d58c506)\">\n     <use style=\"fill:#1f77b4;\" x=\"169.774515\" xlink:href=\"#C2_0_f0ba12087e\" y=\"211.900429\"/>\n    </g>\n    <g clip-path=\"url(#p631d58c506)\">\n     <use style=\"fill:#1f77b4;\" x=\"272.605444\" xlink:href=\"#C2_0_f0ba12087e\" y=\"211.900429\"/>\n    </g>\n    <g clip-path=\"url(#p631d58c506)\">\n     <use style=\"fill:#1f77b4;\" x=\"164.524515\" xlink:href=\"#C2_0_f0ba12087e\" y=\"211.900429\"/>\n    </g>\n    <g clip-path=\"url(#p631d58c506)\">\n     <use style=\"fill:#1f77b4;\" x=\"277.855444\" xlink:href=\"#C2_0_f0ba12087e\" y=\"211.900429\"/>\n    </g>\n    <g clip-path=\"url(#p631d58c506)\">\n     <use style=\"fill:#1f77b4;\" x=\"159.274515\" xlink:href=\"#C2_0_f0ba12087e\" y=\"211.900429\"/>\n    </g>\n    <g clip-path=\"url(#p631d58c506)\">\n     <use style=\"fill:#1f77b4;\" x=\"283.105444\" xlink:href=\"#C2_0_f0ba12087e\" y=\"211.900429\"/>\n    </g>\n    <g clip-path=\"url(#p631d58c506)\">\n     <use style=\"fill:#1f77b4;\" x=\"154.024515\" xlink:href=\"#C2_0_f0ba12087e\" y=\"211.900429\"/>\n    </g>\n    <g clip-path=\"url(#p631d58c506)\">\n     <use style=\"fill:#1f77b4;\" x=\"288.355444\" xlink:href=\"#C2_0_f0ba12087e\" y=\"211.900429\"/>\n    </g>\n    <g clip-path=\"url(#p631d58c506)\">\n     <use style=\"fill:#1f77b4;\" x=\"148.774515\" xlink:href=\"#C2_0_f0ba12087e\" y=\"211.900429\"/>\n    </g>\n    <g clip-path=\"url(#p631d58c506)\">\n     <use style=\"fill:#1f77b4;\" x=\"293.605444\" xlink:href=\"#C2_0_f0ba12087e\" y=\"211.900429\"/>\n    </g>\n    <g clip-path=\"url(#p631d58c506)\">\n     <use style=\"fill:#1f77b4;\" x=\"220.728125\" xlink:href=\"#C2_0_f0ba12087e\" y=\"211.869002\"/>\n    </g>\n    <g clip-path=\"url(#p631d58c506)\">\n     <use style=\"fill:#1f77b4;\" x=\"206.053794\" xlink:href=\"#C2_0_f0ba12087e\" y=\"211.869002\"/>\n    </g>\n    <g clip-path=\"url(#p631d58c506)\">\n     <use style=\"fill:#1f77b4;\" x=\"236.607194\" xlink:href=\"#C2_0_f0ba12087e\" y=\"211.869002\"/>\n    </g>\n    <g clip-path=\"url(#p631d58c506)\">\n     <use style=\"fill:#1f77b4;\" x=\"143.610895\" xlink:href=\"#C2_0_f0ba12087e\" y=\"211.869002\"/>\n    </g>\n    <g clip-path=\"url(#p631d58c506)\">\n     <use style=\"fill:#1f77b4;\" x=\"298.769064\" xlink:href=\"#C2_0_f0ba12087e\" y=\"211.869002\"/>\n    </g>\n    <g clip-path=\"url(#p631d58c506)\">\n     <use style=\"fill:#1f77b4;\" x=\"138.360895\" xlink:href=\"#C2_0_f0ba12087e\" y=\"211.869002\"/>\n    </g>\n    <g clip-path=\"url(#p631d58c506)\">\n     <use style=\"fill:#1f77b4;\" x=\"121.320832\" xlink:href=\"#C2_0_f0ba12087e\" y=\"211.869002\"/>\n    </g>\n    <g clip-path=\"url(#p631d58c506)\">\n     <use style=\"fill:#1f77b4;\" x=\"321.059127\" xlink:href=\"#C2_0_f0ba12087e\" y=\"211.869002\"/>\n    </g>\n    <g clip-path=\"url(#p631d58c506)\">\n     <use style=\"fill:#1f77b4;\" x=\"228.566031\" xlink:href=\"#C2_0_f0ba12087e\" y=\"211.837576\"/>\n    </g>\n    <g clip-path=\"url(#p631d58c506)\">\n     <use style=\"fill:#1f77b4;\" x=\"242.488853\" xlink:href=\"#C2_0_f0ba12087e\" y=\"211.837576\"/>\n    </g>\n    <g clip-path=\"url(#p631d58c506)\">\n     <use style=\"fill:#1f77b4;\" x=\"303.932683\" xlink:href=\"#C2_0_f0ba12087e\" y=\"211.837576\"/>\n    </g>\n    <g clip-path=\"url(#p631d58c506)\">\n     <use style=\"fill:#1f77b4;\" x=\"133.197276\" xlink:href=\"#C2_0_f0ba12087e\" y=\"211.837576\"/>\n    </g>\n    <g clip-path=\"url(#p631d58c506)\">\n     <use style=\"fill:#1f77b4;\" x=\"309.182683\" xlink:href=\"#C2_0_f0ba12087e\" y=\"211.837576\"/>\n    </g>\n    <g clip-path=\"url(#p631d58c506)\">\n     <use style=\"fill:#1f77b4;\" x=\"127.947276\" xlink:href=\"#C2_0_f0ba12087e\" y=\"211.837576\"/>\n    </g>\n    <g clip-path=\"url(#p631d58c506)\">\n     <use style=\"fill:#1f77b4;\" x=\"201.158452\" xlink:href=\"#C2_0_f0ba12087e\" y=\"211.806149\"/>\n    </g>\n    <g clip-path=\"url(#p631d58c506)\">\n     <use style=\"fill:#1f77b4;\" x=\"193.742224\" xlink:href=\"#C2_0_f0ba12087e\" y=\"211.806149\"/>\n    </g>\n    <g clip-path=\"url(#p631d58c506)\">\n     <use style=\"fill:#1f77b4;\" x=\"314.346303\" xlink:href=\"#C2_0_f0ba12087e\" y=\"211.806149\"/>\n    </g>\n    <g clip-path=\"url(#p631d58c506)\">\n     <use style=\"fill:#1f77b4;\" x=\"116.425489\" xlink:href=\"#C2_0_f0ba12087e\" y=\"211.806149\"/>\n    </g>\n    <g clip-path=\"url(#p631d58c506)\">\n     <use style=\"fill:#1f77b4;\" x=\"325.95447\" xlink:href=\"#C2_0_f0ba12087e\" y=\"211.806149\"/>\n    </g>\n    <g clip-path=\"url(#p631d58c506)\">\n     <use style=\"fill:#1f77b4;\" x=\"216.316014\" xlink:href=\"#C2_0_f0ba12087e\" y=\"211.774723\"/>\n    </g>\n    <g clip-path=\"url(#p631d58c506)\">\n     <use style=\"fill:#1f77b4;\" x=\"247.384196\" xlink:href=\"#C2_0_f0ba12087e\" y=\"211.774723\"/>\n    </g>\n    <g clip-path=\"url(#p631d58c506)\">\n     <use style=\"fill:#1f77b4;\" x=\"188.578604\" xlink:href=\"#C2_0_f0ba12087e\" y=\"211.774723\"/>\n    </g>\n    <g clip-path=\"url(#p631d58c506)\">\n     <use style=\"fill:#1f77b4;\" x=\"253.534133\" xlink:href=\"#C2_0_f0ba12087e\" y=\"211.774723\"/>\n    </g>\n    <g clip-path=\"url(#p631d58c506)\">\n     <use style=\"fill:#1f77b4;\" x=\"183.185527\" xlink:href=\"#C2_0_f0ba12087e\" y=\"211.774723\"/>\n    </g>\n    <g clip-path=\"url(#p631d58c506)\">\n     <use style=\"fill:#1f77b4;\" x=\"224.357177\" xlink:href=\"#C2_0_f0ba12087e\" y=\"211.743297\"/>\n    </g>\n    <g clip-path=\"url(#p631d58c506)\">\n     <use style=\"fill:#1f77b4;\" x=\"211.152394\" xlink:href=\"#C2_0_f0ba12087e\" y=\"211.743297\"/>\n    </g>\n    <g clip-path=\"url(#p631d58c506)\">\n     <use style=\"fill:#1f77b4;\" x=\"232.978142\" xlink:href=\"#C2_0_f0ba12087e\" y=\"211.743297\"/>\n    </g>\n    <g clip-path=\"url(#p631d58c506)\">\n     <use style=\"fill:#1f77b4;\" x=\"258.697752\" xlink:href=\"#C2_0_f0ba12087e\" y=\"211.743297\"/>\n    </g>\n    <g clip-path=\"url(#p631d58c506)\">\n     <use style=\"fill:#1f77b4;\" x=\"178.021907\" xlink:href=\"#C2_0_f0ba12087e\" y=\"211.743297\"/>\n    </g>\n    <g clip-path=\"url(#p631d58c506)\">\n     <use style=\"fill:#1f77b4;\" x=\"263.947752\" xlink:href=\"#C2_0_f0ba12087e\" y=\"211.743297\"/>\n    </g>\n    <g clip-path=\"url(#p631d58c506)\">\n     <use style=\"fill:#1f77b4;\" x=\"172.771907\" xlink:href=\"#C2_0_f0ba12087e\" y=\"211.743297\"/>\n    </g>\n    <g clip-path=\"url(#p631d58c506)\">\n     <use style=\"fill:#1f77b4;\" x=\"269.197752\" xlink:href=\"#C2_0_f0ba12087e\" y=\"211.743297\"/>\n    </g>\n    <g clip-path=\"url(#p631d58c506)\">\n     <use style=\"fill:#1f77b4;\" x=\"238.859802\" xlink:href=\"#C2_0_f0ba12087e\" y=\"211.71187\"/>\n    </g>\n    <g clip-path=\"url(#p631d58c506)\">\n     <use style=\"fill:#1f77b4;\" x=\"167.608288\" xlink:href=\"#C2_0_f0ba12087e\" y=\"211.71187\"/>\n    </g>\n    <g clip-path=\"url(#p631d58c506)\">\n     <use style=\"fill:#1f77b4;\" x=\"274.361372\" xlink:href=\"#C2_0_f0ba12087e\" y=\"211.71187\"/>\n    </g>\n    <g clip-path=\"url(#p631d58c506)\">\n     <use style=\"fill:#1f77b4;\" x=\"162.358288\" xlink:href=\"#C2_0_f0ba12087e\" y=\"211.71187\"/>\n    </g>\n    <g clip-path=\"url(#p631d58c506)\">\n     <use style=\"fill:#1f77b4;\" x=\"279.611372\" xlink:href=\"#C2_0_f0ba12087e\" y=\"211.71187\"/>\n    </g>\n    <g clip-path=\"url(#p631d58c506)\">\n     <use style=\"fill:#1f77b4;\" x=\"206.257051\" xlink:href=\"#C2_0_f0ba12087e\" y=\"211.680444\"/>\n    </g>\n    <g clip-path=\"url(#p631d58c506)\">\n     <use style=\"fill:#1f77b4;\" x=\"197.5294\" xlink:href=\"#C2_0_f0ba12087e\" y=\"211.680444\"/>\n    </g>\n    <g clip-path=\"url(#p631d58c506)\">\n     <use style=\"fill:#1f77b4;\" x=\"157.194668\" xlink:href=\"#C2_0_f0ba12087e\" y=\"211.680444\"/>\n    </g>\n    <g clip-path=\"url(#p631d58c506)\">\n     <use style=\"fill:#1f77b4;\" x=\"284.774992\" xlink:href=\"#C2_0_f0ba12087e\" y=\"211.680444\"/>\n    </g>\n    <g clip-path=\"url(#p631d58c506)\">\n     <use style=\"fill:#1f77b4;\" x=\"151.944668\" xlink:href=\"#C2_0_f0ba12087e\" y=\"211.680444\"/>\n    </g>\n    <g clip-path=\"url(#p631d58c506)\">\n     <use style=\"fill:#1f77b4;\" x=\"290.024992\" xlink:href=\"#C2_0_f0ba12087e\" y=\"211.680444\"/>\n    </g>\n    <g clip-path=\"url(#p631d58c506)\">\n     <use style=\"fill:#1f77b4;\" x=\"219.945065\" xlink:href=\"#C2_0_f0ba12087e\" y=\"211.649017\"/>\n    </g>\n    <g clip-path=\"url(#p631d58c506)\">\n     <use style=\"fill:#1f77b4;\" x=\"228.566031\" xlink:href=\"#C2_0_f0ba12087e\" y=\"211.649017\"/>\n    </g>\n    <g clip-path=\"url(#p631d58c506)\">\n     <use style=\"fill:#1f77b4;\" x=\"243.271913\" xlink:href=\"#C2_0_f0ba12087e\" y=\"211.617591\"/>\n    </g>\n    <g clip-path=\"url(#p631d58c506)\">\n     <use style=\"fill:#1f77b4;\" x=\"192.634058\" xlink:href=\"#C2_0_f0ba12087e\" y=\"211.617591\"/>\n    </g>\n    <g clip-path=\"url(#p631d58c506)\">\n     <use style=\"fill:#1f77b4;\" x=\"249.636804\" xlink:href=\"#C2_0_f0ba12087e\" y=\"211.617591\"/>\n    </g>\n    <g clip-path=\"url(#p631d58c506)\">\n     <use style=\"fill:#1f77b4;\" x=\"215.049723\" xlink:href=\"#C2_0_f0ba12087e\" y=\"211.586164\"/>\n    </g>\n    <g clip-path=\"url(#p631d58c506)\">\n     <use style=\"fill:#1f77b4;\" x=\"235.23075\" xlink:href=\"#C2_0_f0ba12087e\" y=\"211.586164\"/>\n    </g>\n    <g clip-path=\"url(#p631d58c506)\">\n     <use style=\"fill:#1f77b4;\" x=\"201.941512\" xlink:href=\"#C2_0_f0ba12087e\" y=\"211.586164\"/>\n    </g>\n    <g clip-path=\"url(#p631d58c506)\">\n     <use style=\"fill:#1f77b4;\" x=\"187.470438\" xlink:href=\"#C2_0_f0ba12087e\" y=\"211.586164\"/>\n    </g>\n    <g clip-path=\"url(#p631d58c506)\">\n     <use style=\"fill:#1f77b4;\" x=\"224.15392\" xlink:href=\"#C2_0_f0ba12087e\" y=\"211.554738\"/>\n    </g>\n    <g clip-path=\"url(#p631d58c506)\">\n     <use style=\"fill:#1f77b4;\" x=\"230.818639\" xlink:href=\"#C2_0_f0ba12087e\" y=\"211.491885\"/>\n    </g>\n    <g clip-path=\"url(#p631d58c506)\">\n     <use style=\"fill:#1f77b4;\" x=\"210.637611\" xlink:href=\"#C2_0_f0ba12087e\" y=\"211.491885\"/>\n    </g>\n    <g clip-path=\"url(#p631d58c506)\">\n     <use style=\"fill:#1f77b4;\" x=\"239.642862\" xlink:href=\"#C2_0_f0ba12087e\" y=\"211.491885\"/>\n    </g>\n    <g clip-path=\"url(#p631d58c506)\">\n     <use style=\"fill:#1f77b4;\" x=\"197.5294\" xlink:href=\"#C2_0_f0ba12087e\" y=\"211.491885\"/>\n    </g>\n    <g clip-path=\"url(#p631d58c506)\">\n     <use style=\"fill:#1f77b4;\" x=\"219.741808\" xlink:href=\"#C2_0_f0ba12087e\" y=\"211.460459\"/>\n    </g>\n    <g clip-path=\"url(#p631d58c506)\">\n     <use style=\"fill:#1f77b4;\" x=\"205.570563\" xlink:href=\"#C2_0_f0ba12087e\" y=\"211.460459\"/>\n    </g>\n    <g clip-path=\"url(#p631d58c506)\">\n     <use style=\"fill:#1f77b4;\" x=\"244.538204\" xlink:href=\"#C2_0_f0ba12087e\" y=\"211.429032\"/>\n    </g>\n    <g clip-path=\"url(#p631d58c506)\">\n     <use style=\"fill:#1f77b4;\" x=\"192.634058\" xlink:href=\"#C2_0_f0ba12087e\" y=\"211.429032\"/>\n    </g>\n    <g clip-path=\"url(#p631d58c506)\">\n     <use style=\"fill:#1f77b4;\" x=\"249.788204\" xlink:href=\"#C2_0_f0ba12087e\" y=\"211.429032\"/>\n    </g>\n    <g clip-path=\"url(#p631d58c506)\">\n     <use style=\"fill:#1f77b4;\" x=\"255.038204\" xlink:href=\"#C2_0_f0ba12087e\" y=\"211.429032\"/>\n    </g>\n    <g clip-path=\"url(#p631d58c506)\">\n     <use style=\"fill:#1f77b4;\" x=\"185.21783\" xlink:href=\"#C2_0_f0ba12087e\" y=\"211.429032\"/>\n    </g>\n    <g clip-path=\"url(#p631d58c506)\">\n     <use style=\"fill:#1f77b4;\" x=\"260.288204\" xlink:href=\"#C2_0_f0ba12087e\" y=\"211.429032\"/>\n    </g>\n    <g clip-path=\"url(#p631d58c506)\">\n     <use style=\"fill:#1f77b4;\" x=\"179.96783\" xlink:href=\"#C2_0_f0ba12087e\" y=\"211.429032\"/>\n    </g>\n    <g clip-path=\"url(#p631d58c506)\">\n     <use style=\"fill:#1f77b4;\" x=\"226.406527\" xlink:href=\"#C2_0_f0ba12087e\" y=\"211.397606\"/>\n    </g>\n   </g>\n   <g id=\"PathCollection_4\">\n    <defs>\n     <path d=\"M 0 2.5 \nC 0.663008 2.5 1.29895 2.236584 1.767767 1.767767 \nC 2.236584 1.29895 2.5 0.663008 2.5 0 \nC 2.5 -0.663008 2.236584 -1.29895 1.767767 -1.767767 \nC 1.29895 -2.236584 0.663008 -2.5 0 -2.5 \nC -0.663008 -2.5 -1.29895 -2.236584 -1.767767 -1.767767 \nC -2.236584 -1.29895 -2.5 -0.663008 -2.5 0 \nC -2.5 0.663008 -2.236584 1.29895 -1.767767 1.767767 \nC -1.29895 2.236584 -0.663008 2.5 0 2.5 \nz\n\" id=\"C3_0_3ef90f67fd\"/>\n    </defs>\n    <g clip-path=\"url(#p631d58c506)\">\n     <use style=\"fill:#1f77b4;\" x=\"220.728125\" xlink:href=\"#C3_0_3ef90f67fd\" y=\"133.805756\"/>\n    </g>\n    <g clip-path=\"url(#p631d58c506)\">\n     <use style=\"fill:#1f77b4;\" x=\"218.977884\" xlink:href=\"#C3_0_3ef90f67fd\" y=\"129.091792\"/>\n    </g>\n    <g clip-path=\"url(#p631d58c506)\">\n     <use style=\"fill:#1f77b4;\" x=\"224.227884\" xlink:href=\"#C3_0_3ef90f67fd\" y=\"129.091792\"/>\n    </g>\n    <g clip-path=\"url(#p631d58c506)\">\n     <use style=\"fill:#1f77b4;\" x=\"213.993873\" xlink:href=\"#C3_0_3ef90f67fd\" y=\"127.52047\"/>\n    </g>\n    <g clip-path=\"url(#p631d58c506)\">\n     <use style=\"fill:#1f77b4;\" x=\"229.211896\" xlink:href=\"#C3_0_3ef90f67fd\" y=\"127.52047\"/>\n    </g>\n    <g clip-path=\"url(#p631d58c506)\">\n     <use style=\"fill:#1f77b4;\" x=\"208.743873\" xlink:href=\"#C3_0_3ef90f67fd\" y=\"127.52047\"/>\n    </g>\n    <g clip-path=\"url(#p631d58c506)\">\n     <use style=\"fill:#1f77b4;\" x=\"234.461896\" xlink:href=\"#C3_0_3ef90f67fd\" y=\"127.52047\"/>\n    </g>\n    <g clip-path=\"url(#p631d58c506)\">\n     <use style=\"fill:#1f77b4;\" x=\"203.55909\" xlink:href=\"#C3_0_3ef90f67fd\" y=\"126.734809\"/>\n    </g>\n    <g clip-path=\"url(#p631d58c506)\">\n     <use style=\"fill:#1f77b4;\" x=\"239.091983\" xlink:href=\"#C3_0_3ef90f67fd\" y=\"125.163488\"/>\n    </g>\n    <g clip-path=\"url(#p631d58c506)\">\n     <use style=\"fill:#1f77b4;\" x=\"220.728125\" xlink:href=\"#C3_0_3ef90f67fd\" y=\"124.377827\"/>\n    </g>\n    <g clip-path=\"url(#p631d58c506)\">\n     <use style=\"fill:#1f77b4;\" x=\"198.929003\" xlink:href=\"#C3_0_3ef90f67fd\" y=\"124.377827\"/>\n    </g>\n    <g clip-path=\"url(#p631d58c506)\">\n     <use style=\"fill:#1f77b4;\" x=\"225.712137\" xlink:href=\"#C3_0_3ef90f67fd\" y=\"122.806506\"/>\n    </g>\n    <g clip-path=\"url(#p631d58c506)\">\n     <use style=\"fill:#1f77b4;\" x=\"215.744113\" xlink:href=\"#C3_0_3ef90f67fd\" y=\"122.806506\"/>\n    </g>\n    <g clip-path=\"url(#p631d58c506)\">\n     <use style=\"fill:#1f77b4;\" x=\"230.962137\" xlink:href=\"#C3_0_3ef90f67fd\" y=\"122.806506\"/>\n    </g>\n    <g clip-path=\"url(#p631d58c506)\">\n     <use style=\"fill:#1f77b4;\" x=\"210.494113\" xlink:href=\"#C3_0_3ef90f67fd\" y=\"122.806506\"/>\n    </g>\n    <g clip-path=\"url(#p631d58c506)\">\n     <use style=\"fill:#1f77b4;\" x=\"205.309331\" xlink:href=\"#C3_0_3ef90f67fd\" y=\"122.020845\"/>\n    </g>\n    <g clip-path=\"url(#p631d58c506)\">\n     <use style=\"fill:#1f77b4;\" x=\"235.844031\" xlink:href=\"#C3_0_3ef90f67fd\" y=\"121.235185\"/>\n    </g>\n    <g clip-path=\"url(#p631d58c506)\">\n     <use style=\"fill:#1f77b4;\" x=\"200.679244\" xlink:href=\"#C3_0_3ef90f67fd\" y=\"119.663863\"/>\n    </g>\n    <g clip-path=\"url(#p631d58c506)\">\n     <use style=\"fill:#1f77b4;\" x=\"240.828042\" xlink:href=\"#C3_0_3ef90f67fd\" y=\"119.663863\"/>\n    </g>\n    <g clip-path=\"url(#p631d58c506)\">\n     <use style=\"fill:#1f77b4;\" x=\"195.429244\" xlink:href=\"#C3_0_3ef90f67fd\" y=\"119.663863\"/>\n    </g>\n    <g clip-path=\"url(#p631d58c506)\">\n     <use style=\"fill:#1f77b4;\" x=\"246.078042\" xlink:href=\"#C3_0_3ef90f67fd\" y=\"119.663863\"/>\n    </g>\n    <g clip-path=\"url(#p631d58c506)\">\n     <use style=\"fill:#1f77b4;\" x=\"220.728125\" xlink:href=\"#C3_0_3ef90f67fd\" y=\"118.878203\"/>\n    </g>\n    <g clip-path=\"url(#p631d58c506)\">\n     <use style=\"fill:#1f77b4;\" x=\"190.244461\" xlink:href=\"#C3_0_3ef90f67fd\" y=\"118.878203\"/>\n    </g>\n    <g clip-path=\"url(#p631d58c506)\">\n     <use style=\"fill:#1f77b4;\" x=\"227.462377\" xlink:href=\"#C3_0_3ef90f67fd\" y=\"118.092542\"/>\n    </g>\n    <g clip-path=\"url(#p631d58c506)\">\n     <use style=\"fill:#1f77b4;\" x=\"213.993873\" xlink:href=\"#C3_0_3ef90f67fd\" y=\"118.092542\"/>\n    </g>\n    <g clip-path=\"url(#p631d58c506)\">\n     <use style=\"fill:#1f77b4;\" x=\"208.743873\" xlink:href=\"#C3_0_3ef90f67fd\" y=\"118.092542\"/>\n    </g>\n    <g clip-path=\"url(#p631d58c506)\">\n     <use style=\"fill:#1f77b4;\" x=\"251.062054\" xlink:href=\"#C3_0_3ef90f67fd\" y=\"118.092542\"/>\n    </g>\n    <g clip-path=\"url(#p631d58c506)\">\n     <use style=\"fill:#1f77b4;\" x=\"256.312054\" xlink:href=\"#C3_0_3ef90f67fd\" y=\"118.092542\"/>\n    </g>\n    <g clip-path=\"url(#p631d58c506)\">\n     <use style=\"fill:#1f77b4;\" x=\"232.446389\" xlink:href=\"#C3_0_3ef90f67fd\" y=\"116.52122\"/>\n    </g>\n    <g clip-path=\"url(#p631d58c506)\">\n     <use style=\"fill:#1f77b4;\" x=\"185.614374\" xlink:href=\"#C3_0_3ef90f67fd\" y=\"116.52122\"/>\n    </g>\n    <g clip-path=\"url(#p631d58c506)\">\n     <use style=\"fill:#1f77b4;\" x=\"180.364374\" xlink:href=\"#C3_0_3ef90f67fd\" y=\"116.52122\"/>\n    </g>\n    <g clip-path=\"url(#p631d58c506)\">\n     <use style=\"fill:#1f77b4;\" x=\"261.296066\" xlink:href=\"#C3_0_3ef90f67fd\" y=\"116.52122\"/>\n    </g>\n    <g clip-path=\"url(#p631d58c506)\">\n     <use style=\"fill:#1f77b4;\" x=\"175.114374\" xlink:href=\"#C3_0_3ef90f67fd\" y=\"116.52122\"/>\n    </g>\n    <g clip-path=\"url(#p631d58c506)\">\n     <use style=\"fill:#1f77b4;\" x=\"204.113785\" xlink:href=\"#C3_0_3ef90f67fd\" y=\"115.73556\"/>\n    </g>\n    <g clip-path=\"url(#p631d58c506)\">\n     <use style=\"fill:#1f77b4;\" x=\"237.4304\" xlink:href=\"#C3_0_3ef90f67fd\" y=\"114.949899\"/>\n    </g>\n    <g clip-path=\"url(#p631d58c506)\">\n     <use style=\"fill:#1f77b4;\" x=\"198.929003\" xlink:href=\"#C3_0_3ef90f67fd\" y=\"114.949899\"/>\n    </g>\n    <g clip-path=\"url(#p631d58c506)\">\n     <use style=\"fill:#1f77b4;\" x=\"242.578283\" xlink:href=\"#C3_0_3ef90f67fd\" y=\"114.949899\"/>\n    </g>\n    <g clip-path=\"url(#p631d58c506)\">\n     <use style=\"fill:#1f77b4;\" x=\"193.679003\" xlink:href=\"#C3_0_3ef90f67fd\" y=\"114.949899\"/>\n    </g>\n    <g clip-path=\"url(#p631d58c506)\">\n     <use style=\"fill:#1f77b4;\" x=\"266.280077\" xlink:href=\"#C3_0_3ef90f67fd\" y=\"114.949899\"/>\n    </g>\n    <g clip-path=\"url(#p631d58c506)\">\n     <use style=\"fill:#1f77b4;\" x=\"170.130362\" xlink:href=\"#C3_0_3ef90f67fd\" y=\"114.949899\"/>\n    </g>\n    <g clip-path=\"url(#p631d58c506)\">\n     <use style=\"fill:#1f77b4;\" x=\"218.977884\" xlink:href=\"#C3_0_3ef90f67fd\" y=\"114.164238\"/>\n    </g>\n    <g clip-path=\"url(#p631d58c506)\">\n     <use style=\"fill:#1f77b4;\" x=\"224.214425\" xlink:href=\"#C3_0_3ef90f67fd\" y=\"114.164238\"/>\n    </g>\n    <g clip-path=\"url(#p631d58c506)\">\n     <use style=\"fill:#1f77b4;\" x=\"247.763065\" xlink:href=\"#C3_0_3ef90f67fd\" y=\"114.164238\"/>\n    </g>\n    <g clip-path=\"url(#p631d58c506)\">\n     <use style=\"fill:#1f77b4;\" x=\"271.464859\" xlink:href=\"#C3_0_3ef90f67fd\" y=\"114.164238\"/>\n    </g>\n    <g clip-path=\"url(#p631d58c506)\">\n     <use style=\"fill:#1f77b4;\" x=\"164.94558\" xlink:href=\"#C3_0_3ef90f67fd\" y=\"114.164238\"/>\n    </g>\n    <g clip-path=\"url(#p631d58c506)\">\n     <use style=\"fill:#1f77b4;\" x=\"212.243632\" xlink:href=\"#C3_0_3ef90f67fd\" y=\"113.378578\"/>\n    </g>\n    <g clip-path=\"url(#p631d58c506)\">\n     <use style=\"fill:#1f77b4;\" x=\"252.812295\" xlink:href=\"#C3_0_3ef90f67fd\" y=\"113.378578\"/>\n    </g>\n    <g clip-path=\"url(#p631d58c506)\">\n     <use style=\"fill:#1f77b4;\" x=\"276.649642\" xlink:href=\"#C3_0_3ef90f67fd\" y=\"113.378578\"/>\n    </g>\n    <g clip-path=\"url(#p631d58c506)\">\n     <use style=\"fill:#1f77b4;\" x=\"159.760797\" xlink:href=\"#C3_0_3ef90f67fd\" y=\"113.378578\"/>\n    </g>\n    <g clip-path=\"url(#p631d58c506)\">\n     <use style=\"fill:#1f77b4;\" x=\"281.899642\" xlink:href=\"#C3_0_3ef90f67fd\" y=\"113.378578\"/>\n    </g>\n    <g clip-path=\"url(#p631d58c506)\">\n     <use style=\"fill:#1f77b4;\" x=\"228.844512\" xlink:href=\"#C3_0_3ef90f67fd\" y=\"111.807256\"/>\n    </g>\n    <g clip-path=\"url(#p631d58c506)\">\n     <use style=\"fill:#1f77b4;\" x=\"207.361738\" xlink:href=\"#C3_0_3ef90f67fd\" y=\"111.807256\"/>\n    </g>\n    <g clip-path=\"url(#p631d58c506)\">\n     <use style=\"fill:#1f77b4;\" x=\"189.595624\" xlink:href=\"#C3_0_3ef90f67fd\" y=\"111.807256\"/>\n    </g>\n    <g clip-path=\"url(#p631d58c506)\">\n     <use style=\"fill:#1f77b4;\" x=\"183.864133\" xlink:href=\"#C3_0_3ef90f67fd\" y=\"111.807256\"/>\n    </g>\n    <g clip-path=\"url(#p631d58c506)\">\n     <use style=\"fill:#1f77b4;\" x=\"257.796306\" xlink:href=\"#C3_0_3ef90f67fd\" y=\"111.807256\"/>\n    </g>\n    <g clip-path=\"url(#p631d58c506)\">\n     <use style=\"fill:#1f77b4;\" x=\"178.614133\" xlink:href=\"#C3_0_3ef90f67fd\" y=\"111.807256\"/>\n    </g>\n    <g clip-path=\"url(#p631d58c506)\">\n     <use style=\"fill:#1f77b4;\" x=\"154.776786\" xlink:href=\"#C3_0_3ef90f67fd\" y=\"111.807256\"/>\n    </g>\n    <g clip-path=\"url(#p631d58c506)\">\n     <use style=\"fill:#1f77b4;\" x=\"286.883653\" xlink:href=\"#C3_0_3ef90f67fd\" y=\"111.807256\"/>\n    </g>\n    <g clip-path=\"url(#p631d58c506)\">\n     <use style=\"fill:#1f77b4;\" x=\"234.029295\" xlink:href=\"#C3_0_3ef90f67fd\" y=\"111.021596\"/>\n    </g>\n    <g clip-path=\"url(#p631d58c506)\">\n     <use style=\"fill:#1f77b4;\" x=\"202.363545\" xlink:href=\"#C3_0_3ef90f67fd\" y=\"111.021596\"/>\n    </g>\n    <g clip-path=\"url(#p631d58c506)\">\n     <use style=\"fill:#1f77b4;\" x=\"239.180641\" xlink:href=\"#C3_0_3ef90f67fd\" y=\"110.235935\"/>\n    </g>\n    <g clip-path=\"url(#p631d58c506)\">\n     <use style=\"fill:#1f77b4;\" x=\"197.178762\" xlink:href=\"#C3_0_3ef90f67fd\" y=\"110.235935\"/>\n    </g>\n    <g clip-path=\"url(#p631d58c506)\">\n     <use style=\"fill:#1f77b4;\" x=\"244.328524\" xlink:href=\"#C3_0_3ef90f67fd\" y=\"110.235935\"/>\n    </g>\n    <g clip-path=\"url(#p631d58c506)\">\n     <use style=\"fill:#1f77b4;\" x=\"262.780318\" xlink:href=\"#C3_0_3ef90f67fd\" y=\"110.235935\"/>\n    </g>\n    <g clip-path=\"url(#p631d58c506)\">\n     <use style=\"fill:#1f77b4;\" x=\"173.630121\" xlink:href=\"#C3_0_3ef90f67fd\" y=\"110.235935\"/>\n    </g>\n    <g clip-path=\"url(#p631d58c506)\">\n     <use style=\"fill:#1f77b4;\" x=\"268.030318\" xlink:href=\"#C3_0_3ef90f67fd\" y=\"110.235935\"/>\n    </g>\n    <g clip-path=\"url(#p631d58c506)\">\n     <use style=\"fill:#1f77b4;\" x=\"168.380121\" xlink:href=\"#C3_0_3ef90f67fd\" y=\"110.235935\"/>\n    </g>\n    <g clip-path=\"url(#p631d58c506)\">\n     <use style=\"fill:#1f77b4;\" x=\"149.792774\" xlink:href=\"#C3_0_3ef90f67fd\" y=\"110.235935\"/>\n    </g>\n    <g clip-path=\"url(#p631d58c506)\">\n     <use style=\"fill:#1f77b4;\" x=\"220.728125\" xlink:href=\"#C3_0_3ef90f67fd\" y=\"109.450274\"/>\n    </g>\n    <g clip-path=\"url(#p631d58c506)\">\n     <use style=\"fill:#1f77b4;\" x=\"215.491585\" xlink:href=\"#C3_0_3ef90f67fd\" y=\"109.450274\"/>\n    </g>\n    <g clip-path=\"url(#p631d58c506)\">\n     <use style=\"fill:#1f77b4;\" x=\"249.513306\" xlink:href=\"#C3_0_3ef90f67fd\" y=\"109.450274\"/>\n    </g>\n    <g clip-path=\"url(#p631d58c506)\">\n     <use style=\"fill:#1f77b4;\" x=\"273.014329\" xlink:href=\"#C3_0_3ef90f67fd\" y=\"108.664614\"/>\n    </g>\n    <g clip-path=\"url(#p631d58c506)\">\n     <use style=\"fill:#1f77b4;\" x=\"163.39611\" xlink:href=\"#C3_0_3ef90f67fd\" y=\"108.664614\"/>\n    </g>\n    <g clip-path=\"url(#p631d58c506)\">\n     <use style=\"fill:#1f77b4;\" x=\"278.399882\" xlink:href=\"#C3_0_3ef90f67fd\" y=\"108.664614\"/>\n    </g>\n    <g clip-path=\"url(#p631d58c506)\">\n     <use style=\"fill:#1f77b4;\" x=\"290.967033\" xlink:href=\"#C3_0_3ef90f67fd\" y=\"108.664614\"/>\n    </g>\n    <g clip-path=\"url(#p631d58c506)\">\n     <use style=\"fill:#1f77b4;\" x=\"296.217033\" xlink:href=\"#C3_0_3ef90f67fd\" y=\"108.664614\"/>\n    </g>\n    <g clip-path=\"url(#p631d58c506)\">\n     <use style=\"fill:#1f77b4;\" x=\"144.808763\" xlink:href=\"#C3_0_3ef90f67fd\" y=\"108.664614\"/>\n    </g>\n    <g clip-path=\"url(#p631d58c506)\">\n     <use style=\"fill:#1f77b4;\" x=\"301.467033\" xlink:href=\"#C3_0_3ef90f67fd\" y=\"108.664614\"/>\n    </g>\n    <g clip-path=\"url(#p631d58c506)\">\n     <use style=\"fill:#1f77b4;\" x=\"225.59656\" xlink:href=\"#C3_0_3ef90f67fd\" y=\"107.878953\"/>\n    </g>\n    <g clip-path=\"url(#p631d58c506)\">\n     <use style=\"fill:#1f77b4;\" x=\"210.60969\" xlink:href=\"#C3_0_3ef90f67fd\" y=\"107.878953\"/>\n    </g>\n    <g clip-path=\"url(#p631d58c506)\">\n     <use style=\"fill:#1f77b4;\" x=\"230.594753\" xlink:href=\"#C3_0_3ef90f67fd\" y=\"107.093292\"/>\n    </g>\n    <g clip-path=\"url(#p631d58c506)\">\n     <use style=\"fill:#1f77b4;\" x=\"205.611497\" xlink:href=\"#C3_0_3ef90f67fd\" y=\"107.093292\"/>\n    </g>\n    <g clip-path=\"url(#p631d58c506)\">\n     <use style=\"fill:#1f77b4;\" x=\"193.095383\" xlink:href=\"#C3_0_3ef90f67fd\" y=\"107.093292\"/>\n    </g>\n    <g clip-path=\"url(#p631d58c506)\">\n     <use style=\"fill:#1f77b4;\" x=\"187.845383\" xlink:href=\"#C3_0_3ef90f67fd\" y=\"107.093292\"/>\n    </g>\n    <g clip-path=\"url(#p631d58c506)\">\n     <use style=\"fill:#1f77b4;\" x=\"254.143394\" xlink:href=\"#C3_0_3ef90f67fd\" y=\"107.093292\"/>\n    </g>\n    <g clip-path=\"url(#p631d58c506)\">\n     <use style=\"fill:#1f77b4;\" x=\"182.113892\" xlink:href=\"#C3_0_3ef90f67fd\" y=\"107.093292\"/>\n    </g>\n    <g clip-path=\"url(#p631d58c506)\">\n     <use style=\"fill:#1f77b4;\" x=\"158.412098\" xlink:href=\"#C3_0_3ef90f67fd\" y=\"107.093292\"/>\n    </g>\n    <g clip-path=\"url(#p631d58c506)\">\n     <use style=\"fill:#1f77b4;\" x=\"283.383894\" xlink:href=\"#C3_0_3ef90f67fd\" y=\"107.093292\"/>\n    </g>\n    <g clip-path=\"url(#p631d58c506)\">\n     <use style=\"fill:#1f77b4;\" x=\"139.824751\" xlink:href=\"#C3_0_3ef90f67fd\" y=\"107.093292\"/>\n    </g>\n    <g clip-path=\"url(#p631d58c506)\">\n     <use style=\"fill:#1f77b4;\" x=\"235.779535\" xlink:href=\"#C3_0_3ef90f67fd\" y=\"106.307631\"/>\n    </g>\n    <g clip-path=\"url(#p631d58c506)\">\n     <use style=\"fill:#1f77b4;\" x=\"200.627486\" xlink:href=\"#C3_0_3ef90f67fd\" y=\"105.521971\"/>\n    </g>\n    <g clip-path=\"url(#p631d58c506)\">\n     <use style=\"fill:#1f77b4;\" x=\"240.930882\" xlink:href=\"#C3_0_3ef90f67fd\" y=\"105.521971\"/>\n    </g>\n    <g clip-path=\"url(#p631d58c506)\">\n     <use style=\"fill:#1f77b4;\" x=\"246.078764\" xlink:href=\"#C3_0_3ef90f67fd\" y=\"105.521971\"/>\n    </g>\n    <g clip-path=\"url(#p631d58c506)\">\n     <use style=\"fill:#1f77b4;\" x=\"259.127405\" xlink:href=\"#C3_0_3ef90f67fd\" y=\"105.521971\"/>\n    </g>\n    <g clip-path=\"url(#p631d58c506)\">\n     <use style=\"fill:#1f77b4;\" x=\"177.129881\" xlink:href=\"#C3_0_3ef90f67fd\" y=\"105.521971\"/>\n    </g>\n    <g clip-path=\"url(#p631d58c506)\">\n     <use style=\"fill:#1f77b4;\" x=\"264.530558\" xlink:href=\"#C3_0_3ef90f67fd\" y=\"105.521971\"/>\n    </g>\n    <g clip-path=\"url(#p631d58c506)\">\n     <use style=\"fill:#1f77b4;\" x=\"171.879881\" xlink:href=\"#C3_0_3ef90f67fd\" y=\"105.521971\"/>\n    </g>\n    <g clip-path=\"url(#p631d58c506)\">\n     <use style=\"fill:#1f77b4;\" x=\"218.977884\" xlink:href=\"#C3_0_3ef90f67fd\" y=\"104.73631\"/>\n    </g>\n    <g clip-path=\"url(#p631d58c506)\">\n     <use style=\"fill:#1f77b4;\" x=\"213.857643\" xlink:href=\"#C3_0_3ef90f67fd\" y=\"103.950649\"/>\n    </g>\n    <g clip-path=\"url(#p631d58c506)\">\n     <use style=\"fill:#1f77b4;\" x=\"269.51457\" xlink:href=\"#C3_0_3ef90f67fd\" y=\"103.950649\"/>\n    </g>\n    <g clip-path=\"url(#p631d58c506)\">\n     <use style=\"fill:#1f77b4;\" x=\"166.895869\" xlink:href=\"#C3_0_3ef90f67fd\" y=\"103.950649\"/>\n    </g>\n    <g clip-path=\"url(#p631d58c506)\">\n     <use style=\"fill:#1f77b4;\" x=\"274.76457\" xlink:href=\"#C3_0_3ef90f67fd\" y=\"103.950649\"/>\n    </g>\n    <g clip-path=\"url(#p631d58c506)\">\n     <use style=\"fill:#1f77b4;\" x=\"154.328719\" xlink:href=\"#C3_0_3ef90f67fd\" y=\"103.950649\"/>\n    </g>\n    <g clip-path=\"url(#p631d58c506)\">\n     <use style=\"fill:#1f77b4;\" x=\"287.467273\" xlink:href=\"#C3_0_3ef90f67fd\" y=\"103.950649\"/>\n    </g>\n    <g clip-path=\"url(#p631d58c506)\">\n     <use style=\"fill:#1f77b4;\" x=\"223.846319\" xlink:href=\"#C3_0_3ef90f67fd\" y=\"103.164989\"/>\n    </g>\n    <g clip-path=\"url(#p631d58c506)\">\n     <use style=\"fill:#1f77b4;\" x=\"208.85945\" xlink:href=\"#C3_0_3ef90f67fd\" y=\"103.164989\"/>\n    </g>\n    <g clip-path=\"url(#p631d58c506)\">\n     <use style=\"fill:#1f77b4;\" x=\"228.844512\" xlink:href=\"#C3_0_3ef90f67fd\" y=\"102.379328\"/>\n    </g>\n    <g clip-path=\"url(#p631d58c506)\">\n     <use style=\"fill:#1f77b4;\" x=\"196.544106\" xlink:href=\"#C3_0_3ef90f67fd\" y=\"102.379328\"/>\n    </g>\n    <g clip-path=\"url(#p631d58c506)\">\n     <use style=\"fill:#1f77b4;\" x=\"191.345142\" xlink:href=\"#C3_0_3ef90f67fd\" y=\"102.379328\"/>\n    </g>\n    <g clip-path=\"url(#p631d58c506)\">\n     <use style=\"fill:#1f77b4;\" x=\"250.162144\" xlink:href=\"#C3_0_3ef90f67fd\" y=\"102.379328\"/>\n    </g>\n    <g clip-path=\"url(#p631d58c506)\">\n     <use style=\"fill:#1f77b4;\" x=\"186.095142\" xlink:href=\"#C3_0_3ef90f67fd\" y=\"102.379328\"/>\n    </g>\n    <g clip-path=\"url(#p631d58c506)\">\n     <use style=\"fill:#1f77b4;\" x=\"161.911858\" xlink:href=\"#C3_0_3ef90f67fd\" y=\"102.379328\"/>\n    </g>\n    <g clip-path=\"url(#p631d58c506)\">\n     <use style=\"fill:#1f77b4;\" x=\"279.748582\" xlink:href=\"#C3_0_3ef90f67fd\" y=\"102.379328\"/>\n    </g>\n    <g clip-path=\"url(#p631d58c506)\">\n     <use style=\"fill:#1f77b4;\" x=\"149.344708\" xlink:href=\"#C3_0_3ef90f67fd\" y=\"102.379328\"/>\n    </g>\n    <g clip-path=\"url(#p631d58c506)\">\n     <use style=\"fill:#1f77b4;\" x=\"292.451285\" xlink:href=\"#C3_0_3ef90f67fd\" y=\"102.379328\"/>\n    </g>\n    <g clip-path=\"url(#p631d58c506)\">\n     <use style=\"fill:#1f77b4;\" x=\"144.094708\" xlink:href=\"#C3_0_3ef90f67fd\" y=\"102.379328\"/>\n    </g>\n    <g clip-path=\"url(#p631d58c506)\">\n     <use style=\"fill:#1f77b4;\" x=\"297.701285\" xlink:href=\"#C3_0_3ef90f67fd\" y=\"102.379328\"/>\n    </g>\n    <g clip-path=\"url(#p631d58c506)\">\n     <use style=\"fill:#1f77b4;\" x=\"234.029295\" xlink:href=\"#C3_0_3ef90f67fd\" y=\"101.593667\"/>\n    </g>\n    <g clip-path=\"url(#p631d58c506)\">\n     <use style=\"fill:#1f77b4;\" x=\"203.875438\" xlink:href=\"#C3_0_3ef90f67fd\" y=\"101.593667\"/>\n    </g>\n    <g clip-path=\"url(#p631d58c506)\">\n     <use style=\"fill:#1f77b4;\" x=\"255.346926\" xlink:href=\"#C3_0_3ef90f67fd\" y=\"101.593667\"/>\n    </g>\n    <g clip-path=\"url(#p631d58c506)\">\n     <use style=\"fill:#1f77b4;\" x=\"239.180641\" xlink:href=\"#C3_0_3ef90f67fd\" y=\"100.808007\"/>\n    </g>\n    <g clip-path=\"url(#p631d58c506)\">\n     <use style=\"fill:#1f77b4;\" x=\"244.328524\" xlink:href=\"#C3_0_3ef90f67fd\" y=\"100.808007\"/>\n    </g>\n    <g clip-path=\"url(#p631d58c506)\">\n     <use style=\"fill:#1f77b4;\" x=\"181.111131\" xlink:href=\"#C3_0_3ef90f67fd\" y=\"100.808007\"/>\n    </g>\n    <g clip-path=\"url(#p631d58c506)\">\n     <use style=\"fill:#1f77b4;\" x=\"260.877646\" xlink:href=\"#C3_0_3ef90f67fd\" y=\"100.808007\"/>\n    </g>\n    <g clip-path=\"url(#p631d58c506)\">\n     <use style=\"fill:#1f77b4;\" x=\"175.37964\" xlink:href=\"#C3_0_3ef90f67fd\" y=\"100.808007\"/>\n    </g>\n    <g clip-path=\"url(#p631d58c506)\">\n     <use style=\"fill:#1f77b4;\" x=\"217.227644\" xlink:href=\"#C3_0_3ef90f67fd\" y=\"100.022346\"/>\n    </g>\n    <g clip-path=\"url(#p631d58c506)\">\n     <use style=\"fill:#1f77b4;\" x=\"266.062428\" xlink:href=\"#C3_0_3ef90f67fd\" y=\"100.022346\"/>\n    </g>\n    <g clip-path=\"url(#p631d58c506)\">\n     <use style=\"fill:#1f77b4;\" x=\"170.194858\" xlink:href=\"#C3_0_3ef90f67fd\" y=\"100.022346\"/>\n    </g>\n    <g clip-path=\"url(#p631d58c506)\">\n     <use style=\"fill:#1f77b4;\" x=\"284.219321\" xlink:href=\"#C3_0_3ef90f67fd\" y=\"100.022346\"/>\n    </g>\n    <g clip-path=\"url(#p631d58c506)\">\n     <use style=\"fill:#1f77b4;\" x=\"212.107402\" xlink:href=\"#C3_0_3ef90f67fd\" y=\"99.236685\"/>\n    </g>\n    <g clip-path=\"url(#p631d58c506)\">\n     <use style=\"fill:#1f77b4;\" x=\"271.247211\" xlink:href=\"#C3_0_3ef90f67fd\" y=\"99.236685\"/>\n    </g>\n    <g clip-path=\"url(#p631d58c506)\">\n     <use style=\"fill:#1f77b4;\" x=\"157.828478\" xlink:href=\"#C3_0_3ef90f67fd\" y=\"99.236685\"/>\n    </g>\n    <g clip-path=\"url(#p631d58c506)\">\n     <use style=\"fill:#1f77b4;\" x=\"140.011328\" xlink:href=\"#C3_0_3ef90f67fd\" y=\"99.236685\"/>\n    </g>\n    <g clip-path=\"url(#p631d58c506)\">\n     <use style=\"fill:#1f77b4;\" x=\"301.784664\" xlink:href=\"#C3_0_3ef90f67fd\" y=\"99.236685\"/>\n    </g>\n    <g clip-path=\"url(#p631d58c506)\">\n     <use style=\"fill:#1f77b4;\" x=\"134.761328\" xlink:href=\"#C3_0_3ef90f67fd\" y=\"99.236685\"/>\n    </g>\n    <g clip-path=\"url(#p631d58c506)\">\n     <use style=\"fill:#1f77b4;\" x=\"307.034664\" xlink:href=\"#C3_0_3ef90f67fd\" y=\"99.236685\"/>\n    </g>\n    <g clip-path=\"url(#p631d58c506)\">\n     <use style=\"fill:#1f77b4;\" x=\"129.511328\" xlink:href=\"#C3_0_3ef90f67fd\" y=\"99.236685\"/>\n    </g>\n    <g clip-path=\"url(#p631d58c506)\">\n     <use style=\"fill:#1f77b4;\" x=\"312.284664\" xlink:href=\"#C3_0_3ef90f67fd\" y=\"99.236685\"/>\n    </g>\n    <g clip-path=\"url(#p631d58c506)\">\n     <use style=\"fill:#1f77b4;\" x=\"124.261328\" xlink:href=\"#C3_0_3ef90f67fd\" y=\"99.236685\"/>\n    </g>\n    <g clip-path=\"url(#p631d58c506)\">\n     <use style=\"fill:#1f77b4;\" x=\"317.534664\" xlink:href=\"#C3_0_3ef90f67fd\" y=\"99.236685\"/>\n    </g>\n    <g clip-path=\"url(#p631d58c506)\">\n     <use style=\"fill:#1f77b4;\" x=\"119.011328\" xlink:href=\"#C3_0_3ef90f67fd\" y=\"99.236685\"/>\n    </g>\n    <g clip-path=\"url(#p631d58c506)\">\n     <use style=\"fill:#1f77b4;\" x=\"222.096078\" xlink:href=\"#C3_0_3ef90f67fd\" y=\"98.451024\"/>\n    </g>\n    <g clip-path=\"url(#p631d58c506)\">\n     <use style=\"fill:#1f77b4;\" x=\"227.094272\" xlink:href=\"#C3_0_3ef90f67fd\" y=\"97.665364\"/>\n    </g>\n    <g clip-path=\"url(#p631d58c506)\">\n     <use style=\"fill:#1f77b4;\" x=\"232.279054\" xlink:href=\"#C3_0_3ef90f67fd\" y=\"96.879703\"/>\n    </g>\n    <g clip-path=\"url(#p631d58c506)\">\n     <use style=\"fill:#1f77b4;\" x=\"208.024023\" xlink:href=\"#C3_0_3ef90f67fd\" y=\"96.094042\"/>\n    </g>\n    <g clip-path=\"url(#p631d58c506)\">\n     <use style=\"fill:#1f77b4;\" x=\"237.4304\" xlink:href=\"#C3_0_3ef90f67fd\" y=\"96.094042\"/>\n    </g>\n    <g clip-path=\"url(#p631d58c506)\">\n     <use style=\"fill:#1f77b4;\" x=\"202.774023\" xlink:href=\"#C3_0_3ef90f67fd\" y=\"96.094042\"/>\n    </g>\n    <g clip-path=\"url(#p631d58c506)\">\n     <use style=\"fill:#1f77b4;\" x=\"242.578283\" xlink:href=\"#C3_0_3ef90f67fd\" y=\"96.094042\"/>\n    </g>\n    <g clip-path=\"url(#p631d58c506)\">\n     <use style=\"fill:#1f77b4;\" x=\"197.524023\" xlink:href=\"#C3_0_3ef90f67fd\" y=\"96.094042\"/>\n    </g>\n    <g clip-path=\"url(#p631d58c506)\">\n     <use style=\"fill:#1f77b4;\" x=\"247.828283\" xlink:href=\"#C3_0_3ef90f67fd\" y=\"96.094042\"/>\n    </g>\n    <g clip-path=\"url(#p631d58c506)\">\n     <use style=\"fill:#1f77b4;\" x=\"192.274023\" xlink:href=\"#C3_0_3ef90f67fd\" y=\"96.094042\"/>\n    </g>\n    <g clip-path=\"url(#p631d58c506)\">\n     <use style=\"fill:#1f77b4;\" x=\"253.078283\" xlink:href=\"#C3_0_3ef90f67fd\" y=\"96.094042\"/>\n    </g>\n    <g clip-path=\"url(#p631d58c506)\">\n     <use style=\"fill:#1f77b4;\" x=\"187.024023\" xlink:href=\"#C3_0_3ef90f67fd\" y=\"96.094042\"/>\n    </g>\n    <g clip-path=\"url(#p631d58c506)\">\n     <use style=\"fill:#1f77b4;\" x=\"258.328283\" xlink:href=\"#C3_0_3ef90f67fd\" y=\"96.094042\"/>\n    </g>\n    <g clip-path=\"url(#p631d58c506)\">\n     <use style=\"fill:#1f77b4;\" x=\"218.848126\" xlink:href=\"#C3_0_3ef90f67fd\" y=\"94.522721\"/>\n    </g>\n    <g clip-path=\"url(#p631d58c506)\">\n     <use style=\"fill:#1f77b4;\" x=\"182.040012\" xlink:href=\"#C3_0_3ef90f67fd\" y=\"94.522721\"/>\n    </g>\n    <g clip-path=\"url(#p631d58c506)\">\n     <use style=\"fill:#1f77b4;\" x=\"263.312295\" xlink:href=\"#C3_0_3ef90f67fd\" y=\"94.522721\"/>\n    </g>\n    <g clip-path=\"url(#p631d58c506)\">\n     <use style=\"fill:#1f77b4;\" x=\"176.790012\" xlink:href=\"#C3_0_3ef90f67fd\" y=\"94.522721\"/>\n    </g>\n    <g clip-path=\"url(#p631d58c506)\">\n     <use style=\"fill:#1f77b4;\" x=\"268.562295\" xlink:href=\"#C3_0_3ef90f67fd\" y=\"94.522721\"/>\n    </g>\n    <g clip-path=\"url(#p631d58c506)\">\n     <use style=\"fill:#1f77b4;\" x=\"171.540012\" xlink:href=\"#C3_0_3ef90f67fd\" y=\"94.522721\"/>\n    </g>\n    <g clip-path=\"url(#p631d58c506)\">\n     <use style=\"fill:#1f77b4;\" x=\"273.812295\" xlink:href=\"#C3_0_3ef90f67fd\" y=\"94.522721\"/>\n    </g>\n    <g clip-path=\"url(#p631d58c506)\">\n     <use style=\"fill:#1f77b4;\" x=\"166.290012\" xlink:href=\"#C3_0_3ef90f67fd\" y=\"94.522721\"/>\n    </g>\n    <g clip-path=\"url(#p631d58c506)\">\n     <use style=\"fill:#1f77b4;\" x=\"279.062295\" xlink:href=\"#C3_0_3ef90f67fd\" y=\"94.522721\"/>\n    </g>\n    <g clip-path=\"url(#p631d58c506)\">\n     <use style=\"fill:#1f77b4;\" x=\"161.040012\" xlink:href=\"#C3_0_3ef90f67fd\" y=\"94.522721\"/>\n    </g>\n    <g clip-path=\"url(#p631d58c506)\">\n     <use style=\"fill:#1f77b4;\" x=\"223.846319\" xlink:href=\"#C3_0_3ef90f67fd\" y=\"93.73706\"/>\n    </g>\n    <g clip-path=\"url(#p631d58c506)\">\n     <use style=\"fill:#1f77b4;\" x=\"213.864114\" xlink:href=\"#C3_0_3ef90f67fd\" y=\"92.9514\"/>\n    </g>\n    <g clip-path=\"url(#p631d58c506)\">\n     <use style=\"fill:#1f77b4;\" x=\"228.844512\" xlink:href=\"#C3_0_3ef90f67fd\" y=\"92.9514\"/>\n    </g>\n    <g clip-path=\"url(#p631d58c506)\">\n     <use style=\"fill:#1f77b4;\" x=\"284.046306\" xlink:href=\"#C3_0_3ef90f67fd\" y=\"92.9514\"/>\n    </g>\n    <g clip-path=\"url(#p631d58c506)\">\n     <use style=\"fill:#1f77b4;\" x=\"156.056\" xlink:href=\"#C3_0_3ef90f67fd\" y=\"92.9514\"/>\n    </g>\n    <g clip-path=\"url(#p631d58c506)\">\n     <use style=\"fill:#1f77b4;\" x=\"289.296306\" xlink:href=\"#C3_0_3ef90f67fd\" y=\"92.9514\"/>\n    </g>\n    <g clip-path=\"url(#p631d58c506)\">\n     <use style=\"fill:#1f77b4;\" x=\"233.828524\" xlink:href=\"#C3_0_3ef90f67fd\" y=\"91.380078\"/>\n    </g>\n    <g clip-path=\"url(#p631d58c506)\">\n     <use style=\"fill:#1f77b4;\" x=\"206.273783\" xlink:href=\"#C3_0_3ef90f67fd\" y=\"91.380078\"/>\n    </g>\n    <g clip-path=\"url(#p631d58c506)\">\n     <use style=\"fill:#1f77b4;\" x=\"239.180641\" xlink:href=\"#C3_0_3ef90f67fd\" y=\"91.380078\"/>\n    </g>\n    <g clip-path=\"url(#p631d58c506)\">\n     <use style=\"fill:#1f77b4;\" x=\"201.023783\" xlink:href=\"#C3_0_3ef90f67fd\" y=\"91.380078\"/>\n    </g>\n    <g clip-path=\"url(#p631d58c506)\">\n     <use style=\"fill:#1f77b4;\" x=\"244.328524\" xlink:href=\"#C3_0_3ef90f67fd\" y=\"91.380078\"/>\n    </g>\n    <g clip-path=\"url(#p631d58c506)\">\n     <use style=\"fill:#1f77b4;\" x=\"195.773783\" xlink:href=\"#C3_0_3ef90f67fd\" y=\"91.380078\"/>\n    </g>\n    <g clip-path=\"url(#p631d58c506)\">\n     <use style=\"fill:#1f77b4;\" x=\"249.513306\" xlink:href=\"#C3_0_3ef90f67fd\" y=\"90.594418\"/>\n    </g>\n    <g clip-path=\"url(#p631d58c506)\">\n     <use style=\"fill:#1f77b4;\" x=\"220.728125\" xlink:href=\"#C3_0_3ef90f67fd\" y=\"89.808757\"/>\n    </g>\n    <g clip-path=\"url(#p631d58c506)\">\n     <use style=\"fill:#1f77b4;\" x=\"190.789771\" xlink:href=\"#C3_0_3ef90f67fd\" y=\"89.808757\"/>\n    </g>\n    <g clip-path=\"url(#p631d58c506)\">\n     <use style=\"fill:#1f77b4;\" x=\"254.698088\" xlink:href=\"#C3_0_3ef90f67fd\" y=\"89.808757\"/>\n    </g>\n    <g clip-path=\"url(#p631d58c506)\">\n     <use style=\"fill:#1f77b4;\" x=\"185.539771\" xlink:href=\"#C3_0_3ef90f67fd\" y=\"89.808757\"/>\n    </g>\n    <g clip-path=\"url(#p631d58c506)\">\n     <use style=\"fill:#1f77b4;\" x=\"259.948088\" xlink:href=\"#C3_0_3ef90f67fd\" y=\"89.808757\"/>\n    </g>\n    <g clip-path=\"url(#p631d58c506)\">\n     <use style=\"fill:#1f77b4;\" x=\"225.712137\" xlink:href=\"#C3_0_3ef90f67fd\" y=\"88.237435\"/>\n    </g>\n    <g clip-path=\"url(#p631d58c506)\">\n     <use style=\"fill:#1f77b4;\" x=\"215.744113\" xlink:href=\"#C3_0_3ef90f67fd\" y=\"88.237435\"/>\n    </g>\n    <g clip-path=\"url(#p631d58c506)\">\n     <use style=\"fill:#1f77b4;\" x=\"210.494113\" xlink:href=\"#C3_0_3ef90f67fd\" y=\"88.237435\"/>\n    </g>\n    <g clip-path=\"url(#p631d58c506)\">\n     <use style=\"fill:#1f77b4;\" x=\"180.555759\" xlink:href=\"#C3_0_3ef90f67fd\" y=\"88.237435\"/>\n    </g>\n    <g clip-path=\"url(#p631d58c506)\">\n     <use style=\"fill:#1f77b4;\" x=\"264.9321\" xlink:href=\"#C3_0_3ef90f67fd\" y=\"88.237435\"/>\n    </g>\n    <g clip-path=\"url(#p631d58c506)\">\n     <use style=\"fill:#1f77b4;\" x=\"175.305759\" xlink:href=\"#C3_0_3ef90f67fd\" y=\"88.237435\"/>\n    </g>\n    <g clip-path=\"url(#p631d58c506)\">\n     <use style=\"fill:#1f77b4;\" x=\"230.696148\" xlink:href=\"#C3_0_3ef90f67fd\" y=\"86.666114\"/>\n    </g>\n    <g clip-path=\"url(#p631d58c506)\">\n     <use style=\"fill:#1f77b4;\" x=\"235.946148\" xlink:href=\"#C3_0_3ef90f67fd\" y=\"86.666114\"/>\n    </g>\n    <g clip-path=\"url(#p631d58c506)\">\n     <use style=\"fill:#1f77b4;\" x=\"204.523542\" xlink:href=\"#C3_0_3ef90f67fd\" y=\"86.666114\"/>\n    </g>\n    <g clip-path=\"url(#p631d58c506)\">\n     <use style=\"fill:#1f77b4;\" x=\"241.196148\" xlink:href=\"#C3_0_3ef90f67fd\" y=\"86.666114\"/>\n    </g>\n    <g clip-path=\"url(#p631d58c506)\">\n     <use style=\"fill:#1f77b4;\" x=\"199.273542\" xlink:href=\"#C3_0_3ef90f67fd\" y=\"86.666114\"/>\n    </g>\n    <g clip-path=\"url(#p631d58c506)\">\n     <use style=\"fill:#1f77b4;\" x=\"246.18016\" xlink:href=\"#C3_0_3ef90f67fd\" y=\"85.094793\"/>\n    </g>\n    <g clip-path=\"url(#p631d58c506)\">\n     <use style=\"fill:#1f77b4;\" x=\"194.28953\" xlink:href=\"#C3_0_3ef90f67fd\" y=\"85.094793\"/>\n    </g>\n    <g clip-path=\"url(#p631d58c506)\">\n     <use style=\"fill:#1f77b4;\" x=\"251.43016\" xlink:href=\"#C3_0_3ef90f67fd\" y=\"85.094793\"/>\n    </g>\n    <g clip-path=\"url(#p631d58c506)\">\n     <use style=\"fill:#1f77b4;\" x=\"189.03953\" xlink:href=\"#C3_0_3ef90f67fd\" y=\"85.094793\"/>\n    </g>\n    <g clip-path=\"url(#p631d58c506)\">\n     <use style=\"fill:#1f77b4;\" x=\"256.448329\" xlink:href=\"#C3_0_3ef90f67fd\" y=\"85.094793\"/>\n    </g>\n    <g clip-path=\"url(#p631d58c506)\">\n     <use style=\"fill:#1f77b4;\" x=\"220.728125\" xlink:href=\"#C3_0_3ef90f67fd\" y=\"84.309132\"/>\n    </g>\n    <g clip-path=\"url(#p631d58c506)\">\n     <use style=\"fill:#1f77b4;\" x=\"213.993873\" xlink:href=\"#C3_0_3ef90f67fd\" y=\"83.523471\"/>\n    </g>\n    <g clip-path=\"url(#p631d58c506)\">\n     <use style=\"fill:#1f77b4;\" x=\"208.743873\" xlink:href=\"#C3_0_3ef90f67fd\" y=\"83.523471\"/>\n    </g>\n    <g clip-path=\"url(#p631d58c506)\">\n     <use style=\"fill:#1f77b4;\" x=\"184.055519\" xlink:href=\"#C3_0_3ef90f67fd\" y=\"83.523471\"/>\n    </g>\n    <g clip-path=\"url(#p631d58c506)\">\n     <use style=\"fill:#1f77b4;\" x=\"261.432341\" xlink:href=\"#C3_0_3ef90f67fd\" y=\"83.523471\"/>\n    </g>\n    <g clip-path=\"url(#p631d58c506)\">\n     <use style=\"fill:#1f77b4;\" x=\"178.805519\" xlink:href=\"#C3_0_3ef90f67fd\" y=\"83.523471\"/>\n    </g>\n    <g clip-path=\"url(#p631d58c506)\">\n     <use style=\"fill:#1f77b4;\" x=\"266.682341\" xlink:href=\"#C3_0_3ef90f67fd\" y=\"83.523471\"/>\n    </g>\n    <g clip-path=\"url(#p631d58c506)\">\n     <use style=\"fill:#1f77b4;\" x=\"173.555519\" xlink:href=\"#C3_0_3ef90f67fd\" y=\"83.523471\"/>\n    </g>\n    <g clip-path=\"url(#p631d58c506)\">\n     <use style=\"fill:#1f77b4;\" x=\"271.932341\" xlink:href=\"#C3_0_3ef90f67fd\" y=\"83.523471\"/>\n    </g>\n    <g clip-path=\"url(#p631d58c506)\">\n     <use style=\"fill:#1f77b4;\" x=\"225.358213\" xlink:href=\"#C3_0_3ef90f67fd\" y=\"81.95215\"/>\n    </g>\n    <g clip-path=\"url(#p631d58c506)\">\n     <use style=\"fill:#1f77b4;\" x=\"232.446389\" xlink:href=\"#C3_0_3ef90f67fd\" y=\"81.95215\"/>\n    </g>\n    <g clip-path=\"url(#p631d58c506)\">\n     <use style=\"fill:#1f77b4;\" x=\"204.113785\" xlink:href=\"#C3_0_3ef90f67fd\" y=\"81.166489\"/>\n    </g>\n    <g clip-path=\"url(#p631d58c506)\">\n     <use style=\"fill:#1f77b4;\" x=\"237.4304\" xlink:href=\"#C3_0_3ef90f67fd\" y=\"80.380829\"/>\n    </g>\n    <g clip-path=\"url(#p631d58c506)\">\n     <use style=\"fill:#1f77b4;\" x=\"198.929003\" xlink:href=\"#C3_0_3ef90f67fd\" y=\"80.380829\"/>\n    </g>\n    <g clip-path=\"url(#p631d58c506)\">\n     <use style=\"fill:#1f77b4;\" x=\"242.6804\" xlink:href=\"#C3_0_3ef90f67fd\" y=\"80.380829\"/>\n    </g>\n    <g clip-path=\"url(#p631d58c506)\">\n     <use style=\"fill:#1f77b4;\" x=\"247.9304\" xlink:href=\"#C3_0_3ef90f67fd\" y=\"80.380829\"/>\n    </g>\n    <g clip-path=\"url(#p631d58c506)\">\n     <use style=\"fill:#1f77b4;\" x=\"192.53929\" xlink:href=\"#C3_0_3ef90f67fd\" y=\"80.380829\"/>\n    </g>\n    <g clip-path=\"url(#p631d58c506)\">\n     <use style=\"fill:#1f77b4;\" x=\"253.1804\" xlink:href=\"#C3_0_3ef90f67fd\" y=\"80.380829\"/>\n    </g>\n    <g clip-path=\"url(#p631d58c506)\">\n     <use style=\"fill:#1f77b4;\" x=\"169.47214\" xlink:href=\"#C3_0_3ef90f67fd\" y=\"80.380829\"/>\n    </g>\n    <g clip-path=\"url(#p631d58c506)\">\n     <use style=\"fill:#1f77b4;\" x=\"276.01572\" xlink:href=\"#C3_0_3ef90f67fd\" y=\"80.380829\"/>\n    </g>\n    <g clip-path=\"url(#p631d58c506)\">\n     <use style=\"fill:#1f77b4;\" x=\"220.728125\" xlink:href=\"#C3_0_3ef90f67fd\" y=\"78.809507\"/>\n    </g>\n    <g clip-path=\"url(#p631d58c506)\">\n     <use style=\"fill:#1f77b4;\" x=\"212.243632\" xlink:href=\"#C3_0_3ef90f67fd\" y=\"78.809507\"/>\n    </g>\n    <g clip-path=\"url(#p631d58c506)\">\n     <use style=\"fill:#1f77b4;\" x=\"187.555278\" xlink:href=\"#C3_0_3ef90f67fd\" y=\"78.809507\"/>\n    </g>\n    <g clip-path=\"url(#p631d58c506)\">\n     <use style=\"fill:#1f77b4;\" x=\"258.164412\" xlink:href=\"#C3_0_3ef90f67fd\" y=\"78.809507\"/>\n    </g>\n    <g clip-path=\"url(#p631d58c506)\">\n     <use style=\"fill:#1f77b4;\" x=\"182.305278\" xlink:href=\"#C3_0_3ef90f67fd\" y=\"78.809507\"/>\n    </g>\n    <g clip-path=\"url(#p631d58c506)\">\n     <use style=\"fill:#1f77b4;\" x=\"228.606165\" xlink:href=\"#C3_0_3ef90f67fd\" y=\"78.023846\"/>\n    </g>\n    <g clip-path=\"url(#p631d58c506)\">\n     <use style=\"fill:#1f77b4;\" x=\"207.361738\" xlink:href=\"#C3_0_3ef90f67fd\" y=\"77.238186\"/>\n    </g>\n    <g clip-path=\"url(#p631d58c506)\">\n     <use style=\"fill:#1f77b4;\" x=\"263.148424\" xlink:href=\"#C3_0_3ef90f67fd\" y=\"77.238186\"/>\n    </g>\n    <g clip-path=\"url(#p631d58c506)\">\n     <use style=\"fill:#1f77b4;\" x=\"177.321266\" xlink:href=\"#C3_0_3ef90f67fd\" y=\"77.238186\"/>\n    </g>\n    <g clip-path=\"url(#p631d58c506)\">\n     <use style=\"fill:#1f77b4;\" x=\"216.644746\" xlink:href=\"#C3_0_3ef90f67fd\" y=\"75.666864\"/>\n    </g>\n    <g clip-path=\"url(#p631d58c506)\">\n     <use style=\"fill:#1f77b4;\" x=\"233.236253\" xlink:href=\"#C3_0_3ef90f67fd\" y=\"75.666864\"/>\n    </g>\n    <g clip-path=\"url(#p631d58c506)\">\n     <use style=\"fill:#1f77b4;\" x=\"223.976078\" xlink:href=\"#C3_0_3ef90f67fd\" y=\"74.881204\"/>\n    </g>\n    <g clip-path=\"url(#p631d58c506)\">\n     <use style=\"fill:#1f77b4;\" x=\"203.278359\" xlink:href=\"#C3_0_3ef90f67fd\" y=\"74.095543\"/>\n    </g>\n    <g clip-path=\"url(#p631d58c506)\">\n     <use style=\"fill:#1f77b4;\" x=\"238.220264\" xlink:href=\"#C3_0_3ef90f67fd\" y=\"74.095543\"/>\n    </g>\n    <g clip-path=\"url(#p631d58c506)\">\n     <use style=\"fill:#1f77b4;\" x=\"198.028359\" xlink:href=\"#C3_0_3ef90f67fd\" y=\"74.095543\"/>\n    </g>\n    <g clip-path=\"url(#p631d58c506)\">\n     <use style=\"fill:#1f77b4;\" x=\"243.470264\" xlink:href=\"#C3_0_3ef90f67fd\" y=\"74.095543\"/>\n    </g>\n    <g clip-path=\"url(#p631d58c506)\">\n     <use style=\"fill:#1f77b4;\" x=\"192.778359\" xlink:href=\"#C3_0_3ef90f67fd\" y=\"74.095543\"/>\n    </g>\n    <g clip-path=\"url(#p631d58c506)\">\n     <use style=\"fill:#1f77b4;\" x=\"212.014658\" xlink:href=\"#C3_0_3ef90f67fd\" y=\"73.309882\"/>\n    </g>\n    <g clip-path=\"url(#p631d58c506)\">\n     <use style=\"fill:#1f77b4;\" x=\"248.655047\" xlink:href=\"#C3_0_3ef90f67fd\" y=\"73.309882\"/>\n    </g>\n    <g clip-path=\"url(#p631d58c506)\">\n     <use style=\"fill:#1f77b4;\" x=\"228.606165\" xlink:href=\"#C3_0_3ef90f67fd\" y=\"72.524222\"/>\n    </g>\n    <g clip-path=\"url(#p631d58c506)\">\n     <use style=\"fill:#1f77b4;\" x=\"187.794347\" xlink:href=\"#C3_0_3ef90f67fd\" y=\"72.524222\"/>\n    </g>\n    <g clip-path=\"url(#p631d58c506)\">\n     <use style=\"fill:#1f77b4;\" x=\"253.839829\" xlink:href=\"#C3_0_3ef90f67fd\" y=\"72.524222\"/>\n    </g>\n    <g clip-path=\"url(#p631d58c506)\">\n     <use style=\"fill:#1f77b4;\" x=\"182.544347\" xlink:href=\"#C3_0_3ef90f67fd\" y=\"72.524222\"/>\n    </g>\n    <g clip-path=\"url(#p631d58c506)\">\n     <use style=\"fill:#1f77b4;\" x=\"259.089829\" xlink:href=\"#C3_0_3ef90f67fd\" y=\"72.524222\"/>\n    </g>\n    <g clip-path=\"url(#p631d58c506)\">\n     <use style=\"fill:#1f77b4;\" x=\"219.892698\" xlink:href=\"#C3_0_3ef90f67fd\" y=\"71.738561\"/>\n    </g>\n    <g clip-path=\"url(#p631d58c506)\">\n     <use style=\"fill:#1f77b4;\" x=\"207.384571\" xlink:href=\"#C3_0_3ef90f67fd\" y=\"70.9529\"/>\n    </g>\n    <g clip-path=\"url(#p631d58c506)\">\n     <use style=\"fill:#1f77b4;\" x=\"177.560335\" xlink:href=\"#C3_0_3ef90f67fd\" y=\"70.9529\"/>\n    </g>\n    <g clip-path=\"url(#p631d58c506)\">\n     <use style=\"fill:#1f77b4;\" x=\"264.07384\" xlink:href=\"#C3_0_3ef90f67fd\" y=\"70.9529\"/>\n    </g>\n    <g clip-path=\"url(#p631d58c506)\">\n     <use style=\"fill:#1f77b4;\" x=\"172.310335\" xlink:href=\"#C3_0_3ef90f67fd\" y=\"70.9529\"/>\n    </g>\n    <g clip-path=\"url(#p631d58c506)\">\n     <use style=\"fill:#1f77b4;\" x=\"269.32384\" xlink:href=\"#C3_0_3ef90f67fd\" y=\"70.9529\"/>\n    </g>\n    <g clip-path=\"url(#p631d58c506)\">\n     <use style=\"fill:#1f77b4;\" x=\"167.060335\" xlink:href=\"#C3_0_3ef90f67fd\" y=\"70.9529\"/>\n    </g>\n    <g clip-path=\"url(#p631d58c506)\">\n     <use style=\"fill:#1f77b4;\" x=\"233.236253\" xlink:href=\"#C3_0_3ef90f67fd\" y=\"70.167239\"/>\n    </g>\n    <g clip-path=\"url(#p631d58c506)\">\n     <use style=\"fill:#1f77b4;\" x=\"274.508623\" xlink:href=\"#C3_0_3ef90f67fd\" y=\"70.167239\"/>\n    </g>\n    <g clip-path=\"url(#p631d58c506)\">\n     <use style=\"fill:#1f77b4;\" x=\"161.875553\" xlink:href=\"#C3_0_3ef90f67fd\" y=\"70.167239\"/>\n    </g>\n    <g clip-path=\"url(#p631d58c506)\">\n     <use style=\"fill:#1f77b4;\" x=\"224.522786\" xlink:href=\"#C3_0_3ef90f67fd\" y=\"69.381579\"/>\n    </g>\n    <g clip-path=\"url(#p631d58c506)\">\n     <use style=\"fill:#1f77b4;\" x=\"215.262611\" xlink:href=\"#C3_0_3ef90f67fd\" y=\"69.381579\"/>\n    </g>\n    <g clip-path=\"url(#p631d58c506)\">\n     <use style=\"fill:#1f77b4;\" x=\"201.528118\" xlink:href=\"#C3_0_3ef90f67fd\" y=\"69.381579\"/>\n    </g>\n    <g clip-path=\"url(#p631d58c506)\">\n     <use style=\"fill:#1f77b4;\" x=\"239.970505\" xlink:href=\"#C3_0_3ef90f67fd\" y=\"69.381579\"/>\n    </g>\n    <g clip-path=\"url(#p631d58c506)\">\n     <use style=\"fill:#1f77b4;\" x=\"196.278118\" xlink:href=\"#C3_0_3ef90f67fd\" y=\"69.381579\"/>\n    </g>\n    <g clip-path=\"url(#p631d58c506)\">\n     <use style=\"fill:#1f77b4;\" x=\"245.155287\" xlink:href=\"#C3_0_3ef90f67fd\" y=\"68.595918\"/>\n    </g>\n    <g clip-path=\"url(#p631d58c506)\">\n     <use style=\"fill:#1f77b4;\" x=\"191.294106\" xlink:href=\"#C3_0_3ef90f67fd\" y=\"67.810257\"/>\n    </g>\n    <g clip-path=\"url(#p631d58c506)\">\n     <use style=\"fill:#1f77b4;\" x=\"250.34007\" xlink:href=\"#C3_0_3ef90f67fd\" y=\"67.810257\"/>\n    </g>\n    <g clip-path=\"url(#p631d58c506)\">\n     <use style=\"fill:#1f77b4;\" x=\"186.044106\" xlink:href=\"#C3_0_3ef90f67fd\" y=\"67.810257\"/>\n    </g>\n    <g clip-path=\"url(#p631d58c506)\">\n     <use style=\"fill:#1f77b4;\" x=\"220.439407\" xlink:href=\"#C3_0_3ef90f67fd\" y=\"66.238936\"/>\n    </g>\n    <g clip-path=\"url(#p631d58c506)\">\n     <use style=\"fill:#1f77b4;\" x=\"228.606165\" xlink:href=\"#C3_0_3ef90f67fd\" y=\"66.238936\"/>\n    </g>\n    <g clip-path=\"url(#p631d58c506)\">\n     <use style=\"fill:#1f77b4;\" x=\"211.179232\" xlink:href=\"#C3_0_3ef90f67fd\" y=\"66.238936\"/>\n    </g>\n    <g clip-path=\"url(#p631d58c506)\">\n     <use style=\"fill:#1f77b4;\" x=\"205.63433\" xlink:href=\"#C3_0_3ef90f67fd\" y=\"66.238936\"/>\n    </g>\n    <g clip-path=\"url(#p631d58c506)\">\n     <use style=\"fill:#1f77b4;\" x=\"234.986493\" xlink:href=\"#C3_0_3ef90f67fd\" y=\"65.453275\"/>\n    </g>\n    <g clip-path=\"url(#p631d58c506)\">\n     <use style=\"fill:#1f77b4;\" x=\"254.970157\" xlink:href=\"#C3_0_3ef90f67fd\" y=\"65.453275\"/>\n    </g>\n    <g clip-path=\"url(#p631d58c506)\">\n     <use style=\"fill:#1f77b4;\" x=\"181.414019\" xlink:href=\"#C3_0_3ef90f67fd\" y=\"65.453275\"/>\n    </g>\n    <g clip-path=\"url(#p631d58c506)\">\n     <use style=\"fill:#1f77b4;\" x=\"199.777877\" xlink:href=\"#C3_0_3ef90f67fd\" y=\"64.667615\"/>\n    </g>\n    <g clip-path=\"url(#p631d58c506)\">\n     <use style=\"fill:#1f77b4;\" x=\"241.720746\" xlink:href=\"#C3_0_3ef90f67fd\" y=\"64.667615\"/>\n    </g>\n    <g clip-path=\"url(#p631d58c506)\">\n     <use style=\"fill:#1f77b4;\" x=\"215.809319\" xlink:href=\"#C3_0_3ef90f67fd\" y=\"63.881954\"/>\n    </g>\n    <g clip-path=\"url(#p631d58c506)\">\n     <use style=\"fill:#1f77b4;\" x=\"194.593095\" xlink:href=\"#C3_0_3ef90f67fd\" y=\"63.881954\"/>\n    </g>\n    <g clip-path=\"url(#p631d58c506)\">\n     <use style=\"fill:#1f77b4;\" x=\"224.522786\" xlink:href=\"#C3_0_3ef90f67fd\" y=\"63.096293\"/>\n    </g>\n    <g clip-path=\"url(#p631d58c506)\">\n     <use style=\"fill:#1f77b4;\" x=\"246.704757\" xlink:href=\"#C3_0_3ef90f67fd\" y=\"63.096293\"/>\n    </g>\n    <g clip-path=\"url(#p631d58c506)\">\n     <use style=\"fill:#1f77b4;\" x=\"189.609083\" xlink:href=\"#C3_0_3ef90f67fd\" y=\"62.310633\"/>\n    </g>\n    <g clip-path=\"url(#p631d58c506)\">\n     <use style=\"fill:#1f77b4;\" x=\"230.356406\" xlink:href=\"#C3_0_3ef90f67fd\" y=\"61.524972\"/>\n    </g>\n    <g clip-path=\"url(#p631d58c506)\">\n     <use style=\"fill:#1f77b4;\" x=\"209.428991\" xlink:href=\"#C3_0_3ef90f67fd\" y=\"61.524972\"/>\n    </g>\n    <g clip-path=\"url(#p631d58c506)\">\n     <use style=\"fill:#1f77b4;\" x=\"203.884089\" xlink:href=\"#C3_0_3ef90f67fd\" y=\"61.524972\"/>\n    </g>\n    <g clip-path=\"url(#p631d58c506)\">\n     <use style=\"fill:#1f77b4;\" x=\"251.688769\" xlink:href=\"#C3_0_3ef90f67fd\" y=\"61.524972\"/>\n    </g>\n    <g clip-path=\"url(#p631d58c506)\">\n     <use style=\"fill:#1f77b4;\" x=\"184.661971\" xlink:href=\"#C3_0_3ef90f67fd\" y=\"61.524972\"/>\n    </g>\n    <g clip-path=\"url(#p631d58c506)\">\n     <use style=\"fill:#1f77b4;\" x=\"258.21811\" xlink:href=\"#C3_0_3ef90f67fd\" y=\"61.524972\"/>\n    </g>\n    <g clip-path=\"url(#p631d58c506)\">\n     <use style=\"fill:#1f77b4;\" x=\"220.439407\" xlink:href=\"#C3_0_3ef90f67fd\" y=\"59.95365\"/>\n    </g>\n    <g clip-path=\"url(#p631d58c506)\">\n     <use style=\"fill:#1f77b4;\" x=\"235.340417\" xlink:href=\"#C3_0_3ef90f67fd\" y=\"59.95365\"/>\n    </g>\n    <g clip-path=\"url(#p631d58c506)\">\n     <use style=\"fill:#1f77b4;\" x=\"198.027637\" xlink:href=\"#C3_0_3ef90f67fd\" y=\"59.95365\"/>\n    </g>\n    <g clip-path=\"url(#p631d58c506)\">\n     <use style=\"fill:#1f77b4;\" x=\"215.455395\" xlink:href=\"#C3_0_3ef90f67fd\" y=\"58.382329\"/>\n    </g>\n    <g clip-path=\"url(#p631d58c506)\">\n     <use style=\"fill:#1f77b4;\" x=\"226.273027\" xlink:href=\"#C3_0_3ef90f67fd\" y=\"58.382329\"/>\n    </g>\n    <g clip-path=\"url(#p631d58c506)\">\n     <use style=\"fill:#1f77b4;\" x=\"240.324429\" xlink:href=\"#C3_0_3ef90f67fd\" y=\"58.382329\"/>\n    </g>\n    <g clip-path=\"url(#p631d58c506)\">\n     <use style=\"fill:#1f77b4;\" x=\"207.67875\" xlink:href=\"#C3_0_3ef90f67fd\" y=\"56.811008\"/>\n    </g>\n    <g clip-path=\"url(#p631d58c506)\">\n     <use style=\"fill:#1f77b4;\" x=\"202.133849\" xlink:href=\"#C3_0_3ef90f67fd\" y=\"56.811008\"/>\n    </g>\n    <g clip-path=\"url(#p631d58c506)\">\n     <use style=\"fill:#1f77b4;\" x=\"222.189647\" xlink:href=\"#C3_0_3ef90f67fd\" y=\"55.239686\"/>\n    </g>\n    <g clip-path=\"url(#p631d58c506)\">\n     <use style=\"fill:#1f77b4;\" x=\"230.356406\" xlink:href=\"#C3_0_3ef90f67fd\" y=\"55.239686\"/>\n    </g>\n    <g clip-path=\"url(#p631d58c506)\">\n     <use style=\"fill:#1f77b4;\" x=\"244.407808\" xlink:href=\"#C3_0_3ef90f67fd\" y=\"55.239686\"/>\n    </g>\n    <g clip-path=\"url(#p631d58c506)\">\n     <use style=\"fill:#1f77b4;\" x=\"196.277396\" xlink:href=\"#C3_0_3ef90f67fd\" y=\"55.239686\"/>\n    </g>\n    <g clip-path=\"url(#p631d58c506)\">\n     <use style=\"fill:#1f77b4;\" x=\"217.205636\" xlink:href=\"#C3_0_3ef90f67fd\" y=\"53.668365\"/>\n    </g>\n    <g clip-path=\"url(#p631d58c506)\">\n     <use style=\"fill:#1f77b4;\" x=\"211.955636\" xlink:href=\"#C3_0_3ef90f67fd\" y=\"53.668365\"/>\n    </g>\n    <g clip-path=\"url(#p631d58c506)\">\n     <use style=\"fill:#1f77b4;\" x=\"235.340417\" xlink:href=\"#C3_0_3ef90f67fd\" y=\"53.668365\"/>\n    </g>\n    <g clip-path=\"url(#p631d58c506)\">\n     <use style=\"fill:#1f77b4;\" x=\"226.273027\" xlink:href=\"#C3_0_3ef90f67fd\" y=\"52.097044\"/>\n    </g>\n    <g clip-path=\"url(#p631d58c506)\">\n     <use style=\"fill:#1f77b4;\" x=\"205.92851\" xlink:href=\"#C3_0_3ef90f67fd\" y=\"52.097044\"/>\n    </g>\n    <g clip-path=\"url(#p631d58c506)\">\n     <use style=\"fill:#1f77b4;\" x=\"240.324429\" xlink:href=\"#C3_0_3ef90f67fd\" y=\"52.097044\"/>\n    </g>\n    <g clip-path=\"url(#p631d58c506)\">\n     <use style=\"fill:#1f77b4;\" x=\"200.383608\" xlink:href=\"#C3_0_3ef90f67fd\" y=\"52.097044\"/>\n    </g>\n    <g clip-path=\"url(#p631d58c506)\">\n     <use style=\"fill:#1f77b4;\" x=\"246.158049\" xlink:href=\"#C3_0_3ef90f67fd\" y=\"50.525722\"/>\n    </g>\n    <g clip-path=\"url(#p631d58c506)\">\n     <use style=\"fill:#1f77b4;\" x=\"194.527155\" xlink:href=\"#C3_0_3ef90f67fd\" y=\"50.525722\"/>\n    </g>\n    <g clip-path=\"url(#p631d58c506)\">\n     <use style=\"fill:#1f77b4;\" x=\"251.408049\" xlink:href=\"#C3_0_3ef90f67fd\" y=\"50.525722\"/>\n    </g>\n    <g clip-path=\"url(#p631d58c506)\">\n     <use style=\"fill:#1f77b4;\" x=\"220.728125\" xlink:href=\"#C3_0_3ef90f67fd\" y=\"48.954401\"/>\n    </g>\n    <g clip-path=\"url(#p631d58c506)\">\n     <use style=\"fill:#1f77b4;\" x=\"215.478125\" xlink:href=\"#C3_0_3ef90f67fd\" y=\"48.954401\"/>\n    </g>\n    <g clip-path=\"url(#p631d58c506)\">\n     <use style=\"fill:#1f77b4;\" x=\"230.356406\" xlink:href=\"#C3_0_3ef90f67fd\" y=\"48.954401\"/>\n    </g>\n    <g clip-path=\"url(#p631d58c506)\">\n     <use style=\"fill:#1f77b4;\" x=\"210.228125\" xlink:href=\"#C3_0_3ef90f67fd\" y=\"48.954401\"/>\n    </g>\n    <g clip-path=\"url(#p631d58c506)\">\n     <use style=\"fill:#1f77b4;\" x=\"189.543144\" xlink:href=\"#C3_0_3ef90f67fd\" y=\"48.954401\"/>\n    </g>\n    <g clip-path=\"url(#p631d58c506)\">\n     <use style=\"fill:#1f77b4;\" x=\"235.340417\" xlink:href=\"#C3_0_3ef90f67fd\" y=\"47.383079\"/>\n    </g>\n    <g clip-path=\"url(#p631d58c506)\">\n     <use style=\"fill:#1f77b4;\" x=\"224.811504\" xlink:href=\"#C3_0_3ef90f67fd\" y=\"45.811758\"/>\n    </g>\n    <g clip-path=\"url(#p631d58c506)\">\n     <use style=\"fill:#1f77b4;\" x=\"206.144746\" xlink:href=\"#C3_0_3ef90f67fd\" y=\"45.811758\"/>\n    </g>\n    <g clip-path=\"url(#p631d58c506)\">\n     <use style=\"fill:#1f77b4;\" x=\"240.324429\" xlink:href=\"#C3_0_3ef90f67fd\" y=\"45.811758\"/>\n    </g>\n    <g clip-path=\"url(#p631d58c506)\">\n     <use style=\"fill:#1f77b4;\" x=\"200.894746\" xlink:href=\"#C3_0_3ef90f67fd\" y=\"45.811758\"/>\n    </g>\n    <g clip-path=\"url(#p631d58c506)\">\n     <use style=\"fill:#1f77b4;\" x=\"247.908289\" xlink:href=\"#C3_0_3ef90f67fd\" y=\"45.811758\"/>\n    </g>\n    <g clip-path=\"url(#p631d58c506)\">\n     <use style=\"fill:#1f77b4;\" x=\"218.977884\" xlink:href=\"#C3_0_3ef90f67fd\" y=\"44.240437\"/>\n    </g>\n    <g clip-path=\"url(#p631d58c506)\">\n     <use style=\"fill:#1f77b4;\" x=\"213.727884\" xlink:href=\"#C3_0_3ef90f67fd\" y=\"44.240437\"/>\n    </g>\n    <g clip-path=\"url(#p631d58c506)\">\n     <use style=\"fill:#1f77b4;\" x=\"195.910734\" xlink:href=\"#C3_0_3ef90f67fd\" y=\"44.240437\"/>\n    </g>\n    <g clip-path=\"url(#p631d58c506)\">\n     <use style=\"fill:#1f77b4;\" x=\"252.892301\" xlink:href=\"#C3_0_3ef90f67fd\" y=\"44.240437\"/>\n    </g>\n    <g clip-path=\"url(#p631d58c506)\">\n     <use style=\"fill:#1f77b4;\" x=\"187.792903\" xlink:href=\"#C3_0_3ef90f67fd\" y=\"44.240437\"/>\n    </g>\n    <g clip-path=\"url(#p631d58c506)\">\n     <use style=\"fill:#1f77b4;\" x=\"258.142301\" xlink:href=\"#C3_0_3ef90f67fd\" y=\"44.240437\"/>\n    </g>\n    <g clip-path=\"url(#p631d58c506)\">\n     <use style=\"fill:#1f77b4;\" x=\"228.894883\" xlink:href=\"#C3_0_3ef90f67fd\" y=\"42.669115\"/>\n    </g>\n    <g clip-path=\"url(#p631d58c506)\">\n     <use style=\"fill:#1f77b4;\" x=\"182.808891\" xlink:href=\"#C3_0_3ef90f67fd\" y=\"42.669115\"/>\n    </g>\n    <g clip-path=\"url(#p631d58c506)\">\n     <use style=\"fill:#1f77b4;\" x=\"223.061264\" xlink:href=\"#C3_0_3ef90f67fd\" y=\"41.097794\"/>\n    </g>\n    <g clip-path=\"url(#p631d58c506)\">\n     <use style=\"fill:#1f77b4;\" x=\"209.644505\" xlink:href=\"#C3_0_3ef90f67fd\" y=\"41.097794\"/>\n    </g>\n    <g clip-path=\"url(#p631d58c506)\">\n     <use style=\"fill:#1f77b4;\" x=\"233.878895\" xlink:href=\"#C3_0_3ef90f67fd\" y=\"41.097794\"/>\n    </g>\n    <g clip-path=\"url(#p631d58c506)\">\n     <use style=\"fill:#1f77b4;\" x=\"217.227644\" xlink:href=\"#C3_0_3ef90f67fd\" y=\"39.526472\"/>\n    </g>\n    <g clip-path=\"url(#p631d58c506)\">\n     <use style=\"fill:#1f77b4;\" x=\"204.660494\" xlink:href=\"#C3_0_3ef90f67fd\" y=\"39.526472\"/>\n    </g>\n    <g clip-path=\"url(#p631d58c506)\">\n     <use style=\"fill:#1f77b4;\" x=\"238.862907\" xlink:href=\"#C3_0_3ef90f67fd\" y=\"39.526472\"/>\n    </g>\n    <g clip-path=\"url(#p631d58c506)\">\n     <use style=\"fill:#1f77b4;\" x=\"199.410494\" xlink:href=\"#C3_0_3ef90f67fd\" y=\"39.526472\"/>\n    </g>\n    <g clip-path=\"url(#p631d58c506)\">\n     <use style=\"fill:#1f77b4;\" x=\"244.112907\" xlink:href=\"#C3_0_3ef90f67fd\" y=\"39.526472\"/>\n    </g>\n    <g clip-path=\"url(#p631d58c506)\">\n     <use style=\"fill:#1f77b4;\" x=\"227.144643\" xlink:href=\"#C3_0_3ef90f67fd\" y=\"37.955151\"/>\n    </g>\n    <g clip-path=\"url(#p631d58c506)\">\n     <use style=\"fill:#1f77b4;\" x=\"221.311023\" xlink:href=\"#C3_0_3ef90f67fd\" y=\"36.38383\"/>\n    </g>\n    <g clip-path=\"url(#p631d58c506)\">\n     <use style=\"fill:#1f77b4;\" x=\"213.144264\" xlink:href=\"#C3_0_3ef90f67fd\" y=\"36.38383\"/>\n    </g>\n    <g clip-path=\"url(#p631d58c506)\">\n     <use style=\"fill:#1f77b4;\" x=\"231.228022\" xlink:href=\"#C3_0_3ef90f67fd\" y=\"34.812508\"/>\n    </g>\n    <g clip-path=\"url(#p631d58c506)\">\n     <use style=\"fill:#1f77b4;\" x=\"208.160253\" xlink:href=\"#C3_0_3ef90f67fd\" y=\"34.812508\"/>\n    </g>\n    <g clip-path=\"url(#p631d58c506)\">\n     <use style=\"fill:#1f77b4;\" x=\"236.478022\" xlink:href=\"#C3_0_3ef90f67fd\" y=\"34.812508\"/>\n    </g>\n    <g clip-path=\"url(#p631d58c506)\">\n     <use style=\"fill:#1f77b4;\" x=\"219.560782\" xlink:href=\"#C3_0_3ef90f67fd\" y=\"31.669865\"/>\n    </g>\n    <g clip-path=\"url(#p631d58c506)\">\n     <use style=\"fill:#1f77b4;\" x=\"224.810782\" xlink:href=\"#C3_0_3ef90f67fd\" y=\"31.669865\"/>\n    </g>\n    <g clip-path=\"url(#p631d58c506)\">\n     <use style=\"fill:#1f77b4;\" x=\"214.576771\" xlink:href=\"#C3_0_3ef90f67fd\" y=\"30.098544\"/>\n    </g>\n    <g clip-path=\"url(#p631d58c506)\">\n     <use style=\"fill:#1f77b4;\" x=\"232.978263\" xlink:href=\"#C3_0_3ef90f67fd\" y=\"30.098544\"/>\n    </g>\n    <g clip-path=\"url(#p631d58c506)\">\n     <use style=\"fill:#1f77b4;\" x=\"209.592759\" xlink:href=\"#C3_0_3ef90f67fd\" y=\"28.527223\"/>\n    </g>\n    <g clip-path=\"url(#p631d58c506)\">\n     <use style=\"fill:#1f77b4;\" x=\"220.728125\" xlink:href=\"#C3_0_3ef90f67fd\" y=\"20.670616\"/>\n    </g>\n   </g>\n  </g>\n </g>\n <defs>\n  <clipPath id=\"p631d58c506\">\n   <rect height=\"217.44\" width=\"334.8\" x=\"53.328125\" y=\"10.7\"/>\n  </clipPath>\n </defs>\n</svg>\n",
      "image/png": "[encoded data removed]"
     },
     "metadata": {
      "needs_background": "light"
     }
    }
   ],
   "source": [
    "for attribute in ['Culmen Length (mm)', 'Culmen Depth (mm)', 'Flipper Length (mm)','Body Mass (g)']:\n",
    "    ax = sns.swarmplot(data = df, y = attribute)\n",
    "    offsets = pd.DataFrame(ax.collections[0].get_offsets())[[0]]\n",
    "    offsets.columns = [attribute + ' Offset']\n",
    "    df = df.sort_values(by = attribute).reset_index().drop(columns = ['index'])\n",
    "    df = pd.merge(df, offsets, left_index = True, right_index = True)"
   ]
  },
  {
   "cell_type": "code",
   "execution_count": 9,
   "metadata": {},
   "outputs": [],
   "source": [
    "df.to_csv('W28.csv', index = False)"
   ]
  },
  {
   "cell_type": "code",
   "execution_count": 2,
   "metadata": {},
   "outputs": [],
   "source": [
    "df = pd.read_csv('W28.csv')"
   ]
  },
  {
   "cell_type": "code",
   "execution_count": 3,
   "metadata": {},
   "outputs": [],
   "source": [
    "df_species = df.loc[df.Species == 'Adelie']"
   ]
  },
  {
   "cell_type": "code",
   "execution_count": 4,
   "metadata": {
    "tags": []
   },
   "outputs": [
    {
     "output_type": "display_data",
     "data": {
      "application/vnd.plotly.v1+json": {
       "config": {
        "plotlyServerURL": "https://plot.ly"
       },
       "data": [
        {
         "marker": {
          "color": "grey"
         },
         "mode": "markers",
         "showlegend": false,
         "type": "scatter",
         "x": [
          0,
          0.10472262614201057,
          0.05987130262185825,
          0.02785420945014816,
          -0.015019979101705829,
          -0.01283423034844233,
          -0.10351178110914007,
          -0.004108712403802617,
          -0.02785420945014816,
          0.10708748936372113,
          0.0286878860543317,
          0.046717778423788985,
          0.01415034083421718,
          -0.13334312552758654,
          0.058356614308328725,
          -0.0747286655591145,
          -0.04380309465173127,
          0,
          0,
          -0.02258557061864708,
          -0.08158723497301656,
          -0.060578324724897326,
          0.061737757525494825,
          0.11888894141271045,
          -0.07297341458765427,
          -0.1445818351518977,
          0.01415034083421718,
          0.07402164345607531,
          0.08153121985321532,
          0,
          0.015518387419779844,
          0.015518387419779844,
          0.0881879587267752,
          -0.0676614823602475,
          -0.029170319935923006,
          -0.0455583456231915,
          0.04245102250265143,
          0.04283822688854888,
          -0.02785420945014816,
          -0.064814215497359,
          -0.08049571270868973,
          0.0947002248606661,
          0.03602888934982529,
          0.01771382099200436,
          0.094651992022179,
          -0.0525349022138929,
          -0.04200455028436534,
          0.13456994499693986,
          -0.11919278469336947,
          -0.03712311583876182,
          0.010911266697903209,
          0.046455486948165585,
          -0.10132093584124736,
          0,
          -0.06590623138878715,
          0.07725614494527466,
          0.07918183744088636,
          -0.033884041702447736,
          0.02187854851560822,
          0.02830068166843425,
          -0.02917031993592312,
          -0.01283423034844233,
          0.052589567158753625,
          -0.008217424807605013,
          0.021822533395806757,
          0.0269845711826594,
          0.12210746846542685,
          0.12189340982829087,
          -0.04419029903762883,
          -0.09040966914334392,
          0.13778847204965627,
          -0.0623992756351196,
          -0.10271005337792194,
          -0.11388085246596248,
          0.05378496162265611,
          -0.015019979101705829,
          -0.015019979101705829,
          0.04200455028436534,
          0,
          -0.04929582807757915,
          0,
          -0.05175589055457008,
          0.08970264704030473,
          -0.040180346661555566,
          -0.0879933936893601,
          0.046014502660438605,
          -0.034275848975873324,
          -0.06996486715206063,
          0.01415034083421718,
          0,
          -0.028783115550025436,
          -0.09179878668001852,
          -0.043535213034377566,
          -0.00756559151694125,
          -0.07233430302088584,
          -0.08801530660511525,
          -0.04518711567377676,
          0.044851323520152316,
          0.07250695514254579,
          -0.0607055030935566,
          -0.015518387419779844,
          -0.04250295860243936,
          0,
          0.031864161826221434,
          -0.07791766305489944,
          0.1036343565902712,
          0.030700982685935237,
          0.0789709884379497,
          -0.08334248594447691,
          0.0077282076813910425,
          0.10320793782848103,
          0.039755336810311286,
          0.06350083385665695,
          0,
          0.06606884755323694,
          -0.05214309494046765,
          -0.014632774715808372,
          -0.0013161104857748462,
          0.11098214313038746,
          -0.015518387419779844,
          0.0068025542941008155,
          -0.030538366521485668,
          0.1256887668617387,
          0.03981880153110173,
          -0.1289008315676684,
          0.06328998485372027,
          -0.10927967022335816,
          -0.01962709982358235,
          0.040951224901314975,
          -0.015518387419779844,
          -0.09601410012846956,
          -0.057024529386071166,
          0.032305146113948524,
          0.01283423034844233,
          0.07101819253511088,
          -0.05795343548594845,
          0.06542379750719596,
          0.02593124579960915,
          0.1534694756338857,
          -0.03103677483955969,
          0.09293714852950408,
          -0.09359866663912876,
          -0.03838456137967572,
          0.003565323959829003,
          0.08044377660890177,
          0.029170319935923006,
          0.08948401575605403,
          0.11017037944195884,
          -0.12107570766059005,
          0.028352617768222173,
          0.002693841890298421,
          0.000387204385897455,
          -0.015518387419779844,
          -0.03673591145286415,
          0.014537545220114525,
          -0.04671827205089018,
          0.015681003584229414,
          0.03362125659972348,
          0.09596216402868164,
          0.13138790347504326,
          -0.11531459899028705,
          0.15672554170129827,
          0.038764982520950286,
          -0.057024529386071166,
          -0.00926890638861333,
          -0.124299649325064,
          -0.054446479732281235,
          -0.012326137211407406,
          0.057366753646069024,
          0.08648464385510303,
          -0.15533642416462368,
          -0.041612249383838895,
          -0.13981803674484386,
          0.14120715428151853,
          0.08516853336932806,
          -0.09886087336425664,
          -0.08088751998211507,
          -0.07254291680585101,
          -0.015298738640912912,
          -0.10564745322187452,
          -0.02018017308651654,
          0.023246595101170442,
          0.011518119862667596,
          -0.1365940950803699,
          0.01283423034844233,
          -0.07764844584580133,
          0.061904120029633185,
          -0.029449079475130088,
          0.0679353024568734,
          0.015019979101705829,
          0.146906290894823,
          0.055101565735532036,
          -0.08543131847205276,
          -0.16026283873612712,
          -0.01415034083421729,
          -0.05665329943665641,
          -0.11016444096268664,
          0.05099285333172965,
          -0.0013161104857747352,
          0.06601283243343559,
          -0.17085481158440347,
          0.05248531920046562,
          0.07233430302088573,
          0.017603967234768536,
          0.05747100160435725,
          -0.05576259021805596,
          0.1006869207891079,
          0,
          -0.007345942738074206,
          -0.06140521808445809,
          0.00767403636363162,
          -0.04446905857683592,
          0.09574621851111564,
          -0.06804190350152184,
          -0.015019979101705829,
          -0.02336458227796989,
          0.04777159743394044,
          -0.027346116313113237,
          -0.07128097763783547,
          -0.04292835986961363,
          -0.02297277500454431,
          0.1722439291210781,
          -0.029170319935923006,
          0.011518119862667486,
          0.06750529830217145,
          -0.09963359540605764,
          -0.03876547614805148,
          -0.10736180308744804,
          0.03362125659972348,
          -0.14585296551177274,
          0.03119939100400915,
          -0.13416268715454627,
          -0.060150062161065325,
          -0.028352617768222173,
          0.02270998990182005,
          0.019083711379608848,
          0.08302368572195129,
          0.08072623940940983,
          -0.08306188260322768,
          -0.008988303047364199,
          0.06504523582518051,
          0.051048868451531115,
          0.03684251249751258,
          -0.03661792427606403,
          0.11768403485911215,
          0.08119677787453193,
          -0.06536913256233523,
          -0.1615339690960021,
          0.04654969894924377,
          -0.0841152079862778,
          0.10281340170998277,
          0.04157405250256219,
          0.023801512166147232,
          -0.09134945316507448,
          -0.045886830664678135,
          -0.021822533395806757,
          0.11833178912976272,
          0.02435235021111004,
          0,
          -0.07583106574529475,
          0.044532523297626914,
          -0.029550741077197462,
          -0.04457072017890329,
          -0.052298927860293436,
          0.10200303127488276,
          0.095347118708749,
          -0.01091126669790332,
          0.0620680863690235,
          -0.11848168357031695,
          -0.07642519718616393,
          -0.00876371482591598,
          0.009651171331930051,
          0.04952684840540067,
          -0.0215979451743582,
          0.08779342260827694,
          -0.0906274741201687,
          -0.030866851562972312,
          0.06617679877282613,
          0.03948251575037653,
          0.12090713455894353,
          0.0013161104857748462,
          0.11636792437333733,
          0.050658411353046266,
          -0.06008910759868302,
          -0.052523516081742,
          -0.08196765611429035,
          -0.01671651072875502,
          -0.0010355071445257158,
          0.10675679372472624,
          0.07758647378880335,
          -0.054664284709105226,
          -0.007447604340141023,
          0.0019229636505391228,
          -0.05849647279167181,
          0.09260645289050916,
          -0.03914589728932538,
          0.004937449565405427,
          0.012665657246796136,
          0.07277344350657132,
          0.027685636348501963,
          -0.01283423034844233,
          0.057725594551913624,
          -0.1303345780919929,
          0.04194804153746312,
          0.005424822889577463,
          0.0128902454682438,
          -0.03750353698003617,
          -0.10559551712208692,
          -0.1197458579563041,
          0.03563843225134045,
          0.05500090317015638,
          -0.009595156212128364,
          0,
          -0.028132968989355245,
          -0.015518387419779844,
          -0.02823463059142206,
          0.015518387419779844,
          -0.04434613195745496,
          0.03152971984753783,
          0.14207728617610835,
          0.05696802063916895,
          -0.023745497046345654,
          -0.07510908670038896,
          0,
          0.07274557365361957,
          0,
          -0.09144517628786973,
          0.02061845314963462,
          0.02642965411768328,
          -0.015518387419779844,
          0,
          0,
          0,
          0.03175430806898572,
          -0.015518387419779844,
          0.13116601947820505,
          0.02094321030935731,
          -0.09287892281219368,
          0.04270561545020779,
          -0.06644926869451051,
          0,
          -0.02028183468858336
         ],
         "y": [
          46.9,
          36.4,
          36.5,
          38.6,
          34.5,
          33.1,
          43.2,
          37.9,
          37.5,
          37.3,
          37,
          39,
          35.9,
          32.1,
          35.2,
          37.7,
          36,
          37.9,
          36.2,
          36.5,
          35.7,
          38.1,
          35.6,
          40.9,
          40.5,
          39.7,
          34.6,
          41.1,
          40.3,
          39.5,
          45.2,
          46.1,
          51.5,
          38.8,
          39.5,
          37.6,
          36.2,
          37.8,
          50.3,
          46.7,
          41.1,
          38.5,
          34.4,
          36.4,
          48.1,
          35.5,
          35.7,
          42.5,
          42.5,
          37.3,
          40.2,
          43.5,
          34,
          37.8,
          37,
          48.5,
          50.1,
          50.5,
          41.1,
          38.1,
          35,
          40.2,
          46.4,
          38.7,
          36,
          52.2,
          36.7,
          36,
          40.6,
          36.6,
          34.1,
          37.7,
          45.5,
          46.5,
          36.8,
          43.1,
          39.6,
          36.9,
          45.4,
          45.6,
          42.2,
          39.7,
          40.6,
          39.6,
          36.2,
          50.9,
          41.3,
          35.7,
          39,
          45.9,
          37.6,
          49.7,
          37.7,
          42.4,
          38.9,
          33.5,
          45.7,
          38.9,
          46.2,
          51.3,
          46.8,
          39.3,
          39,
          45.7,
          49.8,
          50.9,
          37.8,
          51.3,
          41.4,
          58,
          36,
          38.1,
          35.5,
          40.9,
          36.6,
          46.4,
          47,
          52.7,
          40.7,
          35,
          37.6,
          39.1,
          38.6,
          51.3,
          37.8,
          50.2,
          37.3,
          49.6,
          51.7,
          38.8,
          36.3,
          35.3,
          49.5,
          36.7,
          50.2,
          39.5,
          35.9,
          46.6,
          50.6,
          40.6,
          38.6,
          38.1,
          47.6,
          41.4,
          41.1,
          38.2,
          50,
          47.5,
          39.7,
          37.2,
          40.8,
          40.9,
          39.6,
          37.2,
          38.2,
          45.2,
          40.5,
          49,
          38.8,
          42.7,
          51.9,
          51.4,
          41.6,
          38.3,
          40.2,
          40.6,
          41.5,
          42.1,
          55.8,
          44.1,
          52,
          50.7,
          42,
          50.5,
          49.3,
          41.1,
          42.7,
          41.1,
          50.8,
          44.5,
          51,
          43.2,
          45.8,
          42.3,
          52,
          46,
          39.2,
          42,
          35.1,
          45.8,
          45.3,
          46,
          45.5,
          39.7,
          39.2,
          37.8,
          42,
          42.8,
          42.2,
          41.5,
          54.2,
          45.3,
          43.8,
          49,
          40.1,
          40.8,
          41.1,
          40.3,
          44,
          46.2,
          43.3,
          45.1,
          45.7,
          46.5,
          44.1,
          49.2,
          34.6,
          41.3,
          43.2,
          48.7,
          41.8,
          50.8,
          39.6,
          37.5,
          46.1,
          53.5,
          42.5,
          46.5,
          52.8,
          43.3,
          45.6,
          43.4,
          48.2,
          39.6,
          47.5,
          48.4,
          49.1,
          45.5,
          46.2,
          40.9,
          43.5,
          39.8,
          39.2,
          45.8,
          41.7,
          43.5,
          42.9,
          42.8,
          46.4,
          41,
          47.3,
          47.4,
          45.2,
          45.5,
          47.7,
          44.9,
          49.6,
          43.2,
          52,
          45.4,
          46.2,
          44.5,
          46.8,
          48.5,
          46.6,
          46.9,
          47.5,
          44.5,
          43.6,
          46.5,
          49.4,
          47.2,
          42.6,
          47.5,
          47.2,
          45.1,
          50.5,
          45.5,
          42.9,
          46.4,
          50.1,
          45.1,
          45,
          46.3,
          44.9,
          48.2,
          46.1,
          46.8,
          49.1,
          46.5,
          50.8,
          46.7,
          45.2,
          47.3,
          44.4,
          51.1,
          51.3,
          48.5,
          45.2,
          46.2,
          50,
          48.7,
          48.7,
          50.5,
          52.2,
          47.6,
          49.9,
          48.4,
          52.5,
          53.4,
          46.8,
          49.1,
          51.5,
          48.1,
          52.1,
          50.4,
          50.7,
          50.5,
          49,
          50,
          50.8,
          55.9,
          47.8,
          54.3,
          49.5,
          50,
          50.2,
          50,
          49.6,
          49.8,
          50.4,
          48.6,
          49.5,
          48.4,
          55.1,
          49.3,
          49.8,
          45.2,
          48.8,
          51.1,
          59.6,
          49.2
         ]
        },
        {
         "marker": {
          "color": "red"
         },
         "mode": "markers",
         "showlegend": false,
         "type": "scatter",
         "x": [
          -0.05175589055457008,
          -0.014632774715808372,
          -0.04200455028436534,
          0.028352617768222173,
          0,
          -0.015019979101705829,
          -0.029170319935923006,
          0.01415034083421718,
          0,
          -0.028352617768222173,
          0.02187854851560822,
          0,
          0.030700982685935237,
          -0.0879933936893601,
          0.07402164345607531,
          0.04245102250265143,
          0.10472262614201057,
          -0.10132093584124736,
          -0.00756559151694125,
          -0.057024529386071166,
          0.0077282076813910425,
          -0.05214309494046765,
          -0.02917031993592312,
          -0.02785420945014816,
          -0.16026283873612712,
          0.046717778423788985,
          0.01415034083421718,
          -0.057024529386071166,
          0.039755336810311286,
          0.07250695514254579,
          -0.03673591145286415,
          -0.10351178110914007,
          0.12210746846542685,
          0,
          -0.01283423034844233,
          0.051048868451531115,
          0.044851323520152316,
          -0.060578324724897326,
          0.058356614308328725,
          0.015518387419779844,
          0,
          0.11888894141271045,
          -0.04380309465173127,
          -0.1289008315676684,
          0.05747100160435725,
          0.015681003584229414,
          0.03119939100400915,
          0.06542379750719596,
          -0.09040966914334392,
          -0.06590623138878715,
          -0.0747286655591145,
          0.07725614494527466,
          0.06606884755323694,
          0.015518387419779844,
          -0.04419029903762883,
          -0.028783115550025436,
          -0.027346116313113237,
          -0.07233430302088584,
          0.0286878860543317,
          0.021822533395806757,
          0.0947002248606661,
          -0.08334248594447691,
          0.07918183744088636,
          0.03602888934982529,
          -0.04518711567377676,
          0.05987130262185825,
          0.09596216402868164,
          0.02830068166843425,
          0,
          0.08044377660890177,
          -0.01283423034844233,
          -0.09601410012846956,
          -0.04250295860243936,
          0.029170319935923006,
          -0.11919278469336947,
          0.0679353024568734,
          0.08970264704030473,
          0.01283423034844233,
          -0.0455583456231915,
          -0.11388085246596248,
          0.014537545220114525,
          -0.09886087336425664,
          0,
          0.0881879587267752,
          0.052589567158753625,
          0.04200455028436534,
          0.13456994499693986,
          -0.05795343548594845,
          0.01415034083421718,
          0.000387204385897455,
          -0.030538366521485668,
          -0.08158723497301656,
          -0.01415034083421729,
          -0.02258557061864708,
          0.09293714852950408,
          -0.015518387419779844,
          -0.13334312552758654,
          -0.0607055030935566,
          0.05378496162265611,
          -0.029170319935923006,
          0.12189340982829087,
          0.04283822688854888,
          0.023246595101170442,
          0.10708748936372113,
          -0.05665329943665641,
          -0.015019979101705829,
          -0.07254291680585101,
          0.061737757525494825,
          -0.08049571270868973,
          -0.01962709982358235,
          0.02785420945014816,
          -0.015518387419779844,
          -0.0676614823602475,
          0.02593124579960915,
          -0.064814215497359,
          -0.0013161104857747352,
          -0.04929582807757915,
          0.13778847204965627,
          0.002693841890298421,
          0.1534694756338857,
          0.08948401575605403,
          0.046455486948165585,
          -0.02336458227796989,
          0,
          -0.015518387419779844,
          -0.02018017308651654,
          -0.12107570766059005,
          -0.11016444096268664,
          0.10320793782848103,
          0.055101565735532036,
          -0.0525349022138929,
          -0.008217424807605013,
          -0.004108712403802617,
          0,
          0,
          -0.1445818351518977,
          -0.03712311583876182,
          0.0269845711826594,
          -0.043535213034377566,
          0.010911266697903209,
          -0.034275848975873324,
          -0.08801530660511525,
          -0.07297341458765427,
          -0.07764844584580133,
          -0.15533642416462368,
          0.06350083385665695,
          -0.1365940950803699,
          0.11098214313038746,
          -0.012326137211407406,
          -0.03103677483955969,
          0.061904120029633185
         ],
         "y": [
          36.4,
          36.5,
          38.6,
          34.5,
          33.1,
          37.9,
          37.5,
          37.3,
          37,
          39,
          35.9,
          32.1,
          35.2,
          37.7,
          36,
          37.9,
          36.2,
          36.5,
          35.7,
          38.1,
          35.6,
          40.5,
          39.7,
          34.6,
          41.1,
          40.3,
          39.5,
          38.8,
          39.5,
          37.6,
          36.2,
          37.8,
          41.1,
          38.5,
          34.4,
          36.4,
          35.5,
          35.7,
          37.3,
          40.2,
          34,
          37.8,
          37,
          41.1,
          38.1,
          35,
          40.2,
          38.7,
          36,
          36.7,
          36,
          40.6,
          36.6,
          34.1,
          37.7,
          36.8,
          43.1,
          39.6,
          36.9,
          42.2,
          39.7,
          40.6,
          39.6,
          36.2,
          41.3,
          35.7,
          39,
          37.6,
          37.7,
          38.9,
          33.5,
          38.9,
          39.3,
          39,
          37.8,
          41.4,
          36,
          38.1,
          35.5,
          40.9,
          36.6,
          40.7,
          35,
          37.6,
          39.1,
          38.6,
          37.8,
          37.3,
          38.8,
          36.3,
          35.3,
          36.7,
          39.5,
          35.9,
          40.6,
          38.6,
          38.1,
          41.4,
          41.1,
          38.2,
          39.7,
          37.2,
          40.8,
          40.9,
          39.6,
          37.2,
          38.2,
          40.5,
          38.8,
          41.6,
          38.3,
          40.2,
          40.6,
          41.5,
          42.1,
          44.1,
          42,
          41.1,
          42.7,
          41.1,
          43.2,
          45.8,
          42.3,
          39.2,
          35.1,
          46,
          39.7,
          39.2,
          37.8,
          42,
          42.8,
          42.2,
          41.5,
          40.1,
          40.8,
          41.1,
          40.3,
          44.1,
          34.6,
          41.3,
          41.8,
          39.6,
          37.5,
          42.5,
          45.6,
          39.6,
          39.8,
          39.2,
          42.9,
          41,
          43.2
         ]
        }
       ],
       "layout": {
        "paper_bgcolor": "rgba(0,0,0,0)",
        "plot_bgcolor": "rgba(0,0,0,0)",
        "template": {
         "data": {
          "bar": [
           {
            "error_x": {
             "color": "#2a3f5f"
            },
            "error_y": {
             "color": "#2a3f5f"
            },
            "marker": {
             "line": {
              "color": "#E5ECF6",
              "width": 0.5
             }
            },
            "type": "bar"
           }
          ],
          "barpolar": [
           {
            "marker": {
             "line": {
              "color": "#E5ECF6",
              "width": 0.5
             }
            },
            "type": "barpolar"
           }
          ],
          "carpet": [
           {
            "aaxis": {
             "endlinecolor": "#2a3f5f",
             "gridcolor": "white",
             "linecolor": "white",
             "minorgridcolor": "white",
             "startlinecolor": "#2a3f5f"
            },
            "baxis": {
             "endlinecolor": "#2a3f5f",
             "gridcolor": "white",
             "linecolor": "white",
             "minorgridcolor": "white",
             "startlinecolor": "#2a3f5f"
            },
            "type": "carpet"
           }
          ],
          "choropleth": [
           {
            "colorbar": {
             "outlinewidth": 0,
             "ticks": ""
            },
            "type": "choropleth"
           }
          ],
          "contour": [
           {
            "colorbar": {
             "outlinewidth": 0,
             "ticks": ""
            },
            "colorscale": [
             [
              0,
              "#0d0887"
             ],
             [
              0.1111111111111111,
              "#46039f"
             ],
             [
              0.2222222222222222,
              "#7201a8"
             ],
             [
              0.3333333333333333,
              "#9c179e"
             ],
             [
              0.4444444444444444,
              "#bd3786"
             ],
             [
              0.5555555555555556,
              "#d8576b"
             ],
             [
              0.6666666666666666,
              "#ed7953"
             ],
             [
              0.7777777777777778,
              "#fb9f3a"
             ],
             [
              0.8888888888888888,
              "#fdca26"
             ],
             [
              1,
              "#f0f921"
             ]
            ],
            "type": "contour"
           }
          ],
          "contourcarpet": [
           {
            "colorbar": {
             "outlinewidth": 0,
             "ticks": ""
            },
            "type": "contourcarpet"
           }
          ],
          "heatmap": [
           {
            "colorbar": {
             "outlinewidth": 0,
             "ticks": ""
            },
            "colorscale": [
             [
              0,
              "#0d0887"
             ],
             [
              0.1111111111111111,
              "#46039f"
             ],
             [
              0.2222222222222222,
              "#7201a8"
             ],
             [
              0.3333333333333333,
              "#9c179e"
             ],
             [
              0.4444444444444444,
              "#bd3786"
             ],
             [
              0.5555555555555556,
              "#d8576b"
             ],
             [
              0.6666666666666666,
              "#ed7953"
             ],
             [
              0.7777777777777778,
              "#fb9f3a"
             ],
             [
              0.8888888888888888,
              "#fdca26"
             ],
             [
              1,
              "#f0f921"
             ]
            ],
            "type": "heatmap"
           }
          ],
          "heatmapgl": [
           {
            "colorbar": {
             "outlinewidth": 0,
             "ticks": ""
            },
            "colorscale": [
             [
              0,
              "#0d0887"
             ],
             [
              0.1111111111111111,
              "#46039f"
             ],
             [
              0.2222222222222222,
              "#7201a8"
             ],
             [
              0.3333333333333333,
              "#9c179e"
             ],
             [
              0.4444444444444444,
              "#bd3786"
             ],
             [
              0.5555555555555556,
              "#d8576b"
             ],
             [
              0.6666666666666666,
              "#ed7953"
             ],
             [
              0.7777777777777778,
              "#fb9f3a"
             ],
             [
              0.8888888888888888,
              "#fdca26"
             ],
             [
              1,
              "#f0f921"
             ]
            ],
            "type": "heatmapgl"
           }
          ],
          "histogram": [
           {
            "marker": {
             "colorbar": {
              "outlinewidth": 0,
              "ticks": ""
             }
            },
            "type": "histogram"
           }
          ],
          "histogram2d": [
           {
            "colorbar": {
             "outlinewidth": 0,
             "ticks": ""
            },
            "colorscale": [
             [
              0,
              "#0d0887"
             ],
             [
              0.1111111111111111,
              "#46039f"
             ],
             [
              0.2222222222222222,
              "#7201a8"
             ],
             [
              0.3333333333333333,
              "#9c179e"
             ],
             [
              0.4444444444444444,
              "#bd3786"
             ],
             [
              0.5555555555555556,
              "#d8576b"
             ],
             [
              0.6666666666666666,
              "#ed7953"
             ],
             [
              0.7777777777777778,
              "#fb9f3a"
             ],
             [
              0.8888888888888888,
              "#fdca26"
             ],
             [
              1,
              "#f0f921"
             ]
            ],
            "type": "histogram2d"
           }
          ],
          "histogram2dcontour": [
           {
            "colorbar": {
             "outlinewidth": 0,
             "ticks": ""
            },
            "colorscale": [
             [
              0,
              "#0d0887"
             ],
             [
              0.1111111111111111,
              "#46039f"
             ],
             [
              0.2222222222222222,
              "#7201a8"
             ],
             [
              0.3333333333333333,
              "#9c179e"
             ],
             [
              0.4444444444444444,
              "#bd3786"
             ],
             [
              0.5555555555555556,
              "#d8576b"
             ],
             [
              0.6666666666666666,
              "#ed7953"
             ],
             [
              0.7777777777777778,
              "#fb9f3a"
             ],
             [
              0.8888888888888888,
              "#fdca26"
             ],
             [
              1,
              "#f0f921"
             ]
            ],
            "type": "histogram2dcontour"
           }
          ],
          "mesh3d": [
           {
            "colorbar": {
             "outlinewidth": 0,
             "ticks": ""
            },
            "type": "mesh3d"
           }
          ],
          "parcoords": [
           {
            "line": {
             "colorbar": {
              "outlinewidth": 0,
              "ticks": ""
             }
            },
            "type": "parcoords"
           }
          ],
          "pie": [
           {
            "automargin": true,
            "type": "pie"
           }
          ],
          "scatter": [
           {
            "marker": {
             "colorbar": {
              "outlinewidth": 0,
              "ticks": ""
             }
            },
            "type": "scatter"
           }
          ],
          "scatter3d": [
           {
            "line": {
             "colorbar": {
              "outlinewidth": 0,
              "ticks": ""
             }
            },
            "marker": {
             "colorbar": {
              "outlinewidth": 0,
              "ticks": ""
             }
            },
            "type": "scatter3d"
           }
          ],
          "scattercarpet": [
           {
            "marker": {
             "colorbar": {
              "outlinewidth": 0,
              "ticks": ""
             }
            },
            "type": "scattercarpet"
           }
          ],
          "scattergeo": [
           {
            "marker": {
             "colorbar": {
              "outlinewidth": 0,
              "ticks": ""
             }
            },
            "type": "scattergeo"
           }
          ],
          "scattergl": [
           {
            "marker": {
             "colorbar": {
              "outlinewidth": 0,
              "ticks": ""
             }
            },
            "type": "scattergl"
           }
          ],
          "scattermapbox": [
           {
            "marker": {
             "colorbar": {
              "outlinewidth": 0,
              "ticks": ""
             }
            },
            "type": "scattermapbox"
           }
          ],
          "scatterpolar": [
           {
            "marker": {
             "colorbar": {
              "outlinewidth": 0,
              "ticks": ""
             }
            },
            "type": "scatterpolar"
           }
          ],
          "scatterpolargl": [
           {
            "marker": {
             "colorbar": {
              "outlinewidth": 0,
              "ticks": ""
             }
            },
            "type": "scatterpolargl"
           }
          ],
          "scatterternary": [
           {
            "marker": {
             "colorbar": {
              "outlinewidth": 0,
              "ticks": ""
             }
            },
            "type": "scatterternary"
           }
          ],
          "surface": [
           {
            "colorbar": {
             "outlinewidth": 0,
             "ticks": ""
            },
            "colorscale": [
             [
              0,
              "#0d0887"
             ],
             [
              0.1111111111111111,
              "#46039f"
             ],
             [
              0.2222222222222222,
              "#7201a8"
             ],
             [
              0.3333333333333333,
              "#9c179e"
             ],
             [
              0.4444444444444444,
              "#bd3786"
             ],
             [
              0.5555555555555556,
              "#d8576b"
             ],
             [
              0.6666666666666666,
              "#ed7953"
             ],
             [
              0.7777777777777778,
              "#fb9f3a"
             ],
             [
              0.8888888888888888,
              "#fdca26"
             ],
             [
              1,
              "#f0f921"
             ]
            ],
            "type": "surface"
           }
          ],
          "table": [
           {
            "cells": {
             "fill": {
              "color": "#EBF0F8"
             },
             "line": {
              "color": "white"
             }
            },
            "header": {
             "fill": {
              "color": "#C8D4E3"
             },
             "line": {
              "color": "white"
             }
            },
            "type": "table"
           }
          ]
         },
         "layout": {
          "annotationdefaults": {
           "arrowcolor": "#2a3f5f",
           "arrowhead": 0,
           "arrowwidth": 1
          },
          "coloraxis": {
           "colorbar": {
            "outlinewidth": 0,
            "ticks": ""
           }
          },
          "colorscale": {
           "diverging": [
            [
             0,
             "#8e0152"
            ],
            [
             0.1,
             "#c51b7d"
            ],
            [
             0.2,
             "#de77ae"
            ],
            [
             0.3,
             "#f1b6da"
            ],
            [
             0.4,
             "#fde0ef"
            ],
            [
             0.5,
             "#f7f7f7"
            ],
            [
             0.6,
             "#e6f5d0"
            ],
            [
             0.7,
             "#b8e186"
            ],
            [
             0.8,
             "#7fbc41"
            ],
            [
             0.9,
             "#4d9221"
            ],
            [
             1,
             "#276419"
            ]
           ],
           "sequential": [
            [
             0,
             "#0d0887"
            ],
            [
             0.1111111111111111,
             "#46039f"
            ],
            [
             0.2222222222222222,
             "#7201a8"
            ],
            [
             0.3333333333333333,
             "#9c179e"
            ],
            [
             0.4444444444444444,
             "#bd3786"
            ],
            [
             0.5555555555555556,
             "#d8576b"
            ],
            [
             0.6666666666666666,
             "#ed7953"
            ],
            [
             0.7777777777777778,
             "#fb9f3a"
            ],
            [
             0.8888888888888888,
             "#fdca26"
            ],
            [
             1,
             "#f0f921"
            ]
           ],
           "sequentialminus": [
            [
             0,
             "#0d0887"
            ],
            [
             0.1111111111111111,
             "#46039f"
            ],
            [
             0.2222222222222222,
             "#7201a8"
            ],
            [
             0.3333333333333333,
             "#9c179e"
            ],
            [
             0.4444444444444444,
             "#bd3786"
            ],
            [
             0.5555555555555556,
             "#d8576b"
            ],
            [
             0.6666666666666666,
             "#ed7953"
            ],
            [
             0.7777777777777778,
             "#fb9f3a"
            ],
            [
             0.8888888888888888,
             "#fdca26"
            ],
            [
             1,
             "#f0f921"
            ]
           ]
          },
          "colorway": [
           "#636efa",
           "#EF553B",
           "#00cc96",
           "#ab63fa",
           "#FFA15A",
           "#19d3f3",
           "#FF6692",
           "#B6E880",
           "#FF97FF",
           "#FECB52"
          ],
          "font": {
           "color": "#2a3f5f"
          },
          "geo": {
           "bgcolor": "white",
           "lakecolor": "white",
           "landcolor": "#E5ECF6",
           "showlakes": true,
           "showland": true,
           "subunitcolor": "white"
          },
          "hoverlabel": {
           "align": "left"
          },
          "hovermode": "closest",
          "mapbox": {
           "style": "light"
          },
          "paper_bgcolor": "white",
          "plot_bgcolor": "#E5ECF6",
          "polar": {
           "angularaxis": {
            "gridcolor": "white",
            "linecolor": "white",
            "ticks": ""
           },
           "bgcolor": "#E5ECF6",
           "radialaxis": {
            "gridcolor": "white",
            "linecolor": "white",
            "ticks": ""
           }
          },
          "scene": {
           "xaxis": {
            "backgroundcolor": "#E5ECF6",
            "gridcolor": "white",
            "gridwidth": 2,
            "linecolor": "white",
            "showbackground": true,
            "ticks": "",
            "zerolinecolor": "white"
           },
           "yaxis": {
            "backgroundcolor": "#E5ECF6",
            "gridcolor": "white",
            "gridwidth": 2,
            "linecolor": "white",
            "showbackground": true,
            "ticks": "",
            "zerolinecolor": "white"
           },
           "zaxis": {
            "backgroundcolor": "#E5ECF6",
            "gridcolor": "white",
            "gridwidth": 2,
            "linecolor": "white",
            "showbackground": true,
            "ticks": "",
            "zerolinecolor": "white"
           }
          },
          "shapedefaults": {
           "line": {
            "color": "#2a3f5f"
           }
          },
          "ternary": {
           "aaxis": {
            "gridcolor": "white",
            "linecolor": "white",
            "ticks": ""
           },
           "baxis": {
            "gridcolor": "white",
            "linecolor": "white",
            "ticks": ""
           },
           "bgcolor": "#E5ECF6",
           "caxis": {
            "gridcolor": "white",
            "linecolor": "white",
            "ticks": ""
           }
          },
          "title": {
           "x": 0.05
          },
          "xaxis": {
           "automargin": true,
           "gridcolor": "white",
           "linecolor": "white",
           "ticks": "",
           "title": {
            "standoff": 15
           },
           "zerolinecolor": "white",
           "zerolinewidth": 2
          },
          "yaxis": {
           "automargin": true,
           "gridcolor": "white",
           "linecolor": "white",
           "ticks": "",
           "title": {
            "standoff": 15
           },
           "zerolinecolor": "white",
           "zerolinewidth": 2
          }
         }
        },
        "xaxis": {
         "showgrid": false,
         "showticklabels": false
        },
        "yaxis": {
         "showgrid": false,
         "showticklabels": false
        }
       }
      }
     },
     "metadata": {}
    }
   ],
   "source": [
    "fig = go.Figure()\n",
    "\n",
    "fig.add_trace(go.Scatter(x = df['Flipper Length (mm) Offset'], y = df['Culmen Length (mm)'], mode = 'markers', marker = {'color': 'grey'}, showlegend = False))\n",
    "fig.add_trace(go.Scatter(x = df_species['Culmen Length (mm) Offset'], y = df_species['Culmen Length (mm)'], mode = 'markers', marker = {'color': 'red'}, showlegend = False))\n",
    "\n",
    "fig.update_layout(xaxis = {'showgrid': False, 'showticklabels': False})\n",
    "fig.update_layout(yaxis = {'showgrid': False, 'showticklabels': False})\n",
    "fig.update_layout(paper_bgcolor='rgba(0,0,0,0)', plot_bgcolor='rgba(0,0,0,0)')\n",
    "\n",
    "fig.show()"
   ]
  },
  {
   "cell_type": "code",
   "execution_count": 5,
   "metadata": {},
   "outputs": [],
   "source": [
    "df['Culmen Length Normalised'] = (df['Culmen Length (mm)'] - df['Culmen Length (mm)'].min()) / (df['Culmen Length (mm)'].max() - df['Culmen Length (mm)'].min())\n",
    "df['Culmen Depth Normalised'] = (df['Culmen Depth (mm)'] - df['Culmen Depth (mm)'].min()) / (df['Culmen Depth (mm)'].max() - df['Culmen Depth (mm)'].min())\n",
    "df['Flipper Length Normalised'] = (df['Flipper Length (mm)'] - df['Flipper Length (mm)'].min()) / (df['Flipper Length (mm)'].max() - df['Flipper Length (mm)'].min())\n",
    "df['Body Mass Normalised'] = (df['Body Mass (g)'] - df['Body Mass (g)'].min()) / (df['Body Mass (g)'].max() - df['Body Mass (g)'].min())"
   ]
  },
  {
   "cell_type": "code",
   "execution_count": 6,
   "metadata": {},
   "outputs": [],
   "source": [
    "df_grouped = df.groupby(['Species']).mean().iloc[:,-4:].reset_index()"
   ]
  },
  {
   "cell_type": "code",
   "execution_count": 7,
   "metadata": {},
   "outputs": [],
   "source": [
    "attributes = [x[:-11] for x in df_grouped.columns[1:]]"
   ]
  },
  {
   "cell_type": "code",
   "execution_count": 8,
   "metadata": {},
   "outputs": [],
   "source": [
    "df_species = df_grouped.loc[df_grouped.Species == 'Adelie']\n",
    "r_species = list(df_species.reset_index().iloc[0,2:]) + [df_species.reset_index().iloc[0,2]]"
   ]
  },
  {
   "cell_type": "code",
   "execution_count": 17,
   "metadata": {},
   "outputs": [
    {
     "output_type": "display_data",
     "data": {
      "application/vnd.plotly.v1+json": {
       "config": {
        "plotlyServerURL": "https://plot.ly"
       },
       "data": [
        {
         "fill": "toself",
         "line": {
          "color": "grey"
         },
         "mode": "lines",
         "r": [
          0.24332329921733892,
          0.6245663828445283,
          0.3042990234594231,
          0.27796173657100814,
          0.24332329921733892
         ],
         "showlegend": false,
         "theta": [
          0,
          90,
          180,
          270,
          0
         ],
         "type": "scatterpolar"
        },
        {
         "fill": "toself",
         "line": {
          "color": "grey"
         },
         "mode": "lines",
         "r": [
          0.6085026737967917,
          0.6334033613445379,
          0.40378863409770704,
          0.28696895424836594,
          0.6085026737967917
         ],
         "showlegend": false,
         "theta": [
          0,
          90,
          180,
          270,
          0
         ],
         "type": "scatterpolar"
        },
        {
         "fill": "toself",
         "line": {
          "color": "grey"
         },
         "mode": "lines",
         "r": [
          0.5601773835920174,
          0.22406116918312038,
          0.7658812181342157,
          0.6600045167118335,
          0.5601773835920174
         ],
         "showlegend": false,
         "theta": [
          0,
          90,
          180,
          270,
          0
         ],
         "type": "scatterpolar"
        },
        {
         "fill": "toself",
         "line": {
          "color": "red"
         },
         "mode": "lines",
         "r": [
          0.24332329921733892,
          0.6245663828445283,
          0.3042990234594231,
          0.27796173657100814,
          0.24332329921733892
         ],
         "showlegend": false,
         "theta": [
          0,
          90,
          180,
          270,
          0
         ],
         "type": "scatterpolar"
        }
       ],
       "layout": {
        "polar": {
         "angularaxis": {
          "showgrid": false,
          "ticks": "",
          "ticktext": [
           "Culmen Length",
           "Culmen Depth",
           "Flipper Length",
           "Body Mass"
          ],
          "tickvals": [
           0,
           90,
           180,
           270
          ]
         },
         "radialaxis": {
          "showgrid": false,
          "showline": false,
          "ticks": "",
          "ticktext": [
           ""
          ],
          "tickvals": [
           0
          ]
         }
        },
        "template": {}
       }
      }
     },
     "metadata": {}
    }
   ],
   "source": [
    "fig = go.Figure()\n",
    "\n",
    "for species in ['Adelie', 'Chinstrap', 'Gentoo']:\n",
    "    df_subset = df_grouped.loc[df_grouped.Species == species]\n",
    "    r_subset = list(df_subset.reset_index().iloc[0,2:]) + [df_subset.reset_index().iloc[0,2]]\n",
    "    fig.add_trace(go.Scatterpolar(r = r_subset, theta = [0,90,180,270,0], mode = 'lines', line = {'color': 'grey'}, showlegend = False, fill = 'toself'))\n",
    "fig.add_trace(go.Scatterpolar(r = r_species, theta = [0,90,180,270,0], mode = 'lines', line = {'color': 'red'}, showlegend = False, fill = 'toself'))\n",
    "\n",
    "fig.update_layout(polar = {'radialaxis': {'showgrid': False, 'ticks': '', 'tickvals': [0], 'ticktext': [''], 'showline': False},\n",
    "    'angularaxis': {'showgrid': False, 'ticks': '', 'tickvals': [0,90,180,270], 'ticktext': attributes}})\n",
    "fig.update_layout(template = None)\n",
    "\n",
    "fig.show()\n"
   ]
  },
  {
   "cell_type": "code",
   "execution_count": 5,
   "metadata": {},
   "outputs": [],
   "source": [
    "app = JupyterDash(external_stylesheets=[dbc.themes.BOOTSTRAP])\n",
    "app.layout = html.Div(children=[\n",
    "    dbc.Row([\n",
    "        dbc.Col([\n",
    "            html.Div([\n",
    "                html.H1('Palmer Penguins Exploration'),\n",
    "                html.Br()],\n",
    "            style = {'textAlign': 'center'})])]),\n",
    "    dbc.Row([\n",
    "        dbc.Col([\n",
    "            html.Div([\n",
    "                html.H2('Meet the Penguins!'),\n",
    "                html.P(\"Hello, our names are Chinstrap, Gentoo and Adelie, the three species of penguin that can be found in the islands of Palmer Archipelogo, Antarctica.\"),\n",
    "                html.Img(src='https://github.com/allisonhorst/palmerpenguins/raw/master/man/figures/lter_penguins.png', width = 450, height = 300),\n",
    "                html.P(\"Whilst they were here, researchers from the Palmer Station LTER decided to take measurements of some of the features that distinguish us from each other, including our bill lengths and depths (below), flipper lengths and body masses. Play around with the dropdowns provided (top right) to see how we compare!\"),\n",
    "                html.Img(src='https://github.com/allisonhorst/palmerpenguins/raw/master/man/figures/culmen_depth.png', width = 450, height = 300)])]),\n",
    "        dbc.Col([\n",
    "            dbc.Row([\n",
    "                dbc.Col([\n",
    "                    html.Div([\n",
    "                        html.H6('Pick a Penguin:')\n",
    "                    ], style = {'textAlign': 'center'})\n",
    "                ]),\n",
    "                dbc.Col([\n",
    "                    html.Div([\n",
    "                        html.H6('Pick a Feature:')\n",
    "                    ], style = {'textAlign': 'center'})\n",
    "                ])]),\n",
    "            dbc.Row([\n",
    "                dbc.Col([\n",
    "                    html.Div([\n",
    "                        dcc.Dropdown(\n",
    "                            id='penguin-dropdown',\n",
    "                            options=[{'label': 'Chinstrap', 'value': 'Chinstrap'}, {'label': 'Gentoo', 'value': 'Gentoo'}, {'label': 'Adelie', 'value': 'Adelie'}],\n",
    "                            value='Adelie',\n",
    "                            style = {'width': '250px', 'margin': 'auto', 'textAlign': 'center'})\n",
    "                    ])\n",
    "                ]),\n",
    "                dbc.Col([\n",
    "                    html.Div([\n",
    "                        dcc.Dropdown(\n",
    "                            id='feature-dropdown',\n",
    "                            options=[{'label': 'Bill Length', 'value': 'Culmen Length (mm)'}, {'label': 'Culmen Depth', 'value': 'Culmen Depth (mm)'}, {'label': 'Flipper Length', 'value': 'Flipper Length (mm)'}, {'label': 'Body Mass', 'value': 'Body Mass (g)'}],\n",
    "                            value='Culmen Length (mm)',\n",
    "                            style = {'width': '250px', 'margin': 'auto', 'textAlign': 'center'})\n",
    "                    ])\n",
    "                ])]),\n",
    "            dbc.Row([\n",
    "                dcc.Graph(\n",
    "                    id='swarm-plot')])])]),\n",
    "    dbc.Row([\n",
    "        dbc.Col([\n",
    "            html.Div([\n",
    "                html.Span('Data Source: Palmer LTER | Artwork by: Allison Horst (@allison_horst) | Created by: Jack Tann (@jacktann3)',\n",
    "                    style={'color': 'grey', 'font-size': 11})],\n",
    "                style = {'textAlign': 'right'})])])],\n",
    "        style = {'width': '90%', 'margin': 'auto'})\n",
    "\n",
    "@app.callback(\n",
    "    Output('swarm-plot', 'figure'),\n",
    "    [Input('penguin-dropdown', 'value'),\n",
    "    Input('feature-dropdown', 'value')])\n",
    "\n",
    "def update_figure(selected_penguin, selected_feature):\n",
    "    df_species = df.loc[df.Species == selected_penguin]\n",
    "\n",
    "    penguin_colors = {'Chinstrap': 'rgb(192,92,203)', 'Gentoo': 'rgb(44,112,118)', 'Adelie': 'rgb(239,109,48)'}\n",
    "    penguin_color = penguin_colors[selected_penguin]\n",
    "\n",
    "    background_markers = [go.Scatter(\n",
    "        x = df[selected_feature + ' Offset'], \n",
    "        y = df[selected_feature], \n",
    "        mode = 'markers', \n",
    "        marker = {'color': 'darkgrey', 'size': 10}, \n",
    "        showlegend = False,\n",
    "        hoverinfo = 'skip')]\n",
    "\n",
    "    foreground_markers = [go.Scatter(\n",
    "        x = df_species[selected_feature + ' Offset'], \n",
    "        y = df_species[selected_feature],  \n",
    "        mode = 'markers', \n",
    "        marker = {'color': penguin_color, 'size': 10}, \n",
    "        showlegend = False,\n",
    "        hoverinfo = 'skip')]\n",
    "\n",
    "    data = background_markers + foreground_markers\n",
    "\n",
    "    layout = go.Layout(\n",
    "        xaxis = {'showgrid': False, 'showticklabels': False, 'zeroline': False},\n",
    "        yaxis = {'showgrid': False, 'showline': True, 'title': selected_feature},\n",
    "        width = 800,\n",
    "        height = 700,\n",
    "        margin= {'l': 60, 'r': 0, 't': 20, 'b': 0},\n",
    "        paper_bgcolor='rgba(0,0,0,0)', \n",
    "        plot_bgcolor='rgba(0,0,0,0)')\n",
    "\n",
    "    return {\n",
    "            'data': data,\n",
    "            'layout': layout\n",
    "    }"
   ]
  },
  {
   "cell_type": "code",
   "execution_count": 6,
   "metadata": {
    "tags": []
   },
   "outputs": [
    {
     "output_type": "stream",
     "name": "stdout",
     "text": "Dash is running on http://127.0.0.1:8050/\n\nDash is running on http://127.0.0.1:8050/\n\n Warning: This is a development server. Do not use app.run_server\n Warning: This is a development server. Do not use app.run_server\n in production, use a production WSGI server like gunicorn instead.\n\n in production, use a production WSGI server like gunicorn instead.\n\nDash is running on http://127.0.0.1:8050/\n\nDash is running on http://127.0.0.1:8050/\n\n Warning: This is a development server. Do not use app.run_server\n Warning: This is a development server. Do not use app.run_server\n in production, use a production WSGI server like gunicorn instead.\n\n in production, use a production WSGI server like gunicorn instead.\n\nDash app running on http://127.0.0.1:8050/\n"
    }
   ],
   "source": [
    "app.run_server(mode='external')"
   ]
  },
  {
   "cell_type": "code",
   "execution_count": null,
   "metadata": {},
   "outputs": [],
   "source": []
  }
 ],
 "metadata": {
  "language_info": {
   "codemirror_mode": {
    "name": "ipython",
    "version": 3
   },
   "file_extension": ".py",
   "mimetype": "text/x-python",
   "name": "python",
   "nbconvert_exporter": "python",
   "pygments_lexer": "ipython3",
   "version": "3.7.3-final"
  },
  "orig_nbformat": 2,
  "kernelspec": {
   "name": "python37364bitanaconda3virtualenv8b0ef4735f6b49fd9e8c02207932decd",
   "display_name": "Python 3.7.3 64-bit ('anaconda3': virtualenv)"
  }
 },
 "nbformat": 4,
 "nbformat_minor": 2
}