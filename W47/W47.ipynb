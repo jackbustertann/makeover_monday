{
 "metadata": {
  "language_info": {
   "codemirror_mode": {
    "name": "ipython",
    "version": 3
   },
   "file_extension": ".py",
   "mimetype": "text/x-python",
   "name": "python",
   "nbconvert_exporter": "python",
   "pygments_lexer": "ipython3",
   "version": "3.8.3-final"
  },
  "orig_nbformat": 2,
  "kernelspec": {
   "name": "python3",
   "display_name": "Python 3"
  }
 },
 "nbformat": 4,
 "nbformat_minor": 2,
 "cells": [
  {
   "cell_type": "code",
   "execution_count": 1,
   "metadata": {},
   "outputs": [],
   "source": [
    "import pandas as pd"
   ]
  },
  {
   "cell_type": "code",
   "execution_count": 2,
   "metadata": {},
   "outputs": [],
   "source": [
    "# loading file\n",
    "df = pd.read_excel('https://query.data.world/s/luyjcb5waulc6ejp6nftvsdf724zud')\n",
    "# renaming columns\n",
    "df.rename(columns = {\n",
    "    'Quarter': 'quarter',\n",
    "    'Gross Domestic Product ($mil)': 'gdp',\n",
    "    'Total Public Debt ($mil)': 'debt'\n",
    "}, inplace = True)\n",
    "# converting gdp to dollars\n",
    "df['gdp'] = df['gdp'] * 1000000000\n",
    "# converting debt to dollars\n",
    "df['debt'] = df['debt'] * 1000000\n",
    "# # converting from wide to long format\n",
    "# df = pd.melt(df, 'quarter', ['gdp', 'debt'], var_name = 'type', value_name = 'amount')\n",
    "# outputting to csv\n",
    "df.to_csv('W47.csv', index = False)"
   ]
  },
  {
   "cell_type": "code",
   "execution_count": 3,
   "metadata": {},
   "outputs": [
    {
     "output_type": "execute_result",
     "data": {
      "text/plain": [
       "       quarter           gdp          debt\n",
       "0   1947-01-01  2.431640e+11           NaN\n",
       "1   1947-04-01  2.459680e+11           NaN\n",
       "2   1947-07-01  2.495850e+11           NaN\n",
       "3   1947-10-01  2.597450e+11           NaN\n",
       "4   1948-01-01  2.657420e+11           NaN\n",
       "..         ...           ...           ...\n",
       "290 2019-07-01  2.154032e+13  2.271940e+13\n",
       "291 2019-10-01  2.174739e+13  2.320138e+13\n",
       "292 2020-01-01  2.156114e+13  2.322381e+13\n",
       "293 2020-04-01  1.952011e+13  2.647724e+13\n",
       "294 2020-07-01  2.115764e+13           NaN\n",
       "\n",
       "[295 rows x 3 columns]"
      ],
      "text/html": "<div>\n<style scoped>\n    .dataframe tbody tr th:only-of-type {\n        vertical-align: middle;\n    }\n\n    .dataframe tbody tr th {\n        vertical-align: top;\n    }\n\n    .dataframe thead th {\n        text-align: right;\n    }\n</style>\n<table border=\"1\" class=\"dataframe\">\n  <thead>\n    <tr style=\"text-align: right;\">\n      <th></th>\n      <th>quarter</th>\n      <th>gdp</th>\n      <th>debt</th>\n    </tr>\n  </thead>\n  <tbody>\n    <tr>\n      <th>0</th>\n      <td>1947-01-01</td>\n      <td>2.431640e+11</td>\n      <td>NaN</td>\n    </tr>\n    <tr>\n      <th>1</th>\n      <td>1947-04-01</td>\n      <td>2.459680e+11</td>\n      <td>NaN</td>\n    </tr>\n    <tr>\n      <th>2</th>\n      <td>1947-07-01</td>\n      <td>2.495850e+11</td>\n      <td>NaN</td>\n    </tr>\n    <tr>\n      <th>3</th>\n      <td>1947-10-01</td>\n      <td>2.597450e+11</td>\n      <td>NaN</td>\n    </tr>\n    <tr>\n      <th>4</th>\n      <td>1948-01-01</td>\n      <td>2.657420e+11</td>\n      <td>NaN</td>\n    </tr>\n    <tr>\n      <th>...</th>\n      <td>...</td>\n      <td>...</td>\n      <td>...</td>\n    </tr>\n    <tr>\n      <th>290</th>\n      <td>2019-07-01</td>\n      <td>2.154032e+13</td>\n      <td>2.271940e+13</td>\n    </tr>\n    <tr>\n      <th>291</th>\n      <td>2019-10-01</td>\n      <td>2.174739e+13</td>\n      <td>2.320138e+13</td>\n    </tr>\n    <tr>\n      <th>292</th>\n      <td>2020-01-01</td>\n      <td>2.156114e+13</td>\n      <td>2.322381e+13</td>\n    </tr>\n    <tr>\n      <th>293</th>\n      <td>2020-04-01</td>\n      <td>1.952011e+13</td>\n      <td>2.647724e+13</td>\n    </tr>\n    <tr>\n      <th>294</th>\n      <td>2020-07-01</td>\n      <td>2.115764e+13</td>\n      <td>NaN</td>\n    </tr>\n  </tbody>\n</table>\n<p>295 rows × 3 columns</p>\n</div>"
     },
     "metadata": {},
     "execution_count": 3
    }
   ],
   "source": [
    "df"
   ]
  },
  {
   "cell_type": "code",
   "execution_count": null,
   "metadata": {},
   "outputs": [],
   "source": []
  }
 ]
}