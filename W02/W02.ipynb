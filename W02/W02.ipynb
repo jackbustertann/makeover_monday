{
 "metadata": {
  "language_info": {
   "codemirror_mode": {
    "name": "ipython",
    "version": 3
   },
   "file_extension": ".py",
   "mimetype": "text/x-python",
   "name": "python",
   "nbconvert_exporter": "python",
   "pygments_lexer": "ipython3",
   "version": "3.8.3-final"
  },
  "orig_nbformat": 2,
  "kernelspec": {
   "name": "python3",
   "display_name": "Python 3",
   "language": "python"
  }
 },
 "nbformat": 4,
 "nbformat_minor": 2,
 "cells": [
  {
   "cell_type": "code",
   "execution_count": 1,
   "metadata": {},
   "outputs": [],
   "source": [
    "import pandas as pd\n",
    "import numpy as np\n",
    "df = pd.read_csv('https://query.data.world/s/brsolzsycfrm34kywedlvsfzxf7u5p', encoding='latin-1')"
   ]
  },
  {
   "cell_type": "code",
   "execution_count": 2,
   "metadata": {},
   "outputs": [],
   "source": [
    "def UN_region(country):\n",
    "    if country in ['Burundi', 'Comoros', 'Djibouti', 'Eritrea', 'Ethiopia', 'Kenya', 'Madagascar', 'Malawi', 'Mauritius', 'Mayotte', 'Mozambique', 'Reunion', 'Rwanda', 'Seychelles', 'Somalia', 'Somaliland', 'South Sudan', 'United Republic of Tanzania', 'Uganda', 'Zambia', 'Zimbabwe']:\n",
    "        return 'East Africa'\n",
    "    elif country in ['Angola', 'Cameroon', 'Central African Republic', 'Chad', 'Congo', 'Democratic Republic of the Congo', 'Equatorial Guinea', 'Gabon']:\n",
    "        return 'Central Africa'\n",
    "    elif country in ['Benin', 'Burkina Faso', 'Cape Verde', \"Côte d'Ivoire\", 'Gambia', 'Ghana', 'Guinea', 'Guinea-Bissau', 'Liberia', 'Mali', 'Mauritania', 'Niger', 'Nigeria', 'Senegal', 'Sierra Leone', 'Togo']:\n",
    "        return 'West Africa'\n",
    "    elif country in ['Botswana', 'Eswatini', 'Lesotho', 'Namibia', 'South Africa']:\n",
    "        return 'Southern Africa'\n",
    "    else:\n",
    "        return 'Other'"
   ]
  },
  {
   "cell_type": "code",
   "execution_count": 3,
   "metadata": {},
   "outputs": [
    {
     "output_type": "execute_result",
     "data": {
      "text/plain": [
       "  Country                UNICEF Region  Year     Sex    Age  \\\n",
       "0  Angola  Eastern and Southern Africa  1990  Female  10-19   \n",
       "1  Angola  Eastern and Southern Africa  1990    Male  10-19   \n",
       "2  Angola  Eastern and Southern Africa  1991  Female  10-19   \n",
       "3  Angola  Eastern and Southern Africa  1991    Male  10-19   \n",
       "4  Angola  Eastern and Southern Africa  1992  Female  10-19   \n",
       "\n",
       "   new_infections_per_1k  deaths  new_infections  total_infections  \\\n",
       "0                   0.64   100.0           500.0               860   \n",
       "1                   0.15   100.0           100.0               200   \n",
       "2                   0.75   100.0           500.0              1100   \n",
       "3                   0.17   100.0           200.0               500   \n",
       "4                   0.88   100.0           590.0              1300   \n",
       "\n",
       "   deaths_per_100k       UN Region  \n",
       "0             0.36  Central Africa  \n",
       "1             0.07  Central Africa  \n",
       "2             0.42  Central Africa  \n",
       "3             0.14  Central Africa  \n",
       "4             0.54  Central Africa  "
      ],
      "text/html": "<div>\n<style scoped>\n    .dataframe tbody tr th:only-of-type {\n        vertical-align: middle;\n    }\n\n    .dataframe tbody tr th {\n        vertical-align: top;\n    }\n\n    .dataframe thead th {\n        text-align: right;\n    }\n</style>\n<table border=\"1\" class=\"dataframe\">\n  <thead>\n    <tr style=\"text-align: right;\">\n      <th></th>\n      <th>Country</th>\n      <th>UNICEF Region</th>\n      <th>Year</th>\n      <th>Sex</th>\n      <th>Age</th>\n      <th>new_infections_per_1k</th>\n      <th>deaths</th>\n      <th>new_infections</th>\n      <th>total_infections</th>\n      <th>deaths_per_100k</th>\n      <th>UN Region</th>\n    </tr>\n  </thead>\n  <tbody>\n    <tr>\n      <th>0</th>\n      <td>Angola</td>\n      <td>Eastern and Southern Africa</td>\n      <td>1990</td>\n      <td>Female</td>\n      <td>10-19</td>\n      <td>0.64</td>\n      <td>100.0</td>\n      <td>500.0</td>\n      <td>860</td>\n      <td>0.36</td>\n      <td>Central Africa</td>\n    </tr>\n    <tr>\n      <th>1</th>\n      <td>Angola</td>\n      <td>Eastern and Southern Africa</td>\n      <td>1990</td>\n      <td>Male</td>\n      <td>10-19</td>\n      <td>0.15</td>\n      <td>100.0</td>\n      <td>100.0</td>\n      <td>200</td>\n      <td>0.07</td>\n      <td>Central Africa</td>\n    </tr>\n    <tr>\n      <th>2</th>\n      <td>Angola</td>\n      <td>Eastern and Southern Africa</td>\n      <td>1991</td>\n      <td>Female</td>\n      <td>10-19</td>\n      <td>0.75</td>\n      <td>100.0</td>\n      <td>500.0</td>\n      <td>1100</td>\n      <td>0.42</td>\n      <td>Central Africa</td>\n    </tr>\n    <tr>\n      <th>3</th>\n      <td>Angola</td>\n      <td>Eastern and Southern Africa</td>\n      <td>1991</td>\n      <td>Male</td>\n      <td>10-19</td>\n      <td>0.17</td>\n      <td>100.0</td>\n      <td>200.0</td>\n      <td>500</td>\n      <td>0.14</td>\n      <td>Central Africa</td>\n    </tr>\n    <tr>\n      <th>4</th>\n      <td>Angola</td>\n      <td>Eastern and Southern Africa</td>\n      <td>1992</td>\n      <td>Female</td>\n      <td>10-19</td>\n      <td>0.88</td>\n      <td>100.0</td>\n      <td>590.0</td>\n      <td>1300</td>\n      <td>0.54</td>\n      <td>Central Africa</td>\n    </tr>\n  </tbody>\n</table>\n</div>"
     },
     "metadata": {},
     "execution_count": 3
    }
   ],
   "source": [
    "df.rename(columns = {'Estimated incidence rate of new HIV infection per 1 000 uninfected population ': 'new_infections_per_1k', 'Estimated number of annual AIDS related deaths': 'deaths', 'Estimated number of annual new HIV infections': 'new_infections', 'Estimated number of people living with HIV': 'total_infections', 'Estimated rate of annual AIDS related deaths  per 100 000 population ': 'deaths_per_100k'}, inplace = True)\n",
    "\n",
    "df['Age'] = df['Age'].map(lambda x: x.split(' ')[-1])\n",
    "df['UN Region'] = df['Country'].map(lambda x: UN_region(x))\n",
    "\n",
    "df.head()"
   ]
  },
  {
   "cell_type": "code",
   "execution_count": 4,
   "metadata": {},
   "outputs": [],
   "source": [
    "df.to_csv('W02.csv', index = False)"
   ]
  },
  {
   "cell_type": "code",
   "execution_count": 9,
   "metadata": {},
   "outputs": [],
   "source": [
    "df_grouped = df.groupby(['UN Region', 'Year'])['new_infections'].sum().reset_index()\n",
    "\n",
    "df_grouped['Last Year'] = df_grouped['Year'] - 1\n",
    "df_merged = pd.merge(df_grouped[['UN Region', 'Year', 'new_infections']], df_grouped[['UN Region', 'Last Year', 'new_infections']], left_on = ['UN Region', 'Year'], right_on = ['UN Region', 'Last Year'])\n",
    "df_merged['new_infections_delta'] = df_merged['new_infections_y'] - df_merged['new_infections_x']\n",
    "\n",
    "sigmoid_weights = [0] + [1 / (1 + np.exp(-x)) for x in np.arange(-2 * np.pi, (2 * np.pi) + (np.pi / 6), np.pi / 6)]\n",
    "df_smoothed = []\n",
    "for row in df_merged.to_dict('records'):\n",
    "    for index, weight in list(enumerate(sigmoid_weights)):\n",
    "        new_row = {}\n",
    "        new_row['UN Region'] = row['UN Region']\n",
    "        new_row['year_smoothed'] = row['Year'] + (index / 26)\n",
    "        new_row['new_infections_smoothed'] = row['new_infections_x'] + (row['new_infections_delta'] * weight)\n",
    "        df_smoothed.append(new_row)\n",
    "df_smoothed = pd.DataFrame(df_smoothed)"
   ]
  },
  {
   "cell_type": "code",
   "execution_count": 10,
   "metadata": {},
   "outputs": [],
   "source": [
    "df_smoothed.to_csv('W02_smoothed.csv', index = False)"
   ]
  },
  {
   "cell_type": "code",
   "execution_count": null,
   "metadata": {},
   "outputs": [],
   "source": []
  }
 ]
}