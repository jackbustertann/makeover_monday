{
 "metadata": {
  "language_info": {
   "codemirror_mode": {
    "name": "ipython",
    "version": 3
   },
   "file_extension": ".py",
   "mimetype": "text/x-python",
   "name": "python",
   "nbconvert_exporter": "python",
   "pygments_lexer": "ipython3",
   "version": "3.8.2-final"
  },
  "orig_nbformat": 2,
  "kernelspec": {
   "name": "Python 3.8.2 64-bit ('env')",
   "display_name": "Python 3.8.2 64-bit ('env')",
   "metadata": {
    "interpreter": {
     "hash": "6894b6bc3cd65e7bbf468365d371b664d57fe000709545196e55461cc7c3a3bf"
    }
   }
  }
 },
 "nbformat": 4,
 "nbformat_minor": 2,
 "cells": [
  {
   "cell_type": "code",
   "execution_count": 18,
   "metadata": {},
   "outputs": [],
   "source": [
    "import numpy as np\n",
    "import pandas as pd"
   ]
  },
  {
   "cell_type": "code",
   "execution_count": 19,
   "metadata": {},
   "outputs": [],
   "source": [
    "# loading Nintendo sales data\n",
    "df = pd.read_excel('https://query.data.world/s/7bupgfk3ywj6phwsyzca3adleh56lr')\n",
    "# extracting sales type\n",
    "df['type'] = df['Nintendo Switch Platform'].map(lambda x: x.split('/')[0].split(' ')[-1])\n",
    "# extracting sales region\n",
    "df['region'] = df['Nintendo Switch Platform'].map(lambda x: x.split('/')[1])\n",
    "# reshaping from wide to long\n",
    "df = pd.melt(df, id_vars=['type', 'region'], value_vars=['3/2017', '3/2018', '3/2019', '3/2020'], var_name = 'year', value_name = 'sales')\n",
    "# extracting sales year\n",
    "df['year'] = df['year'].map(lambda x: x.split('/')[1])"
   ]
  },
  {
   "cell_type": "code",
   "execution_count": 22,
   "metadata": {},
   "outputs": [
    {
     "output_type": "execute_result",
     "data": {
      "text/plain": [
       "        type        region  year  sales\n",
       "27  hardware         Other  2020    237\n",
       "28  software         Japan  2020   3256\n",
       "29  software  The Americas  2020   7428\n",
       "30  software        Europe  2020   5017\n",
       "31  software         Other  2020   1171"
      ],
      "text/html": "<div>\n<style scoped>\n    .dataframe tbody tr th:only-of-type {\n        vertical-align: middle;\n    }\n\n    .dataframe tbody tr th {\n        vertical-align: top;\n    }\n\n    .dataframe thead th {\n        text-align: right;\n    }\n</style>\n<table border=\"1\" class=\"dataframe\">\n  <thead>\n    <tr style=\"text-align: right;\">\n      <th></th>\n      <th>type</th>\n      <th>region</th>\n      <th>year</th>\n      <th>sales</th>\n    </tr>\n  </thead>\n  <tbody>\n    <tr>\n      <th>27</th>\n      <td>hardware</td>\n      <td>Other</td>\n      <td>2020</td>\n      <td>237</td>\n    </tr>\n    <tr>\n      <th>28</th>\n      <td>software</td>\n      <td>Japan</td>\n      <td>2020</td>\n      <td>3256</td>\n    </tr>\n    <tr>\n      <th>29</th>\n      <td>software</td>\n      <td>The Americas</td>\n      <td>2020</td>\n      <td>7428</td>\n    </tr>\n    <tr>\n      <th>30</th>\n      <td>software</td>\n      <td>Europe</td>\n      <td>2020</td>\n      <td>5017</td>\n    </tr>\n    <tr>\n      <th>31</th>\n      <td>software</td>\n      <td>Other</td>\n      <td>2020</td>\n      <td>1171</td>\n    </tr>\n  </tbody>\n</table>\n</div>"
     },
     "metadata": {},
     "execution_count": 22
    }
   ],
   "source": [
    "df.tail()"
   ]
  },
  {
   "cell_type": "code",
   "execution_count": 21,
   "metadata": {},
   "outputs": [],
   "source": [
    "df.to_csv('W45.csv', index = True)"
   ]
  },
  {
   "cell_type": "code",
   "execution_count": null,
   "metadata": {},
   "outputs": [],
   "source": []
  }
 ]
}